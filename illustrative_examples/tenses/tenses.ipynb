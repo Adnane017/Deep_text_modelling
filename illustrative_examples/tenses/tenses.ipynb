{
 "cells": [
  {
   "cell_type": "markdown",
   "metadata": {},
   "source": [
    "# Predicting English tense from context"
   ]
  },
  {
   "cell_type": "markdown",
   "metadata": {},
   "source": [
    "## Table of Contents"
   ]
  },
  {
   "cell_type": "markdown",
   "metadata": {},
   "source": [
    "##### I. <a href=#I>Preliminary steps</a>\n",
    "##### II. <a href=#II>Prepare the data</a>\n",
    "##### III. <a href=#III>Feed-forward neural network model</a>\n",
    "##### IV. <a href=#IV>Long short-term memory model</a>\n",
    "##### V. <a href=#V>Naive discriminative learning model</a>"
   ]
  },
  {
   "cell_type": "markdown",
   "metadata": {},
   "source": [
    "## I. Preliminary steps <a ID=\"I\"></a> "
   ]
  },
  {
   "cell_type": "markdown",
   "metadata": {},
   "source": [
    "### Import necessary libraries and set up the working directory"
   ]
  },
  {
   "cell_type": "code",
   "execution_count": 3,
   "metadata": {
    "scrolled": true
   },
   "outputs": [],
   "source": [
    "### Import necessary packages\n",
    "import os\n",
    "import pandas as pd\n",
    "import numpy as np\n",
    "from keras.models import Sequential\n",
    "from keras.layers import Dropout, Dense\n",
    "from keras.optimizers import Adam, Nadam, RMSprop, SGD\n",
    "from keras.activations import relu, elu\n",
    "from keras.losses import categorical_crossentropy\n",
    "from keras import metrics\n",
    "from keras.models import load_model\n",
    "from sklearn.metrics import accuracy_score\n",
    "from sklearn.metrics import confusion_matrix\n",
    "import talos as ta\n",
    "\n",
    "### Set working directory\n",
    "TOP = '/media/Deep_text_modelling_package_repo/'\n",
    "WD = TOP + 'package'\n",
    "os.chdir(WD)\n",
    "\n",
    "### Import local packages\n",
    "import deep_text_modelling.preprocessing as pr\n",
    "import deep_text_modelling.modelling as md\n",
    "import deep_text_modelling.evaluation as ev\n",
    "\n",
    "# Display option for dataframes and matplotlib\n",
    "pd.set_option('display.max_colwidth', 100) # Max width of columns when dispalying datasets\n",
    "PREVIOUS_MAX_ROWS = pd.options.display.max_rows\n",
    "pd.options.display.max_rows = 20\n",
    "%matplotlib inline"
   ]
  },
  {
   "cell_type": "code",
   "execution_count": null,
   "metadata": {},
   "outputs": [],
   "source": [
    "import imp\n",
    "imp.reload(pr)\n",
    "imp.reload(md)\n",
    "imp.reload(ev)"
   ]
  },
  {
   "cell_type": "markdown",
   "metadata": {},
   "source": [
    "### Define file paths"
   ]
  },
  {
   "cell_type": "code",
   "execution_count": 43,
   "metadata": {},
   "outputs": [],
   "source": [
    "TENSES_FULL_CSV = TOP + \"illustrative_examples/tenses/Data/Tenses_full.csv\"\n",
    "TENSES_TRAIN_CSV = TOP + \"illustrative_examples/tenses/Data/Tenses_train.csv\"\n",
    "TENSES_VALID_CSV = TOP + \"illustrative_examples/tenses/Data/Tenses_valid.csv\"\n",
    "TENSES_TEST_CSV = TOP + \"illustrative_examples/tenses/Data/Tenses_test.csv\"\n",
    "CUE_INDEX = TOP + \"illustrative_examples/tenses/Data/Cue_index.csv\"\n",
    "OUTCOME_INDEX = TOP + \"illustrative_examples/tenses/Data/Outcome_index.csv\"\n",
    "TEMP_DIR = TOP + \"illustrative_examples/tenses/Data/\""
   ]
  },
  {
   "cell_type": "markdown",
   "metadata": {},
   "source": [
    "### Parameters to use"
   ]
  },
  {
   "cell_type": "code",
   "execution_count": 5,
   "metadata": {},
   "outputs": [],
   "source": [
    "N_outcomes = 3 # number of most frequent outcomes to keep \n",
    "N_cues = 2000  # number of cues to keep (all alphabet letters)\n",
    "max_len = 20 # consider only the first 'max_len' cues in a sequence when applying LSTM (11 is the longest name in the dataset)\n",
    "no_threads = 16 # Number of CPU cores to use\n",
    "prop_valid = 1/10 # proportion of validation data\n",
    "prop_test = 1/10 # proportion of test data"
   ]
  },
  {
   "cell_type": "markdown",
   "metadata": {},
   "source": [
    "## II. Prepare the data <a name=\"II\"></a> "
   ]
  },
  {
   "cell_type": "markdown",
   "metadata": {},
   "source": [
    "### Load the data"
   ]
  },
  {
   "cell_type": "code",
   "execution_count": 8,
   "metadata": {
    "scrolled": true
   },
   "outputs": [
    {
     "name": "stdout",
     "output_type": "stream",
     "text": [
      "Number of examples: 30000\n"
     ]
    },
    {
     "data": {
      "text/html": [
       "<div>\n",
       "<style scoped>\n",
       "    .dataframe tbody tr th:only-of-type {\n",
       "        vertical-align: middle;\n",
       "    }\n",
       "\n",
       "    .dataframe tbody tr th {\n",
       "        vertical-align: top;\n",
       "    }\n",
       "\n",
       "    .dataframe thead th {\n",
       "        text-align: right;\n",
       "    }\n",
       "</style>\n",
       "<table border=\"1\" class=\"dataframe\">\n",
       "  <thead>\n",
       "    <tr style=\"text-align: right;\">\n",
       "      <th></th>\n",
       "      <th>sentences</th>\n",
       "      <th>verb_forms</th>\n",
       "      <th>tenses</th>\n",
       "      <th>cues</th>\n",
       "      <th>outcomes</th>\n",
       "    </tr>\n",
       "  </thead>\n",
       "  <tbody>\n",
       "    <tr>\n",
       "      <th>0</th>\n",
       "      <td>gifts of bulbs and trees will be much appreciated in the period september to december</td>\n",
       "      <td>will be appreciated</td>\n",
       "      <td>FutureSimple</td>\n",
       "      <td>gifts_of_bulbs_and_trees_much_in_the_period_september_to_december</td>\n",
       "      <td>FutureSimple</td>\n",
       "    </tr>\n",
       "    <tr>\n",
       "      <th>1</th>\n",
       "      <td>i will pick them up then</td>\n",
       "      <td>will pick</td>\n",
       "      <td>FutureSimple</td>\n",
       "      <td>i_them_up_then</td>\n",
       "      <td>FutureSimple</td>\n",
       "    </tr>\n",
       "    <tr>\n",
       "      <th>2</th>\n",
       "      <td>the shelters housing each flight will protect the equipment against a surprise attack by soviet ...</td>\n",
       "      <td>will protect</td>\n",
       "      <td>FutureSimple</td>\n",
       "      <td>the_shelters_housing_each_flight_the_equipment_against_a_surprise_attack_by_soviet_aircraft_or_m...</td>\n",
       "      <td>FutureSimple</td>\n",
       "    </tr>\n",
       "    <tr>\n",
       "      <th>3</th>\n",
       "      <td>what sort of shops will sell the product</td>\n",
       "      <td>will sell</td>\n",
       "      <td>FutureSimple</td>\n",
       "      <td>what_sort_of_shops_the_product</td>\n",
       "      <td>FutureSimple</td>\n",
       "    </tr>\n",
       "    <tr>\n",
       "      <th>4</th>\n",
       "      <td>but he was angry</td>\n",
       "      <td>was</td>\n",
       "      <td>PastSimple</td>\n",
       "      <td>but_he_angry</td>\n",
       "      <td>PastSimple</td>\n",
       "    </tr>\n",
       "  </tbody>\n",
       "</table>\n",
       "</div>"
      ],
      "text/plain": [
       "                                                                                             sentences  \\\n",
       "0                gifts of bulbs and trees will be much appreciated in the period september to december   \n",
       "1                                                                             i will pick them up then   \n",
       "2  the shelters housing each flight will protect the equipment against a surprise attack by soviet ...   \n",
       "3                                                             what sort of shops will sell the product   \n",
       "4                                                                                     but he was angry   \n",
       "\n",
       "            verb_forms        tenses  \\\n",
       "0  will be appreciated  FutureSimple   \n",
       "1            will pick  FutureSimple   \n",
       "2         will protect  FutureSimple   \n",
       "3            will sell  FutureSimple   \n",
       "4                  was    PastSimple   \n",
       "\n",
       "                                                                                                  cues  \\\n",
       "0                                    gifts_of_bulbs_and_trees_much_in_the_period_september_to_december   \n",
       "1                                                                                       i_them_up_then   \n",
       "2  the_shelters_housing_each_flight_the_equipment_against_a_surprise_attack_by_soviet_aircraft_or_m...   \n",
       "3                                                                       what_sort_of_shops_the_product   \n",
       "4                                                                                         but_he_angry   \n",
       "\n",
       "       outcomes  \n",
       "0  FutureSimple  \n",
       "1  FutureSimple  \n",
       "2  FutureSimple  \n",
       "3  FutureSimple  \n",
       "4    PastSimple  "
      ]
     },
     "execution_count": 8,
     "metadata": {},
     "output_type": "execute_result"
    }
   ],
   "source": [
    "tenses_full = pd.read_csv(TENSES_FULL_CSV)\n",
    "print(f'Number of examples: {len(tenses_full)}')\n",
    "tenses_full.head(5)"
   ]
  },
  {
   "cell_type": "code",
   "execution_count": 7,
   "metadata": {},
   "outputs": [
    {
     "data": {
      "text/html": [
       "<div>\n",
       "<style scoped>\n",
       "    .dataframe tbody tr th:only-of-type {\n",
       "        vertical-align: middle;\n",
       "    }\n",
       "\n",
       "    .dataframe tbody tr th {\n",
       "        vertical-align: top;\n",
       "    }\n",
       "\n",
       "    .dataframe thead th {\n",
       "        text-align: right;\n",
       "    }\n",
       "</style>\n",
       "<table border=\"1\" class=\"dataframe\">\n",
       "  <thead>\n",
       "    <tr style=\"text-align: right;\">\n",
       "      <th></th>\n",
       "      <th>cues</th>\n",
       "      <th>outcomes</th>\n",
       "    </tr>\n",
       "  </thead>\n",
       "  <tbody>\n",
       "    <tr>\n",
       "      <th>0</th>\n",
       "      <td>gifts_of_bulbs_and_trees_much_in_the_period_september_to_december</td>\n",
       "      <td>FutureSimple</td>\n",
       "    </tr>\n",
       "    <tr>\n",
       "      <th>1</th>\n",
       "      <td>i_them_up_then</td>\n",
       "      <td>FutureSimple</td>\n",
       "    </tr>\n",
       "    <tr>\n",
       "      <th>2</th>\n",
       "      <td>the_shelters_housing_each_flight_the_equipment_against_a_surprise_attack_by_soviet_aircraft_or_m...</td>\n",
       "      <td>FutureSimple</td>\n",
       "    </tr>\n",
       "    <tr>\n",
       "      <th>3</th>\n",
       "      <td>what_sort_of_shops_the_product</td>\n",
       "      <td>FutureSimple</td>\n",
       "    </tr>\n",
       "    <tr>\n",
       "      <th>4</th>\n",
       "      <td>but_he_angry</td>\n",
       "      <td>PastSimple</td>\n",
       "    </tr>\n",
       "  </tbody>\n",
       "</table>\n",
       "</div>"
      ],
      "text/plain": [
       "                                                                                                  cues  \\\n",
       "0                                    gifts_of_bulbs_and_trees_much_in_the_period_september_to_december   \n",
       "1                                                                                       i_them_up_then   \n",
       "2  the_shelters_housing_each_flight_the_equipment_against_a_surprise_attack_by_soviet_aircraft_or_m...   \n",
       "3                                                                       what_sort_of_shops_the_product   \n",
       "4                                                                                         but_he_angry   \n",
       "\n",
       "       outcomes  \n",
       "0  FutureSimple  \n",
       "1  FutureSimple  \n",
       "2  FutureSimple  \n",
       "3  FutureSimple  \n",
       "4    PastSimple  "
      ]
     },
     "execution_count": 7,
     "metadata": {},
     "output_type": "execute_result"
    }
   ],
   "source": [
    "# Retain only the 'cues' and 'outcomes' columns\n",
    "tenses_full = tenses_full[['cues', 'outcomes']]\n",
    "tenses_full.head(5)"
   ]
  },
  {
   "cell_type": "markdown",
   "metadata": {},
   "source": [
    "### Create index systems for the cues and outcomes"
   ]
  },
  {
   "cell_type": "code",
   "execution_count": 14,
   "metadata": {},
   "outputs": [],
   "source": [
    "# Create the files containing the index systems\n",
    "pr.create_index_systems_from_df(data = tenses_full, \n",
    "                                cue_index_path = CUE_INDEX, \n",
    "                                outcome_index_path = OUTCOME_INDEX)"
   ]
  },
  {
   "cell_type": "code",
   "execution_count": 7,
   "metadata": {
    "scrolled": true
   },
   "outputs": [
    {
     "name": "stdout",
     "output_type": "stream",
     "text": [
      "{the: 1}\n",
      "{of: 2}\n",
      "{and: 3}\n",
      "{a: 4}\n",
      "{in: 5}\n"
     ]
    }
   ],
   "source": [
    "# Import the cue index system\n",
    "cue_to_index = pr.import_index_system(CUE_INDEX, N_tokens = N_cues)\n",
    "pr.display_dictionary(cue_to_index, start = 0, end = 5)"
   ]
  },
  {
   "cell_type": "code",
   "execution_count": 8,
   "metadata": {},
   "outputs": [
    {
     "data": {
      "text/plain": [
       "{'FutureSimple': 1, 'PastSimple': 2, 'PresentSimple': 3}"
      ]
     },
     "execution_count": 8,
     "metadata": {},
     "output_type": "execute_result"
    }
   ],
   "source": [
    "# Import the outcome index system\n",
    "outcome_to_index = pr.import_index_system(OUTCOME_INDEX)\n",
    "outcome_to_index"
   ]
  },
  {
   "cell_type": "code",
   "execution_count": 18,
   "metadata": {},
   "outputs": [
    {
     "data": {
      "text/plain": [
       "{1: 'FutureSimple', 2: 'PastSimple', 3: 'PresentSimple'}"
      ]
     },
     "execution_count": 18,
     "metadata": {},
     "output_type": "execute_result"
    }
   ],
   "source": [
    "# Reverse the cue dictionary\n",
    "index_to_cue = pr.reverse_dictionary(cue_to_index)\n",
    "# Reverse the outcome dictionary\n",
    "index_to_outcome = pr.reverse_dictionary(outcome_to_index)\n",
    "index_to_outcome"
   ]
  },
  {
   "cell_type": "markdown",
   "metadata": {},
   "source": [
    "### Split into training, validation and test sets"
   ]
  },
  {
   "cell_type": "code",
   "execution_count": 24,
   "metadata": {
    "scrolled": true
   },
   "outputs": [
    {
     "name": "stdout",
     "output_type": "stream",
     "text": [
      "- Number of rows in the original set is 30000\n",
      "- Number of rows in the training set is 24000\n",
      "- Number of rows in the validation set is 3000\n",
      "- Number of rows in the test set is 3000\n"
     ]
    }
   ],
   "source": [
    "# Create train, valid and test set files\n",
    "pr.df_train_valid_test_split(data = tenses_full, \n",
    "                             train_data_path = TENSES_TRAIN_CSV, \n",
    "                             valid_data_path = TENSES_VALID_CSV, \n",
    "                             test_data_path = TENSES_TEST_CSV, \n",
    "                             p_valid = prop_valid, \n",
    "                             p_test = prop_test)"
   ]
  },
  {
   "cell_type": "code",
   "execution_count": 6,
   "metadata": {},
   "outputs": [],
   "source": [
    "# Load the train, valid and test sets\n",
    "tenses_train = pd.read_csv(TENSES_TRAIN_CSV, sep=',', na_filter = False)\n",
    "tenses_valid = pd.read_csv(TENSES_VALID_CSV, sep=',', na_filter = False)\n",
    "tenses_test = pd.read_csv(TENSES_VALID_CSV, sep=',', na_filter = False)"
   ]
  },
  {
   "cell_type": "markdown",
   "metadata": {},
   "source": [
    "## III. Feed-forward neural network model <a ID=\"III\"></a> "
   ]
  },
  {
   "cell_type": "markdown",
   "metadata": {},
   "source": [
    "### Build a simple FNN model"
   ]
  },
  {
   "cell_type": "markdown",
   "metadata": {},
   "source": [
    "Build a simple FNN with two hidden layers having 64 units "
   ]
  },
  {
   "cell_type": "code",
   "execution_count": 30,
   "metadata": {},
   "outputs": [
    {
     "name": "stdout",
     "output_type": "stream",
     "text": [
      "Epoch 1/10\n",
      " - 10s - loss: 1.0904 - acc: 0.3847 - val_loss: 1.0669 - val_acc: 0.4806\n",
      "Epoch 2/10\n",
      "\n",
      " - 9s - loss: 1.0285 - acc: 0.4959 - val_loss: 0.9808 - val_acc: 0.5284\n",
      "Epoch 3/10\n",
      " - 9s - loss: 0.9670 - acc: 0.5336 - val_loss: 0.9532 - val_acc: 0.5334\n",
      "Epoch 4/10\n",
      " - 10s - loss: 0.9310 - acc: 0.5570 - val_loss: 0.9467 - val_acc: 0.5394\n",
      "Epoch 5/10\n",
      " - 10s - loss: 0.9025 - acc: 0.5808 - val_loss: 0.9450 - val_acc: 0.5404\n",
      "Epoch 6/10\n",
      " - 9s - loss: 0.8799 - acc: 0.5951 - val_loss: 0.9488 - val_acc: 0.5378\n",
      "Epoch 7/10\n",
      " - 10s - loss: 0.8598 - acc: 0.6088 - val_loss: 0.9541 - val_acc: 0.5414\n",
      "Epoch 8/10\n",
      " - 10s - loss: 0.8408 - acc: 0.6203 - val_loss: 0.9606 - val_acc: 0.5374\n",
      "Epoch 9/10\n",
      " - 10s - loss: 0.8238 - acc: 0.6316 - val_loss: 0.9692 - val_acc: 0.5348\n",
      "Epoch 10/10\n",
      " - 9s - loss: 0.8050 - acc: 0.6424 - val_loss: 0.9785 - val_acc: 0.5304\n"
     ]
    }
   ],
   "source": [
    "### Hyperparameters to use\n",
    "p = {'epochs': 10, # number of iterations on the full set \n",
    "    'batch_size': 16, \n",
    "    'hidden_layers': 2, # number of hidden layers \n",
    "    'hidden_neuron':64, # number of neurons in the input layer \n",
    "    'lr': 0.0001, # learning rate       \n",
    "    'dropout': 0.3, \n",
    "    'optimizer': Adam, \n",
    "    'losses': categorical_crossentropy, \n",
    "    'activation': relu, \n",
    "    'last_activation': 'softmax'}\n",
    "\n",
    "# Model fitting\n",
    "FNN_out, FNN_model = md.train_FNN(data_train = tenses_train, \n",
    "                                  data_valid = tenses_valid, \n",
    "                                  cue_index = cue_to_index, \n",
    "                                  outcome_index = outcome_to_index, \n",
    "                                  generator = md.generator_df_FNN,\n",
    "                                  shuffle = False, \n",
    "                                  use_multiprocessing = True, \n",
    "                                  num_threads = 4, \n",
    "                                  verbose = 2,\n",
    "                                  metrics = ['accuracy'],\n",
    "                                  params = p)"
   ]
  },
  {
   "cell_type": "code",
   "execution_count": 31,
   "metadata": {},
   "outputs": [
    {
     "name": "stdout",
     "output_type": "stream",
     "text": [
      "_________________________________________________________________\n",
      "Layer (type)                 Output Shape              Param #   \n",
      "=================================================================\n",
      "dense_4 (Dense)              (None, 64)                128064    \n",
      "_________________________________________________________________\n",
      "dropout_3 (Dropout)          (None, 64)                0         \n",
      "_________________________________________________________________\n",
      "dense_5 (Dense)              (None, 64)                4160      \n",
      "_________________________________________________________________\n",
      "dropout_4 (Dropout)          (None, 64)                0         \n",
      "_________________________________________________________________\n",
      "dense_6 (Dense)              (None, 3)                 195       \n",
      "=================================================================\n",
      "Total params: 132,419\n",
      "Trainable params: 132,419\n",
      "Non-trainable params: 0\n",
      "_________________________________________________________________\n"
     ]
    }
   ],
   "source": [
    "FNN_model.summary()"
   ]
  },
  {
   "cell_type": "markdown",
   "metadata": {},
   "source": [
    "### Tune the parameters to find a good model"
   ]
  },
  {
   "cell_type": "code",
   "execution_count": 32,
   "metadata": {},
   "outputs": [
    {
     "data": {
      "text/plain": [
       "33600"
      ]
     },
     "execution_count": 32,
     "metadata": {},
     "output_type": "execute_result"
    }
   ],
   "source": [
    "4*5*3*4*7*5*2*1*2*1"
   ]
  },
  {
   "cell_type": "code",
   "execution_count": 33,
   "metadata": {
    "scrolled": true
   },
   "outputs": [
    {
     "name": "stdout",
     "output_type": "stream",
     "text": [
      "Iteration 1 out of 10: {'epochs': 5, 'batch_size': 64, 'hidden_layers': 0, 'hidden_neuron': 32, 'lr': 0.005, 'dropout': 0, 'optimizer': <class 'keras.optimizers.Adam'>, 'losses': <function categorical_crossentropy at 0x7f1c80ff5ae8>, 'activation': <function relu at 0x7f1c80fa7ae8>, 'last_activation': 'softmax'}\n",
      "\n"
     ]
    },
    {
     "name": "stderr",
     "output_type": "stream",
     "text": [
      "/home/adnane/anaconda3/envs/keras/lib/python3.6/site-packages/numpy/lib/type_check.py:546: DeprecationWarning: np.asscalar(a) is deprecated since NumPy v1.16, use a.item() instead\n",
      "  'a.item() instead', DeprecationWarning, stacklevel=1)\n"
     ]
    },
    {
     "name": "stdout",
     "output_type": "stream",
     "text": [
      "Iteration 2 out of 10: {'epochs': 20, 'batch_size': 32, 'hidden_layers': 1, 'hidden_neuron': 16, 'lr': 0.0002, 'dropout': 0, 'optimizer': <class 'keras.optimizers.RMSprop'>, 'losses': <function categorical_crossentropy at 0x7f1c80ff5ae8>, 'activation': <function elu at 0x7f1c80fa78c8>, 'last_activation': 'softmax'}\n",
      "\n"
     ]
    },
    {
     "name": "stderr",
     "output_type": "stream",
     "text": [
      "/home/adnane/anaconda3/envs/keras/lib/python3.6/site-packages/numpy/lib/type_check.py:546: DeprecationWarning: np.asscalar(a) is deprecated since NumPy v1.16, use a.item() instead\n",
      "  'a.item() instead', DeprecationWarning, stacklevel=1)\n"
     ]
    },
    {
     "name": "stdout",
     "output_type": "stream",
     "text": [
      "Iteration 3 out of 10: {'epochs': 5, 'batch_size': 128, 'hidden_layers': 2, 'hidden_neuron': 16, 'lr': 0.01, 'dropout': 0.4, 'optimizer': <class 'keras.optimizers.Adam'>, 'losses': <function categorical_crossentropy at 0x7f1c80ff5ae8>, 'activation': <function elu at 0x7f1c80fa78c8>, 'last_activation': 'softmax'}\n",
      "\n"
     ]
    },
    {
     "name": "stderr",
     "output_type": "stream",
     "text": [
      "/home/adnane/anaconda3/envs/keras/lib/python3.6/site-packages/numpy/lib/type_check.py:546: DeprecationWarning: np.asscalar(a) is deprecated since NumPy v1.16, use a.item() instead\n",
      "  'a.item() instead', DeprecationWarning, stacklevel=1)\n"
     ]
    },
    {
     "name": "stdout",
     "output_type": "stream",
     "text": [
      "Iteration 4 out of 10: {'epochs': 5, 'batch_size': 16, 'hidden_layers': 2, 'hidden_neuron': 128, 'lr': 0.0002, 'dropout': 0, 'optimizer': <class 'keras.optimizers.RMSprop'>, 'losses': <function categorical_crossentropy at 0x7f1c80ff5ae8>, 'activation': <function elu at 0x7f1c80fa78c8>, 'last_activation': 'softmax'}\n",
      "\n"
     ]
    },
    {
     "name": "stderr",
     "output_type": "stream",
     "text": [
      "/home/adnane/anaconda3/envs/keras/lib/python3.6/site-packages/numpy/lib/type_check.py:546: DeprecationWarning: np.asscalar(a) is deprecated since NumPy v1.16, use a.item() instead\n",
      "  'a.item() instead', DeprecationWarning, stacklevel=1)\n"
     ]
    },
    {
     "name": "stdout",
     "output_type": "stream",
     "text": [
      "Iteration 5 out of 10: {'epochs': 10, 'batch_size': 128, 'hidden_layers': 2, 'hidden_neuron': 128, 'lr': 0.01, 'dropout': 0.1, 'optimizer': <class 'keras.optimizers.RMSprop'>, 'losses': <function categorical_crossentropy at 0x7f1c80ff5ae8>, 'activation': <function relu at 0x7f1c80fa7ae8>, 'last_activation': 'softmax'}\n",
      "\n"
     ]
    },
    {
     "name": "stderr",
     "output_type": "stream",
     "text": [
      "/home/adnane/anaconda3/envs/keras/lib/python3.6/site-packages/numpy/lib/type_check.py:546: DeprecationWarning: np.asscalar(a) is deprecated since NumPy v1.16, use a.item() instead\n",
      "  'a.item() instead', DeprecationWarning, stacklevel=1)\n"
     ]
    },
    {
     "name": "stdout",
     "output_type": "stream",
     "text": [
      "Iteration 6 out of 10: {'epochs': 20, 'batch_size': 128, 'hidden_layers': 1, 'hidden_neuron': 128, 'lr': 0.0005, 'dropout': 0.3, 'optimizer': <class 'keras.optimizers.Adam'>, 'losses': <function categorical_crossentropy at 0x7f1c80ff5ae8>, 'activation': <function elu at 0x7f1c80fa78c8>, 'last_activation': 'softmax'}\n",
      "\n"
     ]
    },
    {
     "name": "stderr",
     "output_type": "stream",
     "text": [
      "/home/adnane/anaconda3/envs/keras/lib/python3.6/site-packages/numpy/lib/type_check.py:546: DeprecationWarning: np.asscalar(a) is deprecated since NumPy v1.16, use a.item() instead\n",
      "  'a.item() instead', DeprecationWarning, stacklevel=1)\n"
     ]
    },
    {
     "name": "stdout",
     "output_type": "stream",
     "text": [
      "Iteration 7 out of 10: {'epochs': 20, 'batch_size': 128, 'hidden_layers': 1, 'hidden_neuron': 64, 'lr': 0.001, 'dropout': 0.3, 'optimizer': <class 'keras.optimizers.RMSprop'>, 'losses': <function categorical_crossentropy at 0x7f1c80ff5ae8>, 'activation': <function elu at 0x7f1c80fa78c8>, 'last_activation': 'softmax'}\n",
      "\n"
     ]
    },
    {
     "name": "stderr",
     "output_type": "stream",
     "text": [
      "/home/adnane/anaconda3/envs/keras/lib/python3.6/site-packages/numpy/lib/type_check.py:546: DeprecationWarning: np.asscalar(a) is deprecated since NumPy v1.16, use a.item() instead\n",
      "  'a.item() instead', DeprecationWarning, stacklevel=1)\n"
     ]
    },
    {
     "name": "stdout",
     "output_type": "stream",
     "text": [
      "Iteration 8 out of 10: {'epochs': 5, 'batch_size': 32, 'hidden_layers': 0, 'hidden_neuron': 64, 'lr': 0.01, 'dropout': 0.2, 'optimizer': <class 'keras.optimizers.Adam'>, 'losses': <function categorical_crossentropy at 0x7f1c80ff5ae8>, 'activation': <function elu at 0x7f1c80fa78c8>, 'last_activation': 'softmax'}\n",
      "\n"
     ]
    },
    {
     "name": "stderr",
     "output_type": "stream",
     "text": [
      "/home/adnane/anaconda3/envs/keras/lib/python3.6/site-packages/numpy/lib/type_check.py:546: DeprecationWarning: np.asscalar(a) is deprecated since NumPy v1.16, use a.item() instead\n",
      "  'a.item() instead', DeprecationWarning, stacklevel=1)\n"
     ]
    },
    {
     "name": "stdout",
     "output_type": "stream",
     "text": [
      "Iteration 9 out of 10: {'epochs': 5, 'batch_size': 128, 'hidden_layers': 1, 'hidden_neuron': 128, 'lr': 0.0002, 'dropout': 0, 'optimizer': <class 'keras.optimizers.RMSprop'>, 'losses': <function categorical_crossentropy at 0x7f1c80ff5ae8>, 'activation': <function relu at 0x7f1c80fa7ae8>, 'last_activation': 'softmax'}\n",
      "\n"
     ]
    },
    {
     "name": "stderr",
     "output_type": "stream",
     "text": [
      "/home/adnane/anaconda3/envs/keras/lib/python3.6/site-packages/numpy/lib/type_check.py:546: DeprecationWarning: np.asscalar(a) is deprecated since NumPy v1.16, use a.item() instead\n",
      "  'a.item() instead', DeprecationWarning, stacklevel=1)\n"
     ]
    },
    {
     "name": "stdout",
     "output_type": "stream",
     "text": [
      "Iteration 10 out of 10: {'epochs': 20, 'batch_size': 256, 'hidden_layers': 0, 'hidden_neuron': 128, 'lr': 0.005, 'dropout': 0.2, 'optimizer': <class 'keras.optimizers.Adam'>, 'losses': <function categorical_crossentropy at 0x7f1c80ff5ae8>, 'activation': <function elu at 0x7f1c80fa78c8>, 'last_activation': 'softmax'}\n",
      "\n"
     ]
    },
    {
     "name": "stderr",
     "output_type": "stream",
     "text": [
      "/home/adnane/anaconda3/envs/keras/lib/python3.6/site-packages/numpy/lib/type_check.py:546: DeprecationWarning: np.asscalar(a) is deprecated since NumPy v1.16, use a.item() instead\n",
      "  'a.item() instead', DeprecationWarning, stacklevel=1)\n"
     ]
    }
   ],
   "source": [
    "### Parameter tuning using grid search \n",
    "p = {'epochs': [1, 5, 10, 20], # number of iterations on the full set (x5)\n",
    "     'batch_size': [16, 32, 64, 128, 256], # (x6)\n",
    "     'hidden_layers':[0, 1, 2], # number of hidden layers (x3)\n",
    "     'hidden_neuron':[16, 32, 64, 128], # number of neurons in the input layer (x4)\n",
    "     'lr': [0.0001, 0.0002, 0.0005, 0.001, 0.002, 0.005, 0.01], # learning rate (x7)       \n",
    "     'dropout': [0, 0.1, 0.2, 0.3, 0.4], # (x5)\n",
    "     'optimizer': [Adam, RMSprop], # (x2)\n",
    "     'losses': [categorical_crossentropy], # (x1)\n",
    "     'activation':[relu, elu], # (x2)\n",
    "     'last_activation': ['softmax'] # (x1)\n",
    "     }\n",
    "# => Total number of combinations: 4*5*3*4*7*5*2*1*2*1 = 33600\n",
    "\n",
    "### Grid search \n",
    "TUNING_PATH = TOP + 'illustrative_examples/tenses/Results/grid_search_FNN_tenses.csv'\n",
    "md.grid_search_FNN(data_train = tenses_train, \n",
    "                   data_valid = tenses_valid, \n",
    "                   cue_index = cue_to_index, \n",
    "                   outcome_index = outcome_to_index,\n",
    "                   generator = md.generator_df_FNN,\n",
    "                   params = p,\n",
    "                   prop_grid = 3e-4, \n",
    "                   tuning_output_file = TUNING_PATH, \n",
    "                   shuffle = False, \n",
    "                   use_multiprocessing = False, \n",
    "                   num_threads = 0, \n",
    "                   verbose = 0)"
   ]
  },
  {
   "cell_type": "markdown",
   "metadata": {},
   "source": [
    "Iteration 7 produced the highest validation accuracy, corresponding to the following parameters:"
   ]
  },
  {
   "cell_type": "markdown",
   "metadata": {},
   "source": [
    "### Assessing the grid search using talos"
   ]
  },
  {
   "cell_type": "code",
   "execution_count": 34,
   "metadata": {},
   "outputs": [
    {
     "data": {
      "text/plain": [
       "10"
      ]
     },
     "execution_count": 34,
     "metadata": {},
     "output_type": "execute_result"
    }
   ],
   "source": [
    "# Import the results file to analyse the results with talos\n",
    "r = ta.Reporting(TUNING_PATH)\n",
    "\n",
    "# get the number of rounds in the Scan\n",
    "r.rounds()"
   ]
  },
  {
   "cell_type": "code",
   "execution_count": 35,
   "metadata": {
    "scrolled": true
   },
   "outputs": [
    {
     "data": {
      "text/html": [
       "<div>\n",
       "<style scoped>\n",
       "    .dataframe tbody tr th:only-of-type {\n",
       "        vertical-align: middle;\n",
       "    }\n",
       "\n",
       "    .dataframe tbody tr th {\n",
       "        vertical-align: top;\n",
       "    }\n",
       "\n",
       "    .dataframe thead th {\n",
       "        text-align: right;\n",
       "    }\n",
       "</style>\n",
       "<table border=\"1\" class=\"dataframe\">\n",
       "  <thead>\n",
       "    <tr style=\"text-align: right;\">\n",
       "      <th></th>\n",
       "      <th>epochs</th>\n",
       "      <th>batch_size</th>\n",
       "      <th>hidden_layers</th>\n",
       "      <th>hidden_neuron</th>\n",
       "      <th>lr</th>\n",
       "      <th>dropout</th>\n",
       "      <th>optimizer</th>\n",
       "      <th>losses</th>\n",
       "      <th>activation</th>\n",
       "      <th>last_activation</th>\n",
       "      <th>loss</th>\n",
       "      <th>acc</th>\n",
       "      <th>precision</th>\n",
       "      <th>recall</th>\n",
       "      <th>f1score</th>\n",
       "      <th>val_loss</th>\n",
       "      <th>val_acc</th>\n",
       "      <th>val_precision</th>\n",
       "      <th>val_recall</th>\n",
       "      <th>val_f1score</th>\n",
       "    </tr>\n",
       "  </thead>\n",
       "  <tbody>\n",
       "    <tr>\n",
       "      <th>0</th>\n",
       "      <td>5</td>\n",
       "      <td>64</td>\n",
       "      <td>0</td>\n",
       "      <td>32</td>\n",
       "      <td>0.0050</td>\n",
       "      <td>0.0</td>\n",
       "      <td>&lt;class 'keras.optimizers.Adam'&gt;</td>\n",
       "      <td>&lt;function categorical_crossentropy at 0x7f1c80ff5ae8&gt;</td>\n",
       "      <td>&lt;function relu at 0x7f1c80fa7ae8&gt;</td>\n",
       "      <td>softmax</td>\n",
       "      <td>0.870738</td>\n",
       "      <td>0.591083</td>\n",
       "      <td>0.688126</td>\n",
       "      <td>0.414333</td>\n",
       "      <td>0.515869</td>\n",
       "      <td>0.983909</td>\n",
       "      <td>0.525476</td>\n",
       "      <td>0.589442</td>\n",
       "      <td>0.351562</td>\n",
       "      <td>0.439367</td>\n",
       "    </tr>\n",
       "    <tr>\n",
       "      <th>1</th>\n",
       "      <td>20</td>\n",
       "      <td>32</td>\n",
       "      <td>1</td>\n",
       "      <td>16</td>\n",
       "      <td>0.0002</td>\n",
       "      <td>0.0</td>\n",
       "      <td>&lt;class 'keras.optimizers.RMSprop'&gt;</td>\n",
       "      <td>&lt;function categorical_crossentropy at 0x7f1c80ff5ae8&gt;</td>\n",
       "      <td>&lt;function elu at 0x7f1c80fa78c8&gt;</td>\n",
       "      <td>softmax</td>\n",
       "      <td>0.873583</td>\n",
       "      <td>0.596250</td>\n",
       "      <td>0.674879</td>\n",
       "      <td>0.440792</td>\n",
       "      <td>0.531010</td>\n",
       "      <td>0.975335</td>\n",
       "      <td>0.527218</td>\n",
       "      <td>0.599146</td>\n",
       "      <td>0.379032</td>\n",
       "      <td>0.462412</td>\n",
       "    </tr>\n",
       "    <tr>\n",
       "      <th>2</th>\n",
       "      <td>5</td>\n",
       "      <td>128</td>\n",
       "      <td>2</td>\n",
       "      <td>16</td>\n",
       "      <td>0.0100</td>\n",
       "      <td>0.4</td>\n",
       "      <td>&lt;class 'keras.optimizers.Adam'&gt;</td>\n",
       "      <td>&lt;function categorical_crossentropy at 0x7f1c80ff5ae8&gt;</td>\n",
       "      <td>&lt;function elu at 0x7f1c80fa78c8&gt;</td>\n",
       "      <td>softmax</td>\n",
       "      <td>0.900254</td>\n",
       "      <td>0.580047</td>\n",
       "      <td>0.663322</td>\n",
       "      <td>0.394636</td>\n",
       "      <td>0.493819</td>\n",
       "      <td>0.976065</td>\n",
       "      <td>0.520380</td>\n",
       "      <td>0.601531</td>\n",
       "      <td>0.335598</td>\n",
       "      <td>0.430407</td>\n",
       "    </tr>\n",
       "    <tr>\n",
       "      <th>3</th>\n",
       "      <td>5</td>\n",
       "      <td>16</td>\n",
       "      <td>2</td>\n",
       "      <td>128</td>\n",
       "      <td>0.0002</td>\n",
       "      <td>0.0</td>\n",
       "      <td>&lt;class 'keras.optimizers.RMSprop'&gt;</td>\n",
       "      <td>&lt;function categorical_crossentropy at 0x7f1c80ff5ae8&gt;</td>\n",
       "      <td>&lt;function elu at 0x7f1c80fa78c8&gt;</td>\n",
       "      <td>softmax</td>\n",
       "      <td>0.896962</td>\n",
       "      <td>0.578917</td>\n",
       "      <td>0.668464</td>\n",
       "      <td>0.405375</td>\n",
       "      <td>0.499290</td>\n",
       "      <td>0.957478</td>\n",
       "      <td>0.536096</td>\n",
       "      <td>0.609909</td>\n",
       "      <td>0.345922</td>\n",
       "      <td>0.436558</td>\n",
       "    </tr>\n",
       "    <tr>\n",
       "      <th>4</th>\n",
       "      <td>10</td>\n",
       "      <td>128</td>\n",
       "      <td>2</td>\n",
       "      <td>128</td>\n",
       "      <td>0.0100</td>\n",
       "      <td>0.1</td>\n",
       "      <td>&lt;class 'keras.optimizers.RMSprop'&gt;</td>\n",
       "      <td>&lt;function categorical_crossentropy at 0x7f1c80ff5ae8&gt;</td>\n",
       "      <td>&lt;function relu at 0x7f1c80fa7ae8&gt;</td>\n",
       "      <td>softmax</td>\n",
       "      <td>0.288449</td>\n",
       "      <td>0.883523</td>\n",
       "      <td>0.909992</td>\n",
       "      <td>0.858456</td>\n",
       "      <td>0.883357</td>\n",
       "      <td>2.655071</td>\n",
       "      <td>0.489810</td>\n",
       "      <td>0.496538</td>\n",
       "      <td>0.455842</td>\n",
       "      <td>0.475248</td>\n",
       "    </tr>\n",
       "    <tr>\n",
       "      <th>5</th>\n",
       "      <td>20</td>\n",
       "      <td>128</td>\n",
       "      <td>1</td>\n",
       "      <td>128</td>\n",
       "      <td>0.0005</td>\n",
       "      <td>0.3</td>\n",
       "      <td>&lt;class 'keras.optimizers.Adam'&gt;</td>\n",
       "      <td>&lt;function categorical_crossentropy at 0x7f1c80ff5ae8&gt;</td>\n",
       "      <td>&lt;function elu at 0x7f1c80fa78c8&gt;</td>\n",
       "      <td>softmax</td>\n",
       "      <td>0.845250</td>\n",
       "      <td>0.603860</td>\n",
       "      <td>0.685017</td>\n",
       "      <td>0.460478</td>\n",
       "      <td>0.550240</td>\n",
       "      <td>1.033722</td>\n",
       "      <td>0.515625</td>\n",
       "      <td>0.566017</td>\n",
       "      <td>0.378057</td>\n",
       "      <td>0.453029</td>\n",
       "    </tr>\n",
       "    <tr>\n",
       "      <th>6</th>\n",
       "      <td>20</td>\n",
       "      <td>128</td>\n",
       "      <td>1</td>\n",
       "      <td>64</td>\n",
       "      <td>0.0010</td>\n",
       "      <td>0.3</td>\n",
       "      <td>&lt;class 'keras.optimizers.RMSprop'&gt;</td>\n",
       "      <td>&lt;function categorical_crossentropy at 0x7f1c80ff5ae8&gt;</td>\n",
       "      <td>&lt;function elu at 0x7f1c80fa78c8&gt;</td>\n",
       "      <td>softmax</td>\n",
       "      <td>0.855237</td>\n",
       "      <td>0.606785</td>\n",
       "      <td>0.688853</td>\n",
       "      <td>0.455297</td>\n",
       "      <td>0.547689</td>\n",
       "      <td>0.989617</td>\n",
       "      <td>0.528193</td>\n",
       "      <td>0.582848</td>\n",
       "      <td>0.382133</td>\n",
       "      <td>0.461122</td>\n",
       "    </tr>\n",
       "    <tr>\n",
       "      <th>7</th>\n",
       "      <td>5</td>\n",
       "      <td>32</td>\n",
       "      <td>0</td>\n",
       "      <td>64</td>\n",
       "      <td>0.0100</td>\n",
       "      <td>0.2</td>\n",
       "      <td>&lt;class 'keras.optimizers.Adam'&gt;</td>\n",
       "      <td>&lt;function categorical_crossentropy at 0x7f1c80ff5ae8&gt;</td>\n",
       "      <td>&lt;function elu at 0x7f1c80fa78c8&gt;</td>\n",
       "      <td>softmax</td>\n",
       "      <td>0.902444</td>\n",
       "      <td>0.570083</td>\n",
       "      <td>0.640626</td>\n",
       "      <td>0.436417</td>\n",
       "      <td>0.517274</td>\n",
       "      <td>1.055363</td>\n",
       "      <td>0.505712</td>\n",
       "      <td>0.557305</td>\n",
       "      <td>0.378024</td>\n",
       "      <td>0.448760</td>\n",
       "    </tr>\n",
       "    <tr>\n",
       "      <th>8</th>\n",
       "      <td>5</td>\n",
       "      <td>128</td>\n",
       "      <td>1</td>\n",
       "      <td>128</td>\n",
       "      <td>0.0002</td>\n",
       "      <td>0.0</td>\n",
       "      <td>&lt;class 'keras.optimizers.RMSprop'&gt;</td>\n",
       "      <td>&lt;function categorical_crossentropy at 0x7f1c80ff5ae8&gt;</td>\n",
       "      <td>&lt;function relu at 0x7f1c80fa7ae8&gt;</td>\n",
       "      <td>softmax</td>\n",
       "      <td>0.910207</td>\n",
       "      <td>0.579796</td>\n",
       "      <td>0.713595</td>\n",
       "      <td>0.305983</td>\n",
       "      <td>0.427328</td>\n",
       "      <td>0.945799</td>\n",
       "      <td>0.543818</td>\n",
       "      <td>0.658484</td>\n",
       "      <td>0.281250</td>\n",
       "      <td>0.393598</td>\n",
       "    </tr>\n",
       "    <tr>\n",
       "      <th>9</th>\n",
       "      <td>20</td>\n",
       "      <td>256</td>\n",
       "      <td>0</td>\n",
       "      <td>128</td>\n",
       "      <td>0.0050</td>\n",
       "      <td>0.2</td>\n",
       "      <td>&lt;class 'keras.optimizers.Adam'&gt;</td>\n",
       "      <td>&lt;function categorical_crossentropy at 0x7f1c80ff5ae8&gt;</td>\n",
       "      <td>&lt;function elu at 0x7f1c80fa78c8&gt;</td>\n",
       "      <td>softmax</td>\n",
       "      <td>0.839822</td>\n",
       "      <td>0.607569</td>\n",
       "      <td>0.695821</td>\n",
       "      <td>0.455561</td>\n",
       "      <td>0.550349</td>\n",
       "      <td>1.019229</td>\n",
       "      <td>0.513494</td>\n",
       "      <td>0.571227</td>\n",
       "      <td>0.371804</td>\n",
       "      <td>0.450253</td>\n",
       "    </tr>\n",
       "  </tbody>\n",
       "</table>\n",
       "</div>"
      ],
      "text/plain": [
       "   epochs  batch_size  hidden_layers  hidden_neuron      lr  dropout  \\\n",
       "0       5          64              0             32  0.0050      0.0   \n",
       "1      20          32              1             16  0.0002      0.0   \n",
       "2       5         128              2             16  0.0100      0.4   \n",
       "3       5          16              2            128  0.0002      0.0   \n",
       "4      10         128              2            128  0.0100      0.1   \n",
       "5      20         128              1            128  0.0005      0.3   \n",
       "6      20         128              1             64  0.0010      0.3   \n",
       "7       5          32              0             64  0.0100      0.2   \n",
       "8       5         128              1            128  0.0002      0.0   \n",
       "9      20         256              0            128  0.0050      0.2   \n",
       "\n",
       "                            optimizer  \\\n",
       "0     <class 'keras.optimizers.Adam'>   \n",
       "1  <class 'keras.optimizers.RMSprop'>   \n",
       "2     <class 'keras.optimizers.Adam'>   \n",
       "3  <class 'keras.optimizers.RMSprop'>   \n",
       "4  <class 'keras.optimizers.RMSprop'>   \n",
       "5     <class 'keras.optimizers.Adam'>   \n",
       "6  <class 'keras.optimizers.RMSprop'>   \n",
       "7     <class 'keras.optimizers.Adam'>   \n",
       "8  <class 'keras.optimizers.RMSprop'>   \n",
       "9     <class 'keras.optimizers.Adam'>   \n",
       "\n",
       "                                                  losses  \\\n",
       "0  <function categorical_crossentropy at 0x7f1c80ff5ae8>   \n",
       "1  <function categorical_crossentropy at 0x7f1c80ff5ae8>   \n",
       "2  <function categorical_crossentropy at 0x7f1c80ff5ae8>   \n",
       "3  <function categorical_crossentropy at 0x7f1c80ff5ae8>   \n",
       "4  <function categorical_crossentropy at 0x7f1c80ff5ae8>   \n",
       "5  <function categorical_crossentropy at 0x7f1c80ff5ae8>   \n",
       "6  <function categorical_crossentropy at 0x7f1c80ff5ae8>   \n",
       "7  <function categorical_crossentropy at 0x7f1c80ff5ae8>   \n",
       "8  <function categorical_crossentropy at 0x7f1c80ff5ae8>   \n",
       "9  <function categorical_crossentropy at 0x7f1c80ff5ae8>   \n",
       "\n",
       "                          activation last_activation      loss       acc  \\\n",
       "0  <function relu at 0x7f1c80fa7ae8>         softmax  0.870738  0.591083   \n",
       "1   <function elu at 0x7f1c80fa78c8>         softmax  0.873583  0.596250   \n",
       "2   <function elu at 0x7f1c80fa78c8>         softmax  0.900254  0.580047   \n",
       "3   <function elu at 0x7f1c80fa78c8>         softmax  0.896962  0.578917   \n",
       "4  <function relu at 0x7f1c80fa7ae8>         softmax  0.288449  0.883523   \n",
       "5   <function elu at 0x7f1c80fa78c8>         softmax  0.845250  0.603860   \n",
       "6   <function elu at 0x7f1c80fa78c8>         softmax  0.855237  0.606785   \n",
       "7   <function elu at 0x7f1c80fa78c8>         softmax  0.902444  0.570083   \n",
       "8  <function relu at 0x7f1c80fa7ae8>         softmax  0.910207  0.579796   \n",
       "9   <function elu at 0x7f1c80fa78c8>         softmax  0.839822  0.607569   \n",
       "\n",
       "   precision    recall   f1score  val_loss   val_acc  val_precision  \\\n",
       "0   0.688126  0.414333  0.515869  0.983909  0.525476       0.589442   \n",
       "1   0.674879  0.440792  0.531010  0.975335  0.527218       0.599146   \n",
       "2   0.663322  0.394636  0.493819  0.976065  0.520380       0.601531   \n",
       "3   0.668464  0.405375  0.499290  0.957478  0.536096       0.609909   \n",
       "4   0.909992  0.858456  0.883357  2.655071  0.489810       0.496538   \n",
       "5   0.685017  0.460478  0.550240  1.033722  0.515625       0.566017   \n",
       "6   0.688853  0.455297  0.547689  0.989617  0.528193       0.582848   \n",
       "7   0.640626  0.436417  0.517274  1.055363  0.505712       0.557305   \n",
       "8   0.713595  0.305983  0.427328  0.945799  0.543818       0.658484   \n",
       "9   0.695821  0.455561  0.550349  1.019229  0.513494       0.571227   \n",
       "\n",
       "   val_recall  val_f1score  \n",
       "0    0.351562     0.439367  \n",
       "1    0.379032     0.462412  \n",
       "2    0.335598     0.430407  \n",
       "3    0.345922     0.436558  \n",
       "4    0.455842     0.475248  \n",
       "5    0.378057     0.453029  \n",
       "6    0.382133     0.461122  \n",
       "7    0.378024     0.448760  \n",
       "8    0.281250     0.393598  \n",
       "9    0.371804     0.450253  "
      ]
     },
     "execution_count": 35,
     "metadata": {},
     "output_type": "execute_result"
    }
   ],
   "source": [
    "# Display the dataframe containing the tuning results\n",
    "r.data"
   ]
  },
  {
   "cell_type": "code",
   "execution_count": 36,
   "metadata": {},
   "outputs": [
    {
     "data": {
      "text/plain": [
       "Index(['epochs', 'batch_size', 'hidden_layers', 'hidden_neuron', 'lr',\n",
       "       'dropout', 'optimizer', 'losses', 'activation', 'last_activation',\n",
       "       'loss', 'acc', 'precision', 'recall', 'f1score', 'val_loss', 'val_acc',\n",
       "       'val_precision', 'val_recall', 'val_f1score'],\n",
       "      dtype='object')"
      ]
     },
     "execution_count": 36,
     "metadata": {},
     "output_type": "execute_result"
    }
   ],
   "source": [
    "r.data.columns"
   ]
  },
  {
   "cell_type": "code",
   "execution_count": 37,
   "metadata": {
    "scrolled": true
   },
   "outputs": [
    {
     "name": "stdout",
     "output_type": "stream",
     "text": [
      "- Highest validation accuracy: 0.5438179347826086\n",
      "- Highest validation f1-score: 0.8833567570237553\n"
     ]
    }
   ],
   "source": [
    "# get the highest result for any metric\n",
    "print(f\"- Highest validation accuracy: {r.high('val_acc')}\")\n",
    "print(f\"- Highest validation f1-score: {r.high('f1score')}\")"
   ]
  },
  {
   "cell_type": "code",
   "execution_count": 38,
   "metadata": {
    "scrolled": true
   },
   "outputs": [
    {
     "data": {
      "text/plain": [
       "8"
      ]
     },
     "execution_count": 38,
     "metadata": {},
     "output_type": "execute_result"
    }
   ],
   "source": [
    "# get the round with the best result\n",
    "r.rounds2high(metric = 'val_acc')"
   ]
  },
  {
   "cell_type": "code",
   "execution_count": 39,
   "metadata": {
    "scrolled": false
   },
   "outputs": [
    {
     "data": {
      "text/plain": [
       "epochs                                                                 5\n",
       "batch_size                                                           128\n",
       "hidden_layers                                                          1\n",
       "hidden_neuron                                                        128\n",
       "lr                                                                0.0002\n",
       "dropout                                                                0\n",
       "optimizer                             <class 'keras.optimizers.RMSprop'>\n",
       "losses             <function categorical_crossentropy at 0x7f1c80ff5ae8>\n",
       "activation                             <function relu at 0x7f1c80fa7ae8>\n",
       "last_activation                                                  softmax\n",
       "loss                                                            0.910207\n",
       "acc                                                             0.579796\n",
       "precision                                                       0.713595\n",
       "recall                                                          0.305983\n",
       "f1score                                                         0.427328\n",
       "val_loss                                                        0.945799\n",
       "val_acc                                                         0.543818\n",
       "val_precision                                                   0.658484\n",
       "val_recall                                                       0.28125\n",
       "val_f1score                                                     0.393598\n",
       "Name: 8, dtype: object"
      ]
     },
     "execution_count": 39,
     "metadata": {},
     "output_type": "execute_result"
    }
   ],
   "source": [
    "# get the best paramaters\n",
    "r.data.iloc[8,]"
   ]
  },
  {
   "cell_type": "markdown",
   "metadata": {},
   "source": [
    "### Retraining with the best parameters"
   ]
  },
  {
   "cell_type": "code",
   "execution_count": 43,
   "metadata": {
    "scrolled": true
   },
   "outputs": [
    {
     "name": "stdout",
     "output_type": "stream",
     "text": [
      "Epoch 1/5\n",
      " - 2s - loss: 1.0743 - acc: 0.4366 - val_loss: 1.0473 - val_acc: 0.4891\n",
      "Epoch 2/5\n",
      " - 2s - loss: 1.0145 - acc: 0.5277 - val_loss: 0.9961 - val_acc: 0.5170\n",
      "Epoch 3/5\n",
      " - 2s - loss: 0.9638 - acc: 0.5559 - val_loss: 0.9664 - val_acc: 0.5353\n",
      "Epoch 4/5\n",
      " - 2s - loss: 0.9317 - acc: 0.5698 - val_loss: 0.9530 - val_acc: 0.5387\n",
      "Epoch 5/5\n",
      " - 2s - loss: 0.9099 - acc: 0.5804 - val_loss: 0.9474 - val_acc: 0.5428\n"
     ]
    }
   ],
   "source": [
    "### Hyperparameters to use\n",
    "p = {'epochs': 5, # number of iterations on the full set \n",
    "    'batch_size': 128, \n",
    "    'hidden_layers': 1, # number of hidden layers \n",
    "    'hidden_neuron':128, # number of neurons in the input layer \n",
    "    'lr': 0.0002, # learning rate       \n",
    "    'dropout': 0, \n",
    "    'optimizer': RMSprop, \n",
    "    'losses': categorical_crossentropy, \n",
    "    'activation': relu, \n",
    "    'last_activation': 'softmax'}\n",
    "\n",
    "# Model fitting\n",
    "FNN_out, FNN_model = md.train_FNN(data_train = tenses_train, \n",
    "                                  data_valid = tenses_valid, \n",
    "                                  cue_index = cue_to_index, \n",
    "                                  outcome_index = outcome_to_index, \n",
    "                                  generator = md.generator_df_FNN,\n",
    "                                  shuffle = False, \n",
    "                                  use_multiprocessing = False, \n",
    "                                  num_threads = 0, \n",
    "                                  verbose = 2,\n",
    "                                  metrics = ['accuracy'],\n",
    "                                  params = p)"
   ]
  },
  {
   "cell_type": "code",
   "execution_count": 44,
   "metadata": {},
   "outputs": [],
   "source": [
    "# Save the model and training history\n",
    "MODEL_PATH = TOP + 'illustrative_examples/tenses/Results/FNN_tenses.h5'\n",
    "HISTORY_PATH = TOP + 'illustrative_examples/tenses/Results/FNN_history_dict_tenses'\n",
    "md.export_model(model = FNN_model, path = MODEL_PATH)  # creates a HDF5 file \n",
    "md.export_history(history_dict = FNN_out.history, path = HISTORY_PATH)\n",
    "#del FNN_model, FNN_out  # deletes the existing model and history dictionary"
   ]
  },
  {
   "cell_type": "code",
   "execution_count": 11,
   "metadata": {},
   "outputs": [
    {
     "name": "stderr",
     "output_type": "stream",
     "text": [
      "/home/adnane/anaconda3/envs/ooominds/lib/python3.7/site-packages/keras/engine/saving.py:251: DeprecationWarning: The truth value of an empty array is ambiguous. Returning False, but in future this will result in an error. Use `array.size > 0` to check that an array is not empty.\n",
      "  if weight_names:\n"
     ]
    }
   ],
   "source": [
    "# Load the model and training history\n",
    "MODEL_PATH = TOP + 'illustrative_examples/tenses/Results/FNN_tenses.h5'\n",
    "HISTORY_PATH = TOP + 'illustrative_examples/tenses/Results/FNN_history_dict_tenses'\n",
    "FNN_model = md.import_model(MODEL_PATH)\n",
    "FNN_history_dict = md.import_history(path = HISTORY_PATH)"
   ]
  },
  {
   "cell_type": "markdown",
   "metadata": {},
   "source": [
    "### Evaluate the final model"
   ]
  },
  {
   "cell_type": "code",
   "execution_count": 12,
   "metadata": {},
   "outputs": [
    {
     "name": "stdout",
     "output_type": "stream",
     "text": [
      "- Training loss in the last epoch: 0.9098766847727771\n",
      "- Training accuracy in the last epoch: 0.5803810160427807\n",
      "- Validation loss in the last epoch: 0.9474253861800485\n",
      "- Validation accuracy in the last epoch: 0.5427989130434783\n"
     ]
    }
   ],
   "source": [
    "# Performance on the last epoch of the training set\n",
    "print(f\"- Training loss in the last epoch: {FNN_history_dict['loss'][-1]}\")\n",
    "print(f\"- Training accuracy in the last epoch: {FNN_history_dict['acc'][-1]}\")\n",
    "\n",
    "# Performance on the last epoch of the validation set\n",
    "print(f\"- Validation loss in the last epoch: {FNN_history_dict['val_loss'][-1]}\")\n",
    "print(f\"- Validation accuracy in the last epoch: {FNN_history_dict['val_acc'][-1]}\")"
   ]
  },
  {
   "cell_type": "code",
   "execution_count": 14,
   "metadata": {},
   "outputs": [
    {
     "data": {
      "image/png": "[encoded data removed]",
      "text/plain": [
       "<Figure size 432x288 with 1 Axes>"
      ]
     },
     "metadata": {
      "needs_background": "light"
     },
     "output_type": "display_data"
    }
   ],
   "source": [
    "# Generate plots to assess the performance of the NN\n",
    "ev.plot_learning_curve(history_dict = FNN_history_dict, metric = 'acc', set = 'train_valid')"
   ]
  },
  {
   "cell_type": "code",
   "execution_count": 27,
   "metadata": {},
   "outputs": [
    {
     "name": "stdout",
     "output_type": "stream",
     "text": [
      "[0.6999213  0.07165194 0.22842672]\n",
      "{'FutureSimple': 0.6999213, 'PastSimple': 0.07165194, 'PresentSimple': 0.22842672}\n"
     ]
    }
   ],
   "source": [
    "# Test prediction for a single given cue sequence. Model expect input as array of shape (1, N_cues) \n",
    "cue1_seq = 'I_will_meet_you_tomorrow'\n",
    "outcome1_prob_pred = ev.predict_proba_oneevent_FNN(model = FNN_model, \n",
    "                                                   cue_seq = cue1_seq, \n",
    "                                                   num_cues = N_cues,  \n",
    "                                                   cue_index = cue_to_index)\n",
    "print(outcome1_prob_pred) # vector of predicted probabilities\n",
    "print({index_to_outcome[j+1]:outcome1_prob_pred[j] for j in range(len(outcome1_prob_pred))})"
   ]
  },
  {
   "cell_type": "code",
   "execution_count": 31,
   "metadata": {},
   "outputs": [],
   "source": [
    "# Evaluate the model on the test set\n",
    "prob_pred = ev.predict_proba_eventfile_FNN(model = FNN_model, \n",
    "                                           data_test = tenses_test, \n",
    "                                           num_cues = N_cues, \n",
    "                                           num_outcomes = N_outcomes, \n",
    "                                           cue_index = cue_to_index, \n",
    "                                           outcome_index = outcome_to_index, \n",
    "                                           generator = md.generator_df_FNN,\n",
    "                                           use_multiprocessing = False, \n",
    "                                           num_threads = 0, \n",
    "                                           verbose = 0)"
   ]
  },
  {
   "cell_type": "code",
   "execution_count": 32,
   "metadata": {},
   "outputs": [
    {
     "data": {
      "text/plain": [
       "0.5436666666666666"
      ]
     },
     "execution_count": 32,
     "metadata": {},
     "output_type": "execute_result"
    }
   ],
   "source": [
    "# True responses to compare the predictions to\n",
    "y_test = tenses_test.replace({'outcomes': outcome_to_index})['outcomes']\n",
    "y_pred = np.argmax(prob_pred, axis=1)+1\n",
    "\n",
    "# Overall test accuracy\n",
    "test_accuracy = accuracy_score(y_test, y_pred)\n",
    "test_accuracy"
   ]
  },
  {
   "cell_type": "code",
   "execution_count": 33,
   "metadata": {},
   "outputs": [
    {
     "name": "stdout",
     "output_type": "stream",
     "text": [
      "[0.54905847 0.62079511 0.46336634]\n"
     ]
    }
   ],
   "source": [
    "# Test accuracy per class\n",
    "cmat = confusion_matrix(y_test, y_pred) # Confusion matrix\n",
    "print(cmat.diagonal()/cmat.sum(axis=1)) "
   ]
  },
  {
   "cell_type": "markdown",
   "metadata": {},
   "source": [
    "## IV. Long short-term memory model <a ID=\"IV\"></a> "
   ]
  },
  {
   "cell_type": "markdown",
   "metadata": {},
   "source": [
    "### Build a simple LSTM model"
   ]
  },
  {
   "cell_type": "markdown",
   "metadata": {},
   "source": [
    "Build a simple LSTM that has 64 hidden units "
   ]
  },
  {
   "cell_type": "code",
   "execution_count": 35,
   "metadata": {},
   "outputs": [
    {
     "name": "stdout",
     "output_type": "stream",
     "text": [
      "Epoch 1/10\n",
      " - 59s - loss: 1.0584 - acc: 0.4178 - val_loss: 1.0095 - val_acc: 0.4656\n",
      "Epoch 2/10\n",
      " - 63s - loss: 0.9963 - acc: 0.4820 - val_loss: 0.9931 - val_acc: 0.4890\n",
      "Epoch 3/10\n",
      " - 56s - loss: 0.9796 - acc: 0.4964 - val_loss: 0.9849 - val_acc: 0.4977\n",
      "Epoch 4/10\n",
      " - 52s - loss: 0.9682 - acc: 0.5102 - val_loss: 0.9806 - val_acc: 0.5020\n",
      "Epoch 5/10\n",
      " - 64s - loss: 0.9599 - acc: 0.5236 - val_loss: 0.9780 - val_acc: 0.5050\n",
      "Epoch 6/10\n",
      " - 63s - loss: 0.9533 - acc: 0.5310 - val_loss: 0.9767 - val_acc: 0.5060\n",
      "Epoch 7/10\n",
      " - 56s - loss: 0.9477 - acc: 0.5387 - val_loss: 0.9742 - val_acc: 0.5120\n",
      "Epoch 8/10\n",
      " - 61s - loss: 0.9396 - acc: 0.5461 - val_loss: 0.9698 - val_acc: 0.5191\n",
      "Epoch 9/10\n",
      " - 56s - loss: 0.9300 - acc: 0.5551 - val_loss: 0.9631 - val_acc: 0.5261\n",
      "Epoch 10/10\n",
      " - 58s - loss: 0.9205 - acc: 0.5645 - val_loss: 0.9583 - val_acc: 0.5344\n"
     ]
    }
   ],
   "source": [
    "### Build a simple LSTM that has 64 hidden units \n",
    "p = {'epochs': 10, # number of iterations on the full set \n",
    "    'batch_size': 16, \n",
    "    'hidden_neuron': 64, # number of neurons in the input layer \n",
    "    'lr': 0.0001, # learning rate       \n",
    "    'dropout': 0.2, \n",
    "    'optimizer': RMSprop, \n",
    "    'losses': categorical_crossentropy, \n",
    "    'last_activation': 'softmax'}\n",
    "\n",
    "# Model fitting\n",
    "LSTM_out, LSTM_model = md.train_LSTM(data_train = tenses_train, \n",
    "                                     data_valid = tenses_valid, \n",
    "                                     cue_index = cue_to_index, \n",
    "                                     outcome_index = outcome_to_index, \n",
    "                                     max_len = max_len,\n",
    "                                     generator = md.generator_df_LSTM,\n",
    "                                     shuffle = False, \n",
    "                                     use_cuda = False,\n",
    "                                     use_multiprocessing = False, \n",
    "                                     num_threads = 0, \n",
    "                                     verbose = 2,\n",
    "                                     metrics = ['accuracy'],\n",
    "                                     params = p)"
   ]
  },
  {
   "cell_type": "code",
   "execution_count": 36,
   "metadata": {},
   "outputs": [
    {
     "name": "stdout",
     "output_type": "stream",
     "text": [
      "_________________________________________________________________\n",
      "Layer (type)                 Output Shape              Param #   \n",
      "=================================================================\n",
      "lstm_2 (LSTM)                (None, 64)                528640    \n",
      "_________________________________________________________________\n",
      "dropout_2 (Dropout)          (None, 64)                0         \n",
      "_________________________________________________________________\n",
      "dense_2 (Dense)              (None, 3)                 195       \n",
      "=================================================================\n",
      "Total params: 528,835\n",
      "Trainable params: 528,835\n",
      "Non-trainable params: 0\n",
      "_________________________________________________________________\n"
     ]
    }
   ],
   "source": [
    "LSTM_model.summary()"
   ]
  },
  {
   "cell_type": "markdown",
   "metadata": {},
   "source": [
    "### Tune the parameters to find a good model"
   ]
  },
  {
   "cell_type": "code",
   "execution_count": 38,
   "metadata": {},
   "outputs": [
    {
     "data": {
      "text/plain": [
       "11200"
      ]
     },
     "execution_count": 38,
     "metadata": {},
     "output_type": "execute_result"
    }
   ],
   "source": [
    "4*5*4*7*5*4*1*1"
   ]
  },
  {
   "cell_type": "code",
   "execution_count": 39,
   "metadata": {
    "scrolled": true
   },
   "outputs": [
    {
     "name": "stdout",
     "output_type": "stream",
     "text": [
      "Iteration 1 out of 6: {'epochs': 20, 'batch_size': 128, 'hidden_neuron': 128, 'lr': 0.0002, 'dropout': 0.3, 'optimizer': <class 'keras.optimizers.Adam'>, 'losses': <function categorical_crossentropy at 0x7f547dfad598>, 'last_activation': 'softmax'}\n",
      "\n",
      "Iteration 2 out of 6: {'epochs': 5, 'batch_size': 128, 'hidden_neuron': 16, 'lr': 0.0002, 'dropout': 0.4, 'optimizer': <class 'keras.optimizers.RMSprop'>, 'losses': <function categorical_crossentropy at 0x7f547dfad598>, 'last_activation': 'softmax'}\n",
      "\n",
      "Iteration 3 out of 6: {'epochs': 10, 'batch_size': 64, 'hidden_neuron': 32, 'lr': 0.002, 'dropout': 0.3, 'optimizer': <class 'keras.optimizers.RMSprop'>, 'losses': <function categorical_crossentropy at 0x7f547dfad598>, 'last_activation': 'softmax'}\n",
      "\n",
      "Iteration 4 out of 6: {'epochs': 30, 'batch_size': 32, 'hidden_neuron': 128, 'lr': 0.0002, 'dropout': 0.2, 'optimizer': <class 'keras.optimizers.RMSprop'>, 'losses': <function categorical_crossentropy at 0x7f547dfad598>, 'last_activation': 'softmax'}\n",
      "\n",
      "Iteration 5 out of 6: {'epochs': 10, 'batch_size': 16, 'hidden_neuron': 64, 'lr': 0.01, 'dropout': 0.1, 'optimizer': <class 'keras.optimizers.Nadam'>, 'losses': <function categorical_crossentropy at 0x7f547dfad598>, 'last_activation': 'softmax'}\n",
      "\n",
      "Iteration 6 out of 6: {'epochs': 30, 'batch_size': 256, 'hidden_neuron': 32, 'lr': 0.0002, 'dropout': 0.2, 'optimizer': <class 'keras.optimizers.SGD'>, 'losses': <function categorical_crossentropy at 0x7f547dfad598>, 'last_activation': 'softmax'}\n",
      "\n"
     ]
    }
   ],
   "source": [
    "### Parameter tuning using grid search \n",
    "p = {'epochs': [5, 10, 20, 30], # number of iterations on the full set (x5)\n",
    "     'batch_size': [16, 32, 64, 128, 256], # (x5)\n",
    "     'hidden_neuron':[16, 32, 64, 128], # number of neurons in the input layer (x4)\n",
    "     'lr': [0.0001, 0.0002, 0.0005, 0.001, 0.002, 0.005, 0.01], # learning rate (x7)       \n",
    "     'dropout': [0, 0.1, 0.2, 0.3, 0.4], # (x5)\n",
    "     'optimizer': [Adam, Nadam, RMSprop, SGD], # (x4)\n",
    "     'losses': [categorical_crossentropy], # (x1)\n",
    "     'last_activation': ['softmax'] # (x1)\n",
    "     }\n",
    "# => Total number of combinations: 4*5*4*7*5*4*1*1 = 11200\n",
    "\n",
    "### Grid search \n",
    "TUNING_PATH = TOP + 'illustrative_examples/tenses/Results/grid_search_LSTM_tenses.csv'\n",
    "md.grid_search_LSTM(data_train = tenses_train, \n",
    "                    data_valid = tenses_valid, \n",
    "                    cue_index = cue_to_index, \n",
    "                    outcome_index = outcome_to_index,\n",
    "                    max_len = max_len,\n",
    "                    generator = md.generator_df_LSTM,\n",
    "                    params = p,\n",
    "                    prop_grid = 5e-4, \n",
    "                    tuning_output_file = TUNING_PATH, \n",
    "                    shuffle = False, \n",
    "                    use_cuda = False,\n",
    "                    use_multiprocessing = False, \n",
    "                    num_threads = 0, \n",
    "                    verbose = 0)"
   ]
  },
  {
   "cell_type": "markdown",
   "metadata": {},
   "source": [
    "### Assessing the grid search using talos"
   ]
  },
  {
   "cell_type": "code",
   "execution_count": 40,
   "metadata": {},
   "outputs": [
    {
     "name": "stdout",
     "output_type": "stream",
     "text": [
      "- Highest validation accuracy: 0.5200407608695652\n",
      "- Highest validation f1-score: 0.8497713364561399\n"
     ]
    }
   ],
   "source": [
    "# Import the results file to analyse the results with talos\n",
    "r = ta.Reporting(TUNING_PATH)\n",
    "\n",
    "# get the highest result for any metric\n",
    "print(f\"- Highest validation accuracy: {r.high('val_acc')}\")\n",
    "print(f\"- Highest validation f1-score: {r.high('f1score')}\")"
   ]
  },
  {
   "cell_type": "code",
   "execution_count": 41,
   "metadata": {
    "scrolled": true
   },
   "outputs": [
    {
     "data": {
      "text/plain": [
       "0"
      ]
     },
     "execution_count": 41,
     "metadata": {},
     "output_type": "execute_result"
    }
   ],
   "source": [
    "# get the round with the best result\n",
    "r.rounds2high(metric = 'val_acc')"
   ]
  },
  {
   "cell_type": "code",
   "execution_count": 42,
   "metadata": {
    "scrolled": true
   },
   "outputs": [
    {
     "data": {
      "text/plain": [
       "epochs                                                                20\n",
       "batch_size                                                           128\n",
       "hidden_neuron                                                        128\n",
       "lr                                                                0.0002\n",
       "dropout                                                              0.3\n",
       "optimizer                                <class 'keras.optimizers.Adam'>\n",
       "losses             <function categorical_crossentropy at 0x7f547dfad598>\n",
       "last_activation                                                  softmax\n",
       "loss                                                            0.824345\n",
       "acc                                                             0.623162\n",
       "precision                                                       0.701469\n",
       "recall                                                          0.490809\n",
       "f1score                                                         0.576874\n",
       "val_loss                                                         1.01672\n",
       "val_acc                                                         0.520041\n",
       "val_precision                                                   0.571794\n",
       "val_recall                                                      0.380095\n",
       "val_f1score                                                     0.456272\n",
       "Name: 0, dtype: object"
      ]
     },
     "execution_count": 42,
     "metadata": {},
     "output_type": "execute_result"
    }
   ],
   "source": [
    "# get the best paramaters\n",
    "r.data.iloc[0,]"
   ]
  },
  {
   "cell_type": "markdown",
   "metadata": {},
   "source": [
    "### Retraining with the best parameters"
   ]
  },
  {
   "cell_type": "code",
   "execution_count": 10,
   "metadata": {
    "scrolled": true
   },
   "outputs": [
    {
     "name": "stdout",
     "output_type": "stream",
     "text": [
      "Epoch 1/20\n",
      " - 33s - loss: 1.0516 - acc: 0.4251 - val_loss: 0.9868 - val_acc: 0.4885\n",
      "Epoch 2/20\n",
      " - 29s - loss: 0.9698 - acc: 0.5013 - val_loss: 0.9765 - val_acc: 0.4935\n",
      "Epoch 3/20\n",
      " - 30s - loss: 0.9496 - acc: 0.5191 - val_loss: 0.9787 - val_acc: 0.5020\n",
      "Epoch 4/20\n",
      " - 29s - loss: 0.9402 - acc: 0.5287 - val_loss: 0.9810 - val_acc: 0.5068\n",
      "Epoch 5/20\n",
      " - 28s - loss: 0.9332 - acc: 0.5376 - val_loss: 0.9835 - val_acc: 0.4986\n",
      "Epoch 6/20\n",
      " - 30s - loss: 0.9244 - acc: 0.5489 - val_loss: 0.9825 - val_acc: 0.5000\n",
      "Epoch 7/20\n",
      " - 33s - loss: 0.9059 - acc: 0.5629 - val_loss: 0.9696 - val_acc: 0.5265\n",
      "Epoch 8/20\n",
      " - 29s - loss: 0.8848 - acc: 0.5826 - val_loss: 0.9722 - val_acc: 0.5340\n",
      "Epoch 9/20\n",
      " - 28s - loss: 0.8720 - acc: 0.5926 - val_loss: 0.9761 - val_acc: 0.5312\n",
      "Epoch 10/20\n",
      " - 29s - loss: 0.8642 - acc: 0.5964 - val_loss: 0.9808 - val_acc: 0.5296\n",
      "Epoch 11/20\n",
      " - 27s - loss: 0.8579 - acc: 0.6017 - val_loss: 0.9850 - val_acc: 0.5279\n",
      "Epoch 12/20\n",
      " - 28s - loss: 0.8528 - acc: 0.6034 - val_loss: 0.9870 - val_acc: 0.5275\n",
      "Epoch 13/20\n",
      " - 29s - loss: 0.8498 - acc: 0.6080 - val_loss: 0.9904 - val_acc: 0.5251\n",
      "Epoch 14/20\n",
      " - 27s - loss: 0.8468 - acc: 0.6094 - val_loss: 0.9942 - val_acc: 0.5238\n",
      "Epoch 15/20\n",
      " - 28s - loss: 0.8441 - acc: 0.6109 - val_loss: 0.9981 - val_acc: 0.5214\n",
      "Epoch 16/20\n",
      " - 26s - loss: 0.8410 - acc: 0.6136 - val_loss: 1.0003 - val_acc: 0.5214\n",
      "Epoch 17/20\n",
      " - 28s - loss: 0.8383 - acc: 0.6165 - val_loss: 1.0030 - val_acc: 0.5200\n",
      "Epoch 18/20\n",
      " - 28s - loss: 0.8353 - acc: 0.6181 - val_loss: 1.0063 - val_acc: 0.5194\n",
      "Epoch 19/20\n",
      " - 30s - loss: 0.8300 - acc: 0.6201 - val_loss: 1.0099 - val_acc: 0.5190\n",
      "Epoch 20/20\n",
      " - 27s - loss: 0.8272 - acc: 0.6219 - val_loss: 1.0116 - val_acc: 0.5163\n"
     ]
    }
   ],
   "source": [
    "### Hyperparameters to use\n",
    "p = {'epochs': 20, # number of iterations on the full set \n",
    "    'batch_size': 128, \n",
    "    'hidden_neuron': 128, # number of neurons in the input layer \n",
    "    'lr': 0.0002, # learning rate       \n",
    "    'dropout': 0.3, \n",
    "    'optimizer': Adam, \n",
    "    'losses': categorical_crossentropy, \n",
    "    'last_activation': 'softmax'}\n",
    "\n",
    "# Model fitting\n",
    "LSTM_out, LSTM_model = md.train_LSTM(data_train = tenses_train, \n",
    "                                     data_valid = tenses_valid, \n",
    "                                     cue_index = cue_to_index, \n",
    "                                     outcome_index = outcome_to_index, \n",
    "                                     max_len = max_len,\n",
    "                                     generator = md.generator_df_LSTM,\n",
    "                                     shuffle = False, \n",
    "                                     use_cuda = False,\n",
    "                                     use_multiprocessing = False, \n",
    "                                     num_threads = 0, \n",
    "                                     verbose = 2,\n",
    "                                     metrics = ['accuracy'],\n",
    "                                     params = p)"
   ]
  },
  {
   "cell_type": "code",
   "execution_count": 11,
   "metadata": {},
   "outputs": [],
   "source": [
    "# Save the model and training history\n",
    "MODEL_PATH = TOP + 'illustrative_examples/tenses/Results/LSTM_tenses.h5'\n",
    "HISTORY_PATH = TOP + 'illustrative_examples/tenses/Results/LSTM_history_dict_tenses'\n",
    "md.export_model(model = LSTM_model, path = MODEL_PATH)  # creates a HDF5 file \n",
    "md.export_history(history_dict = LSTM_out.history, path = HISTORY_PATH)\n",
    "#del LSTM_model, LSTM_out  # deletes the existing model and history dictionary"
   ]
  },
  {
   "cell_type": "code",
   "execution_count": 14,
   "metadata": {},
   "outputs": [
    {
     "name": "stderr",
     "output_type": "stream",
     "text": [
      "/home/adnane/anaconda3/envs/ooominds/lib/python3.7/site-packages/keras/engine/saving.py:251: DeprecationWarning: The truth value of an empty array is ambiguous. Returning False, but in future this will result in an error. Use `array.size > 0` to check that an array is not empty.\n",
      "  if weight_names:\n"
     ]
    }
   ],
   "source": [
    "# Load the model and training history\n",
    "MODEL_PATH = TOP + 'illustrative_examples/tenses/Results/LSTM_tenses.h5'\n",
    "HISTORY_PATH = TOP + 'illustrative_examples/tenses/Results/LSTM_history_dict_tenses'\n",
    "LSTM_model = md.import_model(MODEL_PATH)\n",
    "LSTM_history_dict = md.import_history(path = HISTORY_PATH)"
   ]
  },
  {
   "cell_type": "markdown",
   "metadata": {},
   "source": [
    "### Evaluate the final model"
   ]
  },
  {
   "cell_type": "code",
   "execution_count": 15,
   "metadata": {},
   "outputs": [
    {
     "name": "stderr",
     "output_type": "stream",
     "text": [
      "/home/adnane/anaconda3/envs/ooominds/lib/python3.7/site-packages/matplotlib/cbook/__init__.py:2366: DeprecationWarning: Using or importing the ABCs from 'collections' instead of from 'collections.abc' is deprecated, and in 3.8 it will stop working\n",
      "  return list(data) if isinstance(data, collections.MappingView) else data\n"
     ]
    },
    {
     "data": {
      "image/png": "[encoded data removed]",
      "text/plain": [
       "<Figure size 432x288 with 1 Axes>"
      ]
     },
     "metadata": {
      "needs_background": "light"
     },
     "output_type": "display_data"
    }
   ],
   "source": [
    "# Generate plots to assess the performance of the simple LSTM\n",
    "ev.plot_learning_curve(history_dict = LSTM_history_dict, metric = 'acc', set = 'train_valid')"
   ]
  },
  {
   "cell_type": "code",
   "execution_count": 19,
   "metadata": {},
   "outputs": [
    {
     "name": "stdout",
     "output_type": "stream",
     "text": [
      "[0.96527725 0.0043673  0.03035542]\n",
      "{'FutureSimple': 0.96527725, 'PastSimple': 0.0043673012, 'PresentSimple': 0.030355424}\n"
     ]
    }
   ],
   "source": [
    "# Test prediction for a single given cue sequence. Model expect inout as array of shape (1, N_cues) \n",
    "cue1_seq = 'I_will_meet_you_tomorrow'\n",
    "outcome1_prob_pred = ev.predict_proba_oneevent_LSTM(model = LSTM_model, \n",
    "                                                   cue_seq = cue1_seq, \n",
    "                                                   num_cues = N_cues,  \n",
    "                                                   cue_index = cue_to_index,\n",
    "                                                   max_len = max_len)\n",
    "print(outcome1_prob_pred) # vector of predicted probabilities\n",
    "print({index_to_outcome[j+1]:outcome1_prob_pred[j] for j in range(len(outcome1_prob_pred))})"
   ]
  },
  {
   "cell_type": "code",
   "execution_count": 20,
   "metadata": {},
   "outputs": [],
   "source": [
    "# Evaluate the model on the test set\n",
    "prob_pred = ev.predict_proba_eventfile_LSTM(model = LSTM_model, \n",
    "                                           data_test = tenses_test, \n",
    "                                           num_cues = N_cues, \n",
    "                                           num_outcomes = N_outcomes, \n",
    "                                           cue_index = cue_to_index, \n",
    "                                           outcome_index = outcome_to_index, \n",
    "                                           max_len = max_len,  \n",
    "                                           generator = md.generator_df_LSTM,\n",
    "                                           use_multiprocessing = False, \n",
    "                                           num_threads = 0, \n",
    "                                           verbose = 0)"
   ]
  },
  {
   "cell_type": "code",
   "execution_count": 21,
   "metadata": {},
   "outputs": [
    {
     "data": {
      "text/plain": [
       "0.5156666666666667"
      ]
     },
     "execution_count": 21,
     "metadata": {},
     "output_type": "execute_result"
    }
   ],
   "source": [
    "# True responses to compare the predictions to\n",
    "y_test = tenses_test.replace({'outcomes': outcome_to_index})['outcomes']\n",
    "y_pred = np.argmax(prob_pred, axis=1)+1\n",
    "\n",
    "# Overall test accuracy\n",
    "test_accuracy = accuracy_score(y_test, y_pred)\n",
    "test_accuracy"
   ]
  },
  {
   "cell_type": "code",
   "execution_count": 22,
   "metadata": {},
   "outputs": [
    {
     "name": "stdout",
     "output_type": "stream",
     "text": [
      "[0.4925669  0.55351682 0.5019802 ]\n"
     ]
    }
   ],
   "source": [
    "# Test accuracy per class\n",
    "cmat = confusion_matrix(y_test, y_pred) # Confusion matrix\n",
    "print(cmat.diagonal()/cmat.sum(axis=1)) "
   ]
  },
  {
   "cell_type": "markdown",
   "metadata": {},
   "source": [
    "## V. Naive discriminative learning model <a ID=\"V\"></a> "
   ]
  },
  {
   "cell_type": "markdown",
   "metadata": {},
   "source": [
    "### Build a simple NDL model"
   ]
  },
  {
   "cell_type": "code",
   "execution_count": 23,
   "metadata": {
    "scrolled": false
   },
   "outputs": [
    {
     "name": "stdout",
     "output_type": "stream",
     "text": [
      "Epoch 1/10\n",
      " - 56s - acc: 0.5170 - val_acc: 0.5047\n",
      "Epoch 2/10\n",
      " - 59s - acc: 0.5375 - val_acc: 0.5131\n",
      "Epoch 3/10\n",
      " - 58s - acc: 0.5480 - val_acc: 0.5255\n",
      "Epoch 4/10\n",
      " - 59s - acc: 0.5571 - val_acc: 0.5315\n",
      "Epoch 5/10\n",
      " - 58s - acc: 0.5613 - val_acc: 0.5332\n",
      "Epoch 6/10\n",
      " - 56s - acc: 0.5667 - val_acc: 0.5322\n",
      "Epoch 7/10\n",
      " - 63s - acc: 0.5715 - val_acc: 0.5301\n",
      "Epoch 8/10\n",
      " - 56s - acc: 0.5751 - val_acc: 0.5311\n",
      "Epoch 9/10\n",
      " - 57s - acc: 0.5771 - val_acc: 0.5311\n",
      "Epoch 10/10\n",
      " - 58s - acc: 0.5794 - val_acc: 0.5338\n"
     ]
    }
   ],
   "source": [
    "### Build a simple NDL\n",
    "p = {'epochs': 10, # number of iterations on the full set \n",
    "    'lr': 0.001}\n",
    "\n",
    "# Model fitting\n",
    "NDL_history_dict, NDL_model = md.train_NDL(data_train = tenses_train, \n",
    "                                           data_valid = tenses_valid,  \n",
    "                                           cue_index = cue_to_index, \n",
    "                                           outcome_index = outcome_to_index, \n",
    "                                           temp_dir = TEMP_DIR,\n",
    "                                           chunksize = len(tenses_train),\n",
    "                                           num_threads = 8, \n",
    "                                           verbose = 1,\n",
    "                                           params = p)"
   ]
  },
  {
   "cell_type": "code",
   "execution_count": 24,
   "metadata": {},
   "outputs": [
    {
     "data": {
      "image/png": "[encoded data removed]",
      "text/plain": [
       "<Figure size 432x288 with 1 Axes>"
      ]
     },
     "metadata": {
      "needs_background": "light"
     },
     "output_type": "display_data"
    }
   ],
   "source": [
    "# Generate learning curve\n",
    "ev.plot_learning_curve(history_dict = NDL_history_dict, metric = 'acc', set = 'train_valid')"
   ]
  },
  {
   "cell_type": "markdown",
   "metadata": {},
   "source": [
    "### Tune the parameters to find a good model"
   ]
  },
  {
   "cell_type": "code",
   "execution_count": 27,
   "metadata": {},
   "outputs": [
    {
     "name": "stdout",
     "output_type": "stream",
     "text": [
      "Iteration 1 out of 10: {'lr': 0.01, 'epochs': 10}\n",
      "\n",
      "Iteration 2 out of 10: {'lr': 0.01, 'epochs': 6}\n",
      "\n",
      "Iteration 3 out of 10: {'lr': 0.05, 'epochs': 6}\n",
      "\n",
      "Iteration 4 out of 10: {'lr': 1e-05, 'epochs': 8}\n",
      "\n",
      "Iteration 5 out of 10: {'lr': 5e-05, 'epochs': 8}\n",
      "\n",
      "Iteration 6 out of 10: {'lr': 1e-05, 'epochs': 6}\n",
      "\n",
      "Iteration 7 out of 10: {'lr': 0.0005, 'epochs': 10}\n",
      "\n",
      "Iteration 8 out of 10: {'lr': 0.0001, 'epochs': 6}\n",
      "\n",
      "Iteration 9 out of 10: {'lr': 0.0005, 'epochs': 8}\n",
      "\n",
      "Iteration 10 out of 10: {'lr': 0.001, 'epochs': 4}\n",
      "\n"
     ]
    }
   ],
   "source": [
    "### Parameter tuning using grid search \n",
    "p = {'lr': [0.00001, 0.00005, 0.0001, 0.0005, 0.001, 0.005, 0.01, 0.05], # learning rate (x8)\n",
    "     'epochs': [4, 6, 8, 10], # number of iterations on the full set (x6)\n",
    "     }\n",
    "# => Total number of combinations: 8*4 = 32\n",
    "\n",
    "### Grid search \n",
    "TUNING_PATH = TOP + 'illustrative_examples/tenses/Results/grid_search_NDL_tenses.csv'\n",
    "md.grid_search_NDL(data_train = tenses_train, \n",
    "                   data_valid = tenses_valid, \n",
    "                   cue_index = cue_to_index, \n",
    "                   outcome_index = outcome_to_index, \n",
    "                   temp_dir = TEMP_DIR,\n",
    "                   chunksize = len(tenses_train),\n",
    "                   params = p, \n",
    "                   prop_grid = 0.3, \n",
    "                   tuning_output_file = TUNING_PATH, \n",
    "                   num_threads = 8, \n",
    "                   verbose = 0)"
   ]
  },
  {
   "cell_type": "markdown",
   "metadata": {},
   "source": [
    "### Assessing the grid search using talos"
   ]
  },
  {
   "cell_type": "code",
   "execution_count": 29,
   "metadata": {},
   "outputs": [
    {
     "name": "stdout",
     "output_type": "stream",
     "text": [
      "- Highest validation accuracy: 0.5348292029470864\n",
      "- Highest validation f1-score: 0.5979828653883911\n"
     ]
    }
   ],
   "source": [
    "# Import the results file to analyse the results with talos\n",
    "r = ta.Reporting(TUNING_PATH)\n",
    "\n",
    "# get the highest result for any metric\n",
    "print(f\"- Highest validation accuracy: {r.high('val_acc')}\")\n",
    "print(f\"- Highest validation f1-score: {r.high('f1score')}\")"
   ]
  },
  {
   "cell_type": "code",
   "execution_count": 30,
   "metadata": {
    "scrolled": true
   },
   "outputs": [
    {
     "data": {
      "text/plain": [
       "6"
      ]
     },
     "execution_count": 30,
     "metadata": {},
     "output_type": "execute_result"
    }
   ],
   "source": [
    "# get the round with the best result\n",
    "r.rounds2high(metric = 'val_acc')"
   ]
  },
  {
   "cell_type": "code",
   "execution_count": 31,
   "metadata": {
    "scrolled": true
   },
   "outputs": [
    {
     "data": {
      "text/plain": [
       "lr                0.000500\n",
       "epochs           10.000000\n",
       "acc               0.561694\n",
       "precision         0.560101\n",
       "recall            0.561502\n",
       "f1score           0.558981\n",
       "val_acc           0.534829\n",
       "val_precision     0.532567\n",
       "val_recall        0.535657\n",
       "val_f1score       0.531951\n",
       "Name: 6, dtype: float64"
      ]
     },
     "execution_count": 31,
     "metadata": {},
     "output_type": "execute_result"
    }
   ],
   "source": [
    "# get the best paramaters\n",
    "r.data.iloc[6,]"
   ]
  },
  {
   "cell_type": "markdown",
   "metadata": {},
   "source": [
    "### Retraining with the best parameters"
   ]
  },
  {
   "cell_type": "code",
   "execution_count": 32,
   "metadata": {
    "scrolled": false
   },
   "outputs": [
    {
     "name": "stdout",
     "output_type": "stream",
     "text": [
      "Epoch 1/10\n",
      " - 58s - acc: 0.4984 - val_acc: 0.4906\n",
      "Epoch 2/10\n",
      " - 60s - acc: 0.5164 - val_acc: 0.5037\n",
      "Epoch 3/10\n",
      " - 57s - acc: 0.5286 - val_acc: 0.5134\n",
      "Epoch 4/10\n",
      " - 58s - acc: 0.5367 - val_acc: 0.5161\n",
      "Epoch 5/10\n",
      " - 62s - acc: 0.5442 - val_acc: 0.5201\n",
      "Epoch 6/10\n",
      " - 58s - acc: 0.5486 - val_acc: 0.5248\n",
      "Epoch 7/10\n",
      " - 56s - acc: 0.5534 - val_acc: 0.5308\n",
      "Epoch 8/10\n",
      " - 56s - acc: 0.5568 - val_acc: 0.5332\n",
      "Epoch 9/10\n",
      " - 58s - acc: 0.5593 - val_acc: 0.5335\n",
      "Epoch 10/10\n",
      " - 62s - acc: 0.5617 - val_acc: 0.5348\n"
     ]
    }
   ],
   "source": [
    "### Hyperparameters to use\n",
    "p = {'epochs': 10, # number of iterations on the full set \n",
    "    'lr': 0.0005}\n",
    "\n",
    "# Model fitting\n",
    "NDL_history_dict, NDL_model = md.train_NDL(data_train = tenses_train, \n",
    "                                           data_valid = tenses_valid,  \n",
    "                                           cue_index = cue_to_index, \n",
    "                                           outcome_index = outcome_to_index, \n",
    "                                           temp_dir = TEMP_DIR,\n",
    "                                           chunksize = len(tenses_train),\n",
    "                                           num_threads = 8, \n",
    "                                           verbose = 1,\n",
    "                                           params = p)"
   ]
  },
  {
   "cell_type": "code",
   "execution_count": 17,
   "metadata": {},
   "outputs": [],
   "source": [
    "# Save the weights and training history\n",
    "MODEL_PATH = TOP + 'illustrative_examples/tenses/Results/NDL_tenses.h5'\n",
    "HISTORY_PATH = TOP + 'illustrative_examples/tenses/Results/NDL_history_dict_tenses'\n",
    "md.export_model(model = NDL_model, path = MODEL_PATH)  # create a HDF5 file \n",
    "md.export_history(history_dict = NDL_history_dict, path = HISTORY_PATH)\n",
    "#del NDL_model, NDL_history_dict  # delete the existing model and history dictionary"
   ]
  },
  {
   "cell_type": "code",
   "execution_count": 12,
   "metadata": {},
   "outputs": [],
   "source": [
    "# Load the model and training history\n",
    "MODEL_PATH = TOP + 'illustrative_examples/tenses/Results/NDL_tenses.h5'\n",
    "HISTORY_PATH = TOP + 'illustrative_examples/tenses/Results/NDL_history_dict_tenses'\n",
    "NDL_model = md.import_model(MODEL_PATH)\n",
    "NDL_history_dict = md.import_history(path = HISTORY_PATH)"
   ]
  },
  {
   "cell_type": "markdown",
   "metadata": {},
   "source": [
    "### Evaluate the final model"
   ]
  },
  {
   "cell_type": "code",
   "execution_count": 38,
   "metadata": {
    "scrolled": true
   },
   "outputs": [
    {
     "name": "stdout",
     "output_type": "stream",
     "text": [
      "[0.42546887 0.25471278 0.31981835]\n",
      "{'FutureSimple': 0.4254688695845501, 'PastSimple': 0.2547127780582049, 'PresentSimple': 0.31981835235724493}\n"
     ]
    }
   ],
   "source": [
    "# Test prediction for a single given cue sequence. Model expect input as array of shape (1, N_cues) \n",
    "cue1_seq = 'I_will_meet_you_tomorrow'\n",
    "outcome1_prob_pred = ev.predict_proba_oneevent_NDL(model = NDL_model, \n",
    "                                                   cue_seq = cue1_seq)\n",
    "print(outcome1_prob_pred) # vector of predicted probabilities\n",
    "print({index_to_outcome[j+1]:outcome1_prob_pred[j] for j in range(len(outcome1_prob_pred))})"
   ]
  },
  {
   "cell_type": "markdown",
   "metadata": {},
   "source": [
    "The probability of future seems low, not because the model is unconfident, but because the softmax transformation used is 'soft' in terms of converting activations to probabilities. Decreasing the temperature parameter can emphasise more the predictions bewteen the three tense: "
   ]
  },
  {
   "cell_type": "code",
   "execution_count": 39,
   "metadata": {
    "scrolled": true
   },
   "outputs": [
    {
     "name": "stdout",
     "output_type": "stream",
     "text": [
      "[0.94028754 0.0055602  0.05415226]\n",
      "{'FutureSimple': 0.9402875417250711, 'PastSimple': 0.005560196158914734, 'PresentSimple': 0.05415226211601416}\n"
     ]
    }
   ],
   "source": [
    "# Test prediction for a single given cue sequence. Model expect input as array of shape (1, N_cues) \n",
    "cue1_seq = 'I_will_meet_you_tomorrow'\n",
    "outcome1_prob_pred = ev.predict_proba_oneevent_NDL(model = NDL_model, \n",
    "                                                   cue_seq = cue1_seq,\n",
    "                                                   T = 0.1)\n",
    "print(outcome1_prob_pred) # vector of predicted probabilities\n",
    "print({index_to_outcome[j+1]:outcome1_prob_pred[j] for j in range(len(outcome1_prob_pred))})"
   ]
  },
  {
   "cell_type": "code",
   "execution_count": 40,
   "metadata": {},
   "outputs": [],
   "source": [
    "# Evaluate the model on the test set\n",
    "prob_pred = ev.predict_proba_eventfile_NDL(model = NDL_model, \n",
    "                                           data_test = tenses_test, \n",
    "                                           temp_dir = TEMP_DIR,\n",
    "                                           num_threads = 8)"
   ]
  },
  {
   "cell_type": "code",
   "execution_count": 41,
   "metadata": {},
   "outputs": [
    {
     "data": {
      "text/plain": [
       "0.5316666666666666"
      ]
     },
     "execution_count": 41,
     "metadata": {},
     "output_type": "execute_result"
    }
   ],
   "source": [
    "# True responses to compare the predictions to\n",
    "y_test = tenses_test.replace({'outcomes': outcome_to_index})['outcomes']\n",
    "y_pred = np.argmax(prob_pred, axis=1)+1\n",
    "\n",
    "# Overall test accuracy\n",
    "test_accuracy = accuracy_score(y_test, y_pred)\n",
    "test_accuracy"
   ]
  },
  {
   "cell_type": "code",
   "execution_count": 42,
   "metadata": {},
   "outputs": [
    {
     "name": "stdout",
     "output_type": "stream",
     "text": [
      "[0.5777998  0.56167176 0.45643564]\n"
     ]
    }
   ],
   "source": [
    "# Test accuracy per class\n",
    "cmat = confusion_matrix(y_test, y_pred) # Confusion matrix\n",
    "print(cmat.diagonal()/cmat.sum(axis=1)) "
   ]
  }
 ],
 "metadata": {
  "kernelspec": {
   "display_name": "Python 3",
   "language": "python",
   "name": "python3"
  },
  "language_info": {
   "codemirror_mode": {
    "name": "ipython",
    "version": 3
   },
   "file_extension": ".py",
   "mimetype": "text/x-python",
   "name": "python",
   "nbconvert_exporter": "python",
   "pygments_lexer": "ipython3",
   "version": "3.7.2"
  }
 },
 "nbformat": 4,
 "nbformat_minor": 2
}
