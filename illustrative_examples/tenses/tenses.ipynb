{
 "cells": [
  {
   "cell_type": "markdown",
   "metadata": {},
   "source": [
    "# Predicting English tense from context"
   ]
  },
  {
   "cell_type": "markdown",
   "metadata": {},
   "source": [
    "## Table of Contents"
   ]
  },
  {
   "cell_type": "markdown",
   "metadata": {},
   "source": [
    "##### I. <a href=#I>Preliminary steps</a>\n",
    "##### II. <a href=#II>Prepare the data</a>\n",
    "##### III. <a href=#III>Feed-forward neural network model</a>\n",
    "##### IV. <a href=#IV>Long short-term memory model</a>\n",
    "##### V. <a href=#V>Naive discriminative learning model</a>"
   ]
  },
  {
   "cell_type": "markdown",
   "metadata": {},
   "source": [
    "## I. Preliminary steps <a ID=\"I\"></a> "
   ]
  },
  {
   "cell_type": "markdown",
   "metadata": {},
   "source": [
    "### Import necessary libraries and set up the working directory"
   ]
  },
  {
   "cell_type": "code",
   "execution_count": null,
   "metadata": {
    "scrolled": true
   },
   "outputs": [],
   "source": [
    "### Import necessary packages\n",
    "import os\n",
    "import pandas as pd\n",
    "import numpy as np\n",
    "from keras.models import Sequential\n",
    "from keras.layers import Dropout, Dense\n",
    "from keras.optimizers import Adam, Nadam, RMSprop, SGD\n",
    "from keras.activations import relu, elu\n",
    "from keras.losses import categorical_crossentropy\n",
    "from keras import metrics\n",
    "from keras.models import load_model\n",
    "from sklearn.metrics import accuracy_score\n",
    "from sklearn.metrics import confusion_matrix\n",
    "import talos as ta\n",
    "\n",
    "### Set working directory\n",
    "TOP = '/media/Deep_text_modelling_package_repo/'\n",
    "WD = TOP + 'package'\n",
    "os.chdir(WD)\n",
    "\n",
    "### Import local packages\n",
    "import deep_text_modelling.preprocessing as pr\n",
    "import deep_text_modelling.modelling as md\n",
    "import deep_text_modelling.evaluation as ev\n",
    "\n",
    "# Display option for dataframes and matplotlib\n",
    "pd.set_option('display.max_colwidth', 100) # Max width of columns when dispalying datasets\n",
    "PREVIOUS_MAX_ROWS = pd.options.display.max_rows\n",
    "pd.options.display.max_rows = 20\n",
    "%matplotlib inline"
   ]
  },
  {
   "cell_type": "markdown",
   "metadata": {},
   "source": [
    "### Define file paths"
   ]
  },
  {
   "cell_type": "code",
   "execution_count": 2,
   "metadata": {},
   "outputs": [],
   "source": [
    "TENSES_FULL_CSV = TOP + \"illustrative_examples/tenses/Data/Tenses_full.csv\"\n",
    "TENSES_TRAIN_CSV = TOP + \"illustrative_examples/tenses/Data/Tenses_train.csv\"\n",
    "TENSES_VALID_CSV = TOP + \"illustrative_examples/tenses/Data/Tenses_valid.csv\"\n",
    "TENSES_TEST_CSV = TOP + \"illustrative_examples/tenses/Data/Tenses_test.csv\"\n",
    "CUE_INDEX = TOP + \"illustrative_examples/tenses/Data/Cue_index.csv\"\n",
    "OUTCOME_INDEX = TOP + \"illustrative_examples/tenses/Data/Outcome_index.csv\"\n",
    "TEMP_DIR = TOP + \"illustrative_examples/tenses/Data/\""
   ]
  },
  {
   "cell_type": "markdown",
   "metadata": {},
   "source": [
    "### Parameters to use"
   ]
  },
  {
   "cell_type": "code",
   "execution_count": 3,
   "metadata": {},
   "outputs": [],
   "source": [
    "N_outcomes = 3 # number of most frequent outcomes to keep \n",
    "N_cues = 2000  # number of cues to keep (all alphabet letters)\n",
    "max_len = 20 # consider only the first 'max_len' cues in a sequence when applying LSTM \n",
    "no_threads = 4 # Number of CPU cores to use\n",
    "prop_valid = 1/10 # proportion of validation data\n",
    "prop_test = 1/10 # proportion of test data"
   ]
  },
  {
   "cell_type": "markdown",
   "metadata": {},
   "source": [
    "## II. Prepare the data <a name=\"II\"></a> "
   ]
  },
  {
   "cell_type": "markdown",
   "metadata": {},
   "source": [
    "### Load the data"
   ]
  },
  {
   "cell_type": "code",
   "execution_count": 4,
   "metadata": {
    "scrolled": false
   },
   "outputs": [
    {
     "name": "stdout",
     "output_type": "stream",
     "text": [
      "Number of examples: 30000\n"
     ]
    },
    {
     "data": {
      "text/html": [
       "<div>\n",
       "<style scoped>\n",
       "    .dataframe tbody tr th:only-of-type {\n",
       "        vertical-align: middle;\n",
       "    }\n",
       "\n",
       "    .dataframe tbody tr th {\n",
       "        vertical-align: top;\n",
       "    }\n",
       "\n",
       "    .dataframe thead th {\n",
       "        text-align: right;\n",
       "    }\n",
       "</style>\n",
       "<table border=\"1\" class=\"dataframe\">\n",
       "  <thead>\n",
       "    <tr style=\"text-align: right;\">\n",
       "      <th></th>\n",
       "      <th>sentences</th>\n",
       "      <th>verb_forms</th>\n",
       "      <th>tenses</th>\n",
       "      <th>cues</th>\n",
       "      <th>outcomes</th>\n",
       "    </tr>\n",
       "  </thead>\n",
       "  <tbody>\n",
       "    <tr>\n",
       "      <th>0</th>\n",
       "      <td>gifts of bulbs and trees will be much appreciated in the period september to december</td>\n",
       "      <td>will be appreciated</td>\n",
       "      <td>FutureSimple</td>\n",
       "      <td>gifts_of_bulbs_and_trees_much_in_the_period_september_to_december</td>\n",
       "      <td>FutureSimple</td>\n",
       "    </tr>\n",
       "    <tr>\n",
       "      <th>1</th>\n",
       "      <td>i will pick them up then</td>\n",
       "      <td>will pick</td>\n",
       "      <td>FutureSimple</td>\n",
       "      <td>i_them_up_then</td>\n",
       "      <td>FutureSimple</td>\n",
       "    </tr>\n",
       "    <tr>\n",
       "      <th>2</th>\n",
       "      <td>the shelters housing each flight will protect the equipment against a surprise attack by soviet ...</td>\n",
       "      <td>will protect</td>\n",
       "      <td>FutureSimple</td>\n",
       "      <td>the_shelters_housing_each_flight_the_equipment_against_a_surprise_attack_by_soviet_aircraft_or_m...</td>\n",
       "      <td>FutureSimple</td>\n",
       "    </tr>\n",
       "    <tr>\n",
       "      <th>3</th>\n",
       "      <td>what sort of shops will sell the product</td>\n",
       "      <td>will sell</td>\n",
       "      <td>FutureSimple</td>\n",
       "      <td>what_sort_of_shops_the_product</td>\n",
       "      <td>FutureSimple</td>\n",
       "    </tr>\n",
       "    <tr>\n",
       "      <th>4</th>\n",
       "      <td>but he was angry</td>\n",
       "      <td>was</td>\n",
       "      <td>PastSimple</td>\n",
       "      <td>but_he_angry</td>\n",
       "      <td>PastSimple</td>\n",
       "    </tr>\n",
       "  </tbody>\n",
       "</table>\n",
       "</div>"
      ],
      "text/plain": [
       "                                                                                             sentences  \\\n",
       "0                gifts of bulbs and trees will be much appreciated in the period september to december   \n",
       "1                                                                             i will pick them up then   \n",
       "2  the shelters housing each flight will protect the equipment against a surprise attack by soviet ...   \n",
       "3                                                             what sort of shops will sell the product   \n",
       "4                                                                                     but he was angry   \n",
       "\n",
       "            verb_forms        tenses  \\\n",
       "0  will be appreciated  FutureSimple   \n",
       "1            will pick  FutureSimple   \n",
       "2         will protect  FutureSimple   \n",
       "3            will sell  FutureSimple   \n",
       "4                  was    PastSimple   \n",
       "\n",
       "                                                                                                  cues  \\\n",
       "0                                    gifts_of_bulbs_and_trees_much_in_the_period_september_to_december   \n",
       "1                                                                                       i_them_up_then   \n",
       "2  the_shelters_housing_each_flight_the_equipment_against_a_surprise_attack_by_soviet_aircraft_or_m...   \n",
       "3                                                                       what_sort_of_shops_the_product   \n",
       "4                                                                                         but_he_angry   \n",
       "\n",
       "       outcomes  \n",
       "0  FutureSimple  \n",
       "1  FutureSimple  \n",
       "2  FutureSimple  \n",
       "3  FutureSimple  \n",
       "4    PastSimple  "
      ]
     },
     "execution_count": 4,
     "metadata": {},
     "output_type": "execute_result"
    }
   ],
   "source": [
    "tenses_full = pd.read_csv(TENSES_FULL_CSV)\n",
    "print(f'Number of examples: {len(tenses_full)}')\n",
    "tenses_full.head(5)"
   ]
  },
  {
   "cell_type": "code",
   "execution_count": 5,
   "metadata": {},
   "outputs": [
    {
     "data": {
      "text/html": [
       "<div>\n",
       "<style scoped>\n",
       "    .dataframe tbody tr th:only-of-type {\n",
       "        vertical-align: middle;\n",
       "    }\n",
       "\n",
       "    .dataframe tbody tr th {\n",
       "        vertical-align: top;\n",
       "    }\n",
       "\n",
       "    .dataframe thead th {\n",
       "        text-align: right;\n",
       "    }\n",
       "</style>\n",
       "<table border=\"1\" class=\"dataframe\">\n",
       "  <thead>\n",
       "    <tr style=\"text-align: right;\">\n",
       "      <th></th>\n",
       "      <th>cues</th>\n",
       "      <th>outcomes</th>\n",
       "    </tr>\n",
       "  </thead>\n",
       "  <tbody>\n",
       "    <tr>\n",
       "      <th>0</th>\n",
       "      <td>gifts_of_bulbs_and_trees_much_in_the_period_september_to_december</td>\n",
       "      <td>FutureSimple</td>\n",
       "    </tr>\n",
       "    <tr>\n",
       "      <th>1</th>\n",
       "      <td>i_them_up_then</td>\n",
       "      <td>FutureSimple</td>\n",
       "    </tr>\n",
       "    <tr>\n",
       "      <th>2</th>\n",
       "      <td>the_shelters_housing_each_flight_the_equipment_against_a_surprise_attack_by_soviet_aircraft_or_m...</td>\n",
       "      <td>FutureSimple</td>\n",
       "    </tr>\n",
       "    <tr>\n",
       "      <th>3</th>\n",
       "      <td>what_sort_of_shops_the_product</td>\n",
       "      <td>FutureSimple</td>\n",
       "    </tr>\n",
       "    <tr>\n",
       "      <th>4</th>\n",
       "      <td>but_he_angry</td>\n",
       "      <td>PastSimple</td>\n",
       "    </tr>\n",
       "  </tbody>\n",
       "</table>\n",
       "</div>"
      ],
      "text/plain": [
       "                                                                                                  cues  \\\n",
       "0                                    gifts_of_bulbs_and_trees_much_in_the_period_september_to_december   \n",
       "1                                                                                       i_them_up_then   \n",
       "2  the_shelters_housing_each_flight_the_equipment_against_a_surprise_attack_by_soviet_aircraft_or_m...   \n",
       "3                                                                       what_sort_of_shops_the_product   \n",
       "4                                                                                         but_he_angry   \n",
       "\n",
       "       outcomes  \n",
       "0  FutureSimple  \n",
       "1  FutureSimple  \n",
       "2  FutureSimple  \n",
       "3  FutureSimple  \n",
       "4    PastSimple  "
      ]
     },
     "execution_count": 5,
     "metadata": {},
     "output_type": "execute_result"
    }
   ],
   "source": [
    "# Retain only the 'cues' and 'outcomes' columns\n",
    "tenses_full = tenses_full[['cues', 'outcomes']]\n",
    "tenses_full.head(5)"
   ]
  },
  {
   "cell_type": "markdown",
   "metadata": {},
   "source": [
    "### Create index systems for the cues and outcomes"
   ]
  },
  {
   "cell_type": "code",
   "execution_count": 6,
   "metadata": {},
   "outputs": [],
   "source": [
    "# Create the files containing the index systems\n",
    "pr.create_index_systems_from_df(data = tenses_full, \n",
    "                                cue_index_path = CUE_INDEX, \n",
    "                                outcome_index_path = OUTCOME_INDEX)"
   ]
  },
  {
   "cell_type": "code",
   "execution_count": 7,
   "metadata": {
    "scrolled": true
   },
   "outputs": [
    {
     "name": "stdout",
     "output_type": "stream",
     "text": [
      "{the: 1}\n",
      "{of: 2}\n",
      "{and: 3}\n",
      "{a: 4}\n",
      "{in: 5}\n"
     ]
    }
   ],
   "source": [
    "# Import the cue index system\n",
    "cue_to_index = pr.import_index_system(CUE_INDEX, N_tokens = N_cues)\n",
    "pr.display_dictionary(cue_to_index, start = 0, end = 5)"
   ]
  },
  {
   "cell_type": "code",
   "execution_count": 8,
   "metadata": {},
   "outputs": [
    {
     "data": {
      "text/plain": [
       "{'FutureSimple': 1, 'PastSimple': 2, 'PresentSimple': 3}"
      ]
     },
     "execution_count": 8,
     "metadata": {},
     "output_type": "execute_result"
    }
   ],
   "source": [
    "# Import the outcome index system\n",
    "outcome_to_index = pr.import_index_system(OUTCOME_INDEX)\n",
    "outcome_to_index"
   ]
  },
  {
   "cell_type": "code",
   "execution_count": 9,
   "metadata": {},
   "outputs": [
    {
     "data": {
      "text/plain": [
       "{1: 'FutureSimple', 2: 'PastSimple', 3: 'PresentSimple'}"
      ]
     },
     "execution_count": 9,
     "metadata": {},
     "output_type": "execute_result"
    }
   ],
   "source": [
    "# Reverse the cue dictionary\n",
    "index_to_cue = pr.reverse_dictionary(cue_to_index)\n",
    "# Reverse the outcome dictionary\n",
    "index_to_outcome = pr.reverse_dictionary(outcome_to_index)\n",
    "index_to_outcome"
   ]
  },
  {
   "cell_type": "markdown",
   "metadata": {},
   "source": [
    "### Split into training, validation and test sets"
   ]
  },
  {
   "cell_type": "code",
   "execution_count": 10,
   "metadata": {
    "scrolled": true
   },
   "outputs": [
    {
     "name": "stdout",
     "output_type": "stream",
     "text": [
      "- Number of rows in the original set is 30000\n",
      "- Number of rows in the training set is 24000\n",
      "- Number of rows in the validation set is 3000\n",
      "- Number of rows in the test set is 3000\n"
     ]
    }
   ],
   "source": [
    "# Create train, valid and test set files\n",
    "pr.df_train_valid_test_split(data = tenses_full, \n",
    "                             train_data_path = TENSES_TRAIN_CSV, \n",
    "                             valid_data_path = TENSES_VALID_CSV, \n",
    "                             test_data_path = TENSES_TEST_CSV, \n",
    "                             p_valid = prop_valid, \n",
    "                             p_test = prop_test)"
   ]
  },
  {
   "cell_type": "code",
   "execution_count": 11,
   "metadata": {},
   "outputs": [],
   "source": [
    "# Load the train, valid and test sets\n",
    "tenses_train = pd.read_csv(TENSES_TRAIN_CSV, sep=',', na_filter = False)\n",
    "tenses_valid = pd.read_csv(TENSES_VALID_CSV, sep=',', na_filter = False)\n",
    "tenses_test = pd.read_csv(TENSES_VALID_CSV, sep=',', na_filter = False)"
   ]
  },
  {
   "cell_type": "markdown",
   "metadata": {},
   "source": [
    "## III. Feed-forward neural network model <a ID=\"III\"></a> "
   ]
  },
  {
   "cell_type": "markdown",
   "metadata": {},
   "source": [
    "### Build a simple FNN model"
   ]
  },
  {
   "cell_type": "markdown",
   "metadata": {},
   "source": [
    "Build a simple FNN with two hidden layers having 64 units "
   ]
  },
  {
   "cell_type": "code",
   "execution_count": 14,
   "metadata": {},
   "outputs": [
    {
     "name": "stdout",
     "output_type": "stream",
     "text": [
      "Epoch 1/10\n",
      " - 5s - loss: 1.0837 - acc: 0.4042 - val_loss: 1.0519 - val_acc: 0.4769\n",
      "Epoch 2/10\n",
      " - 5s - loss: 1.0165 - acc: 0.4901 - val_loss: 0.9834 - val_acc: 0.5134\n",
      "Epoch 3/10\n",
      " - 6s - loss: 0.9659 - acc: 0.5292 - val_loss: 0.9595 - val_acc: 0.5338\n",
      "Epoch 4/10\n",
      " - 5s - loss: 0.9296 - acc: 0.5621 - val_loss: 0.9512 - val_acc: 0.5361\n",
      "Epoch 5/10\n",
      " - 5s - loss: 0.9019 - acc: 0.5802 - val_loss: 0.9508 - val_acc: 0.5351\n",
      "Epoch 6/10\n",
      " - 5s - loss: 0.8767 - acc: 0.5986 - val_loss: 0.9529 - val_acc: 0.5338\n",
      "Epoch 7/10\n",
      " - 5s - loss: 0.8559 - acc: 0.6128 - val_loss: 0.9584 - val_acc: 0.5328\n",
      "Epoch 8/10\n",
      " - 4s - loss: 0.8357 - acc: 0.6234 - val_loss: 0.9663 - val_acc: 0.5277\n",
      "Epoch 9/10\n",
      " - 4s - loss: 0.8141 - acc: 0.6348 - val_loss: 0.9749 - val_acc: 0.5267\n",
      "Epoch 10/10\n",
      " - 5s - loss: 0.7962 - acc: 0.6458 - val_loss: 0.9853 - val_acc: 0.5234\n"
     ]
    }
   ],
   "source": [
    "### Hyperparameters to use\n",
    "p = {'epochs': 10, # number of iterations on the full set \n",
    "    'batch_size': 16, \n",
    "    'hidden_layers': 2, # number of hidden layers \n",
    "    'hidden_neuron':64, # number of neurons in the input layer \n",
    "    'lr': 0.0001, # learning rate       \n",
    "    'dropout': 0.3, \n",
    "    'optimizer': Adam, \n",
    "    'losses': categorical_crossentropy, \n",
    "    'activation': relu, \n",
    "    'last_activation': 'softmax'}\n",
    "\n",
    "# Model fitting\n",
    "FNN_out, FNN_model = md.train_FNN(data_train = tenses_train, \n",
    "                                  data_valid = tenses_valid, \n",
    "                                  cue_index = cue_to_index, \n",
    "                                  outcome_index = outcome_to_index, \n",
    "                                  verbose = 2,\n",
    "                                  metrics = ['accuracy'],\n",
    "                                  params = p)"
   ]
  },
  {
   "cell_type": "code",
   "execution_count": 15,
   "metadata": {},
   "outputs": [
    {
     "name": "stdout",
     "output_type": "stream",
     "text": [
      "_________________________________________________________________\n",
      "Layer (type)                 Output Shape              Param #   \n",
      "=================================================================\n",
      "dense_7 (Dense)              (None, 64)                128064    \n",
      "_________________________________________________________________\n",
      "dropout_5 (Dropout)          (None, 64)                0         \n",
      "_________________________________________________________________\n",
      "dense_8 (Dense)              (None, 64)                4160      \n",
      "_________________________________________________________________\n",
      "dropout_6 (Dropout)          (None, 64)                0         \n",
      "_________________________________________________________________\n",
      "dense_9 (Dense)              (None, 3)                 195       \n",
      "=================================================================\n",
      "Total params: 132,419\n",
      "Trainable params: 132,419\n",
      "Non-trainable params: 0\n",
      "_________________________________________________________________\n"
     ]
    }
   ],
   "source": [
    "FNN_model.summary()"
   ]
  },
  {
   "cell_type": "markdown",
   "metadata": {},
   "source": [
    "### Tune the parameters to find a good model"
   ]
  },
  {
   "cell_type": "code",
   "execution_count": 16,
   "metadata": {
    "scrolled": false
   },
   "outputs": [
    {
     "name": "stdout",
     "output_type": "stream",
     "text": [
      "Iteration 1 out of 10: {'epochs': 10, 'batch_size': 128, 'hidden_layers': 1, 'hidden_neuron': 32, 'lr': 0.0001, 'dropout': 0.4, 'optimizer': <class 'keras.optimizers.Adam'>, 'losses': <function categorical_crossentropy at 0x7f302a23a488>, 'activation': <function elu at 0x7f302a1e5378>, 'last_activation': 'softmax'}\n",
      "\n",
      "Iteration 2 out of 10: {'epochs': 10, 'batch_size': 64, 'hidden_layers': 2, 'hidden_neuron': 16, 'lr': 0.001, 'dropout': 0.3, 'optimizer': <class 'keras.optimizers.RMSprop'>, 'losses': <function categorical_crossentropy at 0x7f302a23a488>, 'activation': <function relu at 0x7f302a1e5598>, 'last_activation': 'softmax'}\n",
      "\n",
      "Iteration 3 out of 10: {'epochs': 5, 'batch_size': 16, 'hidden_layers': 0, 'hidden_neuron': 16, 'lr': 0.0005, 'dropout': 0.4, 'optimizer': <class 'keras.optimizers.RMSprop'>, 'losses': <function categorical_crossentropy at 0x7f302a23a488>, 'activation': <function relu at 0x7f302a1e5598>, 'last_activation': 'softmax'}\n",
      "\n",
      "Iteration 4 out of 10: {'epochs': 1, 'batch_size': 256, 'hidden_layers': 1, 'hidden_neuron': 128, 'lr': 0.001, 'dropout': 0, 'optimizer': <class 'keras.optimizers.RMSprop'>, 'losses': <function categorical_crossentropy at 0x7f302a23a488>, 'activation': <function elu at 0x7f302a1e5378>, 'last_activation': 'softmax'}\n",
      "\n",
      "Iteration 5 out of 10: {'epochs': 1, 'batch_size': 256, 'hidden_layers': 2, 'hidden_neuron': 64, 'lr': 0.005, 'dropout': 0.4, 'optimizer': <class 'keras.optimizers.RMSprop'>, 'losses': <function categorical_crossentropy at 0x7f302a23a488>, 'activation': <function relu at 0x7f302a1e5598>, 'last_activation': 'softmax'}\n",
      "\n",
      "Iteration 6 out of 10: {'epochs': 20, 'batch_size': 256, 'hidden_layers': 0, 'hidden_neuron': 128, 'lr': 0.001, 'dropout': 0.3, 'optimizer': <class 'keras.optimizers.Adam'>, 'losses': <function categorical_crossentropy at 0x7f302a23a488>, 'activation': <function relu at 0x7f302a1e5598>, 'last_activation': 'softmax'}\n",
      "\n",
      "Iteration 7 out of 10: {'epochs': 20, 'batch_size': 128, 'hidden_layers': 0, 'hidden_neuron': 32, 'lr': 0.0001, 'dropout': 0.1, 'optimizer': <class 'keras.optimizers.RMSprop'>, 'losses': <function categorical_crossentropy at 0x7f302a23a488>, 'activation': <function elu at 0x7f302a1e5378>, 'last_activation': 'softmax'}\n",
      "\n",
      "Iteration 8 out of 10: {'epochs': 20, 'batch_size': 64, 'hidden_layers': 1, 'hidden_neuron': 16, 'lr': 0.005, 'dropout': 0.2, 'optimizer': <class 'keras.optimizers.Adam'>, 'losses': <function categorical_crossentropy at 0x7f302a23a488>, 'activation': <function elu at 0x7f302a1e5378>, 'last_activation': 'softmax'}\n",
      "\n",
      "Iteration 9 out of 10: {'epochs': 20, 'batch_size': 32, 'hidden_layers': 0, 'hidden_neuron': 32, 'lr': 0.0001, 'dropout': 0.1, 'optimizer': <class 'keras.optimizers.Adam'>, 'losses': <function categorical_crossentropy at 0x7f302a23a488>, 'activation': <function relu at 0x7f302a1e5598>, 'last_activation': 'softmax'}\n",
      "\n",
      "Iteration 10 out of 10: {'epochs': 5, 'batch_size': 16, 'hidden_layers': 0, 'hidden_neuron': 32, 'lr': 0.001, 'dropout': 0, 'optimizer': <class 'keras.optimizers.RMSprop'>, 'losses': <function categorical_crossentropy at 0x7f302a23a488>, 'activation': <function elu at 0x7f302a1e5378>, 'last_activation': 'softmax'}\n",
      "\n"
     ]
    }
   ],
   "source": [
    "### Parameter tuning using grid search \n",
    "p = {'epochs': [1, 5, 10, 20], # number of iterations on the full set (x5)\n",
    "     'batch_size': [16, 32, 64, 128, 256], # (x6)\n",
    "     'hidden_layers':[0, 1, 2], # number of hidden layers (x3)\n",
    "     'hidden_neuron':[16, 32, 64, 128], # number of neurons in the input layer (x4)\n",
    "     'lr': [0.0001, 0.0002, 0.0005, 0.001, 0.002, 0.005, 0.01], # learning rate (x7)       \n",
    "     'dropout': [0, 0.1, 0.2, 0.3, 0.4], # (x5)\n",
    "     'optimizer': [Adam, RMSprop], # (x2)\n",
    "     'losses': [categorical_crossentropy], # (x1)\n",
    "     'activation':[relu, elu], # (x2)\n",
    "     'last_activation': ['softmax'] # (x1)\n",
    "     }\n",
    "# => Total number of combinations: 4*5*3*4*7*5*2*1*2*1 = 33600\n",
    "\n",
    "### Grid search \n",
    "TUNING_PATH = TOP + 'illustrative_examples/tenses/Results/grid_search_FNN_tenses.csv'\n",
    "md.grid_search_FNN(data_train = tenses_train, \n",
    "                   data_valid = tenses_valid, \n",
    "                   cue_index = cue_to_index, \n",
    "                   outcome_index = outcome_to_index,\n",
    "                   params = p,\n",
    "                   prop_grid = 3e-4, \n",
    "                   tuning_output_file = TUNING_PATH, \n",
    "                   use_multiprocessing = True, \n",
    "                   num_threads = no_threads)"
   ]
  },
  {
   "cell_type": "markdown",
   "metadata": {},
   "source": [
    "### Assessing the grid search using talos"
   ]
  },
  {
   "cell_type": "code",
   "execution_count": 17,
   "metadata": {},
   "outputs": [
    {
     "data": {
      "text/plain": [
       "112"
      ]
     },
     "execution_count": 17,
     "metadata": {},
     "output_type": "execute_result"
    }
   ],
   "source": [
    "# Import the results file to analyse the results with talos\n",
    "r = ta.Reporting(TUNING_PATH)\n",
    "\n",
    "# get the number of parameter combinations that were processed\n",
    "r.rounds()"
   ]
  },
  {
   "cell_type": "code",
   "execution_count": 18,
   "metadata": {
    "scrolled": false
   },
   "outputs": [
    {
     "data": {
      "text/html": [
       "<div>\n",
       "<style scoped>\n",
       "    .dataframe tbody tr th:only-of-type {\n",
       "        vertical-align: middle;\n",
       "    }\n",
       "\n",
       "    .dataframe tbody tr th {\n",
       "        vertical-align: top;\n",
       "    }\n",
       "\n",
       "    .dataframe thead th {\n",
       "        text-align: right;\n",
       "    }\n",
       "</style>\n",
       "<table border=\"1\" class=\"dataframe\">\n",
       "  <thead>\n",
       "    <tr style=\"text-align: right;\">\n",
       "      <th></th>\n",
       "      <th>epochs</th>\n",
       "      <th>batch_size</th>\n",
       "      <th>hidden_layers</th>\n",
       "      <th>hidden_neuron</th>\n",
       "      <th>lr</th>\n",
       "      <th>dropout</th>\n",
       "      <th>optimizer</th>\n",
       "      <th>losses</th>\n",
       "      <th>activation</th>\n",
       "      <th>last_activation</th>\n",
       "      <th>loss</th>\n",
       "      <th>acc</th>\n",
       "      <th>precision</th>\n",
       "      <th>recall</th>\n",
       "      <th>f1score</th>\n",
       "      <th>val_loss</th>\n",
       "      <th>val_acc</th>\n",
       "      <th>val_precision</th>\n",
       "      <th>val_recall</th>\n",
       "      <th>val_f1score</th>\n",
       "    </tr>\n",
       "  </thead>\n",
       "  <tbody>\n",
       "    <tr>\n",
       "      <th>0</th>\n",
       "      <td>1</td>\n",
       "      <td>128</td>\n",
       "      <td>1</td>\n",
       "      <td>32</td>\n",
       "      <td>0.0001</td>\n",
       "      <td>0.4</td>\n",
       "      <td>&lt;class 'keras.optimizers.Adam'&gt;</td>\n",
       "      <td>&lt;function categorical_crossentropy at 0x7f302a23a488&gt;</td>\n",
       "      <td>&lt;function elu at 0x7f302a1e5378&gt;</td>\n",
       "      <td>softmax</td>\n",
       "      <td>1.092487</td>\n",
       "      <td>0.378175</td>\n",
       "      <td>0.058824</td>\n",
       "      <td>0.000501</td>\n",
       "      <td>0.000994</td>\n",
       "      <td>1.078270</td>\n",
       "      <td>0.420516</td>\n",
       "      <td>0.000000</td>\n",
       "      <td>0.000000</td>\n",
       "      <td>0.000000</td>\n",
       "    </tr>\n",
       "    <tr>\n",
       "      <th>1</th>\n",
       "      <td>2</td>\n",
       "      <td>128</td>\n",
       "      <td>1</td>\n",
       "      <td>32</td>\n",
       "      <td>0.0001</td>\n",
       "      <td>0.4</td>\n",
       "      <td>&lt;class 'keras.optimizers.Adam'&gt;</td>\n",
       "      <td>&lt;function categorical_crossentropy at 0x7f302a23a488&gt;</td>\n",
       "      <td>&lt;function elu at 0x7f302a1e5378&gt;</td>\n",
       "      <td>softmax</td>\n",
       "      <td>1.066746</td>\n",
       "      <td>0.449574</td>\n",
       "      <td>0.423975</td>\n",
       "      <td>0.005598</td>\n",
       "      <td>0.011012</td>\n",
       "      <td>1.057595</td>\n",
       "      <td>0.476223</td>\n",
       "      <td>0.492754</td>\n",
       "      <td>0.005435</td>\n",
       "      <td>0.010734</td>\n",
       "    </tr>\n",
       "    <tr>\n",
       "      <th>2</th>\n",
       "      <td>3</td>\n",
       "      <td>128</td>\n",
       "      <td>1</td>\n",
       "      <td>32</td>\n",
       "      <td>0.0001</td>\n",
       "      <td>0.4</td>\n",
       "      <td>&lt;class 'keras.optimizers.Adam'&gt;</td>\n",
       "      <td>&lt;function categorical_crossentropy at 0x7f302a23a488&gt;</td>\n",
       "      <td>&lt;function elu at 0x7f302a1e5378&gt;</td>\n",
       "      <td>softmax</td>\n",
       "      <td>1.044508</td>\n",
       "      <td>0.491310</td>\n",
       "      <td>0.699168</td>\n",
       "      <td>0.021432</td>\n",
       "      <td>0.041288</td>\n",
       "      <td>1.038573</td>\n",
       "      <td>0.494905</td>\n",
       "      <td>0.749482</td>\n",
       "      <td>0.023438</td>\n",
       "      <td>0.045243</td>\n",
       "    </tr>\n",
       "    <tr>\n",
       "      <th>3</th>\n",
       "      <td>4</td>\n",
       "      <td>128</td>\n",
       "      <td>1</td>\n",
       "      <td>32</td>\n",
       "      <td>0.0001</td>\n",
       "      <td>0.4</td>\n",
       "      <td>&lt;class 'keras.optimizers.Adam'&gt;</td>\n",
       "      <td>&lt;function categorical_crossentropy at 0x7f302a23a488&gt;</td>\n",
       "      <td>&lt;function elu at 0x7f302a1e5378&gt;</td>\n",
       "      <td>softmax</td>\n",
       "      <td>1.023936</td>\n",
       "      <td>0.514998</td>\n",
       "      <td>0.760936</td>\n",
       "      <td>0.050468</td>\n",
       "      <td>0.093986</td>\n",
       "      <td>1.021726</td>\n",
       "      <td>0.508832</td>\n",
       "      <td>0.761572</td>\n",
       "      <td>0.057065</td>\n",
       "      <td>0.105623</td>\n",
       "    </tr>\n",
       "    <tr>\n",
       "      <th>4</th>\n",
       "      <td>5</td>\n",
       "      <td>128</td>\n",
       "      <td>1</td>\n",
       "      <td>32</td>\n",
       "      <td>0.0001</td>\n",
       "      <td>0.4</td>\n",
       "      <td>&lt;class 'keras.optimizers.Adam'&gt;</td>\n",
       "      <td>&lt;function categorical_crossentropy at 0x7f302a23a488&gt;</td>\n",
       "      <td>&lt;function elu at 0x7f302a1e5378&gt;</td>\n",
       "      <td>softmax</td>\n",
       "      <td>1.004630</td>\n",
       "      <td>0.526947</td>\n",
       "      <td>0.762402</td>\n",
       "      <td>0.093708</td>\n",
       "      <td>0.165880</td>\n",
       "      <td>1.006629</td>\n",
       "      <td>0.518682</td>\n",
       "      <td>0.753574</td>\n",
       "      <td>0.097486</td>\n",
       "      <td>0.171644</td>\n",
       "    </tr>\n",
       "  </tbody>\n",
       "</table>\n",
       "</div>"
      ],
      "text/plain": [
       "   epochs  batch_size  hidden_layers  hidden_neuron      lr  dropout  \\\n",
       "0       1         128              1             32  0.0001      0.4   \n",
       "1       2         128              1             32  0.0001      0.4   \n",
       "2       3         128              1             32  0.0001      0.4   \n",
       "3       4         128              1             32  0.0001      0.4   \n",
       "4       5         128              1             32  0.0001      0.4   \n",
       "\n",
       "                         optimizer  \\\n",
       "0  <class 'keras.optimizers.Adam'>   \n",
       "1  <class 'keras.optimizers.Adam'>   \n",
       "2  <class 'keras.optimizers.Adam'>   \n",
       "3  <class 'keras.optimizers.Adam'>   \n",
       "4  <class 'keras.optimizers.Adam'>   \n",
       "\n",
       "                                                  losses  \\\n",
       "0  <function categorical_crossentropy at 0x7f302a23a488>   \n",
       "1  <function categorical_crossentropy at 0x7f302a23a488>   \n",
       "2  <function categorical_crossentropy at 0x7f302a23a488>   \n",
       "3  <function categorical_crossentropy at 0x7f302a23a488>   \n",
       "4  <function categorical_crossentropy at 0x7f302a23a488>   \n",
       "\n",
       "                         activation last_activation      loss       acc  \\\n",
       "0  <function elu at 0x7f302a1e5378>         softmax  1.092487  0.378175   \n",
       "1  <function elu at 0x7f302a1e5378>         softmax  1.066746  0.449574   \n",
       "2  <function elu at 0x7f302a1e5378>         softmax  1.044508  0.491310   \n",
       "3  <function elu at 0x7f302a1e5378>         softmax  1.023936  0.514998   \n",
       "4  <function elu at 0x7f302a1e5378>         softmax  1.004630  0.526947   \n",
       "\n",
       "   precision    recall   f1score  val_loss   val_acc  val_precision  \\\n",
       "0   0.058824  0.000501  0.000994  1.078270  0.420516       0.000000   \n",
       "1   0.423975  0.005598  0.011012  1.057595  0.476223       0.492754   \n",
       "2   0.699168  0.021432  0.041288  1.038573  0.494905       0.749482   \n",
       "3   0.760936  0.050468  0.093986  1.021726  0.508832       0.761572   \n",
       "4   0.762402  0.093708  0.165880  1.006629  0.518682       0.753574   \n",
       "\n",
       "   val_recall  val_f1score  \n",
       "0    0.000000     0.000000  \n",
       "1    0.005435     0.010734  \n",
       "2    0.023438     0.045243  \n",
       "3    0.057065     0.105623  \n",
       "4    0.097486     0.171644  "
      ]
     },
     "execution_count": 18,
     "metadata": {},
     "output_type": "execute_result"
    }
   ],
   "source": [
    "# Display the dataframe containing the tuning results\n",
    "r.data.head()"
   ]
  },
  {
   "cell_type": "code",
   "execution_count": 19,
   "metadata": {},
   "outputs": [
    {
     "data": {
      "text/plain": [
       "Index(['epochs', 'batch_size', 'hidden_layers', 'hidden_neuron', 'lr',\n",
       "       'dropout', 'optimizer', 'losses', 'activation', 'last_activation',\n",
       "       'loss', 'acc', 'precision', 'recall', 'f1score', 'val_loss', 'val_acc',\n",
       "       'val_precision', 'val_recall', 'val_f1score'],\n",
       "      dtype='object')"
      ]
     },
     "execution_count": 19,
     "metadata": {},
     "output_type": "execute_result"
    }
   ],
   "source": [
    "r.data.columns"
   ]
  },
  {
   "cell_type": "code",
   "execution_count": 20,
   "metadata": {
    "scrolled": true
   },
   "outputs": [
    {
     "name": "stdout",
     "output_type": "stream",
     "text": [
      "- Highest validation accuracy: 0.5416666666666666\n",
      "- Highest validation f1-score: 0.4699933651996696\n"
     ]
    }
   ],
   "source": [
    "# get the highest result for any metric\n",
    "print(f\"- Highest validation accuracy: {r.high('val_acc')}\")\n",
    "print(f\"- Highest validation f1-score: {r.high('val_f1score')}\")"
   ]
  },
  {
   "cell_type": "code",
   "execution_count": 21,
   "metadata": {
    "scrolled": true
   },
   "outputs": [
    {
     "data": {
      "text/plain": [
       "101"
      ]
     },
     "execution_count": 21,
     "metadata": {},
     "output_type": "execute_result"
    }
   ],
   "source": [
    "# get the index of the combination with the best result\n",
    "r.rounds2high(metric = 'val_acc')"
   ]
  },
  {
   "cell_type": "code",
   "execution_count": 22,
   "metadata": {
    "scrolled": false
   },
   "outputs": [
    {
     "data": {
      "text/plain": [
       "epochs                                                                15\n",
       "batch_size                                                            32\n",
       "hidden_layers                                                          0\n",
       "hidden_neuron                                                         32\n",
       "lr                                                                0.0001\n",
       "dropout                                                              0.1\n",
       "optimizer                                <class 'keras.optimizers.Adam'>\n",
       "losses             <function categorical_crossentropy at 0x7f302a23a488>\n",
       "activation                             <function relu at 0x7f302a1e5598>\n",
       "last_activation                                                  softmax\n",
       "loss                                                            0.962126\n",
       "acc                                                             0.565875\n",
       "precision                                                       0.773354\n",
       "recall                                                          0.170042\n",
       "f1score                                                         0.274102\n",
       "val_loss                                                        0.980569\n",
       "val_acc                                                         0.541667\n",
       "val_precision                                                    0.72388\n",
       "val_recall                                                      0.153562\n",
       "val_f1score                                                      0.24833\n",
       "Name: 101, dtype: object"
      ]
     },
     "execution_count": 22,
     "metadata": {},
     "output_type": "execute_result"
    }
   ],
   "source": [
    "# get the best paramaters\n",
    "r.data.iloc[101,]"
   ]
  },
  {
   "cell_type": "markdown",
   "metadata": {},
   "source": [
    "### Retraining with the best parameters"
   ]
  },
  {
   "cell_type": "code",
   "execution_count": 23,
   "metadata": {
    "scrolled": false
   },
   "outputs": [
    {
     "name": "stdout",
     "output_type": "stream",
     "text": [
      "Epoch 1/15\n",
      " - 1s - loss: 1.0945 - acc: 0.3636 - val_loss: 1.0860 - val_acc: 0.4083\n",
      "Epoch 2/15\n",
      " - 1s - loss: 1.0765 - acc: 0.4478 - val_loss: 1.0709 - val_acc: 0.4567\n",
      "Epoch 3/15\n",
      " - 1s - loss: 1.0611 - acc: 0.4828 - val_loss: 1.0580 - val_acc: 0.4805\n",
      "Epoch 4/15\n",
      " - 1s - loss: 1.0475 - acc: 0.5037 - val_loss: 1.0466 - val_acc: 0.4882\n",
      "Epoch 5/15\n",
      " - 1s - loss: 1.0354 - acc: 0.5198 - val_loss: 1.0366 - val_acc: 0.4970\n",
      "Epoch 6/15\n",
      " - 2s - loss: 1.0245 - acc: 0.5288 - val_loss: 1.0277 - val_acc: 0.5010\n",
      "Epoch 7/15\n",
      " - 1s - loss: 1.0148 - acc: 0.5375 - val_loss: 1.0199 - val_acc: 0.5108\n",
      "Epoch 8/15\n",
      " - 1s - loss: 1.0060 - acc: 0.5438 - val_loss: 1.0129 - val_acc: 0.5161\n",
      "Epoch 9/15\n",
      " - 1s - loss: 0.9980 - acc: 0.5487 - val_loss: 1.0067 - val_acc: 0.5205\n",
      "Epoch 10/15\n",
      " - 1s - loss: 0.9908 - acc: 0.5531 - val_loss: 1.0012 - val_acc: 0.5215\n",
      "Epoch 11/15\n",
      " - 1s - loss: 0.9842 - acc: 0.5560 - val_loss: 0.9963 - val_acc: 0.5276\n",
      "Epoch 12/15\n",
      " - 1s - loss: 0.9781 - acc: 0.5586 - val_loss: 0.9918 - val_acc: 0.5296\n",
      "Epoch 13/15\n",
      " - 2s - loss: 0.9726 - acc: 0.5617 - val_loss: 0.9879 - val_acc: 0.5302\n",
      "Epoch 14/15\n",
      " - 1s - loss: 0.9675 - acc: 0.5638 - val_loss: 0.9843 - val_acc: 0.5265\n",
      "Epoch 15/15\n",
      " - 1s - loss: 0.9628 - acc: 0.5651 - val_loss: 0.9811 - val_acc: 0.5296\n"
     ]
    }
   ],
   "source": [
    "### Hyperparameters to use\n",
    "p = {'epochs': 15, # number of iterations on the full set \n",
    "    'batch_size': 32, \n",
    "    'hidden_layers': 0, # number of hidden layers \n",
    "    'hidden_neuron':32, # number of neurons in the input layer \n",
    "    'lr': 0.0001, # learning rate       \n",
    "    'dropout': 0.1, \n",
    "    'optimizer': Adam, \n",
    "    'losses': categorical_crossentropy, \n",
    "    'activation': relu, \n",
    "    'last_activation': 'softmax'}\n",
    "\n",
    "# Model fitting\n",
    "FNN_hist, FNN_model = md.train_FNN(data_train = tenses_train, \n",
    "                                  data_valid = tenses_valid, \n",
    "                                  cue_index = cue_to_index, \n",
    "                                  outcome_index = outcome_to_index, \n",
    "                                  use_multiprocessing = True, \n",
    "                                  num_threads = no_threads, \n",
    "                                  verbose = 2,\n",
    "                                  metrics = ['accuracy'],\n",
    "                                  params = p)"
   ]
  },
  {
   "cell_type": "code",
   "execution_count": 24,
   "metadata": {},
   "outputs": [],
   "source": [
    "# Save the model and training history\n",
    "MODEL_PATH = TOP + 'illustrative_examples/tenses/Results/FNN_tenses.h5'\n",
    "HISTORY_PATH = TOP + 'illustrative_examples/tenses/Results/FNN_history_dict_tenses'\n",
    "md.export_model(model = FNN_model, path = MODEL_PATH)  # creates a HDF5 file \n",
    "md.export_history(history_dict = FNN_hist, path = HISTORY_PATH)\n",
    "del FNN_model, FNN_hist  # delete the existing model and history dictionary"
   ]
  },
  {
   "cell_type": "code",
   "execution_count": 25,
   "metadata": {},
   "outputs": [],
   "source": [
    "# Load the model and training history\n",
    "MODEL_PATH = TOP + 'illustrative_examples/tenses/Results/FNN_tenses.h5'\n",
    "HISTORY_PATH = TOP + 'illustrative_examples/tenses/Results/FNN_history_dict_tenses'\n",
    "FNN_model = md.import_model(MODEL_PATH)\n",
    "FNN_history_dict = md.import_history(path = HISTORY_PATH)"
   ]
  },
  {
   "cell_type": "markdown",
   "metadata": {},
   "source": [
    "### Evaluate the final model"
   ]
  },
  {
   "cell_type": "code",
   "execution_count": 26,
   "metadata": {},
   "outputs": [
    {
     "name": "stdout",
     "output_type": "stream",
     "text": [
      "- Training loss in the last epoch: 0.9627700756390889\n",
      "- Training accuracy in the last epoch: 0.565125\n",
      "- Validation loss in the last epoch: 0.9811357689160173\n",
      "- Validation accuracy in the last epoch: 0.5295698924731183\n"
     ]
    }
   ],
   "source": [
    "# Performance on the last epoch of the training set\n",
    "print(f\"- Training loss in the last epoch: {FNN_history_dict['loss'][-1]}\")\n",
    "print(f\"- Training accuracy in the last epoch: {FNN_history_dict['acc'][-1]}\")\n",
    "\n",
    "# Performance on the last epoch of the validation set\n",
    "print(f\"- Validation loss in the last epoch: {FNN_history_dict['val_loss'][-1]}\")\n",
    "print(f\"- Validation accuracy in the last epoch: {FNN_history_dict['val_acc'][-1]}\")"
   ]
  },
  {
   "cell_type": "code",
   "execution_count": 27,
   "metadata": {},
   "outputs": [
    {
     "data": {
      "image/png": "[encoded data removed]",
      "text/plain": [
       "<Figure size 432x288 with 1 Axes>"
      ]
     },
     "metadata": {
      "needs_background": "light"
     },
     "output_type": "display_data"
    }
   ],
   "source": [
    "# Generate plots to assess the performance of the NN\n",
    "ev.plot_learning_curve(history_dict = FNN_history_dict, metric = 'acc', set = 'train_valid')"
   ]
  },
  {
   "cell_type": "code",
   "execution_count": 28,
   "metadata": {},
   "outputs": [
    {
     "name": "stdout",
     "output_type": "stream",
     "text": [
      "[0.51402503 0.17794494 0.30803007]\n",
      "{'FutureSimple': 0.51402503, 'PastSimple': 0.17794494, 'PresentSimple': 0.30803007}\n"
     ]
    }
   ],
   "source": [
    "# Test prediction for a single given cue sequence. Model expect input as array of shape (1, N_cues) \n",
    "cue1_seq = 'I_will_meet_you_tomorrow'\n",
    "outcome1_prob_pred = ev.predict_proba_oneevent_FNN(model = FNN_model, \n",
    "                                                   cue_seq = cue1_seq, \n",
    "                                                   num_cues = N_cues,  \n",
    "                                                   cue_index = cue_to_index)\n",
    "print(outcome1_prob_pred) # vector of predicted probabilities\n",
    "print({index_to_outcome[j+1]:outcome1_prob_pred[j] for j in range(len(outcome1_prob_pred))})"
   ]
  },
  {
   "cell_type": "code",
   "execution_count": 29,
   "metadata": {},
   "outputs": [],
   "source": [
    "# Evaluate the model on the test set\n",
    "prob_pred = ev.predict_proba_eventfile_FNN(model = FNN_model, \n",
    "                                           data_test = tenses_test, \n",
    "                                           num_cues = N_cues, \n",
    "                                           num_outcomes = N_outcomes, \n",
    "                                           cue_index = cue_to_index, \n",
    "                                           outcome_index = outcome_to_index)"
   ]
  },
  {
   "cell_type": "code",
   "execution_count": 30,
   "metadata": {},
   "outputs": [
    {
     "data": {
      "text/plain": [
       "0.5303333333333333"
      ]
     },
     "execution_count": 30,
     "metadata": {},
     "output_type": "execute_result"
    }
   ],
   "source": [
    "# True responses to compare the predictions to\n",
    "y_test = tenses_test.replace({'outcomes': outcome_to_index})['outcomes']\n",
    "y_pred = np.argmax(prob_pred, axis=1)+1\n",
    "\n",
    "# Overall test accuracy\n",
    "test_accuracy = accuracy_score(y_test, y_pred)\n",
    "test_accuracy"
   ]
  },
  {
   "cell_type": "code",
   "execution_count": 31,
   "metadata": {},
   "outputs": [
    {
     "name": "stdout",
     "output_type": "stream",
     "text": [
      "[0.56987116 0.59021407 0.43267327]\n"
     ]
    }
   ],
   "source": [
    "# Test accuracy per class\n",
    "cmat = confusion_matrix(y_test, y_pred) # Confusion matrix\n",
    "print(cmat.diagonal()/cmat.sum(axis=1)) "
   ]
  },
  {
   "cell_type": "markdown",
   "metadata": {},
   "source": [
    "## IV. Long short-term memory model <a ID=\"IV\"></a> "
   ]
  },
  {
   "cell_type": "markdown",
   "metadata": {},
   "source": [
    "### Build a simple LSTM model"
   ]
  },
  {
   "cell_type": "markdown",
   "metadata": {},
   "source": [
    "Build a simple LSTM that has 64 hidden units "
   ]
  },
  {
   "cell_type": "code",
   "execution_count": 32,
   "metadata": {},
   "outputs": [
    {
     "name": "stdout",
     "output_type": "stream",
     "text": [
      "Epoch 1/10\n",
      " - 58s - loss: 1.0622 - acc: 0.4174 - val_loss: 1.0068 - val_acc: 0.4686\n",
      "Epoch 2/10\n",
      " - 55s - loss: 0.9978 - acc: 0.4849 - val_loss: 0.9886 - val_acc: 0.4893\n",
      "Epoch 3/10\n",
      " - 55s - loss: 0.9780 - acc: 0.5005 - val_loss: 0.9807 - val_acc: 0.4963\n",
      "Epoch 4/10\n",
      " - 58s - loss: 0.9671 - acc: 0.5123 - val_loss: 0.9790 - val_acc: 0.4993\n",
      "Epoch 5/10\n",
      " - 54s - loss: 0.9594 - acc: 0.5208 - val_loss: 0.9767 - val_acc: 0.5060\n",
      "Epoch 6/10\n",
      " - 55s - loss: 0.9536 - acc: 0.5305 - val_loss: 0.9760 - val_acc: 0.4983\n",
      "Epoch 7/10\n",
      " - 56s - loss: 0.9490 - acc: 0.5345 - val_loss: 0.9768 - val_acc: 0.5097\n",
      "Epoch 8/10\n",
      " - 74s - loss: 0.9465 - acc: 0.5390 - val_loss: 0.9740 - val_acc: 0.5110\n",
      "Epoch 9/10\n",
      " - 73s - loss: 0.9425 - acc: 0.5395 - val_loss: 0.9740 - val_acc: 0.5114\n",
      "Epoch 10/10\n",
      " - 73s - loss: 0.9383 - acc: 0.5472 - val_loss: 0.9794 - val_acc: 0.5134\n"
     ]
    }
   ],
   "source": [
    "### Build a simple LSTM that has 64 hidden units \n",
    "p = {'epochs': 10, # number of iterations on the full set \n",
    "    'batch_size': 16, \n",
    "    'hidden_neuron': 64, # number of neurons in the input layer \n",
    "    'lr': 0.0001, # learning rate       \n",
    "    'dropout': 0.2, \n",
    "    'optimizer': RMSprop, \n",
    "    'losses': categorical_crossentropy, \n",
    "    'last_activation': 'softmax'}\n",
    "\n",
    "# Model fitting\n",
    "LSTM_out, LSTM_model = md.train_LSTM(data_train = tenses_train, \n",
    "                                     data_valid = tenses_valid, \n",
    "                                     cue_index = cue_to_index, \n",
    "                                     outcome_index = outcome_to_index, \n",
    "                                     max_len = max_len,\n",
    "                                     use_multiprocessing = True, \n",
    "                                     num_threads = no_threads, \n",
    "                                     verbose = 2,\n",
    "                                     metrics = ['accuracy'],\n",
    "                                     params = p)"
   ]
  },
  {
   "cell_type": "code",
   "execution_count": 33,
   "metadata": {},
   "outputs": [
    {
     "name": "stdout",
     "output_type": "stream",
     "text": [
      "_________________________________________________________________\n",
      "Layer (type)                 Output Shape              Param #   \n",
      "=================================================================\n",
      "lstm_1 (LSTM)                (None, 64)                528640    \n",
      "_________________________________________________________________\n",
      "dropout_1 (Dropout)          (None, 64)                0         \n",
      "_________________________________________________________________\n",
      "dense_2 (Dense)              (None, 3)                 195       \n",
      "=================================================================\n",
      "Total params: 528,835\n",
      "Trainable params: 528,835\n",
      "Non-trainable params: 0\n",
      "_________________________________________________________________\n"
     ]
    }
   ],
   "source": [
    "LSTM_model.summary()"
   ]
  },
  {
   "cell_type": "markdown",
   "metadata": {},
   "source": [
    "### Tune the parameters to find a good model"
   ]
  },
  {
   "cell_type": "code",
   "execution_count": 34,
   "metadata": {
    "scrolled": false
   },
   "outputs": [
    {
     "name": "stdout",
     "output_type": "stream",
     "text": [
      "Iteration 1 out of 4: {'epochs': 20, 'batch_size': 128, 'hidden_neuron': 16, 'lr': 0.002, 'dropout': 0.1, 'optimizer': <class 'keras.optimizers.SGD'>, 'losses': <function categorical_crossentropy at 0x7f302a23a488>, 'last_activation': 'softmax'}\n",
      "\n",
      "Iteration 2 out of 4: {'epochs': 5, 'batch_size': 128, 'hidden_neuron': 16, 'lr': 0.01, 'dropout': 0.1, 'optimizer': <class 'keras.optimizers.Adam'>, 'losses': <function categorical_crossentropy at 0x7f302a23a488>, 'last_activation': 'softmax'}\n",
      "\n",
      "Iteration 3 out of 4: {'epochs': 20, 'batch_size': 16, 'hidden_neuron': 128, 'lr': 0.0002, 'dropout': 0, 'optimizer': <class 'keras.optimizers.Nadam'>, 'losses': <function categorical_crossentropy at 0x7f302a23a488>, 'last_activation': 'softmax'}\n",
      "\n",
      "Iteration 4 out of 4: {'epochs': 20, 'batch_size': 16, 'hidden_neuron': 128, 'lr': 0.001, 'dropout': 0.4, 'optimizer': <class 'keras.optimizers.Adam'>, 'losses': <function categorical_crossentropy at 0x7f302a23a488>, 'last_activation': 'softmax'}\n",
      "\n"
     ]
    }
   ],
   "source": [
    "### Parameter tuning using grid search \n",
    "p = {'epochs': [5, 10, 20, 30], # number of iterations on the full set (x5)\n",
    "     'batch_size': [16, 32, 64, 128, 256], # (x5)\n",
    "     'hidden_neuron':[16, 32, 64, 128], # number of neurons in the input layer (x4)\n",
    "     'lr': [0.0001, 0.0002, 0.0005, 0.001, 0.002, 0.005, 0.01], # learning rate (x7)       \n",
    "     'dropout': [0, 0.1, 0.2, 0.3, 0.4], # (x5)\n",
    "     'optimizer': [Adam, Nadam, RMSprop, SGD], # (x4)\n",
    "     'losses': [categorical_crossentropy], # (x1)\n",
    "     'last_activation': ['softmax'] # (x1)\n",
    "     }\n",
    "# => Total number of combinations: 4*5*4*7*5*4*1*1 = 11200\n",
    "\n",
    "### Grid search \n",
    "TUNING_PATH = TOP + 'illustrative_examples/tenses/Results/grid_search_LSTM_tenses.csv'\n",
    "md.grid_search_LSTM(data_train = tenses_train, \n",
    "                    data_valid = tenses_valid, \n",
    "                    cue_index = cue_to_index, \n",
    "                    outcome_index = outcome_to_index,\n",
    "                    max_len = max_len,\n",
    "                    params = p,\n",
    "                    prop_grid = 4e-4, \n",
    "                    tuning_output_file = TUNING_PATH, \n",
    "                    use_multiprocessing = True, \n",
    "                    num_threads = no_threads)"
   ]
  },
  {
   "cell_type": "markdown",
   "metadata": {},
   "source": [
    "### Assessing the grid search using talos"
   ]
  },
  {
   "cell_type": "code",
   "execution_count": 35,
   "metadata": {},
   "outputs": [
    {
     "name": "stdout",
     "output_type": "stream",
     "text": [
      "- Highest validation accuracy: 0.5320855614973262\n",
      "- Highest validation f1-score: 0.8539664087295532\n"
     ]
    }
   ],
   "source": [
    "# Import the results file to analyse the results with talos\n",
    "r = ta.Reporting(TUNING_PATH)\n",
    "\n",
    "# get the highest result for any metric\n",
    "print(f\"- Highest validation accuracy: {r.high('val_acc')}\")\n",
    "print(f\"- Highest validation f1-score: {r.high('f1score')}\")"
   ]
  },
  {
   "cell_type": "code",
   "execution_count": 36,
   "metadata": {
    "scrolled": true
   },
   "outputs": [
    {
     "data": {
      "text/plain": [
       "34"
      ]
     },
     "execution_count": 36,
     "metadata": {},
     "output_type": "execute_result"
    }
   ],
   "source": [
    "# get the index of the combination with the best result\n",
    "r.rounds2high(metric = 'val_acc')"
   ]
  },
  {
   "cell_type": "code",
   "execution_count": 37,
   "metadata": {
    "scrolled": true
   },
   "outputs": [
    {
     "data": {
      "text/plain": [
       "epochs                                                                10\n",
       "batch_size                                                            16\n",
       "hidden_neuron                                                        128\n",
       "lr                                                                0.0002\n",
       "dropout                                                                0\n",
       "optimizer                               <class 'keras.optimizers.Nadam'>\n",
       "losses             <function categorical_crossentropy at 0x7f302a23a488>\n",
       "last_activation                                                  softmax\n",
       "loss                                                            0.831479\n",
       "acc                                                             0.617542\n",
       "precision                                                       0.687606\n",
       "recall                                                          0.488667\n",
       "f1score                                                         0.567265\n",
       "val_loss                                                        0.999182\n",
       "val_acc                                                         0.532086\n",
       "val_precision                                                   0.574612\n",
       "val_recall                                                       0.39004\n",
       "val_f1score                                                     0.461462\n",
       "Name: 34, dtype: object"
      ]
     },
     "execution_count": 37,
     "metadata": {},
     "output_type": "execute_result"
    }
   ],
   "source": [
    "# get the best paramaters\n",
    "r.data.iloc[34,]"
   ]
  },
  {
   "cell_type": "markdown",
   "metadata": {},
   "source": [
    "### Retraining with the best parameters"
   ]
  },
  {
   "cell_type": "code",
   "execution_count": null,
   "metadata": {
    "scrolled": true
   },
   "outputs": [],
   "source": [
    "### Hyperparameters to use\n",
    "p = {'epochs': 10, # number of iterations on the full set \n",
    "    'batch_size': 16, \n",
    "    'hidden_neuron': 128, # number of neurons in the input layer \n",
    "    'lr': 0.0002, # learning rate       \n",
    "    'dropout': 0, \n",
    "    'optimizer': Nadam, \n",
    "    'losses': categorical_crossentropy, \n",
    "    'last_activation': 'softmax'}\n",
    "\n",
    "# Model fitting\n",
    "LSTM_hist, LSTM_model = md.train_LSTM(data_train = tenses_train, \n",
    "                                     data_valid = tenses_valid, \n",
    "                                     cue_index = cue_to_index, \n",
    "                                     outcome_index = outcome_to_index, \n",
    "                                     max_len = max_len,\n",
    "                                     use_multiprocessing = True, \n",
    "                                     num_threads = no_threads, \n",
    "                                     verbose = 2,\n",
    "                                     metrics = ['accuracy'],\n",
    "                                     params = p)"
   ]
  },
  {
   "cell_type": "code",
   "execution_count": 40,
   "metadata": {},
   "outputs": [],
   "source": [
    "# Save the model and training history\n",
    "MODEL_PATH = TOP + 'illustrative_examples/tenses/Results/LSTM_tenses.h5'\n",
    "HISTORY_PATH = TOP + 'illustrative_examples/tenses/Results/LSTM_history_dict_tenses'\n",
    "md.export_model(model = LSTM_model, path = MODEL_PATH)  # creates a HDF5 file \n",
    "md.export_history(history_dict = LSTM_hist, path = HISTORY_PATH)\n",
    "del LSTM_model, LSTM_hist  # deletes the existing model and history dictionary"
   ]
  },
  {
   "cell_type": "code",
   "execution_count": null,
   "metadata": {},
   "outputs": [],
   "source": [
    "# Load the model and training history\n",
    "MODEL_PATH = TOP + 'illustrative_examples/tenses/Results/LSTM_tenses.h5'\n",
    "HISTORY_PATH = TOP + 'illustrative_examples/tenses/Results/LSTM_history_dict_tenses'\n",
    "LSTM_model = md.import_model(MODEL_PATH)\n",
    "LSTM_history_dict = md.import_history(path = HISTORY_PATH)"
   ]
  },
  {
   "cell_type": "markdown",
   "metadata": {},
   "source": [
    "### Evaluate the final model"
   ]
  },
  {
   "cell_type": "code",
   "execution_count": 42,
   "metadata": {},
   "outputs": [
    {
     "data": {
      "image/png": "[encoded data removed]",
      "text/plain": [
       "<Figure size 432x288 with 1 Axes>"
      ]
     },
     "metadata": {
      "needs_background": "light"
     },
     "output_type": "display_data"
    }
   ],
   "source": [
    "# Generate plots to assess the performance of the simple LSTM\n",
    "ev.plot_learning_curve(history_dict = LSTM_history_dict, metric = 'acc', set = 'train_valid')"
   ]
  },
  {
   "cell_type": "code",
   "execution_count": 43,
   "metadata": {},
   "outputs": [
    {
     "name": "stdout",
     "output_type": "stream",
     "text": [
      "[0.87768716 0.01196589 0.11034696]\n",
      "{'FutureSimple': 0.87768716, 'PastSimple': 0.011965892, 'PresentSimple': 0.11034696}\n"
     ]
    }
   ],
   "source": [
    "# Test prediction for a single given cue sequence. Model expect inout as array of shape (1, N_cues) \n",
    "cue1_seq = 'I_will_meet_you_tomorrow'\n",
    "outcome1_prob_pred = ev.predict_proba_oneevent_LSTM(model = LSTM_model, \n",
    "                                                   cue_seq = cue1_seq, \n",
    "                                                   num_cues = N_cues,  \n",
    "                                                   cue_index = cue_to_index,\n",
    "                                                   max_len = max_len)\n",
    "print(outcome1_prob_pred) # vector of predicted probabilities\n",
    "print({index_to_outcome[j+1]:outcome1_prob_pred[j] for j in range(len(outcome1_prob_pred))})"
   ]
  },
  {
   "cell_type": "code",
   "execution_count": 44,
   "metadata": {},
   "outputs": [],
   "source": [
    "# Evaluate the model on the test set\n",
    "prob_pred = ev.predict_proba_eventfile_LSTM(model = LSTM_model, \n",
    "                                           data_test = tenses_test, \n",
    "                                           num_cues = N_cues, \n",
    "                                           num_outcomes = N_outcomes, \n",
    "                                           cue_index = cue_to_index, \n",
    "                                           outcome_index = outcome_to_index, \n",
    "                                           max_len = max_len,  \n",
    "                                           use_multiprocessing = True, \n",
    "                                           num_threads = no_threads)"
   ]
  },
  {
   "cell_type": "code",
   "execution_count": 45,
   "metadata": {},
   "outputs": [
    {
     "data": {
      "text/plain": [
       "0.5236666666666666"
      ]
     },
     "execution_count": 45,
     "metadata": {},
     "output_type": "execute_result"
    }
   ],
   "source": [
    "# True responses to compare the predictions to\n",
    "y_test = tenses_test.replace({'outcomes': outcome_to_index})['outcomes']\n",
    "y_pred = np.argmax(prob_pred, axis=1)+1\n",
    "\n",
    "# Overall test accuracy\n",
    "test_accuracy = accuracy_score(y_test, y_pred)\n",
    "test_accuracy"
   ]
  },
  {
   "cell_type": "code",
   "execution_count": 46,
   "metadata": {},
   "outputs": [
    {
     "name": "stdout",
     "output_type": "stream",
     "text": [
      "[0.53716551 0.60754332 0.42871287]\n"
     ]
    }
   ],
   "source": [
    "# Test accuracy per class\n",
    "cmat = confusion_matrix(y_test, y_pred) # Confusion matrix\n",
    "print(cmat.diagonal()/cmat.sum(axis=1)) "
   ]
  },
  {
   "cell_type": "markdown",
   "metadata": {},
   "source": [
    "## V. Naive discriminative learning model <a ID=\"V\"></a> "
   ]
  },
  {
   "cell_type": "markdown",
   "metadata": {},
   "source": [
    "### Build a simple NDL model"
   ]
  },
  {
   "cell_type": "code",
   "execution_count": 47,
   "metadata": {
    "scrolled": false
   },
   "outputs": [
    {
     "name": "stdout",
     "output_type": "stream",
     "text": [
      "Epoch 1/10\n",
      " - 59s - acc: 0.5170 - val_acc: 0.5047\n",
      "Epoch 2/10\n",
      " - 58s - acc: 0.5375 - val_acc: 0.5131\n",
      "Epoch 3/10\n",
      " - 58s - acc: 0.5480 - val_acc: 0.5255\n",
      "Epoch 4/10\n",
      " - 57s - acc: 0.5571 - val_acc: 0.5315\n",
      "Epoch 5/10\n",
      " - 56s - acc: 0.5613 - val_acc: 0.5332\n",
      "Epoch 6/10\n",
      " - 57s - acc: 0.5667 - val_acc: 0.5322\n",
      "Epoch 7/10\n",
      " - 57s - acc: 0.5715 - val_acc: 0.5301\n",
      "Epoch 8/10\n",
      " - 59s - acc: 0.5751 - val_acc: 0.5311\n",
      "Epoch 9/10\n",
      " - 60s - acc: 0.5771 - val_acc: 0.5311\n",
      "Epoch 10/10\n",
      " - 59s - acc: 0.5794 - val_acc: 0.5338\n"
     ]
    }
   ],
   "source": [
    "### Build a simple NDL\n",
    "p = {'epochs': 10, # number of iterations on the full set \n",
    "    'lr': 0.001}\n",
    "\n",
    "# Model fitting\n",
    "NDL_history_dict, NDL_model = md.train_NDL(data_train = tenses_train, \n",
    "                                           data_valid = tenses_valid,  \n",
    "                                           cue_index = cue_to_index, \n",
    "                                           outcome_index = outcome_to_index, \n",
    "                                           temp_dir = TEMP_DIR,\n",
    "                                           num_threads = no_threads, \n",
    "                                           verbose = 1,\n",
    "                                           params = p)"
   ]
  },
  {
   "cell_type": "code",
   "execution_count": 48,
   "metadata": {
    "scrolled": true
   },
   "outputs": [
    {
     "data": {
      "image/png": "[encoded data removed]",
      "text/plain": [
       "<Figure size 432x288 with 1 Axes>"
      ]
     },
     "metadata": {
      "needs_background": "light"
     },
     "output_type": "display_data"
    }
   ],
   "source": [
    "# Generate learning curve\n",
    "ev.plot_learning_curve(history_dict = NDL_history_dict, metric = 'acc', set = 'train_valid')"
   ]
  },
  {
   "cell_type": "markdown",
   "metadata": {},
   "source": [
    "### Tune the parameters to find a good model"
   ]
  },
  {
   "cell_type": "code",
   "execution_count": 51,
   "metadata": {},
   "outputs": [
    {
     "name": "stdout",
     "output_type": "stream",
     "text": [
      "Iteration 1 out of 10: {'lr': 0.0001, 'epochs': 10}\n",
      "\n",
      "Iteration 2 out of 10: {'lr': 0.05, 'epochs': 8}\n",
      "\n",
      "Iteration 3 out of 10: {'lr': 0.0001, 'epochs': 8}\n",
      "\n",
      "This parameter combination has already been processed: {'lr': 0.0001, 'epochs': 8}\n",
      "\n",
      "Iteration 4 out of 10: {'lr': 0.05, 'epochs': 4}\n",
      "\n",
      "This parameter combination has already been processed: {'lr': 0.05, 'epochs': 4}\n",
      "\n",
      "Iteration 5 out of 10: {'lr': 0.005, 'epochs': 10}\n",
      "\n",
      "Iteration 6 out of 10: {'lr': 0.005, 'epochs': 6}\n",
      "\n",
      "This parameter combination has already been processed: {'lr': 0.005, 'epochs': 6}\n",
      "\n",
      "Iteration 7 out of 10: {'lr': 0.0001, 'epochs': 6}\n",
      "\n",
      "This parameter combination has already been processed: {'lr': 0.0001, 'epochs': 6}\n",
      "\n",
      "Iteration 8 out of 10: {'lr': 0.0001, 'epochs': 4}\n",
      "\n",
      "This parameter combination has already been processed: {'lr': 0.0001, 'epochs': 4}\n",
      "\n",
      "Iteration 9 out of 10: {'lr': 0.001, 'epochs': 4}\n",
      "\n",
      "Iteration 10 out of 10: {'lr': 0.01, 'epochs': 6}\n",
      "\n"
     ]
    }
   ],
   "source": [
    "### Parameter tuning using grid search \n",
    "p = {'lr': [0.00001, 0.00005, 0.0001, 0.0005, 0.001, 0.005, 0.01, 0.05], # learning rate (x8)\n",
    "     'epochs': [4, 6, 8, 10], # number of iterations on the full set (x6)\n",
    "     }\n",
    "# => Total number of combinations: 8*4 = 32\n",
    "\n",
    "### Grid search \n",
    "TUNING_PATH = TOP + 'illustrative_examples/tenses/Results/grid_search_NDL_tenses.csv'\n",
    "md.grid_search_NDL(data_train = tenses_train, \n",
    "                   data_valid = tenses_valid, \n",
    "                   cue_index = cue_to_index, \n",
    "                   outcome_index = outcome_to_index, \n",
    "                   temp_dir = TEMP_DIR,\n",
    "                   params = p, \n",
    "                   prop_grid = 0.3, \n",
    "                   tuning_output_file = TUNING_PATH, \n",
    "                   num_threads = no_threads)"
   ]
  },
  {
   "cell_type": "markdown",
   "metadata": {},
   "source": [
    "### Assessing the grid search using talos"
   ]
  },
  {
   "cell_type": "code",
   "execution_count": 52,
   "metadata": {},
   "outputs": [
    {
     "name": "stdout",
     "output_type": "stream",
     "text": [
      "- Highest validation accuracy: 0.5314802411252512\n",
      "- Highest validation f1-score: 0.6002221268311221\n"
     ]
    }
   ],
   "source": [
    "# Import the results file to analyse the results with talos\n",
    "r = ta.Reporting(TUNING_PATH)\n",
    "\n",
    "# get the highest result for any metric\n",
    "print(f\"- Highest validation accuracy: {r.high('val_acc')}\")\n",
    "print(f\"- Highest validation f1-score: {r.high('f1score')}\")"
   ]
  },
  {
   "cell_type": "code",
   "execution_count": 53,
   "metadata": {
    "scrolled": true
   },
   "outputs": [
    {
     "data": {
      "text/plain": [
       "31"
      ]
     },
     "execution_count": 53,
     "metadata": {},
     "output_type": "execute_result"
    }
   ],
   "source": [
    "# get the index of the combination with the best result\n",
    "r.rounds2high(metric = 'val_acc')"
   ]
  },
  {
   "cell_type": "code",
   "execution_count": 54,
   "metadata": {
    "scrolled": true
   },
   "outputs": [
    {
     "data": {
      "text/plain": [
       "lr               0.001000\n",
       "epochs           4.000000\n",
       "acc              0.557128\n",
       "precision        0.555637\n",
       "recall           0.556927\n",
       "f1score          0.554380\n",
       "val_acc          0.531480\n",
       "val_precision    0.529459\n",
       "val_recall       0.532323\n",
       "val_f1score      0.528716\n",
       "Name: 31, dtype: float64"
      ]
     },
     "execution_count": 54,
     "metadata": {},
     "output_type": "execute_result"
    }
   ],
   "source": [
    "# get the best paramaters\n",
    "r.data.iloc[31,]"
   ]
  },
  {
   "cell_type": "markdown",
   "metadata": {},
   "source": [
    "### Retraining with the best parameters"
   ]
  },
  {
   "cell_type": "code",
   "execution_count": 55,
   "metadata": {
    "scrolled": false
   },
   "outputs": [
    {
     "name": "stdout",
     "output_type": "stream",
     "text": [
      "Epoch 1/4\n",
      " - 61s - acc: 0.5170 - val_acc: 0.5047\n",
      "Epoch 2/4\n",
      " - 61s - acc: 0.5375 - val_acc: 0.5131\n",
      "Epoch 3/4\n",
      " - 60s - acc: 0.5480 - val_acc: 0.5255\n",
      "Epoch 4/4\n",
      " - 60s - acc: 0.5571 - val_acc: 0.5315\n"
     ]
    }
   ],
   "source": [
    "### Hyperparameters to use\n",
    "p = {'epochs': 4, # number of iterations on the full set \n",
    "    'lr': 0.001}\n",
    "\n",
    "# Model fitting\n",
    "NDL_hist, NDL_model = md.train_NDL(data_train = tenses_train, \n",
    "                                   data_valid = tenses_valid,  \n",
    "                                   cue_index = cue_to_index, \n",
    "                                   outcome_index = outcome_to_index, \n",
    "                                   temp_dir = TEMP_DIR,\n",
    "                                   num_threads = no_threads, \n",
    "                                   verbose = 1,\n",
    "                                   params = p)"
   ]
  },
  {
   "cell_type": "code",
   "execution_count": 58,
   "metadata": {},
   "outputs": [],
   "source": [
    "# Save the weights and training history\n",
    "MODEL_PATH = TOP + 'illustrative_examples/tenses/Results/NDL_tenses.h5'\n",
    "HISTORY_PATH = TOP + 'illustrative_examples/tenses/Results/NDL_history_dict_tenses'\n",
    "md.export_model(model = NDL_model, path = MODEL_PATH)  # create a HDF5 file \n",
    "md.export_history(history_dict = NDL_hist, path = HISTORY_PATH)\n",
    "del NDL_model, NDL_history_dict  # delete the existing model and history dictionary"
   ]
  },
  {
   "cell_type": "code",
   "execution_count": 59,
   "metadata": {},
   "outputs": [],
   "source": [
    "# Load the model and training history\n",
    "MODEL_PATH = TOP + 'illustrative_examples/tenses/Results/NDL_tenses.h5'\n",
    "HISTORY_PATH = TOP + 'illustrative_examples/tenses/Results/NDL_history_dict_tenses'\n",
    "NDL_model = md.import_model(MODEL_PATH)\n",
    "NDL_history_dict = md.import_history(path = HISTORY_PATH)"
   ]
  },
  {
   "cell_type": "markdown",
   "metadata": {},
   "source": [
    "### Evaluate the final model"
   ]
  },
  {
   "cell_type": "code",
   "execution_count": 60,
   "metadata": {
    "scrolled": true
   },
   "outputs": [
    {
     "name": "stdout",
     "output_type": "stream",
     "text": [
      "[0.41697187 0.25885755 0.32417057]\n",
      "{'FutureSimple': 0.416971873230594, 'PastSimple': 0.2588575517857205, 'PresentSimple': 0.32417057498368557}\n"
     ]
    }
   ],
   "source": [
    "# Test prediction for a single given cue sequence. Model expect input as array of shape (1, N_cues) \n",
    "cue1_seq = 'I_will_meet_you_tomorrow'\n",
    "outcome1_prob_pred = ev.predict_proba_oneevent_NDL(model = NDL_model, \n",
    "                                                   cue_seq = cue1_seq)\n",
    "print(outcome1_prob_pred) # vector of predicted probabilities\n",
    "print({index_to_outcome[j+1]:outcome1_prob_pred[j] for j in range(len(outcome1_prob_pred))})"
   ]
  },
  {
   "cell_type": "markdown",
   "metadata": {},
   "source": [
    "The probability of future seems low, not because the model is unconfident, but because the softmax transformation used is 'soft' in terms of converting activations to probabilities. Decreasing the temperature parameter can emphasise more the predictions bewteen the three tense: "
   ]
  },
  {
   "cell_type": "code",
   "execution_count": 61,
   "metadata": {
    "scrolled": true
   },
   "outputs": [
    {
     "name": "stdout",
     "output_type": "stream",
     "text": [
      "[0.91813516 0.00780634 0.0740585 ]\n",
      "{'FutureSimple': 0.9181351587834573, 'PastSimple': 0.007806338970140522, 'PresentSimple': 0.07405850224640231}\n"
     ]
    }
   ],
   "source": [
    "# Test prediction for a single given cue sequence. Model expect input as array of shape (1, N_cues) \n",
    "cue1_seq = 'I_will_meet_you_tomorrow'\n",
    "outcome1_prob_pred = ev.predict_proba_oneevent_NDL(model = NDL_model, \n",
    "                                                   cue_seq = cue1_seq,\n",
    "                                                   T = 0.1)\n",
    "print(outcome1_prob_pred) # vector of predicted probabilities\n",
    "print({index_to_outcome[j+1]:outcome1_prob_pred[j] for j in range(len(outcome1_prob_pred))})"
   ]
  },
  {
   "cell_type": "code",
   "execution_count": 62,
   "metadata": {},
   "outputs": [],
   "source": [
    "# Evaluate the model on the test set\n",
    "prob_pred = ev.predict_proba_eventfile_NDL(model = NDL_model, \n",
    "                                           data_test = tenses_test, \n",
    "                                           temp_dir = TEMP_DIR,\n",
    "                                           num_threads = no_threads)"
   ]
  },
  {
   "cell_type": "code",
   "execution_count": 63,
   "metadata": {},
   "outputs": [
    {
     "data": {
      "text/plain": [
       "0.5296666666666666"
      ]
     },
     "execution_count": 63,
     "metadata": {},
     "output_type": "execute_result"
    }
   ],
   "source": [
    "# True responses to compare the predictions to\n",
    "y_test = tenses_test.replace({'outcomes': outcome_to_index})['outcomes']\n",
    "y_pred = np.argmax(prob_pred, axis=1)+1\n",
    "\n",
    "# Overall test accuracy\n",
    "test_accuracy = accuracy_score(y_test, y_pred)\n",
    "test_accuracy"
   ]
  },
  {
   "cell_type": "code",
   "execution_count": 64,
   "metadata": {},
   "outputs": [
    {
     "name": "stdout",
     "output_type": "stream",
     "text": [
      "[0.58572844 0.55351682 0.45049505]\n"
     ]
    }
   ],
   "source": [
    "# Test accuracy per class\n",
    "cmat = confusion_matrix(y_test, y_pred) # Confusion matrix\n",
    "print(cmat.diagonal()/cmat.sum(axis=1)) "
   ]
  }
 ],
 "metadata": {
  "kernelspec": {
   "display_name": "Python 3",
   "language": "python",
   "name": "python3"
  },
  "language_info": {
   "codemirror_mode": {
    "name": "ipython",
    "version": 3
   },
   "file_extension": ".py",
   "mimetype": "text/x-python",
   "name": "python",
   "nbconvert_exporter": "python",
   "pygments_lexer": "ipython3",
   "version": "3.7.2"
  }
 },
 "nbformat": 4,
 "nbformat_minor": 2
}
