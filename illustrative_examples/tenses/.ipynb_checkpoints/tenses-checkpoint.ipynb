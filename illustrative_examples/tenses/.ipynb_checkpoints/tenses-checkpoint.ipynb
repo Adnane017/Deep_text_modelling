{
 "cells": [
  {
   "cell_type": "markdown",
   "metadata": {},
   "source": [
    "# Predicting English tense from context"
   ]
  },
  {
   "cell_type": "markdown",
   "metadata": {},
   "source": [
    "## Table of Contents"
   ]
  },
  {
   "cell_type": "markdown",
   "metadata": {},
   "source": [
    "##### I. <a href=#I>Preliminary steps</a>\n",
    "##### II. <a href=#II>Prepare the data</a>\n",
    "##### III. <a href=#III>Feed-forward neural network model</a>\n",
    "##### IV. <a href=#IV>Long short-term memory model</a>\n",
    "##### V. <a href=#V>Naive discriminative learning model</a>"
   ]
  },
  {
   "cell_type": "markdown",
   "metadata": {},
   "source": [
    "## I. Preliminary steps <a ID=\"I\"></a> "
   ]
  },
  {
   "cell_type": "markdown",
   "metadata": {},
   "source": [
    "### Import necessary libraries and set up the working directory"
   ]
  },
  {
   "cell_type": "code",
   "execution_count": 2,
   "metadata": {
    "scrolled": true
   },
   "outputs": [],
   "source": [
    "### Import necessary packages\n",
    "import os\n",
    "import pandas as pd\n",
    "import numpy as np\n",
    "from keras.models import Sequential\n",
    "from keras.layers import Dropout, Dense\n",
    "from keras.optimizers import Adam, Nadam, RMSprop, SGD\n",
    "from keras.activations import relu, elu\n",
    "from keras.losses import categorical_crossentropy\n",
    "from keras import metrics\n",
    "from keras.models import load_model\n",
    "from sklearn.metrics import accuracy_score\n",
    "from sklearn.metrics import confusion_matrix\n",
    "import warnings\n",
    "\n",
    "### Set working directory\n",
    "TOP = '/media/adnane/HDD drive/Adnane/PostDoc_ooominds/Programming/Deep_text_modelling_package_repo/'\n",
    "#TOP = '/media/Deep_text_modelling_package_repo/'\n",
    "WD = TOP + 'package'\n",
    "os.chdir(WD)\n",
    "\n",
    "### Import local packages\n",
    "import deep_text_modelling.preprocessing as pr\n",
    "import deep_text_modelling.modelling as md\n",
    "import deep_text_modelling.evaluation as ev\n",
    "\n",
    "# Display option for dataframes and matplotlib\n",
    "pd.set_option('display.max_colwidth', 100) # Max width of columns when dispalying datasets\n",
    "PREVIOUS_MAX_ROWS = pd.options.display.max_rows\n",
    "pd.options.display.max_rows = 20\n",
    "warnings.filterwarnings('ignore') # Hide warnings\n",
    "warnings.simplefilter('ignore')\n",
    "%matplotlib inline"
   ]
  },
  {
   "cell_type": "code",
   "execution_count": 37,
   "metadata": {},
   "outputs": [
    {
     "data": {
      "text/plain": [
       "<module 'deep_text_modelling.evaluation' from '/media/adnane/HDD drive/Adnane/PostDoc_ooominds/Programming/Deep_text_modelling_package_repo/package/deep_text_modelling/evaluation.py'>"
      ]
     },
     "execution_count": 37,
     "metadata": {},
     "output_type": "execute_result"
    }
   ],
   "source": [
    "import imp\n",
    "imp.reload(pr)\n",
    "imp.reload(md)\n",
    "imp.reload(ev)"
   ]
  },
  {
   "cell_type": "markdown",
   "metadata": {},
   "source": [
    "### Define file paths"
   ]
  },
  {
   "cell_type": "code",
   "execution_count": 3,
   "metadata": {},
   "outputs": [],
   "source": [
    "TENSES_FULL_CSV = TOP + \"illustrative_examples/tenses/Data/Tenses_full.csv\"\n",
    "TENSES_TRAIN_CSV = TOP + \"illustrative_examples/tenses/Data/Tenses_train.csv\"\n",
    "TENSES_VALID_CSV = TOP + \"illustrative_examples/tenses/Data/Tenses_valid.csv\"\n",
    "TENSES_TEST_CSV = TOP + \"illustrative_examples/tenses/Data/Tenses_test.csv\"\n",
    "CUE_INDEX = TOP + \"illustrative_examples/tenses/Data/Cue_index.csv\"\n",
    "OUTCOME_INDEX = TOP + \"illustrative_examples/tenses/Data/Outcome_index.csv\"\n",
    "DATA_DIR = TOP + 'illustrative_examples/tenses/Data/'\n",
    "GLOVE_PATH = os.path.join(DATA_DIR, 'glove.6B.100d.txt')\n",
    "WORD2VEC_PATH = os.path.join(DATA_DIR, 'GoogleNews-vectors-negative300.txt')"
   ]
  },
  {
   "cell_type": "markdown",
   "metadata": {},
   "source": [
    "### Parameters to use"
   ]
  },
  {
   "cell_type": "code",
   "execution_count": 4,
   "metadata": {},
   "outputs": [],
   "source": [
    "N_outcomes = 3 # number of most frequent outcomes to keep \n",
    "N_cues = 2000  # number of cues to keep (all alphabet letters)\n",
    "prop_valid = 1/10 # proportion of validation data\n",
    "prop_test = 1/10 # proportion of test data"
   ]
  },
  {
   "cell_type": "markdown",
   "metadata": {},
   "source": [
    "## II. Prepare the data <a name=\"II\"></a> "
   ]
  },
  {
   "cell_type": "markdown",
   "metadata": {},
   "source": [
    "### Load the data"
   ]
  },
  {
   "cell_type": "code",
   "execution_count": 5,
   "metadata": {
    "scrolled": false
   },
   "outputs": [
    {
     "name": "stdout",
     "output_type": "stream",
     "text": [
      "Number of examples: 30000\n"
     ]
    },
    {
     "data": {
      "text/html": [
       "<div>\n",
       "<style scoped>\n",
       "    .dataframe tbody tr th:only-of-type {\n",
       "        vertical-align: middle;\n",
       "    }\n",
       "\n",
       "    .dataframe tbody tr th {\n",
       "        vertical-align: top;\n",
       "    }\n",
       "\n",
       "    .dataframe thead th {\n",
       "        text-align: right;\n",
       "    }\n",
       "</style>\n",
       "<table border=\"1\" class=\"dataframe\">\n",
       "  <thead>\n",
       "    <tr style=\"text-align: right;\">\n",
       "      <th></th>\n",
       "      <th>sentences</th>\n",
       "      <th>verb_forms</th>\n",
       "      <th>tenses</th>\n",
       "      <th>cues</th>\n",
       "      <th>outcomes</th>\n",
       "    </tr>\n",
       "  </thead>\n",
       "  <tbody>\n",
       "    <tr>\n",
       "      <th>0</th>\n",
       "      <td>gifts of bulbs and trees will be much appreciated in the period september to december</td>\n",
       "      <td>will be appreciated</td>\n",
       "      <td>FutureSimple</td>\n",
       "      <td>gifts_of_bulbs_and_trees_much_in_the_period_september_to_december</td>\n",
       "      <td>FutureSimple</td>\n",
       "    </tr>\n",
       "    <tr>\n",
       "      <th>1</th>\n",
       "      <td>i will pick them up then</td>\n",
       "      <td>will pick</td>\n",
       "      <td>FutureSimple</td>\n",
       "      <td>i_them_up_then</td>\n",
       "      <td>FutureSimple</td>\n",
       "    </tr>\n",
       "    <tr>\n",
       "      <th>2</th>\n",
       "      <td>the shelters housing each flight will protect the equipment against a surprise attack by soviet ...</td>\n",
       "      <td>will protect</td>\n",
       "      <td>FutureSimple</td>\n",
       "      <td>the_shelters_housing_each_flight_the_equipment_against_a_surprise_attack_by_soviet_aircraft_or_m...</td>\n",
       "      <td>FutureSimple</td>\n",
       "    </tr>\n",
       "    <tr>\n",
       "      <th>3</th>\n",
       "      <td>what sort of shops will sell the product</td>\n",
       "      <td>will sell</td>\n",
       "      <td>FutureSimple</td>\n",
       "      <td>what_sort_of_shops_the_product</td>\n",
       "      <td>FutureSimple</td>\n",
       "    </tr>\n",
       "    <tr>\n",
       "      <th>4</th>\n",
       "      <td>but he was angry</td>\n",
       "      <td>was</td>\n",
       "      <td>PastSimple</td>\n",
       "      <td>but_he_angry</td>\n",
       "      <td>PastSimple</td>\n",
       "    </tr>\n",
       "  </tbody>\n",
       "</table>\n",
       "</div>"
      ],
      "text/plain": [
       "                                                                                             sentences  \\\n",
       "0                gifts of bulbs and trees will be much appreciated in the period september to december   \n",
       "1                                                                             i will pick them up then   \n",
       "2  the shelters housing each flight will protect the equipment against a surprise attack by soviet ...   \n",
       "3                                                             what sort of shops will sell the product   \n",
       "4                                                                                     but he was angry   \n",
       "\n",
       "            verb_forms        tenses  \\\n",
       "0  will be appreciated  FutureSimple   \n",
       "1            will pick  FutureSimple   \n",
       "2         will protect  FutureSimple   \n",
       "3            will sell  FutureSimple   \n",
       "4                  was    PastSimple   \n",
       "\n",
       "                                                                                                  cues  \\\n",
       "0                                    gifts_of_bulbs_and_trees_much_in_the_period_september_to_december   \n",
       "1                                                                                       i_them_up_then   \n",
       "2  the_shelters_housing_each_flight_the_equipment_against_a_surprise_attack_by_soviet_aircraft_or_m...   \n",
       "3                                                                       what_sort_of_shops_the_product   \n",
       "4                                                                                         but_he_angry   \n",
       "\n",
       "       outcomes  \n",
       "0  FutureSimple  \n",
       "1  FutureSimple  \n",
       "2  FutureSimple  \n",
       "3  FutureSimple  \n",
       "4    PastSimple  "
      ]
     },
     "execution_count": 5,
     "metadata": {},
     "output_type": "execute_result"
    }
   ],
   "source": [
    "tenses_full = pd.read_csv(TENSES_FULL_CSV)\n",
    "print(f'Number of examples: {len(tenses_full)}')\n",
    "tenses_full.head(5)"
   ]
  },
  {
   "cell_type": "code",
   "execution_count": 6,
   "metadata": {},
   "outputs": [
    {
     "data": {
      "text/html": [
       "<div>\n",
       "<style scoped>\n",
       "    .dataframe tbody tr th:only-of-type {\n",
       "        vertical-align: middle;\n",
       "    }\n",
       "\n",
       "    .dataframe tbody tr th {\n",
       "        vertical-align: top;\n",
       "    }\n",
       "\n",
       "    .dataframe thead th {\n",
       "        text-align: right;\n",
       "    }\n",
       "</style>\n",
       "<table border=\"1\" class=\"dataframe\">\n",
       "  <thead>\n",
       "    <tr style=\"text-align: right;\">\n",
       "      <th></th>\n",
       "      <th>cues</th>\n",
       "      <th>outcomes</th>\n",
       "    </tr>\n",
       "  </thead>\n",
       "  <tbody>\n",
       "    <tr>\n",
       "      <th>0</th>\n",
       "      <td>gifts_of_bulbs_and_trees_much_in_the_period_september_to_december</td>\n",
       "      <td>FutureSimple</td>\n",
       "    </tr>\n",
       "    <tr>\n",
       "      <th>1</th>\n",
       "      <td>i_them_up_then</td>\n",
       "      <td>FutureSimple</td>\n",
       "    </tr>\n",
       "    <tr>\n",
       "      <th>2</th>\n",
       "      <td>the_shelters_housing_each_flight_the_equipment_against_a_surprise_attack_by_soviet_aircraft_or_m...</td>\n",
       "      <td>FutureSimple</td>\n",
       "    </tr>\n",
       "    <tr>\n",
       "      <th>3</th>\n",
       "      <td>what_sort_of_shops_the_product</td>\n",
       "      <td>FutureSimple</td>\n",
       "    </tr>\n",
       "    <tr>\n",
       "      <th>4</th>\n",
       "      <td>but_he_angry</td>\n",
       "      <td>PastSimple</td>\n",
       "    </tr>\n",
       "  </tbody>\n",
       "</table>\n",
       "</div>"
      ],
      "text/plain": [
       "                                                                                                  cues  \\\n",
       "0                                    gifts_of_bulbs_and_trees_much_in_the_period_september_to_december   \n",
       "1                                                                                       i_them_up_then   \n",
       "2  the_shelters_housing_each_flight_the_equipment_against_a_surprise_attack_by_soviet_aircraft_or_m...   \n",
       "3                                                                       what_sort_of_shops_the_product   \n",
       "4                                                                                         but_he_angry   \n",
       "\n",
       "       outcomes  \n",
       "0  FutureSimple  \n",
       "1  FutureSimple  \n",
       "2  FutureSimple  \n",
       "3  FutureSimple  \n",
       "4    PastSimple  "
      ]
     },
     "execution_count": 6,
     "metadata": {},
     "output_type": "execute_result"
    }
   ],
   "source": [
    "# Retain only the 'cues' and 'outcomes' columns\n",
    "tenses_full = tenses_full[['cues', 'outcomes']]\n",
    "tenses_full.head(5)"
   ]
  },
  {
   "cell_type": "markdown",
   "metadata": {},
   "source": [
    "### Create index systems for the cues and outcomes"
   ]
  },
  {
   "cell_type": "code",
   "execution_count": 6,
   "metadata": {},
   "outputs": [],
   "source": [
    "# Create the files containing the index systems\n",
    "pr.create_index_systems_from_df(data = tenses_full, \n",
    "                                cue_index_path = CUE_INDEX, \n",
    "                                outcome_index_path = OUTCOME_INDEX)"
   ]
  },
  {
   "cell_type": "code",
   "execution_count": 5,
   "metadata": {
    "scrolled": true
   },
   "outputs": [
    {
     "name": "stdout",
     "output_type": "stream",
     "text": [
      "{the: 1}\n",
      "{of: 2}\n",
      "{and: 3}\n",
      "{a: 4}\n",
      "{in: 5}\n"
     ]
    }
   ],
   "source": [
    "# Import the cue index system\n",
    "cue_to_index = pr.import_index_system(CUE_INDEX, N_tokens = N_cues)\n",
    "pr.display_dictionary(cue_to_index, start = 0, end = 5)"
   ]
  },
  {
   "cell_type": "code",
   "execution_count": 6,
   "metadata": {},
   "outputs": [
    {
     "data": {
      "text/plain": [
       "{'FutureSimple': 1, 'PastSimple': 2, 'PresentSimple': 3}"
      ]
     },
     "execution_count": 6,
     "metadata": {},
     "output_type": "execute_result"
    }
   ],
   "source": [
    "# Import the outcome index system\n",
    "outcome_to_index = pr.import_index_system(OUTCOME_INDEX)\n",
    "outcome_to_index"
   ]
  },
  {
   "cell_type": "code",
   "execution_count": 7,
   "metadata": {},
   "outputs": [
    {
     "data": {
      "text/plain": [
       "{1: 'FutureSimple', 2: 'PastSimple', 3: 'PresentSimple'}"
      ]
     },
     "execution_count": 7,
     "metadata": {},
     "output_type": "execute_result"
    }
   ],
   "source": [
    "# Reverse the cue dictionary\n",
    "index_to_cue = pr.reverse_dictionary(cue_to_index)\n",
    "# Reverse the outcome dictionary\n",
    "index_to_outcome = pr.reverse_dictionary(outcome_to_index)\n",
    "index_to_outcome"
   ]
  },
  {
   "cell_type": "markdown",
   "metadata": {},
   "source": [
    "### Split into training, validation and test sets"
   ]
  },
  {
   "cell_type": "code",
   "execution_count": 10,
   "metadata": {
    "scrolled": true
   },
   "outputs": [
    {
     "name": "stdout",
     "output_type": "stream",
     "text": [
      "- Number of rows in the original set is 30000\n",
      "- Number of rows in the training set is 24000\n",
      "- Number of rows in the validation set is 3000\n",
      "- Number of rows in the test set is 3000\n"
     ]
    }
   ],
   "source": [
    "# Create train, valid and test set files\n",
    "pr.df_train_valid_test_split(data = tenses_full, \n",
    "                             train_data_path = TENSES_TRAIN_CSV, \n",
    "                             valid_data_path = TENSES_VALID_CSV, \n",
    "                             test_data_path = TENSES_TEST_CSV, \n",
    "                             p_valid = prop_valid, \n",
    "                             p_test = prop_test)"
   ]
  },
  {
   "cell_type": "code",
   "execution_count": 8,
   "metadata": {},
   "outputs": [],
   "source": [
    "# Load the train, valid and test sets\n",
    "tenses_train = pd.read_csv(TENSES_TRAIN_CSV, sep=',', na_filter = False)\n",
    "tenses_valid = pd.read_csv(TENSES_VALID_CSV, sep=',', na_filter = False)\n",
    "tenses_test = pd.read_csv(TENSES_VALID_CSV, sep=',', na_filter = False)"
   ]
  },
  {
   "cell_type": "markdown",
   "metadata": {},
   "source": [
    "## III. Feed-forward neural network model <a ID=\"III\"></a> "
   ]
  },
  {
   "cell_type": "markdown",
   "metadata": {},
   "source": [
    "### Build a simple FNN model with one-hot encoding (no embedding)"
   ]
  },
  {
   "cell_type": "markdown",
   "metadata": {},
   "source": [
    "Build a simple FNN with two hidden layers having 64 units "
   ]
  },
  {
   "cell_type": "code",
   "execution_count": 19,
   "metadata": {},
   "outputs": [
    {
     "name": "stdout",
     "output_type": "stream",
     "text": [
      "Epoch 1/10\n",
      " - 14s - loss: 1.0846 - accuracy: 0.3972 - val_loss: 1.0388 - val_accuracy: 0.4709\n",
      "Epoch 2/10\n",
      " - 14s - loss: 1.0208 - accuracy: 0.4818 - val_loss: 0.9160 - val_accuracy: 0.5107\n",
      "Epoch 3/10\n",
      " - 15s - loss: 0.9674 - accuracy: 0.5266 - val_loss: 0.8858 - val_accuracy: 0.5314\n",
      "Epoch 4/10\n",
      " - 14s - loss: 0.9365 - accuracy: 0.5544 - val_loss: 0.8770 - val_accuracy: 0.5344\n",
      "Epoch 5/10\n",
      " - 15s - loss: 0.9106 - accuracy: 0.5723 - val_loss: 0.8748 - val_accuracy: 0.5388\n",
      "Epoch 6/10\n",
      " - 14s - loss: 0.8858 - accuracy: 0.5897 - val_loss: 0.8867 - val_accuracy: 0.5388\n",
      "Epoch 7/10\n",
      " - 14s - loss: 0.8650 - accuracy: 0.6030 - val_loss: 0.9059 - val_accuracy: 0.5351\n",
      "Epoch 8/10\n",
      " - 14s - loss: 0.8512 - accuracy: 0.6141 - val_loss: 0.9223 - val_accuracy: 0.5328\n",
      "Epoch 9/10\n",
      " - 14s - loss: 0.8346 - accuracy: 0.6230 - val_loss: 0.9313 - val_accuracy: 0.5328\n",
      "Epoch 10/10\n",
      " - 12s - loss: 0.8200 - accuracy: 0.6323 - val_loss: 0.9462 - val_accuracy: 0.5291\n"
     ]
    }
   ],
   "source": [
    "### Hyperparameters to use\n",
    "p = {'max_len': 10,\n",
    "     'embedding_input': None,\n",
    "     'embedding_dim': None,\n",
    "     'epochs': 10, # number of iterations on the full set \n",
    "     'batch_size': 16, \n",
    "     'hidden_layers': 2, # number of hidden layers \n",
    "     'hidden_neuron':64, # number of neurons in the input layer \n",
    "     'lr': 0.0001, # learning rate       \n",
    "     'dropout': 0.3, \n",
    "     'optimizer': Adam, \n",
    "     'losses': categorical_crossentropy, \n",
    "     'activation': relu, \n",
    "     'last_activation': 'softmax'}\n",
    "\n",
    "# Model fitting\n",
    "FNN_onehot_hist, FNN_onehot_model = md.train(model = 'FNN',\n",
    "                                             data_train = tenses_train, \n",
    "                                             data_valid = tenses_valid, \n",
    "                                             cue_index = cue_to_index, \n",
    "                                             outcome_index = outcome_to_index, \n",
    "                                             verbose = 2,\n",
    "                                             metrics = ['accuracy'],\n",
    "                                             params = p)"
   ]
  },
  {
   "cell_type": "code",
   "execution_count": 20,
   "metadata": {
    "scrolled": false
   },
   "outputs": [
    {
     "name": "stdout",
     "output_type": "stream",
     "text": [
      "Model: \"sequential_4\"\n",
      "_________________________________________________________________\n",
      "Layer (type)                 Output Shape              Param #   \n",
      "=================================================================\n",
      "dense_10 (Dense)             (None, 64)                128064    \n",
      "_________________________________________________________________\n",
      "dropout_7 (Dropout)          (None, 64)                0         \n",
      "_________________________________________________________________\n",
      "dense_11 (Dense)             (None, 64)                4160      \n",
      "_________________________________________________________________\n",
      "dropout_8 (Dropout)          (None, 64)                0         \n",
      "_________________________________________________________________\n",
      "dense_12 (Dense)             (None, 3)                 195       \n",
      "=================================================================\n",
      "Total params: 132,419\n",
      "Trainable params: 132,419\n",
      "Non-trainable params: 0\n",
      "_________________________________________________________________\n"
     ]
    }
   ],
   "source": [
    "FNN_onehot_model.summary()"
   ]
  },
  {
   "cell_type": "markdown",
   "metadata": {},
   "source": [
    "### Build a simple FNN model with learnable embeddings"
   ]
  },
  {
   "cell_type": "markdown",
   "metadata": {},
   "source": [
    "Build a simple FNN with two hidden layers having 64 units "
   ]
  },
  {
   "cell_type": "code",
   "execution_count": 14,
   "metadata": {},
   "outputs": [
    {
     "name": "stdout",
     "output_type": "stream",
     "text": [
      "Epoch 1/10\n",
      " - 14s - loss: 1.0934 - accuracy: 0.3708 - val_loss: 1.0890 - val_accuracy: 0.4108\n",
      "Epoch 2/10\n",
      " - 13s - loss: 1.0571 - accuracy: 0.4466 - val_loss: 1.0547 - val_accuracy: 0.4649\n",
      "Epoch 3/10\n",
      " - 14s - loss: 1.0065 - accuracy: 0.4942 - val_loss: 0.9833 - val_accuracy: 0.4983\n",
      "Epoch 4/10\n",
      " - 13s - loss: 0.9681 - accuracy: 0.5235 - val_loss: 0.9272 - val_accuracy: 0.5144\n",
      "Epoch 5/10\n",
      " - 13s - loss: 0.9396 - accuracy: 0.5511 - val_loss: 0.8865 - val_accuracy: 0.5177\n",
      "Epoch 6/10\n",
      " - 13s - loss: 0.9125 - accuracy: 0.5705 - val_loss: 0.8598 - val_accuracy: 0.5241\n",
      "Epoch 7/10\n",
      " - 13s - loss: 0.8845 - accuracy: 0.5951 - val_loss: 0.8431 - val_accuracy: 0.5184\n",
      "Epoch 8/10\n",
      " - 13s - loss: 0.8603 - accuracy: 0.6093 - val_loss: 0.8428 - val_accuracy: 0.5187\n",
      "Epoch 9/10\n",
      " - 13s - loss: 0.8331 - accuracy: 0.6306 - val_loss: 0.8535 - val_accuracy: 0.5174\n",
      "Epoch 10/10\n",
      " - 13s - loss: 0.8082 - accuracy: 0.6456 - val_loss: 0.8735 - val_accuracy: 0.5147\n"
     ]
    }
   ],
   "source": [
    "### Hyperparameters to use\n",
    "p = {'max_len': 10,\n",
    "     'embedding_input': 'learn',\n",
    "     'embedding_dim': 16,\n",
    "     'epochs': 10, # number of iterations on the full set \n",
    "     'batch_size': 16, \n",
    "     'hidden_layers': 2, # number of hidden layers \n",
    "     'hidden_neuron':64, # number of neurons in the input layer \n",
    "     'lr': 0.0001, # learning rate       \n",
    "     'dropout': 0.3, \n",
    "     'optimizer': Adam, \n",
    "     'losses': categorical_crossentropy, \n",
    "     'activation': relu, \n",
    "     'last_activation': 'softmax'}\n",
    "\n",
    "# Model fitting\n",
    "FNN_onehot_hist, FNN_onehot_model = md.train(model = 'FNN',\n",
    "                                             data_train = tenses_train, \n",
    "                                             data_valid = tenses_valid, \n",
    "                                             cue_index = cue_to_index, \n",
    "                                             outcome_index = outcome_to_index, \n",
    "                                             verbose = 2,\n",
    "                                             metrics = ['accuracy'],\n",
    "                                             params = p)"
   ]
  },
  {
   "cell_type": "code",
   "execution_count": 18,
   "metadata": {
    "scrolled": false
   },
   "outputs": [
    {
     "name": "stdout",
     "output_type": "stream",
     "text": [
      "Model: \"sequential_3\"\n",
      "_________________________________________________________________\n",
      "Layer (type)                 Output Shape              Param #   \n",
      "=================================================================\n",
      "embedding_2 (Embedding)      (None, 10, 16)            32016     \n",
      "_________________________________________________________________\n",
      "flatten_2 (Flatten)          (None, 160)               0         \n",
      "_________________________________________________________________\n",
      "dense_7 (Dense)              (None, 64)                10304     \n",
      "_________________________________________________________________\n",
      "dropout_5 (Dropout)          (None, 64)                0         \n",
      "_________________________________________________________________\n",
      "dense_8 (Dense)              (None, 64)                4160      \n",
      "_________________________________________________________________\n",
      "dropout_6 (Dropout)          (None, 64)                0         \n",
      "_________________________________________________________________\n",
      "dense_9 (Dense)              (None, 3)                 195       \n",
      "=================================================================\n",
      "Total params: 46,675\n",
      "Trainable params: 46,675\n",
      "Non-trainable params: 0\n",
      "_________________________________________________________________\n"
     ]
    }
   ],
   "source": [
    "FNN_embed_model.summary()"
   ]
  },
  {
   "cell_type": "markdown",
   "metadata": {},
   "source": [
    "### Build a simple FNN model with pretrained embeddings"
   ]
  },
  {
   "cell_type": "markdown",
   "metadata": {},
   "source": [
    "Build a simple FNN with two hidden layers having 64 units "
   ]
  },
  {
   "cell_type": "code",
   "execution_count": 21,
   "metadata": {},
   "outputs": [
    {
     "name": "stdout",
     "output_type": "stream",
     "text": [
      "Epoch 1/10\n",
      " - 13s - loss: 1.1072 - accuracy: 0.3532 - val_loss: 1.0917 - val_accuracy: 0.3820\n",
      "Epoch 2/10\n",
      " - 13s - loss: 1.0888 - accuracy: 0.3756 - val_loss: 1.0966 - val_accuracy: 0.4081\n",
      "Epoch 3/10\n",
      " - 13s - loss: 1.0818 - accuracy: 0.3949 - val_loss: 1.0692 - val_accuracy: 0.4071\n",
      "Epoch 4/10\n",
      " - 13s - loss: 1.0742 - accuracy: 0.4064 - val_loss: 1.0752 - val_accuracy: 0.4201\n",
      "Epoch 5/10\n",
      " - 13s - loss: 1.0637 - accuracy: 0.4193 - val_loss: 1.0730 - val_accuracy: 0.4235\n",
      "Epoch 6/10\n",
      " - 13s - loss: 1.0556 - accuracy: 0.4363 - val_loss: 1.0846 - val_accuracy: 0.4315\n",
      "Epoch 7/10\n",
      " - 13s - loss: 1.0472 - accuracy: 0.4473 - val_loss: 1.0926 - val_accuracy: 0.4305\n",
      "Epoch 8/10\n",
      " - 13s - loss: 1.0381 - accuracy: 0.4544 - val_loss: 1.1201 - val_accuracy: 0.4392\n",
      "Epoch 9/10\n",
      " - 13s - loss: 1.0288 - accuracy: 0.4690 - val_loss: 1.1667 - val_accuracy: 0.4241\n",
      "Epoch 10/10\n",
      " - 14s - loss: 1.0177 - accuracy: 0.4773 - val_loss: 1.1163 - val_accuracy: 0.4372\n"
     ]
    }
   ],
   "source": [
    "### Hyperparameters to use\n",
    "p = {'max_len': 10,\n",
    "     'embedding_input': GLOVE_PATH,\n",
    "     'embedding_dim': None,\n",
    "     'epochs': 10, # number of iterations on the full set \n",
    "     'batch_size': 16, \n",
    "     'hidden_layers': 2, # number of hidden layers \n",
    "     'hidden_neuron':64, # number of neurons in the input layer \n",
    "     'lr': 0.0001, # learning rate       \n",
    "     'dropout': 0.3, \n",
    "     'optimizer': Adam, \n",
    "     'losses': categorical_crossentropy, \n",
    "     'activation': relu, \n",
    "     'last_activation': 'softmax'}\n",
    "\n",
    "# Model fitting\n",
    "FNN_glove_hist, FNN_glove_model = md.train(model = 'FNN',\n",
    "                                           data_train = tenses_train, \n",
    "                                           data_valid = tenses_valid, \n",
    "                                           cue_index = cue_to_index, \n",
    "                                           outcome_index = outcome_to_index, \n",
    "                                           verbose = 2,\n",
    "                                           metrics = ['accuracy'],\n",
    "                                           params = p)"
   ]
  },
  {
   "cell_type": "code",
   "execution_count": 22,
   "metadata": {
    "scrolled": true
   },
   "outputs": [
    {
     "name": "stdout",
     "output_type": "stream",
     "text": [
      "Model: \"sequential_5\"\n",
      "_________________________________________________________________\n",
      "Layer (type)                 Output Shape              Param #   \n",
      "=================================================================\n",
      "embedding_3 (Embedding)      (None, 10, 100)           200100    \n",
      "_________________________________________________________________\n",
      "flatten_3 (Flatten)          (None, 1000)              0         \n",
      "_________________________________________________________________\n",
      "dense_13 (Dense)             (None, 64)                64064     \n",
      "_________________________________________________________________\n",
      "dropout_9 (Dropout)          (None, 64)                0         \n",
      "_________________________________________________________________\n",
      "dense_14 (Dense)             (None, 64)                4160      \n",
      "_________________________________________________________________\n",
      "dropout_10 (Dropout)         (None, 64)                0         \n",
      "_________________________________________________________________\n",
      "dense_15 (Dense)             (None, 3)                 195       \n",
      "=================================================================\n",
      "Total params: 268,519\n",
      "Trainable params: 68,419\n",
      "Non-trainable params: 200,100\n",
      "_________________________________________________________________\n"
     ]
    }
   ],
   "source": [
    "FNN_glove_model.summary()"
   ]
  },
  {
   "cell_type": "markdown",
   "metadata": {},
   "source": [
    "### Tune the parameters to find a good model"
   ]
  },
  {
   "cell_type": "code",
   "execution_count": 24,
   "metadata": {
    "scrolled": false
   },
   "outputs": [],
   "source": [
    "### Parameter tuning using grid search \n",
    "p = {'max_len': [None, 10, 20], # (x3)\n",
    "     'embedding_input': [None, 'learn', GLOVE_PATH], # (x3)\n",
    "     'embedding_dim': [None, 25, 50, 100], # (x4)\n",
    "     'epochs': [1, 5, 10, 20], # number of iterations on the full set (x5)\n",
    "     'batch_size': [16, 32, 64, 128, 256], # (x6)\n",
    "     'hidden_layers':[0, 1, 2], # number of hidden layers (x3)\n",
    "     'hidden_neuron':[16, 32, 64, 128], # number of neurons in the input layer (x4)\n",
    "     'lr': [0.0001, 0.0002, 0.0005, 0.001, 0.002, 0.005, 0.01], # learning rate (x7)       \n",
    "     'dropout': [0, 0.1, 0.2, 0.3, 0.4], # (x5)\n",
    "     'optimizer': [Adam, RMSprop], # (x2)\n",
    "     'losses': [categorical_crossentropy], # (x1)\n",
    "     'activation':[relu, elu], # (x2)\n",
    "     'last_activation': ['softmax'] # (x1)\n",
    "     }\n",
    "TUNING_PATH = TOP + 'illustrative_examples/tenses/Results/grid_search_FNN_tenses.csv'"
   ]
  },
  {
   "cell_type": "code",
   "execution_count": 27,
   "metadata": {
    "scrolled": false
   },
   "outputs": [
    {
     "name": "stdout",
     "output_type": "stream",
     "text": [
      "Iteration 1 out of 13: {'max_len': 20, 'embedding_input': 'learn', 'embedding_dim': 100, 'epochs': 20, 'batch_size': 32, 'hidden_layers': 2, 'hidden_neuron': 32, 'lr': 0.001, 'dropout': 0.3, 'optimizer': <class 'keras.optimizers.RMSprop'>, 'losses': <function categorical_crossentropy at 0x7f7650cef488>, 'activation': <function relu at 0x7f7650cbdd90>, 'last_activation': 'softmax'}\n",
      "\n",
      "Iteration 2 out of 13: {'max_len': 20, 'embedding_input': 'learn', 'embedding_dim': 100, 'epochs': 20, 'batch_size': 32, 'hidden_layers': 2, 'hidden_neuron': 64, 'lr': 0.0005, 'dropout': 0.3, 'optimizer': <class 'keras.optimizers.Adam'>, 'losses': <function categorical_crossentropy at 0x7f7650cef488>, 'activation': <function elu at 0x7f7650cbdb70>, 'last_activation': 'softmax'}\n",
      "\n",
      "Iteration 3 out of 13: {'max_len': 20, 'embedding_input': 'learn', 'embedding_dim': 50, 'epochs': 5, 'batch_size': 256, 'hidden_layers': 1, 'hidden_neuron': 16, 'lr': 0.002, 'dropout': 0.4, 'optimizer': <class 'keras.optimizers.RMSprop'>, 'losses': <function categorical_crossentropy at 0x7f7650cef488>, 'activation': <function relu at 0x7f7650cbdd90>, 'last_activation': 'softmax'}\n",
      "\n",
      "Iteration 4 out of 13: {'max_len': 20, 'embedding_input': '/media/adnane/HDD drive/Adnane/PostDoc_ooominds/Programming/Deep_text_modelling_package_repo_tests/illustrative_examples/tenses/Data/glove.6B.100d.txt', 'embedding_dim': 100, 'epochs': 1, 'batch_size': 64, 'hidden_layers': 1, 'hidden_neuron': 16, 'lr': 0.001, 'dropout': 0.4, 'optimizer': <class 'keras.optimizers.RMSprop'>, 'losses': <function categorical_crossentropy at 0x7f7650cef488>, 'activation': <function elu at 0x7f7650cbdb70>, 'last_activation': 'softmax'}\n",
      "\n",
      "Iteration 5 out of 13: {'max_len': None, 'embedding_input': None, 'embedding_dim': None, 'epochs': 1, 'batch_size': 16, 'hidden_layers': 1, 'hidden_neuron': 64, 'lr': 0.0005, 'dropout': 0.3, 'optimizer': <class 'keras.optimizers.Adam'>, 'losses': <function categorical_crossentropy at 0x7f7650cef488>, 'activation': <function relu at 0x7f7650cbdd90>, 'last_activation': 'softmax'}\n",
      "\n",
      "Iteration 6 out of 13: {'max_len': 20, 'embedding_input': None, 'embedding_dim': None, 'epochs': 20, 'batch_size': 32, 'hidden_layers': 0, 'hidden_neuron': 128, 'lr': 0.0001, 'dropout': 0.3, 'optimizer': <class 'keras.optimizers.Adam'>, 'losses': <function categorical_crossentropy at 0x7f7650cef488>, 'activation': None, 'last_activation': 'softmax'}\n",
      "\n",
      "Iteration 7 out of 13: {'max_len': 10, 'embedding_input': 'learn', 'embedding_dim': 25, 'epochs': 5, 'batch_size': 64, 'hidden_layers': 2, 'hidden_neuron': 16, 'lr': 0.002, 'dropout': 0.1, 'optimizer': <class 'keras.optimizers.Adam'>, 'losses': <function categorical_crossentropy at 0x7f7650cef488>, 'activation': <function elu at 0x7f7650cbdb70>, 'last_activation': 'softmax'}\n",
      "\n",
      "Iteration 8 out of 13: {'max_len': 20, 'embedding_input': 'learn', 'embedding_dim': 25, 'epochs': 10, 'batch_size': 128, 'hidden_layers': 2, 'hidden_neuron': 16, 'lr': 0.001, 'dropout': 0.3, 'optimizer': <class 'keras.optimizers.Adam'>, 'losses': <function categorical_crossentropy at 0x7f7650cef488>, 'activation': <function relu at 0x7f7650cbdd90>, 'last_activation': 'softmax'}\n",
      "\n",
      "Iteration 9 out of 13: {'max_len': 10, 'embedding_input': None, 'embedding_dim': None, 'epochs': 1, 'batch_size': 32, 'hidden_layers': 2, 'hidden_neuron': 128, 'lr': 0.0001, 'dropout': 0.2, 'optimizer': <class 'keras.optimizers.RMSprop'>, 'losses': <function categorical_crossentropy at 0x7f7650cef488>, 'activation': <function relu at 0x7f7650cbdd90>, 'last_activation': 'softmax'}\n",
      "\n",
      "Iteration 10 out of 13: {'max_len': 10, 'embedding_input': None, 'embedding_dim': None, 'epochs': 10, 'batch_size': 32, 'hidden_layers': 2, 'hidden_neuron': 128, 'lr': 0.0002, 'dropout': 0, 'optimizer': <class 'keras.optimizers.Adam'>, 'losses': <function categorical_crossentropy at 0x7f7650cef488>, 'activation': <function elu at 0x7f7650cbdb70>, 'last_activation': 'softmax'}\n",
      "\n",
      "Iteration 11 out of 13: {'max_len': 10, 'embedding_input': 'learn', 'embedding_dim': 50, 'epochs': 1, 'batch_size': 128, 'hidden_layers': 0, 'hidden_neuron': 128, 'lr': 0.002, 'dropout': 0, 'optimizer': <class 'keras.optimizers.RMSprop'>, 'losses': <function categorical_crossentropy at 0x7f7650cef488>, 'activation': None, 'last_activation': 'softmax'}\n",
      "\n",
      "Iteration 12 out of 13: {'max_len': 10, 'embedding_input': 'learn', 'embedding_dim': 50, 'epochs': 20, 'batch_size': 32, 'hidden_layers': 2, 'hidden_neuron': 128, 'lr': 0.0001, 'dropout': 0.1, 'optimizer': <class 'keras.optimizers.RMSprop'>, 'losses': <function categorical_crossentropy at 0x7f7650cef488>, 'activation': <function elu at 0x7f7650cbdb70>, 'last_activation': 'softmax'}\n",
      "\n",
      "Iteration 13 out of 13: {'max_len': 10, 'embedding_input': 'learn', 'embedding_dim': 50, 'epochs': 20, 'batch_size': 128, 'hidden_layers': 1, 'hidden_neuron': 128, 'lr': 0.0001, 'dropout': 0, 'optimizer': <class 'keras.optimizers.Adam'>, 'losses': <function categorical_crossentropy at 0x7f7650cef488>, 'activation': <function relu at 0x7f7650cbdd90>, 'last_activation': 'softmax'}\n",
      "\n"
     ]
    }
   ],
   "source": [
    "### Grid search \n",
    "md.grid_search(model = 'FNN', \n",
    "               data_train = tenses_train, \n",
    "               data_valid = tenses_valid, \n",
    "               cue_index = cue_to_index, \n",
    "               outcome_index = outcome_to_index,\n",
    "               params = p,\n",
    "               prop_grid = 3e-5, \n",
    "               tuning_output_file = TUNING_PATH,\n",
    "               num_threads = 2)"
   ]
  },
  {
   "cell_type": "markdown",
   "metadata": {},
   "source": [
    "### Assessing the grid search"
   ]
  },
  {
   "cell_type": "code",
   "execution_count": 30,
   "metadata": {},
   "outputs": [
    {
     "data": {
      "text/plain": [
       "134"
      ]
     },
     "execution_count": 30,
     "metadata": {},
     "output_type": "execute_result"
    }
   ],
   "source": [
    "# Import the grid search file to analyse the results \n",
    "gs_results = pd.read_csv(TUNING_PATH, index_col = False)\n",
    "\n",
    "# get the number of parameter combinations that were processed\n",
    "len(gs_results)"
   ]
  },
  {
   "cell_type": "code",
   "execution_count": 31,
   "metadata": {
    "scrolled": false
   },
   "outputs": [
    {
     "data": {
      "text/html": [
       "<div>\n",
       "<style scoped>\n",
       "    .dataframe tbody tr th:only-of-type {\n",
       "        vertical-align: middle;\n",
       "    }\n",
       "\n",
       "    .dataframe tbody tr th {\n",
       "        vertical-align: top;\n",
       "    }\n",
       "\n",
       "    .dataframe thead th {\n",
       "        text-align: right;\n",
       "    }\n",
       "</style>\n",
       "<table border=\"1\" class=\"dataframe\">\n",
       "  <thead>\n",
       "    <tr style=\"text-align: right;\">\n",
       "      <th></th>\n",
       "      <th>max_len</th>\n",
       "      <th>embedding_input</th>\n",
       "      <th>embedding_dim</th>\n",
       "      <th>epochs</th>\n",
       "      <th>batch_size</th>\n",
       "      <th>hidden_layers</th>\n",
       "      <th>hidden_neuron</th>\n",
       "      <th>lr</th>\n",
       "      <th>dropout</th>\n",
       "      <th>optimizer</th>\n",
       "      <th>...</th>\n",
       "      <th>loss</th>\n",
       "      <th>acc</th>\n",
       "      <th>precision</th>\n",
       "      <th>recall</th>\n",
       "      <th>f1score</th>\n",
       "      <th>val_loss</th>\n",
       "      <th>val_acc</th>\n",
       "      <th>val_precision</th>\n",
       "      <th>val_recall</th>\n",
       "      <th>val_f1score</th>\n",
       "    </tr>\n",
       "  </thead>\n",
       "  <tbody>\n",
       "    <tr>\n",
       "      <th>0</th>\n",
       "      <td>20.0</td>\n",
       "      <td>learn</td>\n",
       "      <td>100</td>\n",
       "      <td>1</td>\n",
       "      <td>32</td>\n",
       "      <td>2</td>\n",
       "      <td>32</td>\n",
       "      <td>0.001</td>\n",
       "      <td>0.3</td>\n",
       "      <td>&lt;class 'keras.optimizers.RMSprop'&gt;</td>\n",
       "      <td>...</td>\n",
       "      <td>1.047667</td>\n",
       "      <td>0.439417</td>\n",
       "      <td>0.430142</td>\n",
       "      <td>0.091167</td>\n",
       "      <td>0.142780</td>\n",
       "      <td>0.922010</td>\n",
       "      <td>0.511761</td>\n",
       "      <td>0.676267</td>\n",
       "      <td>0.193212</td>\n",
       "      <td>0.296398</td>\n",
       "    </tr>\n",
       "    <tr>\n",
       "      <th>1</th>\n",
       "      <td>20.0</td>\n",
       "      <td>learn</td>\n",
       "      <td>100</td>\n",
       "      <td>2</td>\n",
       "      <td>32</td>\n",
       "      <td>2</td>\n",
       "      <td>32</td>\n",
       "      <td>0.001</td>\n",
       "      <td>0.3</td>\n",
       "      <td>&lt;class 'keras.optimizers.RMSprop'&gt;</td>\n",
       "      <td>...</td>\n",
       "      <td>0.939916</td>\n",
       "      <td>0.555708</td>\n",
       "      <td>0.663701</td>\n",
       "      <td>0.322333</td>\n",
       "      <td>0.429357</td>\n",
       "      <td>0.990584</td>\n",
       "      <td>0.543683</td>\n",
       "      <td>0.627753</td>\n",
       "      <td>0.321573</td>\n",
       "      <td>0.422796</td>\n",
       "    </tr>\n",
       "    <tr>\n",
       "      <th>2</th>\n",
       "      <td>20.0</td>\n",
       "      <td>learn</td>\n",
       "      <td>100</td>\n",
       "      <td>3</td>\n",
       "      <td>32</td>\n",
       "      <td>2</td>\n",
       "      <td>32</td>\n",
       "      <td>0.001</td>\n",
       "      <td>0.3</td>\n",
       "      <td>&lt;class 'keras.optimizers.RMSprop'&gt;</td>\n",
       "      <td>...</td>\n",
       "      <td>0.843930</td>\n",
       "      <td>0.620417</td>\n",
       "      <td>0.699993</td>\n",
       "      <td>0.467167</td>\n",
       "      <td>0.558022</td>\n",
       "      <td>1.110330</td>\n",
       "      <td>0.526546</td>\n",
       "      <td>0.574827</td>\n",
       "      <td>0.385081</td>\n",
       "      <td>0.459701</td>\n",
       "    </tr>\n",
       "    <tr>\n",
       "      <th>3</th>\n",
       "      <td>20.0</td>\n",
       "      <td>learn</td>\n",
       "      <td>100</td>\n",
       "      <td>4</td>\n",
       "      <td>32</td>\n",
       "      <td>2</td>\n",
       "      <td>32</td>\n",
       "      <td>0.001</td>\n",
       "      <td>0.3</td>\n",
       "      <td>&lt;class 'keras.optimizers.RMSprop'&gt;</td>\n",
       "      <td>...</td>\n",
       "      <td>0.745011</td>\n",
       "      <td>0.675458</td>\n",
       "      <td>0.751865</td>\n",
       "      <td>0.559958</td>\n",
       "      <td>0.639852</td>\n",
       "      <td>1.285845</td>\n",
       "      <td>0.510417</td>\n",
       "      <td>0.548787</td>\n",
       "      <td>0.408266</td>\n",
       "      <td>0.466841</td>\n",
       "    </tr>\n",
       "    <tr>\n",
       "      <th>4</th>\n",
       "      <td>20.0</td>\n",
       "      <td>learn</td>\n",
       "      <td>100</td>\n",
       "      <td>5</td>\n",
       "      <td>32</td>\n",
       "      <td>2</td>\n",
       "      <td>32</td>\n",
       "      <td>0.001</td>\n",
       "      <td>0.3</td>\n",
       "      <td>&lt;class 'keras.optimizers.RMSprop'&gt;</td>\n",
       "      <td>...</td>\n",
       "      <td>0.666116</td>\n",
       "      <td>0.712500</td>\n",
       "      <td>0.784475</td>\n",
       "      <td>0.617208</td>\n",
       "      <td>0.689186</td>\n",
       "      <td>1.517434</td>\n",
       "      <td>0.504032</td>\n",
       "      <td>0.530794</td>\n",
       "      <td>0.418347</td>\n",
       "      <td>0.466889</td>\n",
       "    </tr>\n",
       "  </tbody>\n",
       "</table>\n",
       "<p>5 rows × 23 columns</p>\n",
       "</div>"
      ],
      "text/plain": [
       "   max_len embedding_input  embedding_dim  epochs  batch_size  hidden_layers  \\\n",
       "0     20.0           learn            100       1          32              2   \n",
       "1     20.0           learn            100       2          32              2   \n",
       "2     20.0           learn            100       3          32              2   \n",
       "3     20.0           learn            100       4          32              2   \n",
       "4     20.0           learn            100       5          32              2   \n",
       "\n",
       "   hidden_neuron     lr  dropout                           optimizer  ...  \\\n",
       "0             32  0.001      0.3  <class 'keras.optimizers.RMSprop'>  ...   \n",
       "1             32  0.001      0.3  <class 'keras.optimizers.RMSprop'>  ...   \n",
       "2             32  0.001      0.3  <class 'keras.optimizers.RMSprop'>  ...   \n",
       "3             32  0.001      0.3  <class 'keras.optimizers.RMSprop'>  ...   \n",
       "4             32  0.001      0.3  <class 'keras.optimizers.RMSprop'>  ...   \n",
       "\n",
       "       loss       acc precision    recall   f1score  val_loss   val_acc  \\\n",
       "0  1.047667  0.439417  0.430142  0.091167  0.142780  0.922010  0.511761   \n",
       "1  0.939916  0.555708  0.663701  0.322333  0.429357  0.990584  0.543683   \n",
       "2  0.843930  0.620417  0.699993  0.467167  0.558022  1.110330  0.526546   \n",
       "3  0.745011  0.675458  0.751865  0.559958  0.639852  1.285845  0.510417   \n",
       "4  0.666116  0.712500  0.784475  0.617208  0.689186  1.517434  0.504032   \n",
       "\n",
       "   val_precision  val_recall  val_f1score  \n",
       "0       0.676267    0.193212     0.296398  \n",
       "1       0.627753    0.321573     0.422796  \n",
       "2       0.574827    0.385081     0.459701  \n",
       "3       0.548787    0.408266     0.466841  \n",
       "4       0.530794    0.418347     0.466889  \n",
       "\n",
       "[5 rows x 23 columns]"
      ]
     },
     "execution_count": 31,
     "metadata": {},
     "output_type": "execute_result"
    }
   ],
   "source": [
    "# Display the dataframe containing the tuning results\n",
    "gs_results.head()"
   ]
  },
  {
   "cell_type": "code",
   "execution_count": 32,
   "metadata": {},
   "outputs": [
    {
     "data": {
      "text/plain": [
       "Index(['max_len', 'embedding_input', 'embedding_dim', 'epochs', 'batch_size',\n",
       "       'hidden_layers', 'hidden_neuron', 'lr', 'dropout', 'optimizer',\n",
       "       'losses', 'activation', 'last_activation', 'loss', 'acc', 'precision',\n",
       "       'recall', 'f1score', 'val_loss', 'val_acc', 'val_precision',\n",
       "       'val_recall', 'val_f1score'],\n",
       "      dtype='object')"
      ]
     },
     "execution_count": 32,
     "metadata": {},
     "output_type": "execute_result"
    }
   ],
   "source": [
    "gs_results.columns"
   ]
  },
  {
   "cell_type": "code",
   "execution_count": 33,
   "metadata": {
    "scrolled": true
   },
   "outputs": [
    {
     "name": "stdout",
     "output_type": "stream",
     "text": [
      "- Highest validation accuracy: 0.5436828136444092\n",
      "- Highest validation f1-score: 0.8663970999999999\n"
     ]
    }
   ],
   "source": [
    "# get the highest result for any metric\n",
    "print(f\"- Highest validation accuracy: {gs_results['val_acc'].max()}\")\n",
    "print(f\"- Highest validation f1-score: {gs_results['f1score'].max()}\")"
   ]
  },
  {
   "cell_type": "code",
   "execution_count": 34,
   "metadata": {
    "scrolled": true
   },
   "outputs": [
    {
     "data": {
      "text/plain": [
       "1"
      ]
     },
     "execution_count": 34,
     "metadata": {},
     "output_type": "execute_result"
    }
   ],
   "source": [
    "# get the index of the combination with the best result\n",
    "i_best = gs_results['val_acc'].argmax()\n",
    "i_best"
   ]
  },
  {
   "cell_type": "code",
   "execution_count": 35,
   "metadata": {
    "scrolled": false
   },
   "outputs": [
    {
     "data": {
      "text/plain": [
       "max_len                                            20\n",
       "embedding_input                                 learn\n",
       "embedding_dim                                     100\n",
       "epochs                                              2\n",
       "batch_size                                         32\n",
       "hidden_layers                                       2\n",
       "hidden_neuron                                      32\n",
       "lr                                              0.001\n",
       "dropout                                           0.3\n",
       "optimizer          <class 'keras.optimizers.RMSprop'>\n",
       "                                  ...                \n",
       "loss                                         0.939916\n",
       "acc                                          0.555708\n",
       "precision                                    0.663701\n",
       "recall                                       0.322333\n",
       "f1score                                      0.429357\n",
       "val_loss                                     0.990584\n",
       "val_acc                                      0.543683\n",
       "val_precision                                0.627753\n",
       "val_recall                                   0.321573\n",
       "val_f1score                                  0.422796\n",
       "Name: 1, Length: 23, dtype: object"
      ]
     },
     "execution_count": 35,
     "metadata": {},
     "output_type": "execute_result"
    }
   ],
   "source": [
    "# get the best paramaters\n",
    "gs_results.iloc[i_best, ]"
   ]
  },
  {
   "cell_type": "markdown",
   "metadata": {},
   "source": [
    "### Retraining with the best parameters"
   ]
  },
  {
   "cell_type": "code",
   "execution_count": 12,
   "metadata": {
    "scrolled": false
   },
   "outputs": [
    {
     "name": "stdout",
     "output_type": "stream",
     "text": [
      "Epoch 1/2\n",
      " - 7s - loss: 1.0351 - accuracy: 0.4562 - val_loss: 0.9412 - val_accuracy: 0.5218\n",
      "Epoch 2/2\n",
      " - 7s - loss: 0.9358 - accuracy: 0.5590 - val_loss: 0.9503 - val_accuracy: 0.5370\n"
     ]
    }
   ],
   "source": [
    "### Hyperparameters to use\n",
    "p = {'max_len': 20,\n",
    "     'embedding_input': 'learn',\n",
    "     'embedding_dim': 100,\n",
    "     'epochs': 2, # number of iterations on the full set \n",
    "     'batch_size': 32, \n",
    "     'hidden_layers': 2, # number of hidden layers \n",
    "     'hidden_neuron': 32, # number of neurons in the input layer \n",
    "     'lr': 0.001, # learning rate       \n",
    "     'dropout': 0.3, \n",
    "     'optimizer': RMSprop, \n",
    "     'losses': categorical_crossentropy, \n",
    "     'activation': relu, \n",
    "     'last_activation': 'softmax'}\n",
    "\n",
    "# Model fitting\n",
    "FNN_hist, FNN_model = md.train(model = 'FNN',\n",
    "                               data_train = tenses_train, \n",
    "                               data_valid = tenses_valid, \n",
    "                               cue_index = cue_to_index, \n",
    "                               outcome_index = outcome_to_index, \n",
    "                               verbose = 2,\n",
    "                               metrics = ['accuracy'],\n",
    "                               params = p)"
   ]
  },
  {
   "cell_type": "code",
   "execution_count": 13,
   "metadata": {},
   "outputs": [],
   "source": [
    "# Save the model and training history\n",
    "MODEL_PATH = TOP + 'illustrative_examples/tenses/Results/FNN_tenses.h5'\n",
    "HISTORY_PATH = TOP + 'illustrative_examples/tenses/Results/FNN_history_dict_tenses'\n",
    "md.export_model(model = FNN_model, path = MODEL_PATH)  # creates a HDF5 file \n",
    "md.export_history(history_dict = FNN_hist, path = HISTORY_PATH)\n",
    "del FNN_model, FNN_hist  # delete the existing model and history dictionary"
   ]
  },
  {
   "cell_type": "code",
   "execution_count": 14,
   "metadata": {},
   "outputs": [],
   "source": [
    "# Load the model and training history\n",
    "MODEL_PATH = TOP + 'illustrative_examples/tenses/Results/FNN_tenses.h5'\n",
    "HISTORY_PATH = TOP + 'illustrative_examples/tenses/Results/FNN_history_dict_tenses'\n",
    "FNN_model = md.import_model(MODEL_PATH)\n",
    "FNN_history_dict = md.import_history(path = HISTORY_PATH)"
   ]
  },
  {
   "cell_type": "markdown",
   "metadata": {},
   "source": [
    "### Evaluate the final model"
   ]
  },
  {
   "cell_type": "code",
   "execution_count": 16,
   "metadata": {},
   "outputs": [
    {
     "name": "stdout",
     "output_type": "stream",
     "text": [
      "- Training loss in the last epoch: 0.9357744853496551\n",
      "- Training accuracy in the last epoch: 0.5590417\n",
      "- Validation loss in the last epoch: 0.9502525925636292\n",
      "- Validation accuracy in the last epoch: 0.5369623899459839\n"
     ]
    }
   ],
   "source": [
    "# Performance on the last epoch of the training set\n",
    "print(f\"- Training loss in the last epoch: {FNN_history_dict['loss'][-1]}\")\n",
    "print(f\"- Training accuracy in the last epoch: {FNN_history_dict['accuracy'][-1]}\")\n",
    "\n",
    "# Performance on the last epoch of the validation set\n",
    "print(f\"- Validation loss in the last epoch: {FNN_history_dict['val_loss'][-1]}\")\n",
    "print(f\"- Validation accuracy in the last epoch: {FNN_history_dict['val_accuracy'][-1]}\")"
   ]
  },
  {
   "cell_type": "code",
   "execution_count": 18,
   "metadata": {},
   "outputs": [
    {
     "data": {
      "image/png": "[encoded data removed]",
      "text/plain": [
       "<Figure size 432x288 with 1 Axes>"
      ]
     },
     "metadata": {
      "needs_background": "light"
     },
     "output_type": "display_data"
    }
   ],
   "source": [
    "# Generate plots to assess the performance of the NN\n",
    "ev.plot_learning_curve(history_dict = FNN_history_dict, metric = 'accuracy', set = 'train_valid')"
   ]
  },
  {
   "cell_type": "code",
   "execution_count": 50,
   "metadata": {},
   "outputs": [
    {
     "name": "stdout",
     "output_type": "stream",
     "text": [
      "{'FutureSimple': 0.85951036, 'PastSimple': 0.025730181, 'PresentSimple': 0.11475951}\n"
     ]
    }
   ],
   "source": [
    "# Test prediction for a single given cue sequence. Model expect input as array of shape (1, N_cues) \n",
    "cue1_seq = 'I_you_tomorrow' # context from the sentence 'I will meet you tomorrow'\n",
    "outcome1_prob_pred = ev.predict_proba_oneevent_FNN(model = FNN_model, \n",
    "                                                   cue_seq = cue1_seq,   \n",
    "                                                   cue_index = cue_to_index,\n",
    "                                                   max_len = 20,\n",
    "                                                   vector_encoding = 'embedding')\n",
    "print({index_to_outcome[j+1]:outcome1_prob_pred[j] for j in range(len(outcome1_prob_pred))})"
   ]
  },
  {
   "cell_type": "code",
   "execution_count": 24,
   "metadata": {},
   "outputs": [],
   "source": [
    "# Evaluate the model on the test set\n",
    "prob_pred = ev.predict_proba_eventfile_FNN(model = FNN_model, \n",
    "                                           data_test = tenses_test,  \n",
    "                                           cue_index = cue_to_index, \n",
    "                                           outcome_index = outcome_to_index,\n",
    "                                           max_len = 20,\n",
    "                                           vector_encoding = 'embedding')"
   ]
  },
  {
   "cell_type": "code",
   "execution_count": 25,
   "metadata": {},
   "outputs": [
    {
     "data": {
      "text/plain": [
       "0.5366666666666666"
      ]
     },
     "execution_count": 25,
     "metadata": {},
     "output_type": "execute_result"
    }
   ],
   "source": [
    "# True responses to compare the predictions to\n",
    "y_test = tenses_test.replace({'outcomes': outcome_to_index})['outcomes']\n",
    "y_pred = np.argmax(prob_pred, axis=1)+1\n",
    "\n",
    "# Overall test accuracy\n",
    "test_accuracy = accuracy_score(y_test, y_pred)\n",
    "test_accuracy"
   ]
  },
  {
   "cell_type": "code",
   "execution_count": 26,
   "metadata": {},
   "outputs": [
    {
     "name": "stdout",
     "output_type": "stream",
     "text": [
      "{'FutureSimple': 0.5292368681863231, 'PastSimple': 0.6075433231396534, 'PresentSimple': 0.4752475247524752}\n"
     ]
    }
   ],
   "source": [
    "# Test accuracy per class\n",
    "cmat = confusion_matrix(y_test, y_pred, labels = list(outcome_to_index.values())) # Confusion matrix\n",
    "cmat_diag = cmat.diagonal()/cmat.sum(axis=1)\n",
    "print({index_to_outcome[j+1]:cmat_diag[j] for j in range(len(cmat_diag))})"
   ]
  },
  {
   "cell_type": "markdown",
   "metadata": {},
   "source": [
    "## IV. Long short-term memory model <a ID=\"IV\"></a> "
   ]
  },
  {
   "cell_type": "markdown",
   "metadata": {},
   "source": [
    "### Build a simple LSTM model with one-hot encoding (no embedding)"
   ]
  },
  {
   "cell_type": "markdown",
   "metadata": {},
   "source": [
    "Build a simple LSTM that has 64 hidden units "
   ]
  },
  {
   "cell_type": "code",
   "execution_count": 29,
   "metadata": {},
   "outputs": [
    {
     "name": "stdout",
     "output_type": "stream",
     "text": [
      "Epoch 1/10\n",
      " - 29s - loss: 1.0717 - accuracy: 0.4199 - val_loss: 1.0076 - val_accuracy: 0.4552\n",
      "Epoch 2/10\n",
      " - 28s - loss: 1.0102 - accuracy: 0.4786 - val_loss: 1.0370 - val_accuracy: 0.4783\n",
      "Epoch 3/10\n",
      " - 29s - loss: 0.9916 - accuracy: 0.4949 - val_loss: 1.0423 - val_accuracy: 0.4923\n",
      "Epoch 4/10\n",
      " - 31s - loss: 0.9761 - accuracy: 0.5138 - val_loss: 1.0351 - val_accuracy: 0.5023\n",
      "Epoch 5/10\n",
      " - 30s - loss: 0.9598 - accuracy: 0.5315 - val_loss: 1.0125 - val_accuracy: 0.5147\n",
      "Epoch 6/10\n",
      " - 30s - loss: 0.9472 - accuracy: 0.5458 - val_loss: 0.9765 - val_accuracy: 0.5217\n",
      "Epoch 7/10\n",
      " - 29s - loss: 0.9361 - accuracy: 0.5520 - val_loss: 0.9451 - val_accuracy: 0.5254\n",
      "Epoch 8/10\n",
      " - 30s - loss: 0.9284 - accuracy: 0.5610 - val_loss: 0.9190 - val_accuracy: 0.5261\n",
      "Epoch 9/10\n",
      " - 29s - loss: 0.9211 - accuracy: 0.5642 - val_loss: 0.8992 - val_accuracy: 0.5274\n",
      "Epoch 10/10\n",
      " - 28s - loss: 0.9162 - accuracy: 0.5673 - val_loss: 0.8859 - val_accuracy: 0.5227\n"
     ]
    }
   ],
   "source": [
    "### Build a simple LSTM that has 64 hidden units \n",
    "p = {'max_len': 10,\n",
    "     'embedding_input': None,\n",
    "     'embedding_dim': None,\n",
    "     'epochs': 10, # number of iterations on the full set \n",
    "     'batch_size': 16, \n",
    "     'hidden_neuron': 64, # number of neurons in the input layer \n",
    "     'lr': 0.0001, # learning rate       \n",
    "     'dropout': 0.2, \n",
    "     'optimizer': RMSprop, \n",
    "     'losses': categorical_crossentropy, \n",
    "     'last_activation': 'softmax'}\n",
    "\n",
    "# Model fitting\n",
    "LSTM_onehot_hist, LSTM_onehot_model = md.train(model = 'LSTM', \n",
    "                                               data_train = tenses_train, \n",
    "                                               data_valid = tenses_valid, \n",
    "                                               cue_index = cue_to_index, \n",
    "                                               outcome_index = outcome_to_index, \n",
    "                                               verbose = 2,\n",
    "                                               metrics = ['accuracy'],\n",
    "                                               params = p)"
   ]
  },
  {
   "cell_type": "code",
   "execution_count": 30,
   "metadata": {
    "scrolled": false
   },
   "outputs": [
    {
     "name": "stdout",
     "output_type": "stream",
     "text": [
      "Model: \"sequential_4\"\n",
      "_________________________________________________________________\n",
      "Layer (type)                 Output Shape              Param #   \n",
      "=================================================================\n",
      "lstm_2 (LSTM)                (None, 64)                528640    \n",
      "_________________________________________________________________\n",
      "dropout_6 (Dropout)          (None, 64)                0         \n",
      "_________________________________________________________________\n",
      "dense_8 (Dense)              (None, 3)                 195       \n",
      "=================================================================\n",
      "Total params: 528,835\n",
      "Trainable params: 528,835\n",
      "Non-trainable params: 0\n",
      "_________________________________________________________________\n"
     ]
    }
   ],
   "source": [
    "LSTM_onehot_model.summary()"
   ]
  },
  {
   "cell_type": "markdown",
   "metadata": {},
   "source": [
    "### Build a simple LSTM model with learnable embeddings"
   ]
  },
  {
   "cell_type": "markdown",
   "metadata": {},
   "source": [
    "Build a simple LSTM that has 64 hidden units "
   ]
  },
  {
   "cell_type": "code",
   "execution_count": 31,
   "metadata": {},
   "outputs": [
    {
     "name": "stdout",
     "output_type": "stream",
     "text": [
      "Epoch 1/10\n",
      " - 29s - loss: 1.0748 - accuracy: 0.4089 - val_loss: 1.0170 - val_accuracy: 0.4509\n",
      "Epoch 2/10\n",
      " - 28s - loss: 1.0206 - accuracy: 0.4698 - val_loss: 1.0128 - val_accuracy: 0.4753\n",
      "Epoch 3/10\n",
      " - 27s - loss: 1.0026 - accuracy: 0.4836 - val_loss: 1.0035 - val_accuracy: 0.4926\n",
      "Epoch 4/10\n",
      " - 28s - loss: 0.9893 - accuracy: 0.4945 - val_loss: 0.9871 - val_accuracy: 0.4987\n",
      "Epoch 5/10\n",
      " - 30s - loss: 0.9783 - accuracy: 0.5053 - val_loss: 0.9674 - val_accuracy: 0.5027\n",
      "Epoch 6/10\n",
      " - 28s - loss: 0.9677 - accuracy: 0.5185 - val_loss: 0.9524 - val_accuracy: 0.5130\n",
      "Epoch 7/10\n",
      " - 29s - loss: 0.9555 - accuracy: 0.5322 - val_loss: 0.9412 - val_accuracy: 0.5184\n",
      "Epoch 8/10\n",
      " - 29s - loss: 0.9453 - accuracy: 0.5437 - val_loss: 0.9289 - val_accuracy: 0.5267\n",
      "Epoch 9/10\n",
      " - 29s - loss: 0.9375 - accuracy: 0.5510 - val_loss: 0.9129 - val_accuracy: 0.5291\n",
      "Epoch 10/10\n",
      " - 29s - loss: 0.9306 - accuracy: 0.5569 - val_loss: 0.9014 - val_accuracy: 0.5328\n"
     ]
    }
   ],
   "source": [
    "### Build a simple LSTM that has 64 hidden units \n",
    "p = {'max_len': 10,\n",
    "     'embedding_input': 'learn',\n",
    "     'embedding_dim': 16,\n",
    "     'epochs': 10, # number of iterations on the full set \n",
    "     'batch_size': 16, \n",
    "     'hidden_neuron': 64, # number of neurons in the input layer \n",
    "     'lr': 0.0001, # learning rate       \n",
    "     'dropout': 0.2, \n",
    "     'optimizer': RMSprop, \n",
    "     'losses': categorical_crossentropy, \n",
    "     'last_activation': 'softmax'}\n",
    "\n",
    "# Model fitting\n",
    "LSTM_embed_hist, LSTM_embed_model = md.train(model = 'LSTM', \n",
    "                                             data_train = tenses_train, \n",
    "                                             data_valid = tenses_valid, \n",
    "                                             cue_index = cue_to_index, \n",
    "                                             outcome_index = outcome_to_index, \n",
    "                                             verbose = 2,\n",
    "                                             metrics = ['accuracy'],\n",
    "                                             params = p)"
   ]
  },
  {
   "cell_type": "code",
   "execution_count": 32,
   "metadata": {
    "scrolled": true
   },
   "outputs": [
    {
     "name": "stdout",
     "output_type": "stream",
     "text": [
      "Model: \"sequential_5\"\n",
      "_________________________________________________________________\n",
      "Layer (type)                 Output Shape              Param #   \n",
      "=================================================================\n",
      "embedding_3 (Embedding)      (None, 10, 16)            32016     \n",
      "_________________________________________________________________\n",
      "lstm_3 (LSTM)                (None, 64)                20736     \n",
      "_________________________________________________________________\n",
      "dropout_7 (Dropout)          (None, 64)                0         \n",
      "_________________________________________________________________\n",
      "dense_9 (Dense)              (None, 3)                 195       \n",
      "=================================================================\n",
      "Total params: 52,947\n",
      "Trainable params: 52,947\n",
      "Non-trainable params: 0\n",
      "_________________________________________________________________\n"
     ]
    }
   ],
   "source": [
    "LSTM_embed_model.summary()"
   ]
  },
  {
   "cell_type": "markdown",
   "metadata": {},
   "source": [
    "### Build a simple LSTM model with pretrained embeddings"
   ]
  },
  {
   "cell_type": "markdown",
   "metadata": {},
   "source": [
    "Build a simple LSTM that has 64 hidden units "
   ]
  },
  {
   "cell_type": "code",
   "execution_count": 33,
   "metadata": {},
   "outputs": [
    {
     "name": "stdout",
     "output_type": "stream",
     "text": [
      "Epoch 1/10\n",
      " - 30s - loss: 1.0937 - accuracy: 0.3759 - val_loss: 1.0813 - val_accuracy: 0.4168\n",
      "Epoch 2/10\n",
      " - 27s - loss: 1.0790 - accuracy: 0.4045 - val_loss: 1.0422 - val_accuracy: 0.4328\n",
      "Epoch 3/10\n",
      " - 28s - loss: 1.0641 - accuracy: 0.4304 - val_loss: 1.0309 - val_accuracy: 0.4439\n",
      "Epoch 4/10\n",
      " - 29s - loss: 1.0552 - accuracy: 0.4421 - val_loss: 1.0257 - val_accuracy: 0.4499\n",
      "Epoch 5/10\n",
      " - 29s - loss: 1.0462 - accuracy: 0.4495 - val_loss: 1.0206 - val_accuracy: 0.4586\n",
      "Epoch 6/10\n",
      " - 28s - loss: 1.0391 - accuracy: 0.4553 - val_loss: 1.0184 - val_accuracy: 0.4639\n",
      "Epoch 7/10\n",
      " - 28s - loss: 1.0346 - accuracy: 0.4595 - val_loss: 1.0074 - val_accuracy: 0.4652\n",
      "Epoch 8/10\n",
      " - 28s - loss: 1.0292 - accuracy: 0.4694 - val_loss: 0.9955 - val_accuracy: 0.4686\n",
      "Epoch 9/10\n",
      " - 29s - loss: 1.0239 - accuracy: 0.4726 - val_loss: 0.9813 - val_accuracy: 0.4696\n",
      "Epoch 10/10\n",
      " - 28s - loss: 1.0198 - accuracy: 0.4749 - val_loss: 0.9784 - val_accuracy: 0.4672\n"
     ]
    }
   ],
   "source": [
    "### Build a simple LSTM that has 64 hidden units \n",
    "p = {'max_len': 10,\n",
    "     'embedding_input': GLOVE_PATH,\n",
    "     'embedding_dim': None,\n",
    "     'epochs': 10, # number of iterations on the full set \n",
    "     'batch_size': 16, \n",
    "     'hidden_neuron': 64, # number of neurons in the input layer \n",
    "     'lr': 0.0001, # learning rate       \n",
    "     'dropout': 0.2, \n",
    "     'optimizer': RMSprop, \n",
    "     'losses': categorical_crossentropy, \n",
    "     'last_activation': 'softmax'}\n",
    "\n",
    "# Model fitting\n",
    "LSTM_glove_hist, LSTM_glove_model = md.train(model = 'LSTM', \n",
    "                                             data_train = tenses_train, \n",
    "                                             data_valid = tenses_valid, \n",
    "                                             cue_index = cue_to_index, \n",
    "                                             outcome_index = outcome_to_index, \n",
    "                                             verbose = 2,\n",
    "                                             metrics = ['accuracy'],\n",
    "                                             params = p)"
   ]
  },
  {
   "cell_type": "code",
   "execution_count": 34,
   "metadata": {
    "scrolled": false
   },
   "outputs": [
    {
     "name": "stdout",
     "output_type": "stream",
     "text": [
      "Model: \"sequential_6\"\n",
      "_________________________________________________________________\n",
      "Layer (type)                 Output Shape              Param #   \n",
      "=================================================================\n",
      "embedding_4 (Embedding)      (None, 10, 100)           200100    \n",
      "_________________________________________________________________\n",
      "lstm_4 (LSTM)                (None, 64)                42240     \n",
      "_________________________________________________________________\n",
      "dropout_8 (Dropout)          (None, 64)                0         \n",
      "_________________________________________________________________\n",
      "dense_10 (Dense)             (None, 3)                 195       \n",
      "=================================================================\n",
      "Total params: 242,535\n",
      "Trainable params: 42,435\n",
      "Non-trainable params: 200,100\n",
      "_________________________________________________________________\n"
     ]
    }
   ],
   "source": [
    "LSTM_glove_model.summary()"
   ]
  },
  {
   "cell_type": "markdown",
   "metadata": {},
   "source": [
    "### Tune the parameters to find a good model"
   ]
  },
  {
   "cell_type": "code",
   "execution_count": 37,
   "metadata": {
    "scrolled": true
   },
   "outputs": [],
   "source": [
    "### Parameter tuning using grid search \n",
    "p = {'max_len': [10, 20], # (x2)\n",
    "     'embedding_input': [None, 'learn', GLOVE_PATH], # (x3)\n",
    "     'embedding_dim': [None, 25, 50, 100], # (x4)\n",
    "     'epochs': [1, 5, 10, 20], # number of iterations on the full set (x4)\n",
    "     'batch_size': [16, 32, 64, 128, 256], # (x5)\n",
    "     'hidden_neuron':[16, 32, 64, 128], # number of neurons in the input layer (x4)\n",
    "     'lr': [0.0001, 0.0002, 0.0005, 0.001, 0.002, 0.005, 0.01], # learning rate (x7)       \n",
    "     'dropout': [0, 0.1, 0.2, 0.3, 0.4], # (x5)\n",
    "     'optimizer': [Adam, Nadam, RMSprop, SGD], # (x4)\n",
    "     'losses': [categorical_crossentropy], # (x1)\n",
    "     'last_activation': ['softmax'] # (x1)\n",
    "     }\n",
    "TUNING_PATH = TOP + 'illustrative_examples/tenses/Results/grid_search_LSTM_tenses.csv'"
   ]
  },
  {
   "cell_type": "code",
   "execution_count": 39,
   "metadata": {
    "scrolled": false
   },
   "outputs": [
    {
     "name": "stdout",
     "output_type": "stream",
     "text": [
      "Iteration 1 out of 11: {'max_len': 20, 'embedding_input': 'learn', 'embedding_dim': 100, 'epochs': 5, 'batch_size': 128, 'hidden_neuron': 16, 'lr': 0.001, 'dropout': 0.2, 'optimizer': <class 'keras.optimizers.Nadam'>, 'losses': <function categorical_crossentropy at 0x7f2f48874510>, 'last_activation': 'softmax'}\n",
      "\n",
      "Iteration 2 out of 11: {'max_len': 20, 'embedding_input': 'learn', 'embedding_dim': 50, 'epochs': 5, 'batch_size': 16, 'hidden_neuron': 32, 'lr': 0.0001, 'dropout': 0.2, 'optimizer': <class 'keras.optimizers.Nadam'>, 'losses': <function categorical_crossentropy at 0x7f2f48874510>, 'last_activation': 'softmax'}\n",
      "\n",
      "Iteration 3 out of 11: {'max_len': 10, 'embedding_input': '/media/adnane/HDD drive/Adnane/PostDoc_ooominds/Programming/Deep_text_modelling_package_repo/illustrative_examples/tenses/Data/glove.6B.100d.txt', 'embedding_dim': 100, 'epochs': 10, 'batch_size': 128, 'hidden_neuron': 32, 'lr': 0.01, 'dropout': 0.4, 'optimizer': <class 'keras.optimizers.Adam'>, 'losses': <function categorical_crossentropy at 0x7f2f48874510>, 'last_activation': 'softmax'}\n",
      "\n",
      "Iteration 4 out of 11: {'max_len': 10, 'embedding_input': 'learn', 'embedding_dim': 50, 'epochs': 5, 'batch_size': 16, 'hidden_neuron': 32, 'lr': 0.005, 'dropout': 0.2, 'optimizer': <class 'keras.optimizers.Adam'>, 'losses': <function categorical_crossentropy at 0x7f2f48874510>, 'last_activation': 'softmax'}\n",
      "\n",
      "Iteration 5 out of 11: {'max_len': 10, 'embedding_input': 'learn', 'embedding_dim': 50, 'epochs': 1, 'batch_size': 16, 'hidden_neuron': 64, 'lr': 0.001, 'dropout': 0.3, 'optimizer': <class 'keras.optimizers.Adam'>, 'losses': <function categorical_crossentropy at 0x7f2f48874510>, 'last_activation': 'softmax'}\n",
      "\n",
      "Iteration 6 out of 11: {'max_len': 20, 'embedding_input': 'learn', 'embedding_dim': 100, 'epochs': 10, 'batch_size': 32, 'hidden_neuron': 64, 'lr': 0.01, 'dropout': 0.2, 'optimizer': <class 'keras.optimizers.Adam'>, 'losses': <function categorical_crossentropy at 0x7f2f48874510>, 'last_activation': 'softmax'}\n",
      "\n",
      "Iteration 7 out of 11: {'max_len': 10, 'embedding_input': 'learn', 'embedding_dim': 50, 'epochs': 1, 'batch_size': 64, 'hidden_neuron': 64, 'lr': 0.0001, 'dropout': 0.3, 'optimizer': <class 'keras.optimizers.Nadam'>, 'losses': <function categorical_crossentropy at 0x7f2f48874510>, 'last_activation': 'softmax'}\n",
      "\n",
      "Iteration 8 out of 11: {'max_len': 10, 'embedding_input': None, 'embedding_dim': None, 'epochs': 5, 'batch_size': 16, 'hidden_neuron': 32, 'lr': 0.01, 'dropout': 0, 'optimizer': <class 'keras.optimizers.SGD'>, 'losses': <function categorical_crossentropy at 0x7f2f48874510>, 'last_activation': 'softmax'}\n",
      "\n",
      "Iteration 9 out of 11: {'max_len': 10, 'embedding_input': None, 'embedding_dim': None, 'epochs': 20, 'batch_size': 128, 'hidden_neuron': 128, 'lr': 0.005, 'dropout': 0, 'optimizer': <class 'keras.optimizers.SGD'>, 'losses': <function categorical_crossentropy at 0x7f2f48874510>, 'last_activation': 'softmax'}\n",
      "\n",
      "Iteration 10 out of 11: {'max_len': 10, 'embedding_input': None, 'embedding_dim': None, 'epochs': 10, 'batch_size': 256, 'hidden_neuron': 32, 'lr': 0.01, 'dropout': 0.1, 'optimizer': <class 'keras.optimizers.Nadam'>, 'losses': <function categorical_crossentropy at 0x7f2f48874510>, 'last_activation': 'softmax'}\n",
      "\n",
      "Iteration 11 out of 11: {'max_len': 20, 'embedding_input': None, 'embedding_dim': None, 'epochs': 20, 'batch_size': 256, 'hidden_neuron': 16, 'lr': 0.01, 'dropout': 0, 'optimizer': <class 'keras.optimizers.Adam'>, 'losses': <function categorical_crossentropy at 0x7f2f48874510>, 'last_activation': 'softmax'}\n",
      "\n"
     ]
    }
   ],
   "source": [
    "### Grid search \n",
    "md.grid_search(model = 'LSTM',\n",
    "               data_train = tenses_train, \n",
    "               data_valid = tenses_valid, \n",
    "               cue_index = cue_to_index, \n",
    "               outcome_index = outcome_to_index,\n",
    "               params = p,\n",
    "               prop_grid = 1e-4, \n",
    "               tuning_output_file = TUNING_PATH,  \n",
    "               num_threads = 2)"
   ]
  },
  {
   "cell_type": "markdown",
   "metadata": {},
   "source": [
    "### Assessing the grid search"
   ]
  },
  {
   "cell_type": "code",
   "execution_count": 40,
   "metadata": {},
   "outputs": [
    {
     "data": {
      "text/plain": [
       "92"
      ]
     },
     "execution_count": 40,
     "metadata": {},
     "output_type": "execute_result"
    }
   ],
   "source": [
    "# Import the grid search file to analyse the results \n",
    "gs_results = pd.read_csv(TUNING_PATH, index_col = False)\n",
    "\n",
    "# get the number of parameter combinations that were processed\n",
    "len(gs_results)"
   ]
  },
  {
   "cell_type": "code",
   "execution_count": 41,
   "metadata": {},
   "outputs": [
    {
     "name": "stdout",
     "output_type": "stream",
     "text": [
      "- Highest validation accuracy: 0.5372869372367859\n",
      "- Highest validation f1-score: 0.84058493\n"
     ]
    }
   ],
   "source": [
    "# get the highest result for any metric\n",
    "print(f\"- Highest validation accuracy: {gs_results['val_acc'].max()}\")\n",
    "print(f\"- Highest validation f1-score: {gs_results['f1score'].max()}\")"
   ]
  },
  {
   "cell_type": "code",
   "execution_count": 42,
   "metadata": {
    "scrolled": true
   },
   "outputs": [
    {
     "data": {
      "text/plain": [
       "62"
      ]
     },
     "execution_count": 42,
     "metadata": {},
     "output_type": "execute_result"
    }
   ],
   "source": [
    "# get the index of the combination with the best result\n",
    "i_best = gs_results['val_acc'].argmax()\n",
    "i_best"
   ]
  },
  {
   "cell_type": "code",
   "execution_count": 43,
   "metadata": {
    "scrolled": false
   },
   "outputs": [
    {
     "data": {
      "text/plain": [
       "max_len                                                               10\n",
       "embedding_input                                                   onehot\n",
       "embedding_dim                                                          0\n",
       "epochs                                                                 1\n",
       "batch_size                                                           256\n",
       "hidden_neuron                                                         32\n",
       "lr                                                                  0.01\n",
       "dropout                                                              0.1\n",
       "optimizer                               <class 'keras.optimizers.Nadam'>\n",
       "losses             <function categorical_crossentropy at 0x7f2f48874510>\n",
       "                                           ...                          \n",
       "loss                                                             0.99821\n",
       "acc                                                             0.492524\n",
       "precision                                                       0.586298\n",
       "recall                                                          0.212996\n",
       "f1score                                                         0.303709\n",
       "val_loss                                                        0.942541\n",
       "val_acc                                                         0.537287\n",
       "val_precision                                                   0.642103\n",
       "val_recall                                                      0.310014\n",
       "val_f1score                                                     0.417802\n",
       "Name: 62, Length: 21, dtype: object"
      ]
     },
     "execution_count": 43,
     "metadata": {},
     "output_type": "execute_result"
    }
   ],
   "source": [
    "# get the best paramaters\n",
    "gs_results.iloc[i_best, ]"
   ]
  },
  {
   "cell_type": "markdown",
   "metadata": {},
   "source": [
    "### Retraining with the best parameters"
   ]
  },
  {
   "cell_type": "code",
   "execution_count": 44,
   "metadata": {
    "scrolled": true
   },
   "outputs": [
    {
     "name": "stdout",
     "output_type": "stream",
     "text": [
      "Epoch 1/1\n",
      " - 6s - loss: 1.0057 - accuracy: 0.4904 - val_loss: 0.9494 - val_accuracy: 0.5281\n"
     ]
    }
   ],
   "source": [
    "### Build a simple LSTM that has 64 hidden units \n",
    "p = {'max_len': 10,\n",
    "     'embedding_input': None,\n",
    "     'embedding_dim': None,\n",
    "     'epochs': 1, # number of iterations on the full set \n",
    "     'batch_size': 256, \n",
    "     'hidden_neuron': 32, # number of neurons in the input layer \n",
    "     'lr': 0.01, # learning rate       \n",
    "     'dropout': 0.1, \n",
    "     'optimizer': RMSprop, \n",
    "     'losses': categorical_crossentropy, \n",
    "     'last_activation': 'softmax'}\n",
    "\n",
    "# Model fitting\n",
    "LSTM_hist, LSTM_model = md.train(model = 'LSTM', \n",
    "                                               data_train = tenses_train, \n",
    "                                               data_valid = tenses_valid, \n",
    "                                               cue_index = cue_to_index, \n",
    "                                               outcome_index = outcome_to_index, \n",
    "                                               verbose = 2,\n",
    "                                               metrics = ['accuracy'],\n",
    "                                               params = p)"
   ]
  },
  {
   "cell_type": "code",
   "execution_count": 45,
   "metadata": {},
   "outputs": [],
   "source": [
    "# Save the model and training history\n",
    "MODEL_PATH = TOP + 'illustrative_examples/tenses/Results/LSTM_tenses.h5'\n",
    "HISTORY_PATH = TOP + 'illustrative_examples/tenses/Results/LSTM_history_dict_tenses'\n",
    "md.export_model(model = LSTM_model, path = MODEL_PATH)  # creates a HDF5 file \n",
    "md.export_history(history_dict = LSTM_hist, path = HISTORY_PATH)\n",
    "del LSTM_model, LSTM_hist  # deletes the existing model and history dictionary"
   ]
  },
  {
   "cell_type": "code",
   "execution_count": 46,
   "metadata": {},
   "outputs": [],
   "source": [
    "# Load the model and training history\n",
    "MODEL_PATH = TOP + 'illustrative_examples/tenses/Results/LSTM_tenses.h5'\n",
    "HISTORY_PATH = TOP + 'illustrative_examples/tenses/Results/LSTM_history_dict_tenses'\n",
    "LSTM_model = md.import_model(MODEL_PATH)\n",
    "LSTM_history_dict = md.import_history(path = HISTORY_PATH)"
   ]
  },
  {
   "cell_type": "markdown",
   "metadata": {},
   "source": [
    "### Evaluate the final model"
   ]
  },
  {
   "cell_type": "code",
   "execution_count": 49,
   "metadata": {},
   "outputs": [
    {
     "name": "stdout",
     "output_type": "stream",
     "text": [
      "{'FutureSimple': 0.8418307, 'PastSimple': 0.034237638, 'PresentSimple': 0.12393176}\n"
     ]
    }
   ],
   "source": [
    "# Test prediction for a single given cue sequence. Model expect inout as array of shape (1, N_cues) \n",
    "cue1_seq = 'I_you_tomorrow' # context from the sentence 'I will meet you tomorrow'\n",
    "outcome1_prob_pred = ev.predict_proba_oneevent_LSTM(model = LSTM_model, \n",
    "                                                   cue_seq = cue1_seq, \n",
    "                                                   cue_index = cue_to_index,\n",
    "                                                   max_len = 10,\n",
    "                                                   vector_encoding = 'onehot')\n",
    "print({index_to_outcome[j+1]:outcome1_prob_pred[j] for j in range(len(outcome1_prob_pred))})"
   ]
  },
  {
   "cell_type": "code",
   "execution_count": 51,
   "metadata": {},
   "outputs": [],
   "source": [
    "# Evaluate the model on the test set\n",
    "prob_pred = ev.predict_proba_eventfile_LSTM(model = LSTM_model, \n",
    "                                           data_test = tenses_test, \n",
    "                                           cue_index = cue_to_index, \n",
    "                                           outcome_index = outcome_to_index, \n",
    "                                           max_len = 10,  \n",
    "                                           vector_encoding = 'onehot')"
   ]
  },
  {
   "cell_type": "code",
   "execution_count": 52,
   "metadata": {},
   "outputs": [
    {
     "data": {
      "text/plain": [
       "0.5263333333333333"
      ]
     },
     "execution_count": 52,
     "metadata": {},
     "output_type": "execute_result"
    }
   ],
   "source": [
    "# True responses to compare the predictions to\n",
    "y_test = tenses_test.replace({'outcomes': outcome_to_index})['outcomes']\n",
    "y_pred = np.argmax(prob_pred, axis=1)+1\n",
    "\n",
    "# Overall test accuracy\n",
    "test_accuracy = accuracy_score(y_test, y_pred)\n",
    "test_accuracy"
   ]
  },
  {
   "cell_type": "code",
   "execution_count": 53,
   "metadata": {},
   "outputs": [
    {
     "name": "stdout",
     "output_type": "stream",
     "text": [
      "{'FutureSimple': 0.6788899900891973, 'PastSimple': 0.4709480122324159, 'PresentSimple': 0.4277227722772277}\n"
     ]
    }
   ],
   "source": [
    "# Test accuracy per class\n",
    "cmat = confusion_matrix(y_test, y_pred, labels = list(outcome_to_index.values())) # Confusion matrix\n",
    "cmat_diag = cmat.diagonal()/cmat.sum(axis=1)\n",
    "print({index_to_outcome[j+1]:cmat_diag[j] for j in range(len(cmat_diag))})"
   ]
  },
  {
   "cell_type": "markdown",
   "metadata": {},
   "source": [
    "## V. Naive discriminative learning model <a ID=\"V\"></a> "
   ]
  },
  {
   "cell_type": "markdown",
   "metadata": {},
   "source": [
    "### Build a simple NDL model"
   ]
  },
  {
   "cell_type": "code",
   "execution_count": 10,
   "metadata": {
    "scrolled": false
   },
   "outputs": [
    {
     "name": "stdout",
     "output_type": "stream",
     "text": [
      "Epoch 1/10\n",
      " - 81s - acc: 0.5170 - val_acc: 0.5047\n",
      "Epoch 2/10\n",
      " - 81s - acc: 0.5375 - val_acc: 0.5131\n",
      "Epoch 3/10\n",
      " - 82s - acc: 0.5480 - val_acc: 0.5255\n",
      "Epoch 4/10\n",
      " - 82s - acc: 0.5571 - val_acc: 0.5315\n",
      "Epoch 5/10\n",
      " - 83s - acc: 0.5613 - val_acc: 0.5332\n",
      "Epoch 6/10\n",
      " - 82s - acc: 0.5667 - val_acc: 0.5322\n",
      "Epoch 7/10\n",
      " - 81s - acc: 0.5715 - val_acc: 0.5301\n",
      "Epoch 8/10\n",
      " - 80s - acc: 0.5751 - val_acc: 0.5311\n",
      "Epoch 9/10\n",
      " - 79s - acc: 0.5771 - val_acc: 0.5311\n",
      "Epoch 10/10\n",
      " - 79s - acc: 0.5794 - val_acc: 0.5338\n"
     ]
    }
   ],
   "source": [
    "### Build a simple NDL\n",
    "p = {'epochs': 10, # number of iterations on the full set \n",
    "    'lr': 0.001}\n",
    "\n",
    "# Model fitting\n",
    "NDL_history_dict, NDL_model = md.train(model = 'NDL',\n",
    "                                       data_train = tenses_train, \n",
    "                                       data_valid = tenses_valid,  \n",
    "                                       cue_index = cue_to_index, \n",
    "                                       outcome_index = outcome_to_index, \n",
    "                                       num_threads = 16, \n",
    "                                       verbose = 1,\n",
    "                                       params = p)"
   ]
  },
  {
   "cell_type": "code",
   "execution_count": 12,
   "metadata": {
    "scrolled": true
   },
   "outputs": [
    {
     "data": {
      "image/png": "[encoded data removed]",
      "text/plain": [
       "<Figure size 432x288 with 1 Axes>"
      ]
     },
     "metadata": {
      "needs_background": "light"
     },
     "output_type": "display_data"
    }
   ],
   "source": [
    "# Generate learning curve\n",
    "ev.plot_learning_curve(history_dict = NDL_history_dict, metric = 'accuracy', set = 'train_valid')"
   ]
  },
  {
   "cell_type": "markdown",
   "metadata": {},
   "source": [
    "### Tune the parameters to find a good model"
   ]
  },
  {
   "cell_type": "code",
   "execution_count": 15,
   "metadata": {},
   "outputs": [
    {
     "name": "stdout",
     "output_type": "stream",
     "text": [
      "Iteration 1 out of 8: {'lr': 0.005, 'epochs': 2}\n",
      "\n",
      "Iteration 2 out of 8: {'lr': 0.0005, 'epochs': 8}\n",
      "\n",
      "Iteration 3 out of 8: {'lr': 0.05, 'epochs': 6}\n",
      "\n",
      "Iteration 4 out of 8: {'lr': 5e-05, 'epochs': 6}\n",
      "\n",
      "Iteration 5 out of 8: {'lr': 5e-05, 'epochs': 2}\n",
      "\n",
      "This parameter combination has already been processed: {'lr': 5e-05, 'epochs': 2}\n",
      "\n",
      "Iteration 6 out of 8: {'lr': 1e-05, 'epochs': 6}\n",
      "\n",
      "Iteration 7 out of 8: {'lr': 0.01, 'epochs': 8}\n",
      "\n",
      "Iteration 8 out of 8: {'lr': 5e-05, 'epochs': 1}\n",
      "\n",
      "This parameter combination has already been processed: {'lr': 5e-05, 'epochs': 1}\n",
      "\n"
     ]
    }
   ],
   "source": [
    "### Parameter tuning using grid search \n",
    "p = {'lr': [0.00001, 0.00005, 0.0001, 0.0005, 0.001, 0.005, 0.01, 0.05], # learning rate (x8)\n",
    "     'epochs': [1, 2, 4, 6, 8], # number of iterations on the full set (x5)\n",
    "     }\n",
    "# => Total number of combinations: 8*5 = 40\n",
    "\n",
    "### Grid search \n",
    "TUNING_PATH = TOP + 'illustrative_examples/tenses/Results/grid_search_NDL_tenses.csv'\n",
    "md.grid_search_NDL(data_train = tenses_train, \n",
    "                   data_valid = tenses_valid, \n",
    "                   cue_index = cue_to_index, \n",
    "                   outcome_index = outcome_to_index, \n",
    "                   params = p, \n",
    "                   prop_grid = 0.2, \n",
    "                   shuffle_grid = True,\n",
    "                   tuning_output_file = TUNING_PATH, \n",
    "                   num_threads = 16)"
   ]
  },
  {
   "cell_type": "markdown",
   "metadata": {},
   "source": [
    "### Assessing the grid search"
   ]
  },
  {
   "cell_type": "code",
   "execution_count": 16,
   "metadata": {},
   "outputs": [
    {
     "data": {
      "text/plain": [
       "36"
      ]
     },
     "execution_count": 16,
     "metadata": {},
     "output_type": "execute_result"
    }
   ],
   "source": [
    "# Import the grid search file to analyse the results \n",
    "gs_results = pd.read_csv(TUNING_PATH, index_col = False)\n",
    "\n",
    "# get the number of parameter combinations that were processed\n",
    "len(gs_results)"
   ]
  },
  {
   "cell_type": "code",
   "execution_count": 17,
   "metadata": {},
   "outputs": [
    {
     "data": {
      "text/html": [
       "<div>\n",
       "<style scoped>\n",
       "    .dataframe tbody tr th:only-of-type {\n",
       "        vertical-align: middle;\n",
       "    }\n",
       "\n",
       "    .dataframe tbody tr th {\n",
       "        vertical-align: top;\n",
       "    }\n",
       "\n",
       "    .dataframe thead th {\n",
       "        text-align: right;\n",
       "    }\n",
       "</style>\n",
       "<table border=\"1\" class=\"dataframe\">\n",
       "  <thead>\n",
       "    <tr style=\"text-align: right;\">\n",
       "      <th></th>\n",
       "      <th>lr</th>\n",
       "      <th>epochs</th>\n",
       "      <th>acc</th>\n",
       "      <th>precision</th>\n",
       "      <th>recall</th>\n",
       "      <th>f1score</th>\n",
       "      <th>val_acc</th>\n",
       "      <th>val_precision</th>\n",
       "      <th>val_recall</th>\n",
       "      <th>val_f1score</th>\n",
       "    </tr>\n",
       "  </thead>\n",
       "  <tbody>\n",
       "    <tr>\n",
       "      <th>0</th>\n",
       "      <td>0.0050</td>\n",
       "      <td>1</td>\n",
       "      <td>0.555034</td>\n",
       "      <td>0.553968</td>\n",
       "      <td>0.554828</td>\n",
       "      <td>0.552948</td>\n",
       "      <td>0.522773</td>\n",
       "      <td>0.520583</td>\n",
       "      <td>0.523438</td>\n",
       "      <td>0.520869</td>\n",
       "    </tr>\n",
       "    <tr>\n",
       "      <th>1</th>\n",
       "      <td>0.0050</td>\n",
       "      <td>2</td>\n",
       "      <td>0.573547</td>\n",
       "      <td>0.572125</td>\n",
       "      <td>0.573428</td>\n",
       "      <td>0.572314</td>\n",
       "      <td>0.526457</td>\n",
       "      <td>0.524693</td>\n",
       "      <td>0.527256</td>\n",
       "      <td>0.525527</td>\n",
       "    </tr>\n",
       "    <tr>\n",
       "      <th>2</th>\n",
       "      <td>0.0005</td>\n",
       "      <td>1</td>\n",
       "      <td>0.498408</td>\n",
       "      <td>0.503528</td>\n",
       "      <td>0.497742</td>\n",
       "      <td>0.482053</td>\n",
       "      <td>0.490623</td>\n",
       "      <td>0.492990</td>\n",
       "      <td>0.491281</td>\n",
       "      <td>0.474983</td>\n",
       "    </tr>\n",
       "    <tr>\n",
       "      <th>3</th>\n",
       "      <td>0.0005</td>\n",
       "      <td>2</td>\n",
       "      <td>0.516418</td>\n",
       "      <td>0.517535</td>\n",
       "      <td>0.515942</td>\n",
       "      <td>0.506346</td>\n",
       "      <td>0.503684</td>\n",
       "      <td>0.503838</td>\n",
       "      <td>0.504498</td>\n",
       "      <td>0.494179</td>\n",
       "    </tr>\n",
       "    <tr>\n",
       "      <th>4</th>\n",
       "      <td>0.0005</td>\n",
       "      <td>3</td>\n",
       "      <td>0.528564</td>\n",
       "      <td>0.528750</td>\n",
       "      <td>0.528171</td>\n",
       "      <td>0.521550</td>\n",
       "      <td>0.513396</td>\n",
       "      <td>0.511864</td>\n",
       "      <td>0.514202</td>\n",
       "      <td>0.506442</td>\n",
       "    </tr>\n",
       "  </tbody>\n",
       "</table>\n",
       "</div>"
      ],
      "text/plain": [
       "       lr  epochs       acc  precision    recall   f1score   val_acc  \\\n",
       "0  0.0050       1  0.555034   0.553968  0.554828  0.552948  0.522773   \n",
       "1  0.0050       2  0.573547   0.572125  0.573428  0.572314  0.526457   \n",
       "2  0.0005       1  0.498408   0.503528  0.497742  0.482053  0.490623   \n",
       "3  0.0005       2  0.516418   0.517535  0.515942  0.506346  0.503684   \n",
       "4  0.0005       3  0.528564   0.528750  0.528171  0.521550  0.513396   \n",
       "\n",
       "   val_precision  val_recall  val_f1score  \n",
       "0       0.520583    0.523438     0.520869  \n",
       "1       0.524693    0.527256     0.525527  \n",
       "2       0.492990    0.491281     0.474983  \n",
       "3       0.503838    0.504498     0.494179  \n",
       "4       0.511864    0.514202     0.506442  "
      ]
     },
     "execution_count": 17,
     "metadata": {},
     "output_type": "execute_result"
    }
   ],
   "source": [
    "# Display the dataframe containing the tuning results\n",
    "gs_results.head()"
   ]
  },
  {
   "cell_type": "code",
   "execution_count": 18,
   "metadata": {},
   "outputs": [
    {
     "name": "stdout",
     "output_type": "stream",
     "text": [
      "- Highest validation accuracy: 0.5331547220361688\n",
      "- Highest validation f1-score: 0.5956459106368405\n"
     ]
    }
   ],
   "source": [
    "# get the highest result for any metric\n",
    "print(f\"- Highest validation accuracy: {gs_results['val_acc'].max()}\")\n",
    "print(f\"- Highest validation f1-score: {gs_results['f1score'].max()}\")"
   ]
  },
  {
   "cell_type": "code",
   "execution_count": 19,
   "metadata": {
    "scrolled": true
   },
   "outputs": [
    {
     "data": {
      "text/plain": [
       "9"
      ]
     },
     "execution_count": 19,
     "metadata": {},
     "output_type": "execute_result"
    }
   ],
   "source": [
    "# get the index of the combination with the best result\n",
    "i_best = gs_results['val_acc'].argmax()\n",
    "i_best"
   ]
  },
  {
   "cell_type": "code",
   "execution_count": 20,
   "metadata": {
    "scrolled": true
   },
   "outputs": [
    {
     "data": {
      "text/plain": [
       "lr               0.000500\n",
       "epochs           8.000000\n",
       "acc              0.556752\n",
       "precision        0.555440\n",
       "recall           0.556527\n",
       "f1score          0.553571\n",
       "val_acc          0.533155\n",
       "val_precision    0.531244\n",
       "val_recall       0.533971\n",
       "val_f1score      0.529704\n",
       "Name: 9, dtype: float64"
      ]
     },
     "execution_count": 20,
     "metadata": {},
     "output_type": "execute_result"
    }
   ],
   "source": [
    "# get the best paramaters\n",
    "gs_results.iloc[i_best, ]"
   ]
  },
  {
   "cell_type": "markdown",
   "metadata": {},
   "source": [
    "### Retraining with the best parameters"
   ]
  },
  {
   "cell_type": "code",
   "execution_count": 9,
   "metadata": {
    "scrolled": false
   },
   "outputs": [
    {
     "name": "stdout",
     "output_type": "stream",
     "text": [
      "Epoch 1/8\n",
      " - 81s - acc: 0.4984 - val_acc: 0.4906\n",
      "Epoch 2/8\n",
      " - 81s - acc: 0.5164 - val_acc: 0.5037\n",
      "Epoch 3/8\n",
      " - 81s - acc: 0.5286 - val_acc: 0.5134\n",
      "Epoch 4/8\n",
      " - 81s - acc: 0.5367 - val_acc: 0.5161\n",
      "Epoch 5/8\n",
      " - 82s - acc: 0.5442 - val_acc: 0.5201\n",
      "Epoch 6/8\n",
      " - 79s - acc: 0.5486 - val_acc: 0.5248\n",
      "Epoch 7/8\n",
      " - 79s - acc: 0.5534 - val_acc: 0.5308\n",
      "Epoch 8/8\n",
      " - 78s - acc: 0.5568 - val_acc: 0.5332\n"
     ]
    }
   ],
   "source": [
    "### Hyperparameters to use\n",
    "p = {'epochs': 8, # number of iterations on the full set \n",
    "    'lr': 0.0005}\n",
    "\n",
    "# Model fitting\n",
    "NDL_hist, NDL_model = md.train(model = 'NDL',\n",
    "                               data_train = tenses_train, \n",
    "                               data_valid = tenses_valid,  \n",
    "                               cue_index = cue_to_index, \n",
    "                               outcome_index = outcome_to_index, \n",
    "                               num_threads = 16, \n",
    "                               verbose = 1,\n",
    "                               params = p)"
   ]
  },
  {
   "cell_type": "code",
   "execution_count": 10,
   "metadata": {},
   "outputs": [],
   "source": [
    "# Save the weights and training history\n",
    "MODEL_PATH = TOP + 'illustrative_examples/tenses/Results/NDL_tenses.h5'\n",
    "HISTORY_PATH = TOP + 'illustrative_examples/tenses/Results/NDL_history_dict_tenses'\n",
    "md.export_model(model = NDL_model, path = MODEL_PATH)  # create a HDF5 file \n",
    "md.export_history(history_dict = NDL_hist, path = HISTORY_PATH)\n",
    "del NDL_model, NDL_history_dict  # delete the existing model and history dictionary"
   ]
  },
  {
   "cell_type": "code",
   "execution_count": 11,
   "metadata": {},
   "outputs": [],
   "source": [
    "# Load the model and training history\n",
    "MODEL_PATH = TOP + 'illustrative_examples/tenses/Results/NDL_tenses.h5'\n",
    "HISTORY_PATH = TOP + 'illustrative_examples/tenses/Results/NDL_history_dict_tenses'\n",
    "NDL_model = md.import_model(MODEL_PATH)\n",
    "NDL_history_dict = md.import_history(path = HISTORY_PATH)"
   ]
  },
  {
   "cell_type": "markdown",
   "metadata": {},
   "source": [
    "### Evaluate the final model"
   ]
  },
  {
   "cell_type": "code",
   "execution_count": 12,
   "metadata": {
    "scrolled": true
   },
   "outputs": [
    {
     "name": "stdout",
     "output_type": "stream",
     "text": [
      "[0.41608894 0.32474414 0.25916692]\n",
      "{'FutureSimple': 0.4160889379720033, 'PastSimple': 0.3247441402929446, 'PresentSimple': 0.25916692173505207}\n"
     ]
    }
   ],
   "source": [
    "# Test prediction for a single given cue sequence. Model expect input as array of shape (1, N_cues) \n",
    "cue1_seq = 'I_you_tomorrow' # context from the sentence 'I will meet you tomorrow'\n",
    "outcome1_prob_pred = ev.predict_proba_oneevent_NDL(model = NDL_model, \n",
    "                                                   cue_seq = cue1_seq)\n",
    "print(outcome1_prob_pred) # vector of predicted probabilities\n",
    "print({index_to_outcome[j+1]:outcome1_prob_pred[j] for j in range(len(outcome1_prob_pred))})"
   ]
  },
  {
   "cell_type": "markdown",
   "metadata": {},
   "source": [
    "The probability of future seems low, not because the model is unconfident, but because the softmax transformation used is 'soft' in terms of converting activations to probabilities. Decreasing the temperature parameter can emphasise more the predictions bewteen the three tense: "
   ]
  },
  {
   "cell_type": "code",
   "execution_count": 13,
   "metadata": {
    "scrolled": true
   },
   "outputs": [
    {
     "name": "stdout",
     "output_type": "stream",
     "text": [
      "[0.91520762 0.07674872 0.00804366]\n",
      "{'FutureSimple': 0.9152076178518962, 'PastSimple': 0.0767487235123707, 'PresentSimple': 0.008043658635733074}\n"
     ]
    }
   ],
   "source": [
    "# Test prediction for a single given cue sequence. Model expect input as array of shape (1, N_cues) \n",
    "cue1_seq = 'I_will_meet_you_tomorrow'\n",
    "outcome1_prob_pred = ev.predict_proba_oneevent_NDL(model = NDL_model, \n",
    "                                                   cue_seq = cue1_seq,\n",
    "                                                   T = 0.1)\n",
    "print(outcome1_prob_pred) # vector of predicted probabilities\n",
    "print({index_to_outcome[j+1]:outcome1_prob_pred[j] for j in range(len(outcome1_prob_pred))})"
   ]
  },
  {
   "cell_type": "code",
   "execution_count": 40,
   "metadata": {},
   "outputs": [
    {
     "data": {
      "text/plain": [
       "0.5306666666666666"
      ]
     },
     "execution_count": 40,
     "metadata": {},
     "output_type": "execute_result"
    }
   ],
   "source": [
    "### Evaluate the model on the test set\n",
    "# True outcomes to compare the predictions to\n",
    "y_test = tenses_test['outcomes'].tolist()\n",
    "\n",
    "# Predicted outcomes\n",
    "y_pred = ev.predict_outcomes_NDL(model = NDL_model, \n",
    "                                 data_test = tenses_test,\n",
    "                                 num_threads = 16)\n",
    "\n",
    "# Overall test accuracy\n",
    "test_accuracy = accuracy_score(y_test, y_pred)\n",
    "test_accuracy"
   ]
  },
  {
   "cell_type": "code",
   "execution_count": 42,
   "metadata": {},
   "outputs": [
    {
     "name": "stdout",
     "output_type": "stream",
     "text": [
      "{'FutureSimple': 0.605759682224429, 'PastSimple': 0.5927835051546392, 'PresentSimple': 0.40336967294350845}\n"
     ]
    }
   ],
   "source": [
    "# Test accuracy per class\n",
    "cmat = confusion_matrix(y_test, y_pred, labels = list(outcome_to_index.keys())) # Confusion matrix\n",
    "cmat_diag = cmat.diagonal()/cmat.sum(axis=1)\n",
    "print({index_to_outcome[j+1]:cmat_diag[j] for j in range(len(cmat_diag))})"
   ]
  }
 ],
 "metadata": {
  "kernelspec": {
   "display_name": "Python 3",
   "language": "python",
   "name": "python3"
  },
  "language_info": {
   "codemirror_mode": {
    "name": "ipython",
    "version": 3
   },
   "file_extension": ".py",
   "mimetype": "text/x-python",
   "name": "python",
   "nbconvert_exporter": "python",
   "pygments_lexer": "ipython3",
   "version": "3.6.8"
  }
 },
 "nbformat": 4,
 "nbformat_minor": 2
}
