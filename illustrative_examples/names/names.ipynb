{
 "cells": [
  {
   "cell_type": "markdown",
   "metadata": {},
   "source": [
    "# Predicting gender from names"
   ]
  },
  {
   "cell_type": "markdown",
   "metadata": {},
   "source": [
    "## Table of Contents"
   ]
  },
  {
   "cell_type": "markdown",
   "metadata": {},
   "source": [
    "##### I. <a href=#I>Preliminary steps</a>\n",
    "##### II. <a href=#II>Prepare the data</a>\n",
    "##### III. <a href=#III>Feed-forward neural network model</a>\n",
    "##### IV. <a href=#IV>Long short-term memory model</a>\n",
    "##### V. <a href=#V>Naive discriminative learning model</a>"
   ]
  },
  {
   "cell_type": "markdown",
   "metadata": {},
   "source": [
    "## I. Preliminary steps <a ID=\"I\"></a> "
   ]
  },
  {
   "cell_type": "markdown",
   "metadata": {},
   "source": [
    "### Import necessary libraries and set up the working directory"
   ]
  },
  {
   "cell_type": "code",
   "execution_count": 2,
   "metadata": {
    "scrolled": true
   },
   "outputs": [],
   "source": [
    "### Import necessary packages\n",
    "import os\n",
    "import pandas as pd\n",
    "import numpy as np\n",
    "from keras.models import Sequential\n",
    "from keras.layers import Dropout, Dense\n",
    "from keras.optimizers import Adam, Nadam, RMSprop, SGD\n",
    "from keras.activations import relu, elu\n",
    "from keras.losses import binary_crossentropy\n",
    "from keras import metrics\n",
    "from keras.models import load_model\n",
    "from sklearn.metrics import accuracy_score\n",
    "from sklearn.metrics import confusion_matrix\n",
    "import warnings\n",
    "\n",
    "### Set working directory\n",
    "TOP = '/media/adnane/HDD drive/Adnane/PostDoc_ooominds/Programming/Deep_text_modelling_package_repo/'\n",
    "#TOP = 'F:/Adnane/PostDoc_ooominds/Programming/Deep_text_modelling_package_repo/'\n",
    "#TOP = '/media/Deep_text_modelling_package_repo/'\n",
    "WD = TOP + 'package'\n",
    "os.chdir(WD)\n",
    "\n",
    "### Import local packages\n",
    "import deep_text_modelling.preprocessing as pr\n",
    "import deep_text_modelling.modelling as md\n",
    "import deep_text_modelling.evaluation as ev\n",
    "\n",
    "# Display option for dataframes and matplotlib\n",
    "pd.set_option('display.max_colwidth', 100) # Max width of columns when dispalying datasets\n",
    "PREVIOUS_MAX_ROWS = pd.options.display.max_rows\n",
    "pd.options.display.max_rows = 20\n",
    "warnings.filterwarnings('ignore') # Hide warnings\n",
    "warnings.simplefilter('ignore')\n",
    "%matplotlib inline"
   ]
  },
  {
   "cell_type": "code",
   "execution_count": 134,
   "metadata": {},
   "outputs": [
    {
     "data": {
      "text/plain": [
       "<module 'deep_text_modelling.evaluation' from '/media/adnane/HDD drive/Adnane/PostDoc_ooominds/Programming/Deep_text_modelling_package_repo/package/deep_text_modelling/evaluation.py'>"
      ]
     },
     "execution_count": 134,
     "metadata": {},
     "output_type": "execute_result"
    }
   ],
   "source": [
    "import imp\n",
    "imp.reload(pr)\n",
    "imp.reload(md)\n",
    "imp.reload(ev)"
   ]
  },
  {
   "cell_type": "markdown",
   "metadata": {},
   "source": [
    "### Define file paths"
   ]
  },
  {
   "cell_type": "code",
   "execution_count": 3,
   "metadata": {},
   "outputs": [],
   "source": [
    "NAMES_FULL_CSV = TOP + \"illustrative_examples/names/Data/Names_full.csv\"\n",
    "NAMES_TRAIN_CSV = TOP + \"illustrative_examples/names/Data/Names_train.csv\"\n",
    "NAMES_VALID_CSV = TOP + \"illustrative_examples/names/Data/Names_valid.csv\"\n",
    "NAMES_TEST_CSV = TOP + \"illustrative_examples/names/Data/Names_test.csv\"\n",
    "CUE_INDEX = TOP + \"illustrative_examples/names/Data/Cue_index.csv\"\n",
    "OUTCOME_INDEX = TOP + \"illustrative_examples/names/Data/Outcome_index.csv\""
   ]
  },
  {
   "cell_type": "markdown",
   "metadata": {},
   "source": [
    "### Parameters to use"
   ]
  },
  {
   "cell_type": "code",
   "execution_count": 4,
   "metadata": {},
   "outputs": [],
   "source": [
    "N_outcomes = 2  # number of (most frequent) outcomes to keep (here all possible outcomes)\n",
    "N_cues = 26  # number of (most frequent) cues to keep (here all alphabet letters)\n",
    "prop_valid = 1/10 # proportion of validation data\n",
    "prop_test = 1/10 # proportion of test data"
   ]
  },
  {
   "cell_type": "markdown",
   "metadata": {},
   "source": [
    "## II. Prepare the data <a name=\"II\"></a> "
   ]
  },
  {
   "cell_type": "markdown",
   "metadata": {},
   "source": [
    "### Load the data"
   ]
  },
  {
   "cell_type": "code",
   "execution_count": 5,
   "metadata": {
    "scrolled": false
   },
   "outputs": [
    {
     "name": "stdout",
     "output_type": "stream",
     "text": [
      "Number of examples: 6782\n"
     ]
    },
    {
     "data": {
      "text/html": [
       "<div>\n",
       "<style scoped>\n",
       "    .dataframe tbody tr th:only-of-type {\n",
       "        vertical-align: middle;\n",
       "    }\n",
       "\n",
       "    .dataframe tbody tr th {\n",
       "        vertical-align: top;\n",
       "    }\n",
       "\n",
       "    .dataframe thead th {\n",
       "        text-align: right;\n",
       "    }\n",
       "</style>\n",
       "<table border=\"1\" class=\"dataframe\">\n",
       "  <thead>\n",
       "    <tr style=\"text-align: right;\">\n",
       "      <th></th>\n",
       "      <th>first_name</th>\n",
       "      <th>gender</th>\n",
       "    </tr>\n",
       "  </thead>\n",
       "  <tbody>\n",
       "    <tr>\n",
       "      <th>0</th>\n",
       "      <td>John</td>\n",
       "      <td>m</td>\n",
       "    </tr>\n",
       "    <tr>\n",
       "      <th>1</th>\n",
       "      <td>William</td>\n",
       "      <td>m</td>\n",
       "    </tr>\n",
       "    <tr>\n",
       "      <th>2</th>\n",
       "      <td>James</td>\n",
       "      <td>m</td>\n",
       "    </tr>\n",
       "    <tr>\n",
       "      <th>3</th>\n",
       "      <td>Charles</td>\n",
       "      <td>m</td>\n",
       "    </tr>\n",
       "    <tr>\n",
       "      <th>4</th>\n",
       "      <td>George</td>\n",
       "      <td>m</td>\n",
       "    </tr>\n",
       "  </tbody>\n",
       "</table>\n",
       "</div>"
      ],
      "text/plain": [
       "  first_name gender\n",
       "0       John      m\n",
       "1    William      m\n",
       "2      James      m\n",
       "3    Charles      m\n",
       "4     George      m"
      ]
     },
     "execution_count": 5,
     "metadata": {},
     "output_type": "execute_result"
    }
   ],
   "source": [
    "names_full = pd.read_csv(NAMES_FULL_CSV)\n",
    "print(f'Number of examples: {len(names_full)}')\n",
    "names_full.head(5)"
   ]
  },
  {
   "cell_type": "markdown",
   "metadata": {},
   "source": [
    "### Prepare the cues and outcomes"
   ]
  },
  {
   "cell_type": "code",
   "execution_count": 8,
   "metadata": {},
   "outputs": [
    {
     "data": {
      "text/html": [
       "<div>\n",
       "<style scoped>\n",
       "    .dataframe tbody tr th:only-of-type {\n",
       "        vertical-align: middle;\n",
       "    }\n",
       "\n",
       "    .dataframe tbody tr th {\n",
       "        vertical-align: top;\n",
       "    }\n",
       "\n",
       "    .dataframe thead th {\n",
       "        text-align: right;\n",
       "    }\n",
       "</style>\n",
       "<table border=\"1\" class=\"dataframe\">\n",
       "  <thead>\n",
       "    <tr style=\"text-align: right;\">\n",
       "      <th></th>\n",
       "      <th>cues</th>\n",
       "      <th>outcomes</th>\n",
       "    </tr>\n",
       "  </thead>\n",
       "  <tbody>\n",
       "    <tr>\n",
       "      <th>0</th>\n",
       "      <td>j_o_h_n</td>\n",
       "      <td>m</td>\n",
       "    </tr>\n",
       "    <tr>\n",
       "      <th>1</th>\n",
       "      <td>w_i_l_l_i_a_m</td>\n",
       "      <td>m</td>\n",
       "    </tr>\n",
       "    <tr>\n",
       "      <th>2</th>\n",
       "      <td>j_a_m_e_s</td>\n",
       "      <td>m</td>\n",
       "    </tr>\n",
       "    <tr>\n",
       "      <th>3</th>\n",
       "      <td>c_h_a_r_l_e_s</td>\n",
       "      <td>m</td>\n",
       "    </tr>\n",
       "    <tr>\n",
       "      <th>4</th>\n",
       "      <td>g_e_o_r_g_e</td>\n",
       "      <td>m</td>\n",
       "    </tr>\n",
       "  </tbody>\n",
       "</table>\n",
       "</div>"
      ],
      "text/plain": [
       "            cues outcomes\n",
       "0        j_o_h_n        m\n",
       "1  w_i_l_l_i_a_m        m\n",
       "2      j_a_m_e_s        m\n",
       "3  c_h_a_r_l_e_s        m\n",
       "4    g_e_o_r_g_e        m"
      ]
     },
     "execution_count": 8,
     "metadata": {},
     "output_type": "execute_result"
    }
   ],
   "source": [
    "# Create the unigraph cues\n",
    "names_full['cues'] = names_full['first_name'].apply(lambda s: pr.orthoCoding(s, gram_size = 1))\n",
    "\n",
    "# Rename the column gender as 'outcomes'\n",
    "names_full.rename(columns={\"gender\": \"outcomes\"}, inplace = True)\n",
    "names_full = names_full[['cues', 'outcomes']]\n",
    "names_full.head(5)"
   ]
  },
  {
   "cell_type": "markdown",
   "metadata": {},
   "source": [
    "### Create index systems for the cues and outcomes"
   ]
  },
  {
   "cell_type": "code",
   "execution_count": 9,
   "metadata": {},
   "outputs": [],
   "source": [
    "# Create the files containing the index systems\n",
    "pr.create_index_systems_from_df(data = names_full, \n",
    "                                cue_index_path = CUE_INDEX, \n",
    "                                outcome_index_path = OUTCOME_INDEX)"
   ]
  },
  {
   "cell_type": "code",
   "execution_count": 10,
   "metadata": {
    "scrolled": true
   },
   "outputs": [
    {
     "name": "stdout",
     "output_type": "stream",
     "text": [
      "{a: 1}\n",
      "{e: 2}\n",
      "{n: 3}\n",
      "{i: 4}\n",
      "{l: 5}\n"
     ]
    }
   ],
   "source": [
    "# Import the cue index system\n",
    "cue_to_index = pr.import_index_system(CUE_INDEX, N_tokens = N_cues)\n",
    "pr.display_dictionary(cue_to_index, start = 0, end = 5)"
   ]
  },
  {
   "cell_type": "code",
   "execution_count": 11,
   "metadata": {
    "scrolled": true
   },
   "outputs": [
    {
     "name": "stdout",
     "output_type": "stream",
     "text": [
      "{a: 1}\n",
      "{b: 2}\n",
      "{c: 3}\n",
      "{d: 4}\n",
      "{e: 5}\n"
     ]
    }
   ],
   "source": [
    "# Order dictionary alphabetically\n",
    "cue_to_index = {k:(i+1) for i,k in enumerate(sorted(cue_to_index.keys()))}\n",
    "pr.display_dictionary(cue_to_index, start = 0, end = 5)"
   ]
  },
  {
   "cell_type": "code",
   "execution_count": 12,
   "metadata": {},
   "outputs": [
    {
     "data": {
      "text/plain": [
       "{'m': 1, 'f': 2}"
      ]
     },
     "execution_count": 12,
     "metadata": {},
     "output_type": "execute_result"
    }
   ],
   "source": [
    "# Import the outcome index system\n",
    "outcome_to_index = pr.import_index_system(OUTCOME_INDEX)\n",
    "outcome_to_index"
   ]
  },
  {
   "cell_type": "code",
   "execution_count": 13,
   "metadata": {},
   "outputs": [
    {
     "data": {
      "text/plain": [
       "{1: 'm', 2: 'f'}"
      ]
     },
     "execution_count": 13,
     "metadata": {},
     "output_type": "execute_result"
    }
   ],
   "source": [
    "# Reverse the cue dictionary\n",
    "index_to_cue = pr.reverse_dictionary(cue_to_index)\n",
    "# Reverse the outcome dictionary\n",
    "index_to_outcome = pr.reverse_dictionary(outcome_to_index)\n",
    "index_to_outcome"
   ]
  },
  {
   "cell_type": "markdown",
   "metadata": {},
   "source": [
    "### Split into training, validation and test sets"
   ]
  },
  {
   "cell_type": "code",
   "execution_count": 11,
   "metadata": {
    "scrolled": true
   },
   "outputs": [
    {
     "name": "stdout",
     "output_type": "stream",
     "text": [
      "- Number of rows in the original set is 6782\n",
      "- Number of rows in the training set is 5426\n",
      "- Number of rows in the validation set is 678\n",
      "- Number of rows in the test set is 678\n"
     ]
    }
   ],
   "source": [
    "# Create train, valid and test set files\n",
    "pr.df_train_valid_test_split(data = names_full, \n",
    "                             train_data_path = NAMES_TRAIN_CSV, \n",
    "                             valid_data_path = NAMES_VALID_CSV, \n",
    "                             test_data_path = NAMES_TEST_CSV, \n",
    "                             p_valid = prop_valid, \n",
    "                             p_test = prop_test)"
   ]
  },
  {
   "cell_type": "code",
   "execution_count": 14,
   "metadata": {},
   "outputs": [],
   "source": [
    "# Load the train, valid and test sets\n",
    "names_train = pd.read_csv(NAMES_TRAIN_CSV, sep=',', na_filter = False)\n",
    "names_valid = pd.read_csv(NAMES_VALID_CSV, sep=',', na_filter = False)\n",
    "names_test = pd.read_csv(NAMES_VALID_CSV, sep=',', na_filter = False)"
   ]
  },
  {
   "cell_type": "markdown",
   "metadata": {},
   "source": [
    "## III. Feed-forward neural network model <a ID=\"III\"></a> "
   ]
  },
  {
   "cell_type": "markdown",
   "metadata": {},
   "source": [
    "### Tokenisation"
   ]
  },
  {
   "cell_type": "code",
   "execution_count": 15,
   "metadata": {},
   "outputs": [
    {
     "data": {
      "text/html": [
       "<div>\n",
       "<style scoped>\n",
       "    .dataframe tbody tr th:only-of-type {\n",
       "        vertical-align: middle;\n",
       "    }\n",
       "\n",
       "    .dataframe tbody tr th {\n",
       "        vertical-align: top;\n",
       "    }\n",
       "\n",
       "    .dataframe thead th {\n",
       "        text-align: right;\n",
       "    }\n",
       "</style>\n",
       "<table border=\"1\" class=\"dataframe\">\n",
       "  <thead>\n",
       "    <tr style=\"text-align: right;\">\n",
       "      <th></th>\n",
       "      <th>cues</th>\n",
       "      <th>outcomes</th>\n",
       "    </tr>\n",
       "  </thead>\n",
       "  <tbody>\n",
       "    <tr>\n",
       "      <th>4</th>\n",
       "      <td>s_t_e_r_l_i_n_g</td>\n",
       "      <td>m</td>\n",
       "    </tr>\n",
       "  </tbody>\n",
       "</table>\n",
       "</div>"
      ],
      "text/plain": [
       "              cues outcomes\n",
       "4  s_t_e_r_l_i_n_g        m"
      ]
     },
     "execution_count": 15,
     "metadata": {},
     "output_type": "execute_result"
    }
   ],
   "source": [
    "# Extract an event\n",
    "event4 = names_train.iloc[[4]]\n",
    "event4"
   ]
  },
  {
   "cell_type": "code",
   "execution_count": 16,
   "metadata": {},
   "outputs": [
    {
     "data": {
      "text/plain": [
       "array([0., 0., 0., 0., 1., 0., 1., 0., 1., 0., 0., 1., 0., 1., 0., 0., 0.,\n",
       "       1., 1., 1., 0., 0., 0., 0., 0., 0.])"
      ]
     },
     "execution_count": 16,
     "metadata": {},
     "output_type": "execute_result"
    }
   ],
   "source": [
    "# cues (if max_len not specified, all the cues in the sequences will be considered)\n",
    "cues4 = names_train.loc[names_train.index[4], 'cues']\n",
    "cues4_onehot_FNN = md.seq_to_onehot_1darray(cues4, index_system = cue_to_index, N_tokens = N_cues, max_len = None)\n",
    "cues4_onehot_FNN"
   ]
  },
  {
   "cell_type": "code",
   "execution_count": 17,
   "metadata": {},
   "outputs": [
    {
     "data": {
      "text/plain": [
       "array([0., 0., 0., 0., 1., 0., 0., 0., 0., 0., 0., 0., 0., 0., 0., 0., 0.,\n",
       "       1., 1., 1., 0., 0., 0., 0., 0., 0.])"
      ]
     },
     "execution_count": 17,
     "metadata": {},
     "output_type": "execute_result"
    }
   ],
   "source": [
    "# cues (if max_len specified, only 'max_len' first cues in a sequence will be considered)\n",
    "cues4 = names_train.loc[names_train.index[4], 'cues']\n",
    "cues4_onehot_FNN = md.seq_to_onehot_1darray(cues4, index_system = cue_to_index, N_tokens = N_cues, max_len = 4)\n",
    "cues4_onehot_FNN"
   ]
  },
  {
   "cell_type": "code",
   "execution_count": 18,
   "metadata": {
    "scrolled": true
   },
   "outputs": [
    {
     "data": {
      "text/plain": [
       "array([1., 0.])"
      ]
     },
     "execution_count": 18,
     "metadata": {},
     "output_type": "execute_result"
    }
   ],
   "source": [
    "# outcomes\n",
    "outcomes4 = names_train.loc[names_train.index[4], 'outcomes']\n",
    "outcomes4_onehot_FNN = md.seq_to_onehot_1darray(outcomes4, index_system = outcome_to_index, N_tokens = N_outcomes)\n",
    "outcomes4_onehot_FNN"
   ]
  },
  {
   "cell_type": "markdown",
   "metadata": {},
   "source": [
    "### Build a simple FNN model"
   ]
  },
  {
   "cell_type": "markdown",
   "metadata": {},
   "source": [
    "Build a simple FNN with two hidden layers having 64 units "
   ]
  },
  {
   "cell_type": "code",
   "execution_count": 19,
   "metadata": {
    "scrolled": true
   },
   "outputs": [
    {
     "name": "stdout",
     "output_type": "stream",
     "text": [
      "Epoch 1/10\n",
      " - 4s - loss: 0.6942 - accuracy: 0.5102 - val_loss: 0.6929 - val_accuracy: 0.5685\n",
      "Epoch 2/10\n",
      " - 3s - loss: 0.6847 - accuracy: 0.5563 - val_loss: 0.6867 - val_accuracy: 0.6228\n",
      "Epoch 3/10\n",
      " - 3s - loss: 0.6746 - accuracy: 0.5946 - val_loss: 0.6777 - val_accuracy: 0.6257\n",
      "Epoch 4/10\n",
      " - 3s - loss: 0.6613 - accuracy: 0.6221 - val_loss: 0.6695 - val_accuracy: 0.6369\n",
      "Epoch 5/10\n",
      " - 3s - loss: 0.6499 - accuracy: 0.6290 - val_loss: 0.6600 - val_accuracy: 0.6451\n",
      "Epoch 6/10\n",
      " - 3s - loss: 0.6389 - accuracy: 0.6411 - val_loss: 0.6482 - val_accuracy: 0.6555\n",
      "Epoch 7/10\n",
      " - 3s - loss: 0.6330 - accuracy: 0.6469 - val_loss: 0.6385 - val_accuracy: 0.6607\n",
      "Epoch 8/10\n",
      " - 3s - loss: 0.6292 - accuracy: 0.6472 - val_loss: 0.6287 - val_accuracy: 0.6615\n",
      "Epoch 9/10\n",
      " - 3s - loss: 0.6207 - accuracy: 0.6593 - val_loss: 0.6186 - val_accuracy: 0.6652\n",
      "Epoch 10/10\n",
      " - 3s - loss: 0.6201 - accuracy: 0.6568 - val_loss: 0.6115 - val_accuracy: 0.6689\n"
     ]
    }
   ],
   "source": [
    "### Hyperparameters to use\n",
    "p = {'max_len': None,\n",
    "     'epochs': 10, # number of iterations on the full set \n",
    "     'batch_size': 16, \n",
    "     'embedding_input': None,\n",
    "     'hidden_layers': 2, # number of hidden layers \n",
    "     'hidden_neuron':64, # number of neurons in the input layer \n",
    "     'lr': 0.0001, # learning rate       \n",
    "     'dropout': 0.2, \n",
    "     'optimizer': Adam, \n",
    "     'losses': binary_crossentropy, \n",
    "     'activation': relu, \n",
    "     'last_activation': 'sigmoid'}\n",
    "\n",
    "# Model fitting\n",
    "FNN_hist, FNN_model = md.train(model = 'FNN',\n",
    "                               data_train = names_train, \n",
    "                               data_valid = names_valid, \n",
    "                               cue_index = cue_to_index, \n",
    "                               outcome_index = outcome_to_index, \n",
    "                               verbose = 2,\n",
    "                               metrics = ['accuracy'],\n",
    "                               params = p)"
   ]
  },
  {
   "cell_type": "code",
   "execution_count": 20,
   "metadata": {
    "scrolled": true
   },
   "outputs": [
    {
     "name": "stdout",
     "output_type": "stream",
     "text": [
      "Model: \"sequential_1\"\n",
      "_________________________________________________________________\n",
      "Layer (type)                 Output Shape              Param #   \n",
      "=================================================================\n",
      "dense_1 (Dense)              (None, 64)                1728      \n",
      "_________________________________________________________________\n",
      "dropout_1 (Dropout)          (None, 64)                0         \n",
      "_________________________________________________________________\n",
      "dense_2 (Dense)              (None, 64)                4160      \n",
      "_________________________________________________________________\n",
      "dropout_2 (Dropout)          (None, 64)                0         \n",
      "_________________________________________________________________\n",
      "dense_3 (Dense)              (None, 2)                 130       \n",
      "=================================================================\n",
      "Total params: 6,018\n",
      "Trainable params: 6,018\n",
      "Non-trainable params: 0\n",
      "_________________________________________________________________\n"
     ]
    }
   ],
   "source": [
    "FNN_model.summary()"
   ]
  },
  {
   "cell_type": "code",
   "execution_count": 22,
   "metadata": {
    "scrolled": true
   },
   "outputs": [
    {
     "name": "stdout",
     "output_type": "stream",
     "text": [
      "Epoch 1/10\n",
      " - 3s - loss: 0.6918 - accuracy: 0.5204 - val_loss: 0.6836 - val_accuracy: 0.5848\n",
      "Epoch 2/10\n",
      " - 3s - loss: 0.6768 - accuracy: 0.5845 - val_loss: 0.6692 - val_accuracy: 0.6146\n",
      "Epoch 3/10\n",
      " - 3s - loss: 0.6617 - accuracy: 0.6158 - val_loss: 0.6575 - val_accuracy: 0.6265\n",
      "Epoch 4/10\n",
      " - 3s - loss: 0.6494 - accuracy: 0.6302 - val_loss: 0.6484 - val_accuracy: 0.6332\n",
      "Epoch 5/10\n",
      " - 3s - loss: 0.6409 - accuracy: 0.6306 - val_loss: 0.6364 - val_accuracy: 0.6466\n",
      "Epoch 6/10\n",
      " - 3s - loss: 0.6308 - accuracy: 0.6466 - val_loss: 0.6271 - val_accuracy: 0.6592\n",
      "Epoch 7/10\n",
      " - 3s - loss: 0.6269 - accuracy: 0.6454 - val_loss: 0.6195 - val_accuracy: 0.6555\n",
      "Epoch 8/10\n",
      " - 3s - loss: 0.6224 - accuracy: 0.6527 - val_loss: 0.6156 - val_accuracy: 0.6622\n",
      "Epoch 9/10\n",
      " - 3s - loss: 0.6193 - accuracy: 0.6621 - val_loss: 0.6122 - val_accuracy: 0.6667\n",
      "Epoch 10/10\n",
      " - 3s - loss: 0.6136 - accuracy: 0.6605 - val_loss: 0.6100 - val_accuracy: 0.6652\n"
     ]
    }
   ],
   "source": [
    "### Hyperparameters to use\n",
    "p = {'max_len': None,\n",
    "     'epochs': 10, # number of iterations on the full set \n",
    "     'batch_size': 16, \n",
    "     'embedding_input': None,\n",
    "     'embedding_dim': 0,\n",
    "     'hidden_layers': 2, # number of hidden layers \n",
    "     'hidden_neuron':64, # number of neurons in the input layer \n",
    "     'lr': 0.0001, # learning rate       \n",
    "     'dropout': 0.2, \n",
    "     'optimizer': Adam, \n",
    "     'losses': binary_crossentropy, \n",
    "     'activation': relu, \n",
    "     'last_activation': 'sigmoid'}\n",
    "\n",
    "# Model fitting\n",
    "FNN_hist, FNN_model = md.train(model = 'FNN',\n",
    "                               data_train = names_train, \n",
    "                               data_valid = names_valid, \n",
    "                               cue_index = cue_to_index, \n",
    "                               outcome_index = outcome_to_index, \n",
    "                               verbose = 2,\n",
    "                               metrics = ['accuracy'],\n",
    "                               params = p)"
   ]
  },
  {
   "cell_type": "markdown",
   "metadata": {},
   "source": [
    "### Tune the parameters to find a good model"
   ]
  },
  {
   "cell_type": "code",
   "execution_count": 43,
   "metadata": {},
   "outputs": [],
   "source": [
    "### Parameter values to use in the grid search \n",
    "p = {'max_len': [None, 5, 11],\n",
    "     'epochs': [1, 5, 10, 20, 30], # number of iterations on the full set (x5)\n",
    "     'batch_size': [8, 16, 32, 64, 128, 256], # (x6)\n",
    "     'embedding_input': [None],\n",
    "     'embedding_dim': [0],\n",
    "     'hidden_layers':[0, 1, 2], # number of hidden layers (x3)\n",
    "     'hidden_neuron':[16, 32, 64, 128], # number of neurons in the input layer (x4)\n",
    "     'lr': [0.0001, 0.0002, 0.0005, 0.001, 0.002, 0.005, 0.01], # learning rate (x7)       \n",
    "     'dropout': [0, 0.1, 0.2, 0.3, 0.4], # (x5)\n",
    "     'optimizer': [Adam, RMSprop], # (x2)\n",
    "     'losses': [binary_crossentropy], # (x1)\n",
    "     'activation':[relu, elu], # (x2)\n",
    "     'last_activation': ['sigmoid'] # (x1)\n",
    "     }\n",
    "TUNING_PATH = TOP + 'illustrative_examples/names/Results/grid_search_FNN_names.csv'"
   ]
  },
  {
   "cell_type": "code",
   "execution_count": 25,
   "metadata": {
    "scrolled": false
   },
   "outputs": [
    {
     "name": "stdout",
     "output_type": "stream",
     "text": [
      "Iteration 1 out of 13: {'max_len': 5, 'epochs': 5, 'batch_size': 128, 'embedding_input': None, 'embedding_dim': None, 'hidden_layers': 2, 'hidden_neuron': 128, 'lr': 0.0002, 'dropout': 0.4, 'optimizer': <class 'keras.optimizers.Adam'>, 'losses': <function binary_crossentropy at 0x7f61b3023598>, 'activation': <function elu at 0x7f61b2ff4b70>, 'last_activation': 'sigmoid'}\n",
      "\n",
      "Iteration 2 out of 13: {'max_len': 5, 'epochs': 5, 'batch_size': 16, 'embedding_input': None, 'embedding_dim': None, 'hidden_layers': 1, 'hidden_neuron': 64, 'lr': 0.01, 'dropout': 0.4, 'optimizer': <class 'keras.optimizers.Adam'>, 'losses': <function binary_crossentropy at 0x7f61b3023598>, 'activation': <function relu at 0x7f61b2ff4d90>, 'last_activation': 'sigmoid'}\n",
      "\n",
      "Iteration 3 out of 13: {'max_len': 5, 'epochs': 30, 'batch_size': 16, 'embedding_input': None, 'embedding_dim': None, 'hidden_layers': 2, 'hidden_neuron': 128, 'lr': 0.0002, 'dropout': 0.4, 'optimizer': <class 'keras.optimizers.RMSprop'>, 'losses': <function binary_crossentropy at 0x7f61b3023598>, 'activation': <function elu at 0x7f61b2ff4b70>, 'last_activation': 'sigmoid'}\n",
      "\n",
      "Iteration 4 out of 13: {'max_len': None, 'epochs': 10, 'batch_size': 8, 'embedding_input': None, 'embedding_dim': None, 'hidden_layers': 2, 'hidden_neuron': 16, 'lr': 0.01, 'dropout': 0.4, 'optimizer': <class 'keras.optimizers.RMSprop'>, 'losses': <function binary_crossentropy at 0x7f61b3023598>, 'activation': <function elu at 0x7f61b2ff4b70>, 'last_activation': 'sigmoid'}\n",
      "\n",
      "Iteration 5 out of 13: {'max_len': None, 'epochs': 1, 'batch_size': 128, 'embedding_input': None, 'embedding_dim': None, 'hidden_layers': 1, 'hidden_neuron': 32, 'lr': 0.01, 'dropout': 0.3, 'optimizer': <class 'keras.optimizers.Adam'>, 'losses': <function binary_crossentropy at 0x7f61b3023598>, 'activation': <function relu at 0x7f61b2ff4d90>, 'last_activation': 'sigmoid'}\n",
      "\n",
      "Iteration 6 out of 13: {'max_len': 11, 'epochs': 10, 'batch_size': 32, 'embedding_input': None, 'embedding_dim': None, 'hidden_layers': 0, 'hidden_neuron': 64, 'lr': 0.0002, 'dropout': 0.1, 'optimizer': <class 'keras.optimizers.RMSprop'>, 'losses': <function binary_crossentropy at 0x7f61b3023598>, 'activation': None, 'last_activation': 'sigmoid'}\n",
      "\n",
      "Iteration 7 out of 13: {'max_len': 5, 'epochs': 10, 'batch_size': 16, 'embedding_input': None, 'embedding_dim': None, 'hidden_layers': 1, 'hidden_neuron': 16, 'lr': 0.0005, 'dropout': 0.3, 'optimizer': <class 'keras.optimizers.Adam'>, 'losses': <function binary_crossentropy at 0x7f61b3023598>, 'activation': <function relu at 0x7f61b2ff4d90>, 'last_activation': 'sigmoid'}\n",
      "\n",
      "Iteration 8 out of 13: {'max_len': 11, 'epochs': 1, 'batch_size': 128, 'embedding_input': None, 'embedding_dim': None, 'hidden_layers': 1, 'hidden_neuron': 32, 'lr': 0.0005, 'dropout': 0.2, 'optimizer': <class 'keras.optimizers.RMSprop'>, 'losses': <function binary_crossentropy at 0x7f61b3023598>, 'activation': <function elu at 0x7f61b2ff4b70>, 'last_activation': 'sigmoid'}\n",
      "\n",
      "Iteration 9 out of 13: {'max_len': None, 'epochs': 5, 'batch_size': 128, 'embedding_input': None, 'embedding_dim': None, 'hidden_layers': 1, 'hidden_neuron': 128, 'lr': 0.0002, 'dropout': 0.1, 'optimizer': <class 'keras.optimizers.Adam'>, 'losses': <function binary_crossentropy at 0x7f61b3023598>, 'activation': <function relu at 0x7f61b2ff4d90>, 'last_activation': 'sigmoid'}\n",
      "\n",
      "Iteration 10 out of 13: {'max_len': 5, 'epochs': 30, 'batch_size': 128, 'embedding_input': None, 'embedding_dim': None, 'hidden_layers': 0, 'hidden_neuron': 32, 'lr': 0.01, 'dropout': 0.1, 'optimizer': <class 'keras.optimizers.Adam'>, 'losses': <function binary_crossentropy at 0x7f61b3023598>, 'activation': None, 'last_activation': 'sigmoid'}\n",
      "\n",
      "Iteration 11 out of 13: {'max_len': None, 'epochs': 20, 'batch_size': 256, 'embedding_input': None, 'embedding_dim': None, 'hidden_layers': 0, 'hidden_neuron': 64, 'lr': 0.0005, 'dropout': 0.1, 'optimizer': <class 'keras.optimizers.Adam'>, 'losses': <function binary_crossentropy at 0x7f61b3023598>, 'activation': None, 'last_activation': 'sigmoid'}\n",
      "\n",
      "Iteration 12 out of 13: {'max_len': None, 'epochs': 20, 'batch_size': 16, 'embedding_input': None, 'embedding_dim': None, 'hidden_layers': 1, 'hidden_neuron': 32, 'lr': 0.002, 'dropout': 0.1, 'optimizer': <class 'keras.optimizers.RMSprop'>, 'losses': <function binary_crossentropy at 0x7f61b3023598>, 'activation': <function relu at 0x7f61b2ff4d90>, 'last_activation': 'sigmoid'}\n",
      "\n",
      "Iteration 13 out of 13: {'max_len': 11, 'epochs': 10, 'batch_size': 256, 'embedding_input': None, 'embedding_dim': None, 'hidden_layers': 1, 'hidden_neuron': 16, 'lr': 0.01, 'dropout': 0.4, 'optimizer': <class 'keras.optimizers.RMSprop'>, 'losses': <function binary_crossentropy at 0x7f61b3023598>, 'activation': <function elu at 0x7f61b2ff4b70>, 'last_activation': 'sigmoid'}\n",
      "\n"
     ]
    }
   ],
   "source": [
    "### Grid search \n",
    "md.grid_search(model = 'FNN',\n",
    "               data_train = names_train, \n",
    "               data_valid = names_valid, \n",
    "               cue_index = cue_to_index, \n",
    "               outcome_index = outcome_to_index,\n",
    "               params = p,\n",
    "               prop_grid = 1e-4, \n",
    "               tuning_output_file = TUNING_PATH)"
   ]
  },
  {
   "cell_type": "markdown",
   "metadata": {},
   "source": [
    "### Assessing the grid search results"
   ]
  },
  {
   "cell_type": "code",
   "execution_count": 46,
   "metadata": {},
   "outputs": [
    {
     "data": {
      "text/plain": [
       "157"
      ]
     },
     "execution_count": 46,
     "metadata": {},
     "output_type": "execute_result"
    }
   ],
   "source": [
    "# Import the grid search file to analyse the results \n",
    "gs_results = pd.read_csv(TUNING_PATH, index_col = False)\n",
    "\n",
    "# get the number of parameter combinations that were processed\n",
    "len(gs_results)"
   ]
  },
  {
   "cell_type": "code",
   "execution_count": 47,
   "metadata": {
    "scrolled": false
   },
   "outputs": [
    {
     "data": {
      "text/html": [
       "<div>\n",
       "<style scoped>\n",
       "    .dataframe tbody tr th:only-of-type {\n",
       "        vertical-align: middle;\n",
       "    }\n",
       "\n",
       "    .dataframe tbody tr th {\n",
       "        vertical-align: top;\n",
       "    }\n",
       "\n",
       "    .dataframe thead th {\n",
       "        text-align: right;\n",
       "    }\n",
       "</style>\n",
       "<table border=\"1\" class=\"dataframe\">\n",
       "  <thead>\n",
       "    <tr style=\"text-align: right;\">\n",
       "      <th></th>\n",
       "      <th>max_len</th>\n",
       "      <th>epochs</th>\n",
       "      <th>batch_size</th>\n",
       "      <th>embedding_input</th>\n",
       "      <th>embedding_dim</th>\n",
       "      <th>hidden_layers</th>\n",
       "      <th>hidden_neuron</th>\n",
       "      <th>lr</th>\n",
       "      <th>dropout</th>\n",
       "      <th>optimizer</th>\n",
       "      <th>...</th>\n",
       "      <th>loss</th>\n",
       "      <th>acc</th>\n",
       "      <th>precision</th>\n",
       "      <th>recall</th>\n",
       "      <th>f1score</th>\n",
       "      <th>val_loss</th>\n",
       "      <th>val_acc</th>\n",
       "      <th>val_precision</th>\n",
       "      <th>val_recall</th>\n",
       "      <th>val_f1score</th>\n",
       "    </tr>\n",
       "  </thead>\n",
       "  <tbody>\n",
       "    <tr>\n",
       "      <th>0</th>\n",
       "      <td>5.0</td>\n",
       "      <td>1</td>\n",
       "      <td>128</td>\n",
       "      <td>onehot</td>\n",
       "      <td>0</td>\n",
       "      <td>2</td>\n",
       "      <td>128</td>\n",
       "      <td>0.0002</td>\n",
       "      <td>0.4</td>\n",
       "      <td>&lt;class 'keras.optimizers.Adam'&gt;</td>\n",
       "      <td>...</td>\n",
       "      <td>0.697487</td>\n",
       "      <td>0.539062</td>\n",
       "      <td>0.538123</td>\n",
       "      <td>0.572173</td>\n",
       "      <td>0.552906</td>\n",
       "      <td>0.667533</td>\n",
       "      <td>0.584375</td>\n",
       "      <td>0.578134</td>\n",
       "      <td>0.628125</td>\n",
       "      <td>0.601863</td>\n",
       "    </tr>\n",
       "    <tr>\n",
       "      <th>1</th>\n",
       "      <td>5.0</td>\n",
       "      <td>2</td>\n",
       "      <td>128</td>\n",
       "      <td>onehot</td>\n",
       "      <td>0</td>\n",
       "      <td>2</td>\n",
       "      <td>128</td>\n",
       "      <td>0.0002</td>\n",
       "      <td>0.4</td>\n",
       "      <td>&lt;class 'keras.optimizers.Adam'&gt;</td>\n",
       "      <td>...</td>\n",
       "      <td>0.678671</td>\n",
       "      <td>0.571894</td>\n",
       "      <td>0.571284</td>\n",
       "      <td>0.577939</td>\n",
       "      <td>0.574134</td>\n",
       "      <td>0.653432</td>\n",
       "      <td>0.600000</td>\n",
       "      <td>0.592709</td>\n",
       "      <td>0.640625</td>\n",
       "      <td>0.615708</td>\n",
       "    </tr>\n",
       "    <tr>\n",
       "      <th>2</th>\n",
       "      <td>5.0</td>\n",
       "      <td>3</td>\n",
       "      <td>128</td>\n",
       "      <td>onehot</td>\n",
       "      <td>0</td>\n",
       "      <td>2</td>\n",
       "      <td>128</td>\n",
       "      <td>0.0002</td>\n",
       "      <td>0.4</td>\n",
       "      <td>&lt;class 'keras.optimizers.Adam'&gt;</td>\n",
       "      <td>...</td>\n",
       "      <td>0.672749</td>\n",
       "      <td>0.583891</td>\n",
       "      <td>0.583909</td>\n",
       "      <td>0.586682</td>\n",
       "      <td>0.584897</td>\n",
       "      <td>0.647914</td>\n",
       "      <td>0.602344</td>\n",
       "      <td>0.599355</td>\n",
       "      <td>0.615625</td>\n",
       "      <td>0.607355</td>\n",
       "    </tr>\n",
       "    <tr>\n",
       "      <th>3</th>\n",
       "      <td>5.0</td>\n",
       "      <td>4</td>\n",
       "      <td>128</td>\n",
       "      <td>onehot</td>\n",
       "      <td>0</td>\n",
       "      <td>2</td>\n",
       "      <td>128</td>\n",
       "      <td>0.0002</td>\n",
       "      <td>0.4</td>\n",
       "      <td>&lt;class 'keras.optimizers.Adam'&gt;</td>\n",
       "      <td>...</td>\n",
       "      <td>0.664919</td>\n",
       "      <td>0.600167</td>\n",
       "      <td>0.599687</td>\n",
       "      <td>0.603981</td>\n",
       "      <td>0.601617</td>\n",
       "      <td>0.643804</td>\n",
       "      <td>0.601562</td>\n",
       "      <td>0.599448</td>\n",
       "      <td>0.610937</td>\n",
       "      <td>0.605100</td>\n",
       "    </tr>\n",
       "    <tr>\n",
       "      <th>4</th>\n",
       "      <td>5.0</td>\n",
       "      <td>5</td>\n",
       "      <td>128</td>\n",
       "      <td>onehot</td>\n",
       "      <td>0</td>\n",
       "      <td>2</td>\n",
       "      <td>128</td>\n",
       "      <td>0.0002</td>\n",
       "      <td>0.4</td>\n",
       "      <td>&lt;class 'keras.optimizers.Adam'&gt;</td>\n",
       "      <td>...</td>\n",
       "      <td>0.669253</td>\n",
       "      <td>0.590588</td>\n",
       "      <td>0.590089</td>\n",
       "      <td>0.594680</td>\n",
       "      <td>0.592151</td>\n",
       "      <td>0.641578</td>\n",
       "      <td>0.605469</td>\n",
       "      <td>0.603007</td>\n",
       "      <td>0.617188</td>\n",
       "      <td>0.609997</td>\n",
       "    </tr>\n",
       "  </tbody>\n",
       "</table>\n",
       "<p>5 rows × 23 columns</p>\n",
       "</div>"
      ],
      "text/plain": [
       "   max_len  epochs  batch_size embedding_input  embedding_dim  hidden_layers  \\\n",
       "0      5.0       1         128          onehot              0              2   \n",
       "1      5.0       2         128          onehot              0              2   \n",
       "2      5.0       3         128          onehot              0              2   \n",
       "3      5.0       4         128          onehot              0              2   \n",
       "4      5.0       5         128          onehot              0              2   \n",
       "\n",
       "   hidden_neuron      lr  dropout                        optimizer  ...  \\\n",
       "0            128  0.0002      0.4  <class 'keras.optimizers.Adam'>  ...   \n",
       "1            128  0.0002      0.4  <class 'keras.optimizers.Adam'>  ...   \n",
       "2            128  0.0002      0.4  <class 'keras.optimizers.Adam'>  ...   \n",
       "3            128  0.0002      0.4  <class 'keras.optimizers.Adam'>  ...   \n",
       "4            128  0.0002      0.4  <class 'keras.optimizers.Adam'>  ...   \n",
       "\n",
       "       loss       acc precision    recall   f1score  val_loss   val_acc  \\\n",
       "0  0.697487  0.539062  0.538123  0.572173  0.552906  0.667533  0.584375   \n",
       "1  0.678671  0.571894  0.571284  0.577939  0.574134  0.653432  0.600000   \n",
       "2  0.672749  0.583891  0.583909  0.586682  0.584897  0.647914  0.602344   \n",
       "3  0.664919  0.600167  0.599687  0.603981  0.601617  0.643804  0.601562   \n",
       "4  0.669253  0.590588  0.590089  0.594680  0.592151  0.641578  0.605469   \n",
       "\n",
       "   val_precision  val_recall  val_f1score  \n",
       "0       0.578134    0.628125     0.601863  \n",
       "1       0.592709    0.640625     0.615708  \n",
       "2       0.599355    0.615625     0.607355  \n",
       "3       0.599448    0.610937     0.605100  \n",
       "4       0.603007    0.617188     0.609997  \n",
       "\n",
       "[5 rows x 23 columns]"
      ]
     },
     "execution_count": 47,
     "metadata": {},
     "output_type": "execute_result"
    }
   ],
   "source": [
    "# Display the dataframe containing the tuning results\n",
    "gs_results.head()"
   ]
  },
  {
   "cell_type": "code",
   "execution_count": 48,
   "metadata": {},
   "outputs": [
    {
     "data": {
      "text/plain": [
       "Index(['max_len', 'epochs', 'batch_size', 'embedding_input', 'embedding_dim',\n",
       "       'hidden_layers', 'hidden_neuron', 'lr', 'dropout', 'optimizer',\n",
       "       'losses', 'activation', 'last_activation', 'loss', 'acc', 'precision',\n",
       "       'recall', 'f1score', 'val_loss', 'val_acc', 'val_precision',\n",
       "       'val_recall', 'val_f1score'],\n",
       "      dtype='object')"
      ]
     },
     "execution_count": 48,
     "metadata": {},
     "output_type": "execute_result"
    }
   ],
   "source": [
    "gs_results.columns"
   ]
  },
  {
   "cell_type": "code",
   "execution_count": 50,
   "metadata": {
    "scrolled": true
   },
   "outputs": [
    {
     "name": "stdout",
     "output_type": "stream",
     "text": [
      "- Highest validation accuracy: 0.7023809552192691\n",
      "- Highest validation f1-score: 0.71527076\n"
     ]
    }
   ],
   "source": [
    "# get the highest result for any metric\n",
    "print(f\"- Highest validation accuracy: {gs_results['val_acc'].max()}\")\n",
    "print(f\"- Highest validation f1-score: {gs_results['f1score'].max()}\")"
   ]
  },
  {
   "cell_type": "code",
   "execution_count": 51,
   "metadata": {
    "scrolled": false
   },
   "outputs": [
    {
     "data": {
      "text/plain": [
       "143"
      ]
     },
     "execution_count": 51,
     "metadata": {},
     "output_type": "execute_result"
    }
   ],
   "source": [
    "# get the index of the combination with the best result\n",
    "i_best = gs_results['val_acc'].argmax()\n",
    "i_best"
   ]
  },
  {
   "cell_type": "markdown",
   "metadata": {},
   "source": [
    "Iteration 7 produced the highest validation accuracy, corresponding to the following parameters:"
   ]
  },
  {
   "cell_type": "code",
   "execution_count": 65,
   "metadata": {
    "scrolled": false
   },
   "outputs": [
    {
     "data": {
      "text/plain": [
       "max_len                                           NaN\n",
       "epochs                                             17\n",
       "batch_size                                         16\n",
       "embedding_input                                onehot\n",
       "embedding_dim                                       0\n",
       "hidden_layers                                       1\n",
       "hidden_neuron                                      32\n",
       "lr                                              0.002\n",
       "dropout                                           0.1\n",
       "optimizer          <class 'keras.optimizers.RMSprop'>\n",
       "                                  ...                \n",
       "loss                                         0.558822\n",
       "acc                                          0.710546\n",
       "precision                                    0.711158\n",
       "recall                                       0.710361\n",
       "f1score                                      0.710583\n",
       "val_loss                                     0.565185\n",
       "val_acc                                      0.702381\n",
       "val_precision                                0.702491\n",
       "val_recall                                   0.702381\n",
       "val_f1score                                  0.702245\n",
       "Name: 143, Length: 23, dtype: object"
      ]
     },
     "execution_count": 65,
     "metadata": {},
     "output_type": "execute_result"
    }
   ],
   "source": [
    "# get the best paramaters\n",
    "gs_results.iloc[i_best, ]"
   ]
  },
  {
   "cell_type": "markdown",
   "metadata": {},
   "source": [
    "### Retraining with the best parameters"
   ]
  },
  {
   "cell_type": "code",
   "execution_count": 36,
   "metadata": {
    "scrolled": false
   },
   "outputs": [
    {
     "name": "stdout",
     "output_type": "stream",
     "text": [
      "Epoch 1/17\n",
      " - 2s - loss: 0.6513 - accuracy: 0.6134 - val_loss: 0.6164 - val_accuracy: 0.6518\n",
      "Epoch 2/17\n",
      " - 2s - loss: 0.6159 - accuracy: 0.6649 - val_loss: 0.6139 - val_accuracy: 0.6659\n",
      "Epoch 3/17\n",
      " - 2s - loss: 0.6049 - accuracy: 0.6712 - val_loss: 0.6162 - val_accuracy: 0.6734\n",
      "Epoch 4/17\n",
      " - 2s - loss: 0.6010 - accuracy: 0.6745 - val_loss: 0.6113 - val_accuracy: 0.6801\n",
      "Epoch 5/17\n",
      " - 2s - loss: 0.5956 - accuracy: 0.6804 - val_loss: 0.6073 - val_accuracy: 0.6793\n",
      "Epoch 6/17\n",
      " - 2s - loss: 0.5888 - accuracy: 0.6834 - val_loss: 0.5989 - val_accuracy: 0.6838\n",
      "Epoch 7/17\n",
      " - 2s - loss: 0.5850 - accuracy: 0.6834 - val_loss: 0.6031 - val_accuracy: 0.6875\n",
      "Epoch 8/17\n",
      " - 2s - loss: 0.5801 - accuracy: 0.6939 - val_loss: 0.6109 - val_accuracy: 0.6920\n",
      "Epoch 9/17\n",
      " - 2s - loss: 0.5801 - accuracy: 0.6937 - val_loss: 0.6153 - val_accuracy: 0.6875\n",
      "Epoch 10/17\n",
      " - 2s - loss: 0.5755 - accuracy: 0.6997 - val_loss: 0.6117 - val_accuracy: 0.6890\n",
      "Epoch 11/17\n",
      " - 2s - loss: 0.5717 - accuracy: 0.6978 - val_loss: 0.6228 - val_accuracy: 0.6875\n",
      "Epoch 12/17\n",
      " - 2s - loss: 0.5684 - accuracy: 0.7052 - val_loss: 0.6201 - val_accuracy: 0.6815\n",
      "Epoch 13/17\n",
      " - 2s - loss: 0.5671 - accuracy: 0.7080 - val_loss: 0.6318 - val_accuracy: 0.6808\n",
      "Epoch 14/17\n",
      " - 2s - loss: 0.5668 - accuracy: 0.7034 - val_loss: 0.6346 - val_accuracy: 0.6756\n",
      "Epoch 15/17\n",
      " - 2s - loss: 0.5641 - accuracy: 0.7073 - val_loss: 0.6312 - val_accuracy: 0.6756\n",
      "Epoch 16/17\n",
      " - 2s - loss: 0.5649 - accuracy: 0.7033 - val_loss: 0.6467 - val_accuracy: 0.6756\n",
      "Epoch 17/17\n",
      " - 2s - loss: 0.5603 - accuracy: 0.7126 - val_loss: 0.6442 - val_accuracy: 0.6749\n"
     ]
    }
   ],
   "source": [
    "### Hyperparameters to use\n",
    "p = {'max_len': None,\n",
    "     'epochs': 17, # number of iterations on the full set \n",
    "     'batch_size': 16, \n",
    "     'embedding_input': None,\n",
    "     'embedding_input': 0,\n",
    "     'hidden_layers': 1, # number of hidden layers \n",
    "     'hidden_neuron':32, # number of neurons in the input layer \n",
    "     'lr': 0.002, # learning rate       \n",
    "     'dropout': 0.1, \n",
    "     'optimizer': RMSprop, \n",
    "     'losses': binary_crossentropy, \n",
    "     'activation': relu, \n",
    "     'last_activation': 'sigmoid'}\n",
    "\n",
    "# Model fitting\n",
    "FNN_hist, FNN_model = md.train_FNN(data_train = names_train, \n",
    "                                  data_valid = names_valid, \n",
    "                                  cue_index = cue_to_index, \n",
    "                                  outcome_index = outcome_to_index, \n",
    "                                  verbose = 2,\n",
    "                                  metrics = ['accuracy'],\n",
    "                                  params = p)"
   ]
  },
  {
   "cell_type": "code",
   "execution_count": 70,
   "metadata": {},
   "outputs": [],
   "source": [
    "# Save the model and training history\n",
    "MODEL_PATH = TOP + 'illustrative_examples/names/Results/FNN_names.h5'\n",
    "HISTORY_PATH = TOP + 'illustrative_examples/names/Results/FNN_history_dict_names'\n",
    "md.export_model(model = FNN_model, path = MODEL_PATH)  # creates a HDF5 file \n",
    "md.export_history(history_dict = FNN_hist, path = HISTORY_PATH)\n",
    "del FNN_model, FNN_hist  # deletes the existing model and history dictionary"
   ]
  },
  {
   "cell_type": "code",
   "execution_count": 30,
   "metadata": {},
   "outputs": [],
   "source": [
    "# Load the model and training history\n",
    "MODEL_PATH = TOP + 'illustrative_examples/names/Results/FNN_names.h5'\n",
    "HISTORY_PATH = TOP + 'illustrative_examples/names/Results/FNN_history_dict_names'\n",
    "FNN_model = md.import_model(MODEL_PATH)\n",
    "FNN_history_dict = md.import_history(path = HISTORY_PATH)"
   ]
  },
  {
   "cell_type": "markdown",
   "metadata": {},
   "source": [
    "### Evaluate the final model"
   ]
  },
  {
   "cell_type": "code",
   "execution_count": 18,
   "metadata": {},
   "outputs": [
    {
     "name": "stdout",
     "output_type": "stream",
     "text": [
      "- Training loss in the last epoch: 0.5603122967006886\n",
      "- Training accuracy in the last epoch: 0.71257377\n",
      "- Validation loss in the last epoch: 0.6441536545753479\n",
      "- Validation accuracy in the last epoch: 0.6748511791229248\n"
     ]
    }
   ],
   "source": [
    "# Performance on the last epoch of the training set\n",
    "print(f\"- Training loss in the last epoch: {FNN_history_dict['loss'][-1]}\")\n",
    "print(f\"- Training accuracy in the last epoch: {FNN_history_dict['accuracy'][-1]}\")\n",
    "\n",
    "# Performance on the last epoch of the validation set\n",
    "print(f\"- Validation loss in the last epoch: {FNN_history_dict['val_loss'][-1]}\")\n",
    "print(f\"- Validation accuracy in the last epoch: {FNN_history_dict['val_accuracy'][-1]}\")"
   ]
  },
  {
   "cell_type": "code",
   "execution_count": 19,
   "metadata": {},
   "outputs": [
    {
     "data": {
      "image/png": "[encoded data removed]",
      "text/plain": [
       "<Figure size 432x288 with 1 Axes>"
      ]
     },
     "metadata": {
      "needs_background": "light"
     },
     "output_type": "display_data"
    }
   ],
   "source": [
    "# Generate plots to assess the performance of the NN\n",
    "ev.plot_learning_curve(history_dict = FNN_history_dict, metric = 'accuracy', set = 'train_valid')"
   ]
  },
  {
   "cell_type": "code",
   "execution_count": 40,
   "metadata": {},
   "outputs": [
    {
     "data": {
      "text/plain": [
       "array([0.9309136 , 0.06419639], dtype=float32)"
      ]
     },
     "execution_count": 40,
     "metadata": {},
     "output_type": "execute_result"
    }
   ],
   "source": [
    "# Test prediction for a single given cue sequence. Model expect inout as array of shape (1, N_cues) \n",
    "cue1_seq = 'y_o_u_s_s_e_f'\n",
    "outcome1_prob_pred = ev.predict_proba_oneevent_FNN(model = FNN_model, \n",
    "                                                   cue_seq = cue1_seq,  \n",
    "                                                   cue_index = cue_to_index,\n",
    "                                                   max_len = None,\n",
    "                                                   vector_encoding = 'onehot')\n",
    "outcome1_prob_pred"
   ]
  },
  {
   "cell_type": "code",
   "execution_count": 37,
   "metadata": {},
   "outputs": [],
   "source": [
    "# Evaluate the model on the test set\n",
    "prob_pred = ev.predict_proba_eventfile_FNN(model = FNN_model, \n",
    "                                           data_test = names_test,  \n",
    "                                           cue_index = cue_to_index, \n",
    "                                           outcome_index = outcome_to_index,\n",
    "                                           max_len = None,\n",
    "                                           vector_encoding = 'onehot')"
   ]
  },
  {
   "cell_type": "code",
   "execution_count": 38,
   "metadata": {},
   "outputs": [
    {
     "data": {
      "text/plain": [
       "0.672566371681416"
      ]
     },
     "execution_count": 38,
     "metadata": {},
     "output_type": "execute_result"
    }
   ],
   "source": [
    "# True responses to compare the predictions to\n",
    "y_test = names_test.replace({'outcomes': outcome_to_index})['outcomes']\n",
    "y_pred = np.argmax(prob_pred, axis=1)+1\n",
    "\n",
    "# Overall test accuracy\n",
    "test_accuracy = accuracy_score(y_test, y_pred)\n",
    "test_accuracy"
   ]
  },
  {
   "cell_type": "code",
   "execution_count": 34,
   "metadata": {},
   "outputs": [
    {
     "name": "stdout",
     "output_type": "stream",
     "text": [
      "[0.6686217  0.67655786]\n"
     ]
    }
   ],
   "source": [
    "# Test accuracy per class\n",
    "cmat = confusion_matrix(y_test, y_pred) # Confusion matrix\n",
    "print(cmat.diagonal()/cmat.sum(axis=1)) "
   ]
  },
  {
   "cell_type": "markdown",
   "metadata": {},
   "source": [
    "## IV. Long short-term memory model <a ID=\"IV\"></a> "
   ]
  },
  {
   "cell_type": "markdown",
   "metadata": {},
   "source": [
    "### Tokenisation"
   ]
  },
  {
   "cell_type": "code",
   "execution_count": 53,
   "metadata": {},
   "outputs": [
    {
     "data": {
      "text/html": [
       "<div>\n",
       "<style scoped>\n",
       "    .dataframe tbody tr th:only-of-type {\n",
       "        vertical-align: middle;\n",
       "    }\n",
       "\n",
       "    .dataframe tbody tr th {\n",
       "        vertical-align: top;\n",
       "    }\n",
       "\n",
       "    .dataframe thead th {\n",
       "        text-align: right;\n",
       "    }\n",
       "</style>\n",
       "<table border=\"1\" class=\"dataframe\">\n",
       "  <thead>\n",
       "    <tr style=\"text-align: right;\">\n",
       "      <th></th>\n",
       "      <th>cues</th>\n",
       "      <th>outcomes</th>\n",
       "    </tr>\n",
       "  </thead>\n",
       "  <tbody>\n",
       "    <tr>\n",
       "      <th>1</th>\n",
       "      <td>k_y_r_i_e</td>\n",
       "      <td>f</td>\n",
       "    </tr>\n",
       "  </tbody>\n",
       "</table>\n",
       "</div>"
      ],
      "text/plain": [
       "        cues outcomes\n",
       "1  k_y_r_i_e        f"
      ]
     },
     "execution_count": 53,
     "metadata": {},
     "output_type": "execute_result"
    }
   ],
   "source": [
    "# Extract an event\n",
    "event1 = names_train.iloc[[1]]\n",
    "event1"
   ]
  },
  {
   "cell_type": "code",
   "execution_count": 58,
   "metadata": {
    "scrolled": false
   },
   "outputs": [
    {
     "data": {
      "text/plain": [
       "array([[0., 0., 0., 0., 0., 0., 0., 0., 0., 0., 1., 0., 0., 0., 0., 0.,\n",
       "        0., 0., 0., 0., 0., 0., 0., 0., 0., 0.],\n",
       "       [0., 0., 0., 0., 0., 0., 0., 0., 0., 0., 0., 0., 0., 0., 0., 0.,\n",
       "        0., 0., 0., 0., 0., 0., 0., 0., 1., 0.],\n",
       "       [0., 0., 0., 0., 0., 0., 0., 0., 0., 0., 0., 0., 0., 0., 0., 0.,\n",
       "        0., 1., 0., 0., 0., 0., 0., 0., 0., 0.],\n",
       "       [0., 0., 0., 0., 0., 0., 0., 0., 1., 0., 0., 0., 0., 0., 0., 0.,\n",
       "        0., 0., 0., 0., 0., 0., 0., 0., 0., 0.],\n",
       "       [0., 0., 0., 0., 1., 0., 0., 0., 0., 0., 0., 0., 0., 0., 0., 0.,\n",
       "        0., 0., 0., 0., 0., 0., 0., 0., 0., 0.],\n",
       "       [0., 0., 0., 0., 0., 0., 0., 0., 0., 0., 0., 0., 0., 0., 0., 0.,\n",
       "        0., 0., 0., 0., 0., 0., 0., 0., 0., 0.],\n",
       "       [0., 0., 0., 0., 0., 0., 0., 0., 0., 0., 0., 0., 0., 0., 0., 0.,\n",
       "        0., 0., 0., 0., 0., 0., 0., 0., 0., 0.],\n",
       "       [0., 0., 0., 0., 0., 0., 0., 0., 0., 0., 0., 0., 0., 0., 0., 0.,\n",
       "        0., 0., 0., 0., 0., 0., 0., 0., 0., 0.],\n",
       "       [0., 0., 0., 0., 0., 0., 0., 0., 0., 0., 0., 0., 0., 0., 0., 0.,\n",
       "        0., 0., 0., 0., 0., 0., 0., 0., 0., 0.],\n",
       "       [0., 0., 0., 0., 0., 0., 0., 0., 0., 0., 0., 0., 0., 0., 0., 0.,\n",
       "        0., 0., 0., 0., 0., 0., 0., 0., 0., 0.]])"
      ]
     },
     "execution_count": 58,
     "metadata": {},
     "output_type": "execute_result"
    }
   ],
   "source": [
    "# cues\n",
    "cues1 = names_train.loc[names_train.index[1], 'cues']\n",
    "cues1_onehot_LSTM = md.seq_to_onehot_2darray(cues1, index_system = cue_to_index, N_tokens = N_cues, max_len = 10)\n",
    "cues1_onehot_LSTM"
   ]
  },
  {
   "cell_type": "code",
   "execution_count": 57,
   "metadata": {
    "scrolled": true
   },
   "outputs": [
    {
     "data": {
      "text/plain": [
       "array([0., 1.])"
      ]
     },
     "execution_count": 57,
     "metadata": {},
     "output_type": "execute_result"
    }
   ],
   "source": [
    "# outcomes\n",
    "outcomes1 = names_train.loc[names_train.index[1], 'outcomes']\n",
    "outcomes1_onehot_LSTM = md.seq_to_onehot_1darray(outcomes1, index_system = outcome_to_index, N_tokens = N_outcomes)\n",
    "outcomes1_onehot_LSTM"
   ]
  },
  {
   "cell_type": "markdown",
   "metadata": {},
   "source": [
    "### Build a simple LSTM model"
   ]
  },
  {
   "cell_type": "markdown",
   "metadata": {},
   "source": [
    "Build a simple LSTM that has 64 hidden units "
   ]
  },
  {
   "cell_type": "code",
   "execution_count": 60,
   "metadata": {},
   "outputs": [
    {
     "name": "stdout",
     "output_type": "stream",
     "text": [
      "Epoch 1/10\n",
      " - 7s - loss: 0.6866 - accuracy: 0.6472 - val_loss: 0.6756 - val_accuracy: 0.6994\n",
      "Epoch 2/10\n",
      " - 7s - loss: 0.6565 - accuracy: 0.6707 - val_loss: 0.6386 - val_accuracy: 0.6533\n",
      "Epoch 3/10\n",
      " - 6s - loss: 0.6229 - accuracy: 0.6610 - val_loss: 0.6261 - val_accuracy: 0.6555\n",
      "Epoch 4/10\n",
      " - 6s - loss: 0.6049 - accuracy: 0.6785 - val_loss: 0.6092 - val_accuracy: 0.6771\n",
      "Epoch 5/10\n",
      " - 6s - loss: 0.5847 - accuracy: 0.7017 - val_loss: 0.5778 - val_accuracy: 0.7009\n",
      "Epoch 6/10\n",
      " - 6s - loss: 0.5634 - accuracy: 0.7217 - val_loss: 0.5360 - val_accuracy: 0.7247\n",
      "Epoch 7/10\n",
      " - 6s - loss: 0.5468 - accuracy: 0.7270 - val_loss: 0.4942 - val_accuracy: 0.7418\n",
      "Epoch 8/10\n",
      " - 6s - loss: 0.5384 - accuracy: 0.7323 - val_loss: 0.4643 - val_accuracy: 0.7381\n",
      "Epoch 9/10\n",
      " - 6s - loss: 0.5308 - accuracy: 0.7376 - val_loss: 0.4400 - val_accuracy: 0.7426\n",
      "Epoch 10/10\n",
      " - 6s - loss: 0.5293 - accuracy: 0.7394 - val_loss: 0.4240 - val_accuracy: 0.7463\n"
     ]
    }
   ],
   "source": [
    "### Build a simple LSTM that has 64 hidden units \n",
    "p = {'max_len': 11,\n",
    "     'epochs': 10, # number of iterations on the full set \n",
    "     'batch_size': 16, \n",
    "     'embedding_input': None,\n",
    "     'embedding_dim': 0, \n",
    "     'hidden_neuron': 64, # number of neurons in the input layer \n",
    "     'lr': 0.0001, # learning rate       \n",
    "     'dropout': 0.2, \n",
    "     'optimizer': RMSprop, \n",
    "     'losses': binary_crossentropy, \n",
    "     'last_activation': 'sigmoid'}\n",
    "\n",
    "# Model fitting\n",
    "LSTM_out, LSTM_model = md.train(model = 'LSTM', \n",
    "                                data_train = names_train, \n",
    "                                data_valid = names_valid, \n",
    "                                cue_index = cue_to_index, \n",
    "                                outcome_index = outcome_to_index, \n",
    "                                verbose = 2,\n",
    "                                metrics = ['accuracy'],\n",
    "                                params = p)"
   ]
  },
  {
   "cell_type": "code",
   "execution_count": 61,
   "metadata": {},
   "outputs": [
    {
     "name": "stdout",
     "output_type": "stream",
     "text": [
      "Model: \"sequential_1\"\n",
      "_________________________________________________________________\n",
      "Layer (type)                 Output Shape              Param #   \n",
      "=================================================================\n",
      "lstm_1 (LSTM)                (None, 64)                23296     \n",
      "_________________________________________________________________\n",
      "dropout_1 (Dropout)          (None, 64)                0         \n",
      "_________________________________________________________________\n",
      "dense_1 (Dense)              (None, 2)                 130       \n",
      "=================================================================\n",
      "Total params: 23,426\n",
      "Trainable params: 23,426\n",
      "Non-trainable params: 0\n",
      "_________________________________________________________________\n"
     ]
    }
   ],
   "source": [
    "LSTM_model.summary()"
   ]
  },
  {
   "cell_type": "markdown",
   "metadata": {},
   "source": [
    "### Tune the parameters to find a good model"
   ]
  },
  {
   "cell_type": "code",
   "execution_count": 62,
   "metadata": {
    "scrolled": false
   },
   "outputs": [],
   "source": [
    "### Parameter tuning using grid search \n",
    "p = {'max_len': [5, 8, 11],\n",
    "     'embedding_input': [None],\n",
    "     'embedding_dim': [0],\n",
    "     'epochs': [1, 5, 10, 20, 30], # number of iterations on the full set (x5)\n",
    "     'batch_size': [8, 16, 32, 64, 128, 256], # (x6)\n",
    "     'hidden_neuron':[16, 32, 64, 128], # number of neurons in the input layer (x4)\n",
    "     'lr': [0.0001, 0.0002, 0.0005, 0.001, 0.002, 0.005, 0.01], # learning rate (x7)       \n",
    "     'dropout': [0, 0.1, 0.2, 0.3, 0.4], # (x5)\n",
    "     'optimizer': [Adam, Nadam, RMSprop, SGD], # (x4)\n",
    "     'losses': [binary_crossentropy], # (x1)\n",
    "     'last_activation': ['sigmoid'] # (x1)\n",
    "     }\n",
    "TUNING_PATH = TOP + 'illustrative_examples/names/Results/grid_search_LSTM_names.csv'"
   ]
  },
  {
   "cell_type": "code",
   "execution_count": 63,
   "metadata": {},
   "outputs": [
    {
     "name": "stdout",
     "output_type": "stream",
     "text": [
      "Iteration 1 out of 10: {'max_len': 11, 'embedding_input': None, 'embedding_dim': None, 'epochs': 10, 'batch_size': 16, 'hidden_neuron': 32, 'lr': 0.0002, 'dropout': 0, 'optimizer': <class 'keras.optimizers.Nadam'>, 'losses': <function binary_crossentropy at 0x7fa162292598>, 'last_activation': 'sigmoid'}\n",
      "\n",
      "Iteration 2 out of 10: {'max_len': 8, 'embedding_input': None, 'embedding_dim': None, 'epochs': 20, 'batch_size': 64, 'hidden_neuron': 16, 'lr': 0.0002, 'dropout': 0.3, 'optimizer': <class 'keras.optimizers.Adam'>, 'losses': <function binary_crossentropy at 0x7fa162292598>, 'last_activation': 'sigmoid'}\n",
      "\n",
      "Iteration 3 out of 10: {'max_len': 11, 'embedding_input': None, 'embedding_dim': None, 'epochs': 1, 'batch_size': 64, 'hidden_neuron': 64, 'lr': 0.002, 'dropout': 0.4, 'optimizer': <class 'keras.optimizers.SGD'>, 'losses': <function binary_crossentropy at 0x7fa162292598>, 'last_activation': 'sigmoid'}\n",
      "\n",
      "Iteration 4 out of 10: {'max_len': 8, 'embedding_input': None, 'embedding_dim': None, 'epochs': 10, 'batch_size': 64, 'hidden_neuron': 16, 'lr': 0.0002, 'dropout': 0.2, 'optimizer': <class 'keras.optimizers.Adam'>, 'losses': <function binary_crossentropy at 0x7fa162292598>, 'last_activation': 'sigmoid'}\n",
      "\n",
      "Iteration 5 out of 10: {'max_len': 11, 'embedding_input': None, 'embedding_dim': None, 'epochs': 20, 'batch_size': 16, 'hidden_neuron': 128, 'lr': 0.001, 'dropout': 0, 'optimizer': <class 'keras.optimizers.SGD'>, 'losses': <function binary_crossentropy at 0x7fa162292598>, 'last_activation': 'sigmoid'}\n",
      "\n",
      "Iteration 6 out of 10: {'max_len': 11, 'embedding_input': None, 'embedding_dim': None, 'epochs': 30, 'batch_size': 8, 'hidden_neuron': 64, 'lr': 0.001, 'dropout': 0.4, 'optimizer': <class 'keras.optimizers.Adam'>, 'losses': <function binary_crossentropy at 0x7fa162292598>, 'last_activation': 'sigmoid'}\n",
      "\n",
      "Iteration 7 out of 10: {'max_len': 11, 'embedding_input': None, 'embedding_dim': None, 'epochs': 1, 'batch_size': 64, 'hidden_neuron': 32, 'lr': 0.005, 'dropout': 0.1, 'optimizer': <class 'keras.optimizers.RMSprop'>, 'losses': <function binary_crossentropy at 0x7fa162292598>, 'last_activation': 'sigmoid'}\n",
      "\n",
      "Iteration 8 out of 10: {'max_len': 11, 'embedding_input': None, 'embedding_dim': None, 'epochs': 30, 'batch_size': 32, 'hidden_neuron': 16, 'lr': 0.001, 'dropout': 0.3, 'optimizer': <class 'keras.optimizers.RMSprop'>, 'losses': <function binary_crossentropy at 0x7fa162292598>, 'last_activation': 'sigmoid'}\n",
      "\n",
      "Iteration 9 out of 10: {'max_len': 11, 'embedding_input': None, 'embedding_dim': None, 'epochs': 1, 'batch_size': 128, 'hidden_neuron': 32, 'lr': 0.001, 'dropout': 0.4, 'optimizer': <class 'keras.optimizers.RMSprop'>, 'losses': <function binary_crossentropy at 0x7fa162292598>, 'last_activation': 'sigmoid'}\n",
      "\n",
      "Iteration 10 out of 10: {'max_len': 5, 'embedding_input': None, 'embedding_dim': None, 'epochs': 5, 'batch_size': 16, 'hidden_neuron': 16, 'lr': 0.0001, 'dropout': 0.3, 'optimizer': <class 'keras.optimizers.Adam'>, 'losses': <function binary_crossentropy at 0x7fa162292598>, 'last_activation': 'sigmoid'}\n",
      "\n"
     ]
    }
   ],
   "source": [
    "### Grid search \n",
    "md.grid_search(model = 'LSTM',\n",
    "               data_train = names_train, \n",
    "               data_valid = names_valid, \n",
    "               cue_index = cue_to_index, \n",
    "               outcome_index = outcome_to_index,\n",
    "               params = p,\n",
    "               prop_grid = 2e-4, \n",
    "               tuning_output_file = TUNING_PATH)"
   ]
  },
  {
   "cell_type": "markdown",
   "metadata": {},
   "source": [
    "### Assessing the grid search"
   ]
  },
  {
   "cell_type": "code",
   "execution_count": 66,
   "metadata": {},
   "outputs": [
    {
     "data": {
      "text/plain": [
       "128"
      ]
     },
     "execution_count": 66,
     "metadata": {},
     "output_type": "execute_result"
    }
   ],
   "source": [
    "# Import the grid search file to analyse the results \n",
    "gs_results = pd.read_csv(TUNING_PATH, index_col = False)\n",
    "\n",
    "# get the number of parameter combinations that were processed\n",
    "len(gs_results)"
   ]
  },
  {
   "cell_type": "code",
   "execution_count": 67,
   "metadata": {
    "scrolled": false
   },
   "outputs": [
    {
     "data": {
      "text/html": [
       "<div>\n",
       "<style scoped>\n",
       "    .dataframe tbody tr th:only-of-type {\n",
       "        vertical-align: middle;\n",
       "    }\n",
       "\n",
       "    .dataframe tbody tr th {\n",
       "        vertical-align: top;\n",
       "    }\n",
       "\n",
       "    .dataframe thead th {\n",
       "        text-align: right;\n",
       "    }\n",
       "</style>\n",
       "<table border=\"1\" class=\"dataframe\">\n",
       "  <thead>\n",
       "    <tr style=\"text-align: right;\">\n",
       "      <th></th>\n",
       "      <th>max_len</th>\n",
       "      <th>embedding_input</th>\n",
       "      <th>embedding_dim</th>\n",
       "      <th>epochs</th>\n",
       "      <th>batch_size</th>\n",
       "      <th>hidden_neuron</th>\n",
       "      <th>lr</th>\n",
       "      <th>dropout</th>\n",
       "      <th>optimizer</th>\n",
       "      <th>losses</th>\n",
       "      <th>...</th>\n",
       "      <th>loss</th>\n",
       "      <th>acc</th>\n",
       "      <th>precision</th>\n",
       "      <th>recall</th>\n",
       "      <th>f1score</th>\n",
       "      <th>val_loss</th>\n",
       "      <th>val_acc</th>\n",
       "      <th>val_precision</th>\n",
       "      <th>val_recall</th>\n",
       "      <th>val_f1score</th>\n",
       "    </tr>\n",
       "  </thead>\n",
       "  <tbody>\n",
       "    <tr>\n",
       "      <th>0</th>\n",
       "      <td>11</td>\n",
       "      <td>onehot</td>\n",
       "      <td>0</td>\n",
       "      <td>1</td>\n",
       "      <td>16</td>\n",
       "      <td>32</td>\n",
       "      <td>0.0002</td>\n",
       "      <td>0.0</td>\n",
       "      <td>&lt;class 'keras.optimizers.Nadam'&gt;</td>\n",
       "      <td>&lt;function binary_crossentropy at 0x7fa162292598&gt;</td>\n",
       "      <td>...</td>\n",
       "      <td>0.679871</td>\n",
       "      <td>0.640487</td>\n",
       "      <td>0.645985</td>\n",
       "      <td>0.630531</td>\n",
       "      <td>0.636079</td>\n",
       "      <td>0.663381</td>\n",
       "      <td>0.654018</td>\n",
       "      <td>0.653350</td>\n",
       "      <td>0.657738</td>\n",
       "      <td>0.655387</td>\n",
       "    </tr>\n",
       "    <tr>\n",
       "      <th>1</th>\n",
       "      <td>11</td>\n",
       "      <td>onehot</td>\n",
       "      <td>0</td>\n",
       "      <td>2</td>\n",
       "      <td>16</td>\n",
       "      <td>32</td>\n",
       "      <td>0.0002</td>\n",
       "      <td>0.0</td>\n",
       "      <td>&lt;class 'keras.optimizers.Nadam'&gt;</td>\n",
       "      <td>&lt;function binary_crossentropy at 0x7fa162292598&gt;</td>\n",
       "      <td>...</td>\n",
       "      <td>0.620945</td>\n",
       "      <td>0.660859</td>\n",
       "      <td>0.660806</td>\n",
       "      <td>0.662795</td>\n",
       "      <td>0.661633</td>\n",
       "      <td>0.629188</td>\n",
       "      <td>0.674107</td>\n",
       "      <td>0.675303</td>\n",
       "      <td>0.674107</td>\n",
       "      <td>0.674407</td>\n",
       "    </tr>\n",
       "    <tr>\n",
       "      <th>2</th>\n",
       "      <td>11</td>\n",
       "      <td>onehot</td>\n",
       "      <td>0</td>\n",
       "      <td>3</td>\n",
       "      <td>16</td>\n",
       "      <td>32</td>\n",
       "      <td>0.0002</td>\n",
       "      <td>0.0</td>\n",
       "      <td>&lt;class 'keras.optimizers.Nadam'&gt;</td>\n",
       "      <td>&lt;function binary_crossentropy at 0x7fa162292598&gt;</td>\n",
       "      <td>...</td>\n",
       "      <td>0.586704</td>\n",
       "      <td>0.702802</td>\n",
       "      <td>0.703173</td>\n",
       "      <td>0.702802</td>\n",
       "      <td>0.702709</td>\n",
       "      <td>0.572277</td>\n",
       "      <td>0.693452</td>\n",
       "      <td>0.692279</td>\n",
       "      <td>0.697917</td>\n",
       "      <td>0.694836</td>\n",
       "    </tr>\n",
       "    <tr>\n",
       "      <th>3</th>\n",
       "      <td>11</td>\n",
       "      <td>onehot</td>\n",
       "      <td>0</td>\n",
       "      <td>4</td>\n",
       "      <td>16</td>\n",
       "      <td>32</td>\n",
       "      <td>0.0002</td>\n",
       "      <td>0.0</td>\n",
       "      <td>&lt;class 'keras.optimizers.Nadam'&gt;</td>\n",
       "      <td>&lt;function binary_crossentropy at 0x7fa162292598&gt;</td>\n",
       "      <td>...</td>\n",
       "      <td>0.556002</td>\n",
       "      <td>0.723820</td>\n",
       "      <td>0.723973</td>\n",
       "      <td>0.723636</td>\n",
       "      <td>0.723558</td>\n",
       "      <td>0.502320</td>\n",
       "      <td>0.722470</td>\n",
       "      <td>0.722047</td>\n",
       "      <td>0.724702</td>\n",
       "      <td>0.722966</td>\n",
       "    </tr>\n",
       "    <tr>\n",
       "      <th>4</th>\n",
       "      <td>11</td>\n",
       "      <td>onehot</td>\n",
       "      <td>0</td>\n",
       "      <td>5</td>\n",
       "      <td>16</td>\n",
       "      <td>32</td>\n",
       "      <td>0.0002</td>\n",
       "      <td>0.0</td>\n",
       "      <td>&lt;class 'keras.optimizers.Nadam'&gt;</td>\n",
       "      <td>&lt;function binary_crossentropy at 0x7fa162292598&gt;</td>\n",
       "      <td>...</td>\n",
       "      <td>0.538350</td>\n",
       "      <td>0.732762</td>\n",
       "      <td>0.733806</td>\n",
       "      <td>0.731010</td>\n",
       "      <td>0.732232</td>\n",
       "      <td>0.454574</td>\n",
       "      <td>0.738095</td>\n",
       "      <td>0.738241</td>\n",
       "      <td>0.738095</td>\n",
       "      <td>0.738062</td>\n",
       "    </tr>\n",
       "  </tbody>\n",
       "</table>\n",
       "<p>5 rows × 21 columns</p>\n",
       "</div>"
      ],
      "text/plain": [
       "   max_len embedding_input  embedding_dim  epochs  batch_size  hidden_neuron  \\\n",
       "0       11          onehot              0       1          16             32   \n",
       "1       11          onehot              0       2          16             32   \n",
       "2       11          onehot              0       3          16             32   \n",
       "3       11          onehot              0       4          16             32   \n",
       "4       11          onehot              0       5          16             32   \n",
       "\n",
       "       lr  dropout                         optimizer  \\\n",
       "0  0.0002      0.0  <class 'keras.optimizers.Nadam'>   \n",
       "1  0.0002      0.0  <class 'keras.optimizers.Nadam'>   \n",
       "2  0.0002      0.0  <class 'keras.optimizers.Nadam'>   \n",
       "3  0.0002      0.0  <class 'keras.optimizers.Nadam'>   \n",
       "4  0.0002      0.0  <class 'keras.optimizers.Nadam'>   \n",
       "\n",
       "                                             losses  ...      loss       acc  \\\n",
       "0  <function binary_crossentropy at 0x7fa162292598>  ...  0.679871  0.640487   \n",
       "1  <function binary_crossentropy at 0x7fa162292598>  ...  0.620945  0.660859   \n",
       "2  <function binary_crossentropy at 0x7fa162292598>  ...  0.586704  0.702802   \n",
       "3  <function binary_crossentropy at 0x7fa162292598>  ...  0.556002  0.723820   \n",
       "4  <function binary_crossentropy at 0x7fa162292598>  ...  0.538350  0.732762   \n",
       "\n",
       "   precision    recall   f1score  val_loss   val_acc  val_precision  \\\n",
       "0   0.645985  0.630531  0.636079  0.663381  0.654018       0.653350   \n",
       "1   0.660806  0.662795  0.661633  0.629188  0.674107       0.675303   \n",
       "2   0.703173  0.702802  0.702709  0.572277  0.693452       0.692279   \n",
       "3   0.723973  0.723636  0.723558  0.502320  0.722470       0.722047   \n",
       "4   0.733806  0.731010  0.732232  0.454574  0.738095       0.738241   \n",
       "\n",
       "   val_recall  val_f1score  \n",
       "0    0.657738     0.655387  \n",
       "1    0.674107     0.674407  \n",
       "2    0.697917     0.694836  \n",
       "3    0.724702     0.722966  \n",
       "4    0.738095     0.738062  \n",
       "\n",
       "[5 rows x 21 columns]"
      ]
     },
     "execution_count": 67,
     "metadata": {},
     "output_type": "execute_result"
    }
   ],
   "source": [
    "# Display the dataframe containing the tuning results\n",
    "gs_results.head()"
   ]
  },
  {
   "cell_type": "code",
   "execution_count": 68,
   "metadata": {},
   "outputs": [
    {
     "data": {
      "text/plain": [
       "Index(['max_len', 'embedding_input', 'embedding_dim', 'epochs', 'batch_size',\n",
       "       'hidden_neuron', 'lr', 'dropout', 'optimizer', 'losses',\n",
       "       'last_activation', 'loss', 'acc', 'precision', 'recall', 'f1score',\n",
       "       'val_loss', 'val_acc', 'val_precision', 'val_recall', 'val_f1score'],\n",
       "      dtype='object')"
      ]
     },
     "execution_count": 68,
     "metadata": {},
     "output_type": "execute_result"
    }
   ],
   "source": [
    "gs_results.columns"
   ]
  },
  {
   "cell_type": "code",
   "execution_count": 70,
   "metadata": {
    "scrolled": true
   },
   "outputs": [
    {
     "name": "stdout",
     "output_type": "stream",
     "text": [
      "- Highest validation accuracy: 0.8236607313156128\n",
      "- Highest validation f1-score: 0.91931564\n"
     ]
    }
   ],
   "source": [
    "# get the highest result for any metric\n",
    "print(f\"- Highest validation accuracy: {gs_results['val_acc'].max()}\")\n",
    "print(f\"- Highest validation f1-score: {gs_results['f1score'].max()}\")"
   ]
  },
  {
   "cell_type": "code",
   "execution_count": 71,
   "metadata": {
    "scrolled": false
   },
   "outputs": [
    {
     "data": {
      "text/plain": [
       "84"
      ]
     },
     "execution_count": 71,
     "metadata": {},
     "output_type": "execute_result"
    }
   ],
   "source": [
    "# get the index of the combination with the best result\n",
    "i_best = gs_results['val_acc'].argmax()\n",
    "i_best"
   ]
  },
  {
   "cell_type": "markdown",
   "metadata": {},
   "source": [
    "Iteration 7 produced the highest validation accuracy, corresponding to the following parameters:"
   ]
  },
  {
   "cell_type": "code",
   "execution_count": 72,
   "metadata": {
    "scrolled": false
   },
   "outputs": [
    {
     "data": {
      "text/plain": [
       "max_len                                                          11\n",
       "embedding_input                                              onehot\n",
       "embedding_dim                                                     0\n",
       "epochs                                                           24\n",
       "batch_size                                                        8\n",
       "hidden_neuron                                                    64\n",
       "lr                                                            0.001\n",
       "dropout                                                         0.4\n",
       "optimizer                           <class 'keras.optimizers.Adam'>\n",
       "losses             <function binary_crossentropy at 0x7fa162292598>\n",
       "                                         ...                       \n",
       "loss                                                       0.261525\n",
       "acc                                                        0.888735\n",
       "precision                                                   0.88888\n",
       "recall                                                     0.889012\n",
       "f1score                                                    0.888823\n",
       "val_loss                                                   0.350501\n",
       "val_acc                                                    0.823661\n",
       "val_precision                                              0.822586\n",
       "val_recall                                                 0.825893\n",
       "val_f1score                                                0.824142\n",
       "Name: 84, Length: 21, dtype: object"
      ]
     },
     "execution_count": 72,
     "metadata": {},
     "output_type": "execute_result"
    }
   ],
   "source": [
    "# get the best paramaters\n",
    "gs_results.iloc[i_best, ]"
   ]
  },
  {
   "cell_type": "markdown",
   "metadata": {},
   "source": [
    "### Retraining with the best parameters"
   ]
  },
  {
   "cell_type": "code",
   "execution_count": 74,
   "metadata": {
    "scrolled": true
   },
   "outputs": [
    {
     "name": "stdout",
     "output_type": "stream",
     "text": [
      "Epoch 1/24\n",
      " - 13s - loss: 0.5994 - accuracy: 0.6729 - val_loss: 0.4294 - val_accuracy: 0.7314\n",
      "Epoch 2/24\n",
      " - 13s - loss: 0.5330 - accuracy: 0.7364 - val_loss: 0.4013 - val_accuracy: 0.7530\n",
      "Epoch 3/24\n",
      " - 12s - loss: 0.5085 - accuracy: 0.7542 - val_loss: 0.3967 - val_accuracy: 0.7582\n",
      "Epoch 4/24\n",
      " - 12s - loss: 0.4915 - accuracy: 0.7601 - val_loss: 0.3555 - val_accuracy: 0.7708\n",
      "Epoch 5/24\n",
      " - 12s - loss: 0.4717 - accuracy: 0.7739 - val_loss: 0.3274 - val_accuracy: 0.7902\n",
      "Epoch 6/24\n",
      " - 12s - loss: 0.4488 - accuracy: 0.7910 - val_loss: 0.3228 - val_accuracy: 0.8021\n",
      "Epoch 7/24\n",
      " - 13s - loss: 0.4322 - accuracy: 0.8025 - val_loss: 0.2861 - val_accuracy: 0.8088\n",
      "Epoch 8/24\n",
      " - 12s - loss: 0.4174 - accuracy: 0.8121 - val_loss: 0.2794 - val_accuracy: 0.8110\n",
      "Epoch 9/24\n",
      " - 12s - loss: 0.4073 - accuracy: 0.8177 - val_loss: 0.2516 - val_accuracy: 0.8118\n",
      "Epoch 10/24\n",
      " - 13s - loss: 0.3949 - accuracy: 0.8213 - val_loss: 0.2390 - val_accuracy: 0.8088\n",
      "Epoch 11/24\n",
      " - 13s - loss: 0.3861 - accuracy: 0.8248 - val_loss: 0.2592 - val_accuracy: 0.8214\n",
      "Epoch 12/24\n",
      " - 13s - loss: 0.3747 - accuracy: 0.8316 - val_loss: 0.2408 - val_accuracy: 0.8132\n",
      "Epoch 13/24\n",
      " - 12s - loss: 0.3702 - accuracy: 0.8373 - val_loss: 0.3083 - val_accuracy: 0.8266\n",
      "Epoch 14/24\n",
      " - 12s - loss: 0.3580 - accuracy: 0.8454 - val_loss: 0.3212 - val_accuracy: 0.8229\n",
      "Epoch 15/24\n",
      " - 12s - loss: 0.3486 - accuracy: 0.8509 - val_loss: 0.3866 - val_accuracy: 0.8162\n",
      "Epoch 16/24\n",
      " - 12s - loss: 0.3398 - accuracy: 0.8585 - val_loss: 0.4075 - val_accuracy: 0.8214\n",
      "Epoch 17/24\n",
      " - 13s - loss: 0.3292 - accuracy: 0.8632 - val_loss: 0.4572 - val_accuracy: 0.8192\n",
      "Epoch 18/24\n",
      " - 12s - loss: 0.3181 - accuracy: 0.8719 - val_loss: 0.4969 - val_accuracy: 0.8214\n",
      "Epoch 19/24\n",
      " - 12s - loss: 0.3093 - accuracy: 0.8733 - val_loss: 0.4947 - val_accuracy: 0.8266\n",
      "Epoch 20/24\n",
      " - 13s - loss: 0.3001 - accuracy: 0.8760 - val_loss: 0.4560 - val_accuracy: 0.8118\n",
      "Epoch 21/24\n",
      " - 13s - loss: 0.2881 - accuracy: 0.8851 - val_loss: 0.5386 - val_accuracy: 0.8140\n",
      "Epoch 22/24\n",
      " - 13s - loss: 0.2798 - accuracy: 0.8880 - val_loss: 0.4497 - val_accuracy: 0.8207\n",
      "Epoch 23/24\n",
      " - 12s - loss: 0.2666 - accuracy: 0.8908 - val_loss: 0.4164 - val_accuracy: 0.8155\n",
      "Epoch 24/24\n",
      " - 13s - loss: 0.2661 - accuracy: 0.8900 - val_loss: 0.5067 - val_accuracy: 0.8043\n"
     ]
    }
   ],
   "source": [
    "### Hyperparameters to use\n",
    "p = {'max_len': 11,\n",
    "     'epochs': 24, # number of iterations on the full set \n",
    "     'batch_size': 8, \n",
    "     'embedding_input': None,\n",
    "     'embedding_dim': 0, \n",
    "     'hidden_neuron': 64, # number of neurons in the input layer \n",
    "     'lr': 0.001, # learning rate       \n",
    "     'dropout': 0.4, \n",
    "     'optimizer': Adam, \n",
    "     'losses': binary_crossentropy, \n",
    "     'last_activation': 'sigmoid'}\n",
    "\n",
    "# Model fitting\n",
    "LSTM_hist, LSTM_model = md.train_LSTM(data_train = names_train, \n",
    "                                     data_valid = names_valid, \n",
    "                                     cue_index = cue_to_index, \n",
    "                                     outcome_index = outcome_to_index, \n",
    "                                     metrics = ['accuracy'],\n",
    "                                     verbose = 2,\n",
    "                                     params = p)"
   ]
  },
  {
   "cell_type": "code",
   "execution_count": 75,
   "metadata": {},
   "outputs": [],
   "source": [
    "# Save the model and training history\n",
    "MODEL_PATH = TOP + 'illustrative_examples/names/Results/LSTM_names.h5'\n",
    "HISTORY_PATH = TOP + 'illustrative_examples/names/Results/LSTM_history_dict_names'\n",
    "md.export_model(model = LSTM_model, path = MODEL_PATH)  # creates a HDF5 file \n",
    "md.export_history(history_dict = LSTM_hist, path = HISTORY_PATH)\n",
    "del LSTM_model, LSTM_hist  # deletes the existing model and history dictionary"
   ]
  },
  {
   "cell_type": "code",
   "execution_count": 76,
   "metadata": {},
   "outputs": [],
   "source": [
    "# Load the model and training history\n",
    "MODEL_PATH = TOP + 'illustrative_examples/names/Results/LSTM_names.h5'\n",
    "HISTORY_PATH = TOP + 'illustrative_examples/names/Results/LSTM_history_dict_names'\n",
    "LSTM_model = md.import_model(MODEL_PATH)\n",
    "LSTM_history_dict = md.import_history(path = HISTORY_PATH)"
   ]
  },
  {
   "cell_type": "markdown",
   "metadata": {},
   "source": [
    "### Evaluate the final model"
   ]
  },
  {
   "cell_type": "code",
   "execution_count": 78,
   "metadata": {},
   "outputs": [
    {
     "data": {
      "image/png": "[encoded data removed]",
      "text/plain": [
       "<Figure size 432x288 with 1 Axes>"
      ]
     },
     "metadata": {
      "needs_background": "light"
     },
     "output_type": "display_data"
    }
   ],
   "source": [
    "# Generate plots to assess the performance of the simple LSTM\n",
    "ev.plot_learning_curve(history_dict = LSTM_history_dict, metric = 'accuracy', set = 'train_valid')"
   ]
  },
  {
   "cell_type": "code",
   "execution_count": 79,
   "metadata": {},
   "outputs": [
    {
     "data": {
      "text/plain": [
       "array([0.8150622 , 0.20015824], dtype=float32)"
      ]
     },
     "execution_count": 79,
     "metadata": {},
     "output_type": "execute_result"
    }
   ],
   "source": [
    "# Test prediction for a single given cue sequence. Model expect inout as array of shape (1, N_cues) \n",
    "cue1_seq = 'y_o_u_s_s_e_f'\n",
    "outcome1_prob_pred = ev.predict_proba_oneevent_LSTM(model = LSTM_model, \n",
    "                                                   cue_seq = cue1_seq,  \n",
    "                                                   cue_index = cue_to_index,\n",
    "                                                   max_len = 11,\n",
    "                                                   vector_encoding = 'onehot')\n",
    "outcome1_prob_pred"
   ]
  },
  {
   "cell_type": "code",
   "execution_count": 80,
   "metadata": {},
   "outputs": [],
   "source": [
    "# Evaluate the model on the test set\n",
    "prob_pred = ev.predict_proba_eventfile_LSTM(model = LSTM_model, \n",
    "                                           data_test = names_test, \n",
    "                                           cue_index = cue_to_index, \n",
    "                                           outcome_index = outcome_to_index, \n",
    "                                           max_len = 11,\n",
    "                                           vector_encoding = 'onehot')"
   ]
  },
  {
   "cell_type": "code",
   "execution_count": 81,
   "metadata": {},
   "outputs": [
    {
     "data": {
      "text/plain": [
       "0.8053097345132744"
      ]
     },
     "execution_count": 81,
     "metadata": {},
     "output_type": "execute_result"
    }
   ],
   "source": [
    "# True responses to compare the predictions to\n",
    "y_test = names_test.replace({'outcomes': outcome_to_index})['outcomes']\n",
    "y_pred = np.argmax(prob_pred, axis=1)+1\n",
    "\n",
    "# Overall test accuracy\n",
    "test_accuracy = accuracy_score(y_test, y_pred)\n",
    "test_accuracy"
   ]
  },
  {
   "cell_type": "code",
   "execution_count": 82,
   "metadata": {},
   "outputs": [
    {
     "name": "stdout",
     "output_type": "stream",
     "text": [
      "[0.85630499 0.7537092 ]\n"
     ]
    }
   ],
   "source": [
    "# Test accuracy per class\n",
    "cmat = confusion_matrix(y_test, y_pred) # Confusion matrix\n",
    "print(cmat.diagonal()/cmat.sum(axis=1)) "
   ]
  },
  {
   "cell_type": "markdown",
   "metadata": {},
   "source": [
    "## V. Naive discriminative learning model <a ID=\"V\"></a> "
   ]
  },
  {
   "cell_type": "markdown",
   "metadata": {},
   "source": [
    "### Build a simple NDL model"
   ]
  },
  {
   "cell_type": "code",
   "execution_count": 100,
   "metadata": {
    "scrolled": false
   },
   "outputs": [
    {
     "name": "stdout",
     "output_type": "stream",
     "text": [
      "Epoch 1/10\n",
      " - 21s - acc: 0.6461 - val_acc: 0.6519\n",
      "Epoch 2/10\n",
      " - 21s - acc: 0.6535 - val_acc: 0.6637\n",
      "Epoch 3/10\n",
      " - 21s - acc: 0.6590 - val_acc: 0.6622\n",
      "Epoch 4/10\n",
      " - 21s - acc: 0.6629 - val_acc: 0.6637\n",
      "Epoch 5/10\n",
      " - 20s - acc: 0.6638 - val_acc: 0.6681\n",
      "Epoch 6/10\n",
      " - 21s - acc: 0.6629 - val_acc: 0.6740\n",
      "Epoch 7/10\n",
      " - 21s - acc: 0.6635 - val_acc: 0.6770\n",
      "Epoch 8/10\n",
      " - 21s - acc: 0.6648 - val_acc: 0.6711\n",
      "Epoch 9/10\n",
      " - 21s - acc: 0.6659 - val_acc: 0.6681\n",
      "Epoch 10/10\n",
      " - 21s - acc: 0.6668 - val_acc: 0.6637\n"
     ]
    }
   ],
   "source": [
    "### Build a simple NDL\n",
    "p = {'epochs': 10, # number of iterations on the full set \n",
    "    'lr': 0.001}\n",
    "\n",
    "# Model fitting\n",
    "NDL_history_dict, NDL_model = md.train(model = 'NDL',\n",
    "                                       data_train = names_train, \n",
    "                                       data_valid = names_valid,  \n",
    "                                       cue_index = cue_to_index, \n",
    "                                       outcome_index = outcome_to_index, \n",
    "                                       params = p,\n",
    "                                       num_threads = 16,\n",
    "                                       verbose = 1)"
   ]
  },
  {
   "cell_type": "code",
   "execution_count": 101,
   "metadata": {},
   "outputs": [
    {
     "data": {
      "image/png": "[encoded data removed]",
      "text/plain": [
       "<Figure size 432x288 with 1 Axes>"
      ]
     },
     "metadata": {
      "needs_background": "light"
     },
     "output_type": "display_data"
    }
   ],
   "source": [
    "# Generate learning curve\n",
    "ev.plot_learning_curve(history_dict = NDL_history_dict, metric = 'acc', set = 'train_valid')"
   ]
  },
  {
   "cell_type": "markdown",
   "metadata": {},
   "source": [
    "### Tune the parameters to find a good model"
   ]
  },
  {
   "cell_type": "code",
   "execution_count": 122,
   "metadata": {
    "scrolled": true
   },
   "outputs": [
    {
     "name": "stdout",
     "output_type": "stream",
     "text": [
      "Iteration 1 out of 8: {'lr': 0.001, 'epochs': 2}\n",
      "\n",
      "Iteration 2 out of 8: {'lr': 0.01, 'epochs': 4}\n",
      "\n",
      "Iteration 3 out of 8: {'lr': 0.005, 'epochs': 8}\n",
      "\n",
      "Iteration 4 out of 8: {'lr': 5e-05, 'epochs': 2}\n",
      "\n",
      "Iteration 5 out of 8: {'lr': 0.01, 'epochs': 8}\n",
      "\n",
      "Iteration 6 out of 8: {'lr': 0.0005, 'epochs': 2}\n",
      "\n",
      "Iteration 7 out of 8: {'lr': 1e-05, 'epochs': 1}\n",
      "\n",
      "Iteration 8 out of 8: {'lr': 1e-05, 'epochs': 4}\n",
      "\n"
     ]
    }
   ],
   "source": [
    "### Parameter tuning using grid search \n",
    "p = {'lr': [0.00001, 0.00005, 0.0001, 0.0005, 0.001, 0.005, 0.01, 0.05], # learning rate (x8)\n",
    "     'epochs': [8, 6, 4, 2, 1], # number of iterations on the full set (x5)\n",
    "     }\n",
    "# => Total number of combinations: 8*5 = 40\n",
    "\n",
    "### Grid search \n",
    "TUNING_PATH = TOP + 'illustrative_examples/names/Results/grid_search_NDL_names.csv'\n",
    "md.grid_search(model = 'NDL', \n",
    "               data_train = names_train, \n",
    "               data_valid = names_valid, \n",
    "               cue_index = cue_to_index, \n",
    "               outcome_index = outcome_to_index, \n",
    "               params = p, \n",
    "               prop_grid = 0.2, \n",
    "               shuffle_grid = True,\n",
    "               tuning_output_file = TUNING_PATH, \n",
    "               num_threads = 16)"
   ]
  },
  {
   "cell_type": "markdown",
   "metadata": {},
   "source": [
    "### Assessing the grid search"
   ]
  },
  {
   "cell_type": "code",
   "execution_count": 123,
   "metadata": {},
   "outputs": [
    {
     "data": {
      "text/plain": [
       "31"
      ]
     },
     "execution_count": 123,
     "metadata": {},
     "output_type": "execute_result"
    }
   ],
   "source": [
    "# Import the grid search file to analyse the results \n",
    "gs_results = pd.read_csv(TUNING_PATH, index_col = False)\n",
    "\n",
    "# get the number of parameter combinations that were processed\n",
    "len(gs_results)"
   ]
  },
  {
   "cell_type": "code",
   "execution_count": 124,
   "metadata": {
    "scrolled": false
   },
   "outputs": [
    {
     "data": {
      "text/html": [
       "<div>\n",
       "<style scoped>\n",
       "    .dataframe tbody tr th:only-of-type {\n",
       "        vertical-align: middle;\n",
       "    }\n",
       "\n",
       "    .dataframe tbody tr th {\n",
       "        vertical-align: top;\n",
       "    }\n",
       "\n",
       "    .dataframe thead th {\n",
       "        text-align: right;\n",
       "    }\n",
       "</style>\n",
       "<table border=\"1\" class=\"dataframe\">\n",
       "  <thead>\n",
       "    <tr style=\"text-align: right;\">\n",
       "      <th></th>\n",
       "      <th>lr</th>\n",
       "      <th>epochs</th>\n",
       "      <th>acc</th>\n",
       "      <th>precision</th>\n",
       "      <th>recall</th>\n",
       "      <th>f1score</th>\n",
       "      <th>val_acc</th>\n",
       "      <th>val_precision</th>\n",
       "      <th>val_recall</th>\n",
       "      <th>val_f1score</th>\n",
       "    </tr>\n",
       "  </thead>\n",
       "  <tbody>\n",
       "    <tr>\n",
       "      <th>0</th>\n",
       "      <td>0.001</td>\n",
       "      <td>1</td>\n",
       "      <td>0.646148</td>\n",
       "      <td>0.646079</td>\n",
       "      <td>0.645761</td>\n",
       "      <td>0.645750</td>\n",
       "      <td>0.651917</td>\n",
       "      <td>0.651917</td>\n",
       "      <td>0.651923</td>\n",
       "      <td>0.651914</td>\n",
       "    </tr>\n",
       "    <tr>\n",
       "      <th>1</th>\n",
       "      <td>0.001</td>\n",
       "      <td>2</td>\n",
       "      <td>0.653520</td>\n",
       "      <td>0.653400</td>\n",
       "      <td>0.653288</td>\n",
       "      <td>0.653309</td>\n",
       "      <td>0.663717</td>\n",
       "      <td>0.663774</td>\n",
       "      <td>0.663757</td>\n",
       "      <td>0.663714</td>\n",
       "    </tr>\n",
       "    <tr>\n",
       "      <th>2</th>\n",
       "      <td>0.010</td>\n",
       "      <td>1</td>\n",
       "      <td>0.664762</td>\n",
       "      <td>0.667603</td>\n",
       "      <td>0.665738</td>\n",
       "      <td>0.664089</td>\n",
       "      <td>0.671091</td>\n",
       "      <td>0.673730</td>\n",
       "      <td>0.671437</td>\n",
       "      <td>0.670109</td>\n",
       "    </tr>\n",
       "    <tr>\n",
       "      <th>3</th>\n",
       "      <td>0.010</td>\n",
       "      <td>2</td>\n",
       "      <td>0.666605</td>\n",
       "      <td>0.669742</td>\n",
       "      <td>0.667633</td>\n",
       "      <td>0.665844</td>\n",
       "      <td>0.668142</td>\n",
       "      <td>0.671271</td>\n",
       "      <td>0.668522</td>\n",
       "      <td>0.666924</td>\n",
       "    </tr>\n",
       "    <tr>\n",
       "      <th>4</th>\n",
       "      <td>0.010</td>\n",
       "      <td>3</td>\n",
       "      <td>0.663656</td>\n",
       "      <td>0.666859</td>\n",
       "      <td>0.664702</td>\n",
       "      <td>0.662852</td>\n",
       "      <td>0.669617</td>\n",
       "      <td>0.672912</td>\n",
       "      <td>0.670005</td>\n",
       "      <td>0.668344</td>\n",
       "    </tr>\n",
       "  </tbody>\n",
       "</table>\n",
       "</div>"
      ],
      "text/plain": [
       "      lr  epochs       acc  precision    recall   f1score   val_acc  \\\n",
       "0  0.001       1  0.646148   0.646079  0.645761  0.645750  0.651917   \n",
       "1  0.001       2  0.653520   0.653400  0.653288  0.653309  0.663717   \n",
       "2  0.010       1  0.664762   0.667603  0.665738  0.664089  0.671091   \n",
       "3  0.010       2  0.666605   0.669742  0.667633  0.665844  0.668142   \n",
       "4  0.010       3  0.663656   0.666859  0.664702  0.662852  0.669617   \n",
       "\n",
       "   val_precision  val_recall  val_f1score  \n",
       "0       0.651917    0.651923     0.651914  \n",
       "1       0.663774    0.663757     0.663714  \n",
       "2       0.673730    0.671437     0.670109  \n",
       "3       0.671271    0.668522     0.666924  \n",
       "4       0.672912    0.670005     0.668344  "
      ]
     },
     "execution_count": 124,
     "metadata": {},
     "output_type": "execute_result"
    }
   ],
   "source": [
    "# Display the dataframe containing the tuning results\n",
    "gs_results.head()"
   ]
  },
  {
   "cell_type": "code",
   "execution_count": 125,
   "metadata": {},
   "outputs": [
    {
     "data": {
      "text/plain": [
       "Index(['lr', 'epochs', 'acc', 'precision', 'recall', 'f1score', 'val_acc',\n",
       "       'val_precision', 'val_recall', 'val_f1score'],\n",
       "      dtype='object')"
      ]
     },
     "execution_count": 125,
     "metadata": {},
     "output_type": "execute_result"
    }
   ],
   "source": [
    "gs_results.columns"
   ]
  },
  {
   "cell_type": "code",
   "execution_count": 127,
   "metadata": {
    "scrolled": true
   },
   "outputs": [
    {
     "name": "stdout",
     "output_type": "stream",
     "text": [
      "- Highest validation accuracy: 0.6784660766961652\n",
      "- Highest validation f1-score: 0.6663799498293685\n"
     ]
    }
   ],
   "source": [
    "# get the highest result for any metric\n",
    "print(f\"- Highest validation accuracy: {gs_results['val_acc'].max()}\")\n",
    "print(f\"- Highest validation f1-score: {gs_results['f1score'].max()}\")"
   ]
  },
  {
   "cell_type": "code",
   "execution_count": 128,
   "metadata": {
    "scrolled": false
   },
   "outputs": [
    {
     "data": {
      "text/plain": [
       "6"
      ]
     },
     "execution_count": 128,
     "metadata": {},
     "output_type": "execute_result"
    }
   ],
   "source": [
    "# get the index of the combination with the best result\n",
    "i_best = gs_results['val_acc'].argmax()\n",
    "i_best"
   ]
  },
  {
   "cell_type": "markdown",
   "metadata": {},
   "source": [
    "Iteration 7 produced the highest validation accuracy, corresponding to the following parameters:"
   ]
  },
  {
   "cell_type": "code",
   "execution_count": 129,
   "metadata": {
    "scrolled": false
   },
   "outputs": [
    {
     "data": {
      "text/plain": [
       "lr               0.005000\n",
       "epochs           1.000000\n",
       "acc              0.661261\n",
       "precision        0.661246\n",
       "recall           0.660859\n",
       "f1score          0.660853\n",
       "val_acc          0.678466\n",
       "val_precision    0.678649\n",
       "val_recall       0.678350\n",
       "val_f1score      0.678287\n",
       "Name: 6, dtype: float64"
      ]
     },
     "execution_count": 129,
     "metadata": {},
     "output_type": "execute_result"
    }
   ],
   "source": [
    "# get the best paramaters\n",
    "gs_results.iloc[i_best, ]"
   ]
  },
  {
   "cell_type": "markdown",
   "metadata": {},
   "source": [
    "### Retraining with the best parameters"
   ]
  },
  {
   "cell_type": "code",
   "execution_count": 130,
   "metadata": {
    "scrolled": false
   },
   "outputs": [
    {
     "name": "stdout",
     "output_type": "stream",
     "text": [
      "Epoch 1/1\n",
      " - 21s - acc: 0.6613 - val_acc: 0.6785\n"
     ]
    }
   ],
   "source": [
    "### Hyperparameters to use\n",
    "p = {'epochs': 1, # number of iterations on the full set \n",
    "    'lr': 0.005}\n",
    "\n",
    "# Model fitting\n",
    "NDL_history_dict, NDL_model = md.train_NDL(data_train = names_train, \n",
    "                                           data_valid = names_valid,  \n",
    "                                           cue_index = cue_to_index, \n",
    "                                           outcome_index = outcome_to_index, \n",
    "                                           params = p,\n",
    "                                           num_threads = 16, \n",
    "                                           verbose = 1)"
   ]
  },
  {
   "cell_type": "code",
   "execution_count": 131,
   "metadata": {},
   "outputs": [],
   "source": [
    "# Save the weights and training history\n",
    "MODEL_PATH = TOP + 'illustrative_examples/names/Results/NDL_names.h5'\n",
    "HISTORY_PATH = TOP + 'illustrative_examples/names/Results/NDL_history_dict_names'\n",
    "md.export_model(model = NDL_model, path = MODEL_PATH)  # create a HDF5 file \n",
    "md.export_history(history_dict = NDL_history_dict, path = HISTORY_PATH)\n",
    "del NDL_model, NDL_history_dict  # delete the existing model and history dictionary"
   ]
  },
  {
   "cell_type": "code",
   "execution_count": 132,
   "metadata": {},
   "outputs": [],
   "source": [
    "# Load the model and training history\n",
    "MODEL_PATH = TOP + 'illustrative_examples/names/Results/NDL_names.h5'\n",
    "HISTORY_PATH = TOP + 'illustrative_examples/names/Results/NDL_history_dict_names'\n",
    "NDL_model = md.import_model(MODEL_PATH)\n",
    "NDL_history_dict = md.import_history(path = HISTORY_PATH)"
   ]
  },
  {
   "cell_type": "markdown",
   "metadata": {},
   "source": [
    "### Evaluate the final model"
   ]
  },
  {
   "cell_type": "code",
   "execution_count": 142,
   "metadata": {},
   "outputs": [
    {
     "data": {
      "text/plain": [
       "array([0.67011605, 0.32988395])"
      ]
     },
     "execution_count": 142,
     "metadata": {},
     "output_type": "execute_result"
    }
   ],
   "source": [
    "# Test prediction for a single given cue sequence. Model expect input as array of shape (1, N_cues) \n",
    "cue1_seq = 'y_o_u_s_s_e_f'\n",
    "outcome1_prob_pred = ev.predict_proba_oneevent_NDL(model = NDL_model, \n",
    "                                                   cue_seq = cue1_seq)\n",
    "outcome1_prob_pred"
   ]
  },
  {
   "cell_type": "code",
   "execution_count": 148,
   "metadata": {},
   "outputs": [
    {
     "data": {
      "text/plain": [
       "0.6784660766961652"
      ]
     },
     "execution_count": 148,
     "metadata": {},
     "output_type": "execute_result"
    }
   ],
   "source": [
    "### Evaluate the model on the test set\n",
    "\n",
    "# True outcomes to compare the predictions to\n",
    "y_test = names_test['outcomes'].tolist()\n",
    "\n",
    "# Predicted outcomes\n",
    "y_pred = ev.predict_outcomes_NDL(model = NDL_model, \n",
    "                                 data_test = names_test, \n",
    "                                 num_threads = 16)\n",
    "\n",
    "# Overall test accuracy\n",
    "test_accuracy = accuracy_score(y_test, y_pred)\n",
    "test_accuracy"
   ]
  },
  {
   "cell_type": "code",
   "execution_count": 158,
   "metadata": {},
   "outputs": [
    {
     "name": "stdout",
     "output_type": "stream",
     "text": [
      "{'m': 0.6979472140762464, 'f': 0.658753709198813}\n"
     ]
    }
   ],
   "source": [
    "# Test accuracy per class\n",
    "cmat = confusion_matrix(y_test, y_pred, labels = list(outcome_to_index.keys())) # Confusion matrix\n",
    "cmat_diag = cmat.diagonal()/cmat.sum(axis=1)\n",
    "print({index_to_outcome[j+1]:cmat_diag[j] for j in range(len(cmat_diag))})"
   ]
  }
 ],
 "metadata": {
  "kernelspec": {
   "display_name": "Python 3",
   "language": "python",
   "name": "python3"
  },
  "language_info": {
   "codemirror_mode": {
    "name": "ipython",
    "version": 3
   },
   "file_extension": ".py",
   "mimetype": "text/x-python",
   "name": "python",
   "nbconvert_exporter": "python",
   "pygments_lexer": "ipython3",
   "version": "3.6.8"
  }
 },
 "nbformat": 4,
 "nbformat_minor": 2
}
