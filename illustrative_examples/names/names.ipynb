{
 "cells": [
  {
   "cell_type": "markdown",
   "metadata": {},
   "source": [
    "# Predicting gender from names"
   ]
  },
  {
   "cell_type": "markdown",
   "metadata": {},
   "source": [
    "## Table of Contents"
   ]
  },
  {
   "cell_type": "markdown",
   "metadata": {},
   "source": [
    "##### I. <a href=#I>Preliminary steps</a>\n",
    "##### II. <a href=#II>Prepare the data</a>\n",
    "##### III. <a href=#III>Feed-forward neural network model</a>\n",
    "##### IV. <a href=#IV>Long short-term memory model</a>\n",
    "##### V. <a href=#V>Naive discriminative learning model</a>"
   ]
  },
  {
   "cell_type": "markdown",
   "metadata": {},
   "source": [
    "## I. Preliminary steps <a ID=\"I\"></a> "
   ]
  },
  {
   "cell_type": "markdown",
   "metadata": {},
   "source": [
    "### Import necessary libraries and set up the working directory"
   ]
  },
  {
   "cell_type": "code",
   "execution_count": null,
   "metadata": {
    "scrolled": true
   },
   "outputs": [],
   "source": [
    "### Import necessary packages\n",
    "import os\n",
    "import pandas as pd\n",
    "import numpy as np\n",
    "from keras.models import Sequential\n",
    "from keras.layers import Dropout, Dense\n",
    "from keras.optimizers import Adam, Nadam, RMSprop, SGD\n",
    "from keras.activations import relu, elu\n",
    "from keras.losses import binary_crossentropy\n",
    "from keras import metrics\n",
    "from keras.models import load_model\n",
    "from sklearn.metrics import accuracy_score\n",
    "from sklearn.metrics import confusion_matrix\n",
    "import talos as ta\n",
    "import warnings\n",
    "\n",
    "### Set working directory\n",
    "TOP = '/media/Deep_text_modelling_package_repo/'\n",
    "WD = TOP + 'package'\n",
    "os.chdir(WD)\n",
    "\n",
    "### Import local packages\n",
    "import deep_text_modelling.preprocessing as pr\n",
    "import deep_text_modelling.modelling as md\n",
    "import deep_text_modelling.evaluation as ev\n",
    "\n",
    "# Display option for dataframes and matplotlib\n",
    "pd.set_option('display.max_colwidth', 100) # Max width of columns when dispalying datasets\n",
    "PREVIOUS_MAX_ROWS = pd.options.display.max_rows\n",
    "pd.options.display.max_rows = 20\n",
    "warnings.filterwarnings('ignore') # Hide warnings\n",
    "warnings.simplefilter('ignore')\n",
    "%matplotlib inline"
   ]
  },
  {
   "cell_type": "markdown",
   "metadata": {},
   "source": [
    "### Define file paths"
   ]
  },
  {
   "cell_type": "code",
   "execution_count": 2,
   "metadata": {},
   "outputs": [],
   "source": [
    "NAMES_FULL_CSV = TOP + \"illustrative_examples/names/Data/Names_full.csv\"\n",
    "NAMES_TRAIN_CSV = TOP + \"illustrative_examples/names/Data/Names_train.csv\"\n",
    "NAMES_VALID_CSV = TOP + \"illustrative_examples/names/Data/Names_valid.csv\"\n",
    "NAMES_TEST_CSV = TOP + \"illustrative_examples/names/Data/Names_test.csv\"\n",
    "CUE_INDEX = TOP + \"illustrative_examples/names/Data/Cue_index.csv\"\n",
    "OUTCOME_INDEX = TOP + \"illustrative_examples/names/Data/Outcome_index.csv\"\n",
    "TEMP_DIR = TOP + \"illustrative_examples/names/Data/\""
   ]
  },
  {
   "cell_type": "markdown",
   "metadata": {},
   "source": [
    "### Parameters to use"
   ]
  },
  {
   "cell_type": "code",
   "execution_count": 3,
   "metadata": {},
   "outputs": [],
   "source": [
    "N_outcomes = 2  # number of most frequent outcomes to keep \n",
    "N_cues = 26  # number of cues to keep (all alphabet letters)\n",
    "max_len = 11 # consider only the first 'max_len' cues in a sequence when applying LSTM (11 is the longest name in the dataset)\n",
    "no_threads = 10 # Number of CPU threads to use\n",
    "prop_valid = 1/10 # proportion of validation data\n",
    "prop_test = 1/10 # proportion of test data"
   ]
  },
  {
   "cell_type": "markdown",
   "metadata": {},
   "source": [
    "## II. Prepare the data <a name=\"II\"></a> "
   ]
  },
  {
   "cell_type": "markdown",
   "metadata": {},
   "source": [
    "### Load the data"
   ]
  },
  {
   "cell_type": "code",
   "execution_count": 4,
   "metadata": {
    "scrolled": false
   },
   "outputs": [
    {
     "name": "stdout",
     "output_type": "stream",
     "text": [
      "Number of examples: 6782\n"
     ]
    },
    {
     "data": {
      "text/html": [
       "<div>\n",
       "<style scoped>\n",
       "    .dataframe tbody tr th:only-of-type {\n",
       "        vertical-align: middle;\n",
       "    }\n",
       "\n",
       "    .dataframe tbody tr th {\n",
       "        vertical-align: top;\n",
       "    }\n",
       "\n",
       "    .dataframe thead th {\n",
       "        text-align: right;\n",
       "    }\n",
       "</style>\n",
       "<table border=\"1\" class=\"dataframe\">\n",
       "  <thead>\n",
       "    <tr style=\"text-align: right;\">\n",
       "      <th></th>\n",
       "      <th>first_name</th>\n",
       "      <th>gender</th>\n",
       "    </tr>\n",
       "  </thead>\n",
       "  <tbody>\n",
       "    <tr>\n",
       "      <th>0</th>\n",
       "      <td>John</td>\n",
       "      <td>m</td>\n",
       "    </tr>\n",
       "    <tr>\n",
       "      <th>1</th>\n",
       "      <td>William</td>\n",
       "      <td>m</td>\n",
       "    </tr>\n",
       "    <tr>\n",
       "      <th>2</th>\n",
       "      <td>James</td>\n",
       "      <td>m</td>\n",
       "    </tr>\n",
       "    <tr>\n",
       "      <th>3</th>\n",
       "      <td>Charles</td>\n",
       "      <td>m</td>\n",
       "    </tr>\n",
       "    <tr>\n",
       "      <th>4</th>\n",
       "      <td>George</td>\n",
       "      <td>m</td>\n",
       "    </tr>\n",
       "  </tbody>\n",
       "</table>\n",
       "</div>"
      ],
      "text/plain": [
       "  first_name gender\n",
       "0       John      m\n",
       "1    William      m\n",
       "2      James      m\n",
       "3    Charles      m\n",
       "4     George      m"
      ]
     },
     "execution_count": 4,
     "metadata": {},
     "output_type": "execute_result"
    }
   ],
   "source": [
    "names_full = pd.read_csv(NAMES_FULL_CSV)\n",
    "print(f'Number of examples: {len(names_full)}')\n",
    "names_full.head(5)"
   ]
  },
  {
   "cell_type": "markdown",
   "metadata": {},
   "source": [
    "### Prepare the cues and outcomes"
   ]
  },
  {
   "cell_type": "code",
   "execution_count": 5,
   "metadata": {},
   "outputs": [
    {
     "data": {
      "text/html": [
       "<div>\n",
       "<style scoped>\n",
       "    .dataframe tbody tr th:only-of-type {\n",
       "        vertical-align: middle;\n",
       "    }\n",
       "\n",
       "    .dataframe tbody tr th {\n",
       "        vertical-align: top;\n",
       "    }\n",
       "\n",
       "    .dataframe thead th {\n",
       "        text-align: right;\n",
       "    }\n",
       "</style>\n",
       "<table border=\"1\" class=\"dataframe\">\n",
       "  <thead>\n",
       "    <tr style=\"text-align: right;\">\n",
       "      <th></th>\n",
       "      <th>cues</th>\n",
       "      <th>outcomes</th>\n",
       "    </tr>\n",
       "  </thead>\n",
       "  <tbody>\n",
       "    <tr>\n",
       "      <th>0</th>\n",
       "      <td>j_o_h_n</td>\n",
       "      <td>m</td>\n",
       "    </tr>\n",
       "    <tr>\n",
       "      <th>1</th>\n",
       "      <td>w_i_l_l_i_a_m</td>\n",
       "      <td>m</td>\n",
       "    </tr>\n",
       "    <tr>\n",
       "      <th>2</th>\n",
       "      <td>j_a_m_e_s</td>\n",
       "      <td>m</td>\n",
       "    </tr>\n",
       "    <tr>\n",
       "      <th>3</th>\n",
       "      <td>c_h_a_r_l_e_s</td>\n",
       "      <td>m</td>\n",
       "    </tr>\n",
       "    <tr>\n",
       "      <th>4</th>\n",
       "      <td>g_e_o_r_g_e</td>\n",
       "      <td>m</td>\n",
       "    </tr>\n",
       "  </tbody>\n",
       "</table>\n",
       "</div>"
      ],
      "text/plain": [
       "            cues outcomes\n",
       "0        j_o_h_n        m\n",
       "1  w_i_l_l_i_a_m        m\n",
       "2      j_a_m_e_s        m\n",
       "3  c_h_a_r_l_e_s        m\n",
       "4    g_e_o_r_g_e        m"
      ]
     },
     "execution_count": 5,
     "metadata": {},
     "output_type": "execute_result"
    }
   ],
   "source": [
    "# Create the unigraph cues\n",
    "names_full['cues'] = names_full['first_name'].apply(lambda s: pr.orthoCoding(s, gram_size = 1))\n",
    "\n",
    "# Rename the column gender as 'outcomes'\n",
    "names_full.rename(columns={\"gender\": \"outcomes\"}, inplace = True)\n",
    "names_full = names_full[['cues', 'outcomes']]\n",
    "names_full.head(5)"
   ]
  },
  {
   "cell_type": "markdown",
   "metadata": {},
   "source": [
    "### Create index systems for the cues and outcomes"
   ]
  },
  {
   "cell_type": "code",
   "execution_count": 6,
   "metadata": {},
   "outputs": [],
   "source": [
    "# Create the files containing the index systems\n",
    "pr.create_index_systems_from_df(data = names_full, \n",
    "                                cue_index_path = CUE_INDEX, \n",
    "                                outcome_index_path = OUTCOME_INDEX)"
   ]
  },
  {
   "cell_type": "code",
   "execution_count": 7,
   "metadata": {
    "scrolled": true
   },
   "outputs": [
    {
     "name": "stdout",
     "output_type": "stream",
     "text": [
      "{a: 1}\n",
      "{e: 2}\n",
      "{n: 3}\n",
      "{i: 4}\n",
      "{l: 5}\n"
     ]
    }
   ],
   "source": [
    "# Import the cue index system\n",
    "cue_to_index = pr.import_index_system(CUE_INDEX, N_tokens = N_cues)\n",
    "pr.display_dictionary(cue_to_index, start = 0, end = 5)"
   ]
  },
  {
   "cell_type": "code",
   "execution_count": 8,
   "metadata": {
    "scrolled": true
   },
   "outputs": [
    {
     "name": "stdout",
     "output_type": "stream",
     "text": [
      "{a: 1}\n",
      "{b: 2}\n",
      "{c: 3}\n",
      "{d: 4}\n",
      "{e: 5}\n"
     ]
    }
   ],
   "source": [
    "# Order dictionary alphabetically\n",
    "cue_to_index = {k:(i+1) for i,k in enumerate(sorted(cue_to_index.keys()))}\n",
    "pr.display_dictionary(cue_to_index, start = 0, end = 5)"
   ]
  },
  {
   "cell_type": "code",
   "execution_count": 9,
   "metadata": {},
   "outputs": [
    {
     "data": {
      "text/plain": [
       "{'m': 1, 'f': 2}"
      ]
     },
     "execution_count": 9,
     "metadata": {},
     "output_type": "execute_result"
    }
   ],
   "source": [
    "# Import the outcome index system\n",
    "outcome_to_index = pr.import_index_system(OUTCOME_INDEX)\n",
    "outcome_to_index"
   ]
  },
  {
   "cell_type": "code",
   "execution_count": 10,
   "metadata": {},
   "outputs": [
    {
     "data": {
      "text/plain": [
       "{1: 'm', 2: 'f'}"
      ]
     },
     "execution_count": 10,
     "metadata": {},
     "output_type": "execute_result"
    }
   ],
   "source": [
    "# Reverse the cue dictionary\n",
    "index_to_cue = pr.reverse_dictionary(cue_to_index)\n",
    "# Reverse the outcome dictionary\n",
    "index_to_outcome = pr.reverse_dictionary(outcome_to_index)\n",
    "index_to_outcome"
   ]
  },
  {
   "cell_type": "markdown",
   "metadata": {},
   "source": [
    "### Split into training, validation and test sets"
   ]
  },
  {
   "cell_type": "code",
   "execution_count": 11,
   "metadata": {
    "scrolled": true
   },
   "outputs": [
    {
     "name": "stdout",
     "output_type": "stream",
     "text": [
      "- Number of rows in the original set is 6782\n",
      "- Number of rows in the training set is 5426\n",
      "- Number of rows in the validation set is 678\n",
      "- Number of rows in the test set is 678\n"
     ]
    }
   ],
   "source": [
    "# Create train, valid and test set files\n",
    "pr.df_train_valid_test_split(data = names_full, \n",
    "                             train_data_path = NAMES_TRAIN_CSV, \n",
    "                             valid_data_path = NAMES_VALID_CSV, \n",
    "                             test_data_path = NAMES_TEST_CSV, \n",
    "                             p_valid = prop_valid, \n",
    "                             p_test = prop_test)"
   ]
  },
  {
   "cell_type": "code",
   "execution_count": 12,
   "metadata": {},
   "outputs": [],
   "source": [
    "# Load the train, valid and test sets\n",
    "names_train = pd.read_csv(NAMES_TRAIN_CSV, sep=',', na_filter = False)\n",
    "names_valid = pd.read_csv(NAMES_VALID_CSV, sep=',', na_filter = False)\n",
    "names_test = pd.read_csv(NAMES_VALID_CSV, sep=',', na_filter = False)"
   ]
  },
  {
   "cell_type": "markdown",
   "metadata": {},
   "source": [
    "## III. Feed-forward neural network model <a ID=\"III\"></a> "
   ]
  },
  {
   "cell_type": "markdown",
   "metadata": {},
   "source": [
    "### Tokenisation"
   ]
  },
  {
   "cell_type": "code",
   "execution_count": 13,
   "metadata": {},
   "outputs": [
    {
     "data": {
      "text/html": [
       "<div>\n",
       "<style scoped>\n",
       "    .dataframe tbody tr th:only-of-type {\n",
       "        vertical-align: middle;\n",
       "    }\n",
       "\n",
       "    .dataframe tbody tr th {\n",
       "        vertical-align: top;\n",
       "    }\n",
       "\n",
       "    .dataframe thead th {\n",
       "        text-align: right;\n",
       "    }\n",
       "</style>\n",
       "<table border=\"1\" class=\"dataframe\">\n",
       "  <thead>\n",
       "    <tr style=\"text-align: right;\">\n",
       "      <th></th>\n",
       "      <th>cues</th>\n",
       "      <th>outcomes</th>\n",
       "    </tr>\n",
       "  </thead>\n",
       "  <tbody>\n",
       "    <tr>\n",
       "      <th>1</th>\n",
       "      <td>k_y_r_i_e</td>\n",
       "      <td>f</td>\n",
       "    </tr>\n",
       "  </tbody>\n",
       "</table>\n",
       "</div>"
      ],
      "text/plain": [
       "        cues outcomes\n",
       "1  k_y_r_i_e        f"
      ]
     },
     "execution_count": 13,
     "metadata": {},
     "output_type": "execute_result"
    }
   ],
   "source": [
    "# Extract an event\n",
    "event1 = names_train.iloc[[1]]\n",
    "event1"
   ]
  },
  {
   "cell_type": "code",
   "execution_count": 14,
   "metadata": {},
   "outputs": [
    {
     "data": {
      "text/plain": [
       "array([0., 0., 0., 0., 1., 0., 0., 0., 1., 0., 1., 0., 0., 0., 0., 0., 0.,\n",
       "       1., 0., 0., 0., 0., 0., 0., 1., 0.])"
      ]
     },
     "execution_count": 14,
     "metadata": {},
     "output_type": "execute_result"
    }
   ],
   "source": [
    "# cues\n",
    "cues1 = names_train.loc[names_train.index[1], 'cues']\n",
    "cues1_onehot_FNN = md.seq_to_onehot_1darray(cues1, index_system = cue_to_index, N_tokens = N_cues)\n",
    "cues1_onehot_FNN"
   ]
  },
  {
   "cell_type": "code",
   "execution_count": 15,
   "metadata": {
    "scrolled": true
   },
   "outputs": [
    {
     "data": {
      "text/plain": [
       "array([0., 1.])"
      ]
     },
     "execution_count": 15,
     "metadata": {},
     "output_type": "execute_result"
    }
   ],
   "source": [
    "# outcomes\n",
    "outcomes1 = names_train.loc[names_train.index[1], 'outcomes']\n",
    "outcomes1_onehot_FNN = md.seq_to_onehot_1darray(outcomes1, index_system = outcome_to_index, N_tokens = N_outcomes)\n",
    "outcomes1_onehot_FNN"
   ]
  },
  {
   "cell_type": "markdown",
   "metadata": {},
   "source": [
    "### Build a simple FNN model"
   ]
  },
  {
   "cell_type": "markdown",
   "metadata": {},
   "source": [
    "Build a simple FNN with two hidden layers having 64 units "
   ]
  },
  {
   "cell_type": "code",
   "execution_count": 39,
   "metadata": {
    "scrolled": true
   },
   "outputs": [
    {
     "name": "stdout",
     "output_type": "stream",
     "text": [
      "Epoch 1/10\n",
      " - 2s - loss: 0.6956 - acc: 0.5360 - val_loss: 0.6820 - val_acc: 0.5863\n",
      "Epoch 2/10\n",
      " - 1s - loss: 0.6780 - acc: 0.5745 - val_loss: 0.6678 - val_acc: 0.6228\n",
      "Epoch 3/10\n",
      " - 1s - loss: 0.6637 - acc: 0.6117 - val_loss: 0.6529 - val_acc: 0.6555\n",
      "Epoch 4/10\n",
      " - 1s - loss: 0.6511 - acc: 0.6287 - val_loss: 0.6389 - val_acc: 0.6652\n",
      "Epoch 5/10\n",
      " - 1s - loss: 0.6367 - acc: 0.6491 - val_loss: 0.6267 - val_acc: 0.6629\n",
      "Epoch 6/10\n",
      " - 1s - loss: 0.6313 - acc: 0.6438 - val_loss: 0.6191 - val_acc: 0.6674\n",
      "Epoch 7/10\n",
      " - 1s - loss: 0.6273 - acc: 0.6529 - val_loss: 0.6141 - val_acc: 0.6741\n",
      "Epoch 8/10\n",
      " - 1s - loss: 0.6220 - acc: 0.6510 - val_loss: 0.6106 - val_acc: 0.6763\n",
      "Epoch 9/10\n",
      " - 1s - loss: 0.6205 - acc: 0.6568 - val_loss: 0.6081 - val_acc: 0.6778\n",
      "Epoch 10/10\n",
      " - 1s - loss: 0.6185 - acc: 0.6562 - val_loss: 0.6061 - val_acc: 0.6749\n"
     ]
    }
   ],
   "source": [
    "### Hyperparameters to use\n",
    "p = {'epochs': 10, # number of iterations on the full set \n",
    "    'batch_size': 16, \n",
    "    'hidden_layers': 2, # number of hidden layers \n",
    "    'hidden_neuron':64, # number of neurons in the input layer \n",
    "    'lr': 0.0001, # learning rate       \n",
    "    'dropout': 0.2, \n",
    "    'optimizer': Adam, \n",
    "    'losses': binary_crossentropy, \n",
    "    'activation': relu, \n",
    "    'last_activation': 'sigmoid'}\n",
    "\n",
    "# Model fitting\n",
    "FNN_hist, FNN_model = md.train_FNN(data_train = names_train, \n",
    "                                  data_valid = names_valid, \n",
    "                                  cue_index = cue_to_index, \n",
    "                                  outcome_index = outcome_to_index, \n",
    "                                  verbose = 2,\n",
    "                                  metrics = ['accuracy'],\n",
    "                                  params = p)"
   ]
  },
  {
   "cell_type": "code",
   "execution_count": 41,
   "metadata": {},
   "outputs": [
    {
     "name": "stdout",
     "output_type": "stream",
     "text": [
      "_________________________________________________________________\n",
      "Layer (type)                 Output Shape              Param #   \n",
      "=================================================================\n",
      "dense_17 (Dense)             (None, 64)                1728      \n",
      "_________________________________________________________________\n",
      "dropout_11 (Dropout)         (None, 64)                0         \n",
      "_________________________________________________________________\n",
      "dense_18 (Dense)             (None, 64)                4160      \n",
      "_________________________________________________________________\n",
      "dropout_12 (Dropout)         (None, 64)                0         \n",
      "_________________________________________________________________\n",
      "dense_19 (Dense)             (None, 2)                 130       \n",
      "=================================================================\n",
      "Total params: 6,018\n",
      "Trainable params: 6,018\n",
      "Non-trainable params: 0\n",
      "_________________________________________________________________\n"
     ]
    }
   ],
   "source": [
    "FNN_model.summary()"
   ]
  },
  {
   "cell_type": "markdown",
   "metadata": {},
   "source": [
    "### Tune the parameters to find a good model"
   ]
  },
  {
   "cell_type": "code",
   "execution_count": 46,
   "metadata": {
    "scrolled": false
   },
   "outputs": [
    {
     "name": "stdout",
     "output_type": "stream",
     "text": [
      "Iteration 1 out of 15: {'epochs': 30, 'batch_size': 32, 'hidden_layers': 2, 'hidden_neuron': 32, 'lr': 0.01, 'dropout': 0.2, 'optimizer': <class 'keras.optimizers.Adam'>, 'losses': <function binary_crossentropy at 0x7f41a8211598>, 'activation': <function relu at 0x7f41a81b6598>, 'last_activation': 'sigmoid'}\n",
      "\n",
      "Iteration 2 out of 15: {'epochs': 1, 'batch_size': 256, 'hidden_layers': 1, 'hidden_neuron': 128, 'lr': 0.002, 'dropout': 0.4, 'optimizer': <class 'keras.optimizers.Adam'>, 'losses': <function binary_crossentropy at 0x7f41a8211598>, 'activation': <function relu at 0x7f41a81b6598>, 'last_activation': 'sigmoid'}\n",
      "\n",
      "Iteration 3 out of 15: {'epochs': 20, 'batch_size': 16, 'hidden_layers': 1, 'hidden_neuron': 128, 'lr': 0.01, 'dropout': 0, 'optimizer': <class 'keras.optimizers.RMSprop'>, 'losses': <function binary_crossentropy at 0x7f41a8211598>, 'activation': <function relu at 0x7f41a81b6598>, 'last_activation': 'sigmoid'}\n",
      "\n",
      "Iteration 4 out of 15: {'epochs': 30, 'batch_size': 8, 'hidden_layers': 0, 'hidden_neuron': 128, 'lr': 0.0001, 'dropout': 0, 'optimizer': <class 'keras.optimizers.RMSprop'>, 'losses': <function binary_crossentropy at 0x7f41a8211598>, 'activation': <function relu at 0x7f41a81b6598>, 'last_activation': 'sigmoid'}\n",
      "\n",
      "Iteration 5 out of 15: {'epochs': 1, 'batch_size': 8, 'hidden_layers': 2, 'hidden_neuron': 16, 'lr': 0.01, 'dropout': 0.3, 'optimizer': <class 'keras.optimizers.Adam'>, 'losses': <function binary_crossentropy at 0x7f41a8211598>, 'activation': <function elu at 0x7f41a81b6378>, 'last_activation': 'sigmoid'}\n",
      "\n",
      "Iteration 6 out of 15: {'epochs': 1, 'batch_size': 32, 'hidden_layers': 0, 'hidden_neuron': 128, 'lr': 0.005, 'dropout': 0.3, 'optimizer': <class 'keras.optimizers.Adam'>, 'losses': <function binary_crossentropy at 0x7f41a8211598>, 'activation': <function relu at 0x7f41a81b6598>, 'last_activation': 'sigmoid'}\n",
      "\n",
      "Iteration 7 out of 15: {'epochs': 1, 'batch_size': 256, 'hidden_layers': 1, 'hidden_neuron': 32, 'lr': 0.0002, 'dropout': 0.3, 'optimizer': <class 'keras.optimizers.RMSprop'>, 'losses': <function binary_crossentropy at 0x7f41a8211598>, 'activation': <function elu at 0x7f41a81b6378>, 'last_activation': 'sigmoid'}\n",
      "\n",
      "Iteration 8 out of 15: {'epochs': 30, 'batch_size': 16, 'hidden_layers': 0, 'hidden_neuron': 16, 'lr': 0.0001, 'dropout': 0.4, 'optimizer': <class 'keras.optimizers.Adam'>, 'losses': <function binary_crossentropy at 0x7f41a8211598>, 'activation': <function relu at 0x7f41a81b6598>, 'last_activation': 'sigmoid'}\n",
      "\n",
      "Iteration 9 out of 15: {'epochs': 30, 'batch_size': 64, 'hidden_layers': 0, 'hidden_neuron': 16, 'lr': 0.0001, 'dropout': 0.4, 'optimizer': <class 'keras.optimizers.RMSprop'>, 'losses': <function binary_crossentropy at 0x7f41a8211598>, 'activation': <function relu at 0x7f41a81b6598>, 'last_activation': 'sigmoid'}\n",
      "\n",
      "Iteration 10 out of 15: {'epochs': 20, 'batch_size': 128, 'hidden_layers': 2, 'hidden_neuron': 64, 'lr': 0.01, 'dropout': 0.4, 'optimizer': <class 'keras.optimizers.RMSprop'>, 'losses': <function binary_crossentropy at 0x7f41a8211598>, 'activation': <function relu at 0x7f41a81b6598>, 'last_activation': 'sigmoid'}\n",
      "\n",
      "Iteration 11 out of 15: {'epochs': 10, 'batch_size': 256, 'hidden_layers': 2, 'hidden_neuron': 16, 'lr': 0.001, 'dropout': 0.2, 'optimizer': <class 'keras.optimizers.Adam'>, 'losses': <function binary_crossentropy at 0x7f41a8211598>, 'activation': <function relu at 0x7f41a81b6598>, 'last_activation': 'sigmoid'}\n",
      "\n",
      "Iteration 12 out of 15: {'epochs': 10, 'batch_size': 32, 'hidden_layers': 1, 'hidden_neuron': 128, 'lr': 0.0002, 'dropout': 0.1, 'optimizer': <class 'keras.optimizers.Adam'>, 'losses': <function binary_crossentropy at 0x7f41a8211598>, 'activation': <function relu at 0x7f41a81b6598>, 'last_activation': 'sigmoid'}\n",
      "\n",
      "Iteration 13 out of 15: {'epochs': 20, 'batch_size': 8, 'hidden_layers': 2, 'hidden_neuron': 64, 'lr': 0.005, 'dropout': 0.1, 'optimizer': <class 'keras.optimizers.Adam'>, 'losses': <function binary_crossentropy at 0x7f41a8211598>, 'activation': <function relu at 0x7f41a81b6598>, 'last_activation': 'sigmoid'}\n",
      "\n",
      "Iteration 14 out of 15: {'epochs': 10, 'batch_size': 32, 'hidden_layers': 2, 'hidden_neuron': 16, 'lr': 0.0005, 'dropout': 0.2, 'optimizer': <class 'keras.optimizers.RMSprop'>, 'losses': <function binary_crossentropy at 0x7f41a8211598>, 'activation': <function relu at 0x7f41a81b6598>, 'last_activation': 'sigmoid'}\n",
      "\n",
      "Iteration 15 out of 15: {'epochs': 10, 'batch_size': 8, 'hidden_layers': 2, 'hidden_neuron': 64, 'lr': 0.002, 'dropout': 0.1, 'optimizer': <class 'keras.optimizers.Adam'>, 'losses': <function binary_crossentropy at 0x7f41a8211598>, 'activation': <function relu at 0x7f41a81b6598>, 'last_activation': 'sigmoid'}\n",
      "\n"
     ]
    }
   ],
   "source": [
    "### Parameter tuning using grid search \n",
    "p = {'epochs': [1, 5, 10, 20, 30], # number of iterations on the full set (x5)\n",
    "     'batch_size': [8, 16, 32, 64, 128, 256], # (x6)\n",
    "     'hidden_layers':[0, 1, 2], # number of hidden layers (x3)\n",
    "     'hidden_neuron':[16, 32, 64, 128], # number of neurons in the input layer (x4)\n",
    "     'lr': [0.0001, 0.0002, 0.0005, 0.001, 0.002, 0.005, 0.01], # learning rate (x7)       \n",
    "     'dropout': [0, 0.1, 0.2, 0.3, 0.4], # (x5)\n",
    "     'optimizer': [Adam, RMSprop], # (x2)\n",
    "     'losses': [binary_crossentropy], # (x1)\n",
    "     'activation':[relu, elu], # (x2)\n",
    "     'last_activation': ['sigmoid'] # (x1)\n",
    "     }\n",
    "# => Total number of combinations: 5*6*3*4*7*5*2*1*2*1 = 50400\n",
    "\n",
    "### Grid search \n",
    "TUNING_PATH = TOP + 'illustrative_examples/names/Results/grid_search_FNN_names.csv'\n",
    "md.grid_search_FNN(data_train = names_train, \n",
    "                   data_valid = names_valid, \n",
    "                   cue_index = cue_to_index, \n",
    "                   outcome_index = outcome_to_index,\n",
    "                   params = p,\n",
    "                   prop_grid = 3e-4, \n",
    "                   tuning_output_file = TUNING_PATH)"
   ]
  },
  {
   "cell_type": "markdown",
   "metadata": {},
   "source": [
    "Iteration 7 produced the highest validation accuracy, corresponding to the following parameters:"
   ]
  },
  {
   "cell_type": "markdown",
   "metadata": {},
   "source": [
    "### Assessing the grid search using talos"
   ]
  },
  {
   "cell_type": "code",
   "execution_count": 47,
   "metadata": {},
   "outputs": [
    {
     "data": {
      "text/plain": [
       "224"
      ]
     },
     "execution_count": 47,
     "metadata": {},
     "output_type": "execute_result"
    }
   ],
   "source": [
    "# Import the results file to analyse the results with talos\n",
    "r = ta.Reporting(TUNING_PATH)\n",
    "\n",
    "# get the number of parameter combinations that were processed\n",
    "r.rounds()"
   ]
  },
  {
   "cell_type": "code",
   "execution_count": 77,
   "metadata": {
    "scrolled": false
   },
   "outputs": [
    {
     "data": {
      "text/html": [
       "<div>\n",
       "<style scoped>\n",
       "    .dataframe tbody tr th:only-of-type {\n",
       "        vertical-align: middle;\n",
       "    }\n",
       "\n",
       "    .dataframe tbody tr th {\n",
       "        vertical-align: top;\n",
       "    }\n",
       "\n",
       "    .dataframe thead th {\n",
       "        text-align: right;\n",
       "    }\n",
       "</style>\n",
       "<table border=\"1\" class=\"dataframe\">\n",
       "  <thead>\n",
       "    <tr style=\"text-align: right;\">\n",
       "      <th></th>\n",
       "      <th>epochs</th>\n",
       "      <th>batch_size</th>\n",
       "      <th>hidden_layers</th>\n",
       "      <th>hidden_neuron</th>\n",
       "      <th>lr</th>\n",
       "      <th>dropout</th>\n",
       "      <th>optimizer</th>\n",
       "      <th>losses</th>\n",
       "      <th>activation</th>\n",
       "      <th>last_activation</th>\n",
       "      <th>loss</th>\n",
       "      <th>acc</th>\n",
       "      <th>precision</th>\n",
       "      <th>recall</th>\n",
       "      <th>f1score</th>\n",
       "      <th>val_loss</th>\n",
       "      <th>val_acc</th>\n",
       "      <th>val_precision</th>\n",
       "      <th>val_recall</th>\n",
       "      <th>val_f1score</th>\n",
       "    </tr>\n",
       "  </thead>\n",
       "  <tbody>\n",
       "    <tr>\n",
       "      <th>0</th>\n",
       "      <td>1</td>\n",
       "      <td>32</td>\n",
       "      <td>2</td>\n",
       "      <td>32</td>\n",
       "      <td>0.01</td>\n",
       "      <td>0.2</td>\n",
       "      <td>&lt;class 'keras.optimizers.Adam'&gt;</td>\n",
       "      <td>&lt;function binary_crossentropy at 0x7f41a8211598&gt;</td>\n",
       "      <td>&lt;function relu at 0x7f41a81b6598&gt;</td>\n",
       "      <td>sigmoid</td>\n",
       "      <td>0.636300</td>\n",
       "      <td>0.644323</td>\n",
       "      <td>0.645529</td>\n",
       "      <td>0.640533</td>\n",
       "      <td>0.642466</td>\n",
       "      <td>0.610601</td>\n",
       "      <td>0.676339</td>\n",
       "      <td>0.677607</td>\n",
       "      <td>0.672619</td>\n",
       "      <td>0.675040</td>\n",
       "    </tr>\n",
       "    <tr>\n",
       "      <th>1</th>\n",
       "      <td>2</td>\n",
       "      <td>32</td>\n",
       "      <td>2</td>\n",
       "      <td>32</td>\n",
       "      <td>0.01</td>\n",
       "      <td>0.2</td>\n",
       "      <td>&lt;class 'keras.optimizers.Adam'&gt;</td>\n",
       "      <td>&lt;function binary_crossentropy at 0x7f41a8211598&gt;</td>\n",
       "      <td>&lt;function relu at 0x7f41a81b6598&gt;</td>\n",
       "      <td>sigmoid</td>\n",
       "      <td>0.611882</td>\n",
       "      <td>0.672707</td>\n",
       "      <td>0.672861</td>\n",
       "      <td>0.672707</td>\n",
       "      <td>0.672672</td>\n",
       "      <td>0.601282</td>\n",
       "      <td>0.680804</td>\n",
       "      <td>0.679075</td>\n",
       "      <td>0.684524</td>\n",
       "      <td>0.681744</td>\n",
       "    </tr>\n",
       "    <tr>\n",
       "      <th>2</th>\n",
       "      <td>3</td>\n",
       "      <td>32</td>\n",
       "      <td>2</td>\n",
       "      <td>32</td>\n",
       "      <td>0.01</td>\n",
       "      <td>0.2</td>\n",
       "      <td>&lt;class 'keras.optimizers.Adam'&gt;</td>\n",
       "      <td>&lt;function binary_crossentropy at 0x7f41a8211598&gt;</td>\n",
       "      <td>&lt;function relu at 0x7f41a81b6598&gt;</td>\n",
       "      <td>sigmoid</td>\n",
       "      <td>0.600020</td>\n",
       "      <td>0.680381</td>\n",
       "      <td>0.681157</td>\n",
       "      <td>0.678994</td>\n",
       "      <td>0.679995</td>\n",
       "      <td>0.599137</td>\n",
       "      <td>0.660714</td>\n",
       "      <td>0.659091</td>\n",
       "      <td>0.665179</td>\n",
       "      <td>0.662088</td>\n",
       "    </tr>\n",
       "    <tr>\n",
       "      <th>3</th>\n",
       "      <td>4</td>\n",
       "      <td>32</td>\n",
       "      <td>2</td>\n",
       "      <td>32</td>\n",
       "      <td>0.01</td>\n",
       "      <td>0.2</td>\n",
       "      <td>&lt;class 'keras.optimizers.Adam'&gt;</td>\n",
       "      <td>&lt;function binary_crossentropy at 0x7f41a8211598&gt;</td>\n",
       "      <td>&lt;function relu at 0x7f41a81b6598&gt;</td>\n",
       "      <td>sigmoid</td>\n",
       "      <td>0.593111</td>\n",
       "      <td>0.682322</td>\n",
       "      <td>0.681680</td>\n",
       "      <td>0.683987</td>\n",
       "      <td>0.682789</td>\n",
       "      <td>0.597627</td>\n",
       "      <td>0.672619</td>\n",
       "      <td>0.672786</td>\n",
       "      <td>0.672619</td>\n",
       "      <td>0.672672</td>\n",
       "    </tr>\n",
       "    <tr>\n",
       "      <th>4</th>\n",
       "      <td>5</td>\n",
       "      <td>32</td>\n",
       "      <td>2</td>\n",
       "      <td>32</td>\n",
       "      <td>0.01</td>\n",
       "      <td>0.2</td>\n",
       "      <td>&lt;class 'keras.optimizers.Adam'&gt;</td>\n",
       "      <td>&lt;function binary_crossentropy at 0x7f41a8211598&gt;</td>\n",
       "      <td>&lt;function relu at 0x7f41a81b6598&gt;</td>\n",
       "      <td>sigmoid</td>\n",
       "      <td>0.587002</td>\n",
       "      <td>0.691568</td>\n",
       "      <td>0.691825</td>\n",
       "      <td>0.690828</td>\n",
       "      <td>0.691275</td>\n",
       "      <td>0.594336</td>\n",
       "      <td>0.684524</td>\n",
       "      <td>0.683306</td>\n",
       "      <td>0.687500</td>\n",
       "      <td>0.685371</td>\n",
       "    </tr>\n",
       "  </tbody>\n",
       "</table>\n",
       "</div>"
      ],
      "text/plain": [
       "   epochs  batch_size  hidden_layers  hidden_neuron    lr  dropout  \\\n",
       "0       1          32              2             32  0.01      0.2   \n",
       "1       2          32              2             32  0.01      0.2   \n",
       "2       3          32              2             32  0.01      0.2   \n",
       "3       4          32              2             32  0.01      0.2   \n",
       "4       5          32              2             32  0.01      0.2   \n",
       "\n",
       "                         optimizer  \\\n",
       "0  <class 'keras.optimizers.Adam'>   \n",
       "1  <class 'keras.optimizers.Adam'>   \n",
       "2  <class 'keras.optimizers.Adam'>   \n",
       "3  <class 'keras.optimizers.Adam'>   \n",
       "4  <class 'keras.optimizers.Adam'>   \n",
       "\n",
       "                                             losses  \\\n",
       "0  <function binary_crossentropy at 0x7f41a8211598>   \n",
       "1  <function binary_crossentropy at 0x7f41a8211598>   \n",
       "2  <function binary_crossentropy at 0x7f41a8211598>   \n",
       "3  <function binary_crossentropy at 0x7f41a8211598>   \n",
       "4  <function binary_crossentropy at 0x7f41a8211598>   \n",
       "\n",
       "                          activation last_activation      loss       acc  \\\n",
       "0  <function relu at 0x7f41a81b6598>         sigmoid  0.636300  0.644323   \n",
       "1  <function relu at 0x7f41a81b6598>         sigmoid  0.611882  0.672707   \n",
       "2  <function relu at 0x7f41a81b6598>         sigmoid  0.600020  0.680381   \n",
       "3  <function relu at 0x7f41a81b6598>         sigmoid  0.593111  0.682322   \n",
       "4  <function relu at 0x7f41a81b6598>         sigmoid  0.587002  0.691568   \n",
       "\n",
       "   precision    recall   f1score  val_loss   val_acc  val_precision  \\\n",
       "0   0.645529  0.640533  0.642466  0.610601  0.676339       0.677607   \n",
       "1   0.672861  0.672707  0.672672  0.601282  0.680804       0.679075   \n",
       "2   0.681157  0.678994  0.679995  0.599137  0.660714       0.659091   \n",
       "3   0.681680  0.683987  0.682789  0.597627  0.672619       0.672786   \n",
       "4   0.691825  0.690828  0.691275  0.594336  0.684524       0.683306   \n",
       "\n",
       "   val_recall  val_f1score  \n",
       "0    0.672619     0.675040  \n",
       "1    0.684524     0.681744  \n",
       "2    0.665179     0.662088  \n",
       "3    0.672619     0.672672  \n",
       "4    0.687500     0.685371  "
      ]
     },
     "execution_count": 77,
     "metadata": {},
     "output_type": "execute_result"
    }
   ],
   "source": [
    "# Display the dataframe containing the tuning results\n",
    "r.data.head()"
   ]
  },
  {
   "cell_type": "code",
   "execution_count": 49,
   "metadata": {},
   "outputs": [
    {
     "data": {
      "text/plain": [
       "Index(['epochs', 'batch_size', 'hidden_layers', 'hidden_neuron', 'lr',\n",
       "       'dropout', 'optimizer', 'losses', 'activation', 'last_activation',\n",
       "       'loss', 'acc', 'precision', 'recall', 'f1score', 'val_loss', 'val_acc',\n",
       "       'val_precision', 'val_recall', 'val_f1score'],\n",
       "      dtype='object')"
      ]
     },
     "execution_count": 49,
     "metadata": {},
     "output_type": "execute_result"
    }
   ],
   "source": [
    "r.data.columns"
   ]
  },
  {
   "cell_type": "code",
   "execution_count": 50,
   "metadata": {
    "scrolled": true
   },
   "outputs": [
    {
     "name": "stdout",
     "output_type": "stream",
     "text": [
      "- Highest validation accuracy: 0.6971726190476191\n",
      "- Highest validation f1-score: 0.7798473738287754\n"
     ]
    }
   ],
   "source": [
    "# get the highest result for any metric\n",
    "print(f\"- Highest validation accuracy: {r.high('val_acc')}\")\n",
    "print(f\"- Highest validation f1-score: {r.high('f1score')}\")"
   ]
  },
  {
   "cell_type": "code",
   "execution_count": 51,
   "metadata": {
    "scrolled": true
   },
   "outputs": [
    {
     "data": {
      "text/plain": [
       "15"
      ]
     },
     "execution_count": 51,
     "metadata": {},
     "output_type": "execute_result"
    }
   ],
   "source": [
    "# get the index of the combination with the best result\n",
    "r.rounds2high(metric = 'val_acc')"
   ]
  },
  {
   "cell_type": "code",
   "execution_count": 52,
   "metadata": {
    "scrolled": false
   },
   "outputs": [
    {
     "data": {
      "text/plain": [
       "epochs                                                           16\n",
       "batch_size                                                       32\n",
       "hidden_layers                                                     2\n",
       "hidden_neuron                                                    32\n",
       "lr                                                             0.01\n",
       "dropout                                                         0.2\n",
       "optimizer                           <class 'keras.optimizers.Adam'>\n",
       "losses             <function binary_crossentropy at 0x7f41a8211598>\n",
       "activation                        <function relu at 0x7f41a81b6598>\n",
       "last_activation                                             sigmoid\n",
       "loss                                                       0.549816\n",
       "acc                                                        0.714035\n",
       "precision                                                  0.714079\n",
       "recall                                                     0.713942\n",
       "f1score                                                     0.71401\n",
       "val_loss                                                   0.595182\n",
       "val_acc                                                    0.697173\n",
       "val_precision                                              0.697581\n",
       "val_recall                                                 0.696429\n",
       "val_f1score                                                0.696995\n",
       "Name: 15, dtype: object"
      ]
     },
     "execution_count": 52,
     "metadata": {},
     "output_type": "execute_result"
    }
   ],
   "source": [
    "# get the best paramaters\n",
    "r.data.iloc[15,]"
   ]
  },
  {
   "cell_type": "markdown",
   "metadata": {},
   "source": [
    "### Retraining with the best parameters"
   ]
  },
  {
   "cell_type": "code",
   "execution_count": 131,
   "metadata": {
    "scrolled": true
   },
   "outputs": [
    {
     "name": "stdout",
     "output_type": "stream",
     "text": [
      "Epoch 1/16\n",
      " - 2s - loss: 0.6438 - acc: 0.6323 - val_loss: 0.6136 - val_acc: 0.6689\n",
      "Epoch 2/16\n",
      " - 0s - loss: 0.6140 - acc: 0.6646 - val_loss: 0.6027 - val_acc: 0.6615\n",
      "Epoch 3/16\n",
      " - 1s - loss: 0.6037 - acc: 0.6783 - val_loss: 0.6009 - val_acc: 0.6778\n",
      "Epoch 4/16\n",
      " - 1s - loss: 0.5932 - acc: 0.6856 - val_loss: 0.6025 - val_acc: 0.6868\n",
      "Epoch 5/16\n",
      " - 1s - loss: 0.5873 - acc: 0.6906 - val_loss: 0.5980 - val_acc: 0.6845\n",
      "Epoch 6/16\n",
      " - 1s - loss: 0.5869 - acc: 0.6870 - val_loss: 0.5999 - val_acc: 0.6734\n",
      "Epoch 7/16\n",
      " - 1s - loss: 0.5813 - acc: 0.6954 - val_loss: 0.6024 - val_acc: 0.6823\n",
      "Epoch 8/16\n",
      " - 1s - loss: 0.5727 - acc: 0.6991 - val_loss: 0.6011 - val_acc: 0.6808\n",
      "Epoch 9/16\n",
      " - 1s - loss: 0.5725 - acc: 0.7040 - val_loss: 0.5924 - val_acc: 0.6823\n",
      "Epoch 10/16\n",
      " - 1s - loss: 0.5680 - acc: 0.7040 - val_loss: 0.6023 - val_acc: 0.6905\n",
      "Epoch 11/16\n",
      " - 1s - loss: 0.5708 - acc: 0.7064 - val_loss: 0.5938 - val_acc: 0.6853\n",
      "Epoch 12/16\n",
      " - 1s - loss: 0.5606 - acc: 0.7107 - val_loss: 0.5956 - val_acc: 0.6830\n",
      "Epoch 13/16\n",
      " - 1s - loss: 0.5575 - acc: 0.7152 - val_loss: 0.5899 - val_acc: 0.6920\n",
      "Epoch 14/16\n",
      " - 0s - loss: 0.5498 - acc: 0.7150 - val_loss: 0.5996 - val_acc: 0.6890\n",
      "Epoch 15/16\n",
      " - 1s - loss: 0.5552 - acc: 0.7096 - val_loss: 0.5980 - val_acc: 0.6845\n",
      "Epoch 16/16\n",
      " - 1s - loss: 0.5504 - acc: 0.7126 - val_loss: 0.5928 - val_acc: 0.6875\n"
     ]
    }
   ],
   "source": [
    "### Hyperparameters to use\n",
    "p = {'epochs': 16, # number of iterations on the full set \n",
    "    'batch_size': 32, \n",
    "    'hidden_layers': 2, # number of hidden layers \n",
    "    'hidden_neuron':32, # number of neurons in the input layer \n",
    "    'lr': 0.01, # learning rate       \n",
    "    'dropout': 0.2, \n",
    "    'optimizer': Adam, \n",
    "    'losses': binary_crossentropy, \n",
    "    'activation': relu, \n",
    "    'last_activation': 'sigmoid'}\n",
    "\n",
    "# Model fitting\n",
    "FNN_hist, FNN_model = md.train_FNN(data_train = names_train, \n",
    "                                  data_valid = names_valid, \n",
    "                                  cue_index = cue_to_index, \n",
    "                                  outcome_index = outcome_to_index, \n",
    "                                  verbose = 2,\n",
    "                                  metrics = ['accuracy'],\n",
    "                                  params = p)"
   ]
  },
  {
   "cell_type": "code",
   "execution_count": 132,
   "metadata": {},
   "outputs": [],
   "source": [
    "# Save the model and training history\n",
    "MODEL_PATH = TOP + 'illustrative_examples/names/Results/FNN_names.h5'\n",
    "HISTORY_PATH = TOP + 'illustrative_examples/names/Results/FNN_history_dict_names'\n",
    "md.export_model(model = FNN_model, path = MODEL_PATH)  # creates a HDF5 file \n",
    "md.export_history(history_dict = FNN_hist, path = HISTORY_PATH)\n",
    "del FNN_model, FNN_hist  # deletes the existing model and history dictionary"
   ]
  },
  {
   "cell_type": "code",
   "execution_count": 133,
   "metadata": {},
   "outputs": [],
   "source": [
    "# Load the model and training history\n",
    "FNN_model = md.import_model(MODEL_PATH)\n",
    "FNN_history_dict = md.import_history(path = HISTORY_PATH)"
   ]
  },
  {
   "cell_type": "markdown",
   "metadata": {},
   "source": [
    "### Evaluate the final model"
   ]
  },
  {
   "cell_type": "code",
   "execution_count": 134,
   "metadata": {},
   "outputs": [
    {
     "name": "stdout",
     "output_type": "stream",
     "text": [
      "- Training loss in the last epoch: 0.5503997808024728\n",
      "- Training accuracy in the last epoch: 0.7126479289940828\n",
      "- Validation loss in the last epoch: 0.5927978810809907\n",
      "- Validation accuracy in the last epoch: 0.6875\n"
     ]
    }
   ],
   "source": [
    "# Performance on the last epoch of the training set\n",
    "print(f\"- Training loss in the last epoch: {FNN_history_dict['loss'][-1]}\")\n",
    "print(f\"- Training accuracy in the last epoch: {FNN_history_dict['acc'][-1]}\")\n",
    "\n",
    "# Performance on the last epoch of the validation set\n",
    "print(f\"- Validation loss in the last epoch: {FNN_history_dict['val_loss'][-1]}\")\n",
    "print(f\"- Validation accuracy in the last epoch: {FNN_history_dict['val_acc'][-1]}\")"
   ]
  },
  {
   "cell_type": "code",
   "execution_count": 135,
   "metadata": {},
   "outputs": [
    {
     "data": {
      "image/png": "[encoded data removed]",
      "text/plain": [
       "<Figure size 432x288 with 1 Axes>"
      ]
     },
     "metadata": {
      "needs_background": "light"
     },
     "output_type": "display_data"
    }
   ],
   "source": [
    "# Generate plots to assess the performance of the NN\n",
    "ev.plot_learning_curve(history_dict = FNN_history_dict, metric = 'acc', set = 'train_valid')"
   ]
  },
  {
   "cell_type": "code",
   "execution_count": 136,
   "metadata": {},
   "outputs": [
    {
     "data": {
      "text/plain": [
       "array([0.9523542 , 0.04773573], dtype=float32)"
      ]
     },
     "execution_count": 136,
     "metadata": {},
     "output_type": "execute_result"
    }
   ],
   "source": [
    "# Test prediction for a single given cue sequence. Model expect inout as array of shape (1, N_cues) \n",
    "cue1_seq = 'y_o_u_s_s_e_f'\n",
    "outcome1_prob_pred = ev.predict_proba_oneevent_FNN(model = FNN_model, \n",
    "                                                   cue_seq = cue1_seq, \n",
    "                                                   num_cues = N_cues,  \n",
    "                                                   cue_index = cue_to_index)\n",
    "outcome1_prob_pred"
   ]
  },
  {
   "cell_type": "code",
   "execution_count": 137,
   "metadata": {},
   "outputs": [],
   "source": [
    "# Evaluate the model on the test set\n",
    "prob_pred = ev.predict_proba_eventfile_FNN(model = FNN_model, \n",
    "                                           data_test = names_test, \n",
    "                                           num_cues = N_cues, \n",
    "                                           num_outcomes = N_outcomes, \n",
    "                                           cue_index = cue_to_index, \n",
    "                                           outcome_index = outcome_to_index)"
   ]
  },
  {
   "cell_type": "code",
   "execution_count": 138,
   "metadata": {},
   "outputs": [
    {
     "data": {
      "text/plain": [
       "0.6858407079646017"
      ]
     },
     "execution_count": 138,
     "metadata": {},
     "output_type": "execute_result"
    }
   ],
   "source": [
    "# True responses to compare the predictions to\n",
    "y_test = names_test.replace({'outcomes': outcome_to_index})['outcomes']\n",
    "y_pred = np.argmax(prob_pred, axis=1)+1\n",
    "\n",
    "# Overall test accuracy\n",
    "test_accuracy = accuracy_score(y_test, y_pred)\n",
    "test_accuracy"
   ]
  },
  {
   "cell_type": "code",
   "execution_count": 139,
   "metadata": {},
   "outputs": [
    {
     "name": "stdout",
     "output_type": "stream",
     "text": [
      "[0.67741935 0.69436202]\n"
     ]
    }
   ],
   "source": [
    "# Test accuracy per class\n",
    "cmat = confusion_matrix(y_test, y_pred) # Confusion matrix\n",
    "print(cmat.diagonal()/cmat.sum(axis=1)) "
   ]
  },
  {
   "cell_type": "markdown",
   "metadata": {},
   "source": [
    "## IV. Long short-term memory model <a ID=\"IV\"></a> "
   ]
  },
  {
   "cell_type": "markdown",
   "metadata": {},
   "source": [
    "### Tokenisation"
   ]
  },
  {
   "cell_type": "code",
   "execution_count": 72,
   "metadata": {},
   "outputs": [
    {
     "data": {
      "text/html": [
       "<div>\n",
       "<style scoped>\n",
       "    .dataframe tbody tr th:only-of-type {\n",
       "        vertical-align: middle;\n",
       "    }\n",
       "\n",
       "    .dataframe tbody tr th {\n",
       "        vertical-align: top;\n",
       "    }\n",
       "\n",
       "    .dataframe thead th {\n",
       "        text-align: right;\n",
       "    }\n",
       "</style>\n",
       "<table border=\"1\" class=\"dataframe\">\n",
       "  <thead>\n",
       "    <tr style=\"text-align: right;\">\n",
       "      <th></th>\n",
       "      <th>cues</th>\n",
       "      <th>outcomes</th>\n",
       "    </tr>\n",
       "  </thead>\n",
       "  <tbody>\n",
       "    <tr>\n",
       "      <th>1</th>\n",
       "      <td>k_y_r_i_e</td>\n",
       "      <td>f</td>\n",
       "    </tr>\n",
       "  </tbody>\n",
       "</table>\n",
       "</div>"
      ],
      "text/plain": [
       "        cues outcomes\n",
       "1  k_y_r_i_e        f"
      ]
     },
     "execution_count": 72,
     "metadata": {},
     "output_type": "execute_result"
    }
   ],
   "source": [
    "# Extract an event\n",
    "event1 = names_train.iloc[[1]]\n",
    "event1"
   ]
  },
  {
   "cell_type": "code",
   "execution_count": 73,
   "metadata": {
    "scrolled": false
   },
   "outputs": [
    {
     "data": {
      "text/plain": [
       "array([[0., 0., 0., 0., 0., 0., 0., 0., 0., 0., 1., 0., 0., 0., 0., 0.,\n",
       "        0., 0., 0., 0., 0., 0., 0., 0., 0., 0.],\n",
       "       [0., 0., 0., 0., 0., 0., 0., 0., 0., 0., 0., 0., 0., 0., 0., 0.,\n",
       "        0., 0., 0., 0., 0., 0., 0., 0., 1., 0.],\n",
       "       [0., 0., 0., 0., 0., 0., 0., 0., 0., 0., 0., 0., 0., 0., 0., 0.,\n",
       "        0., 1., 0., 0., 0., 0., 0., 0., 0., 0.],\n",
       "       [0., 0., 0., 0., 0., 0., 0., 0., 1., 0., 0., 0., 0., 0., 0., 0.,\n",
       "        0., 0., 0., 0., 0., 0., 0., 0., 0., 0.],\n",
       "       [0., 0., 0., 0., 1., 0., 0., 0., 0., 0., 0., 0., 0., 0., 0., 0.,\n",
       "        0., 0., 0., 0., 0., 0., 0., 0., 0., 0.],\n",
       "       [0., 0., 0., 0., 0., 0., 0., 0., 0., 0., 0., 0., 0., 0., 0., 0.,\n",
       "        0., 0., 0., 0., 0., 0., 0., 0., 0., 0.],\n",
       "       [0., 0., 0., 0., 0., 0., 0., 0., 0., 0., 0., 0., 0., 0., 0., 0.,\n",
       "        0., 0., 0., 0., 0., 0., 0., 0., 0., 0.],\n",
       "       [0., 0., 0., 0., 0., 0., 0., 0., 0., 0., 0., 0., 0., 0., 0., 0.,\n",
       "        0., 0., 0., 0., 0., 0., 0., 0., 0., 0.],\n",
       "       [0., 0., 0., 0., 0., 0., 0., 0., 0., 0., 0., 0., 0., 0., 0., 0.,\n",
       "        0., 0., 0., 0., 0., 0., 0., 0., 0., 0.],\n",
       "       [0., 0., 0., 0., 0., 0., 0., 0., 0., 0., 0., 0., 0., 0., 0., 0.,\n",
       "        0., 0., 0., 0., 0., 0., 0., 0., 0., 0.],\n",
       "       [0., 0., 0., 0., 0., 0., 0., 0., 0., 0., 0., 0., 0., 0., 0., 0.,\n",
       "        0., 0., 0., 0., 0., 0., 0., 0., 0., 0.]])"
      ]
     },
     "execution_count": 73,
     "metadata": {},
     "output_type": "execute_result"
    }
   ],
   "source": [
    "# cues\n",
    "cues1 = names_train.loc[names_train.index[1], 'cues']\n",
    "cues1_onehot_LSTM = md.seq_to_onehot_2darray(cues1, index_system = cue_to_index, N_tokens = N_cues, max_len = max_len)\n",
    "cues1_onehot_LSTM"
   ]
  },
  {
   "cell_type": "code",
   "execution_count": 74,
   "metadata": {
    "scrolled": true
   },
   "outputs": [
    {
     "data": {
      "text/plain": [
       "array([0., 1.])"
      ]
     },
     "execution_count": 74,
     "metadata": {},
     "output_type": "execute_result"
    }
   ],
   "source": [
    "# outcomes\n",
    "outcomes1 = names_train.loc[names_train.index[1], 'outcomes']\n",
    "outcomes1_onehot_LSTM = md.seq_to_onehot_1darray(outcomes1, index_system = outcome_to_index, N_tokens = N_outcomes)\n",
    "outcomes1_onehot_LSTM"
   ]
  },
  {
   "cell_type": "markdown",
   "metadata": {},
   "source": [
    "### Build a simple LSTM model"
   ]
  },
  {
   "cell_type": "markdown",
   "metadata": {},
   "source": [
    "Build a simple LSTM that has 64 hidden units "
   ]
  },
  {
   "cell_type": "code",
   "execution_count": 75,
   "metadata": {},
   "outputs": [
    {
     "name": "stdout",
     "output_type": "stream",
     "text": [
      "Epoch 1/10\n",
      " - 6s - loss: 0.6870 - acc: 0.6293 - val_loss: 0.6769 - val_acc: 0.6763\n",
      "Epoch 2/10\n",
      " - 6s - loss: 0.6588 - acc: 0.6522 - val_loss: 0.6396 - val_acc: 0.6577\n",
      "Epoch 3/10\n",
      " - 4s - loss: 0.6320 - acc: 0.6462 - val_loss: 0.6238 - val_acc: 0.6585\n",
      "Epoch 4/10\n",
      " - 4s - loss: 0.6177 - acc: 0.6625 - val_loss: 0.6088 - val_acc: 0.6763\n",
      "Epoch 5/10\n",
      " - 5s - loss: 0.6015 - acc: 0.6812 - val_loss: 0.5913 - val_acc: 0.6905\n",
      "Epoch 6/10\n",
      " - 4s - loss: 0.5844 - acc: 0.7051 - val_loss: 0.5728 - val_acc: 0.7158\n",
      "Epoch 7/10\n",
      " - 5s - loss: 0.5661 - acc: 0.7135 - val_loss: 0.5579 - val_acc: 0.7217\n",
      "Epoch 8/10\n",
      " - 6s - loss: 0.5542 - acc: 0.7250 - val_loss: 0.5482 - val_acc: 0.7366\n",
      "Epoch 9/10\n",
      " - 6s - loss: 0.5449 - acc: 0.7303 - val_loss: 0.5422 - val_acc: 0.7359\n",
      "Epoch 10/10\n",
      " - 4s - loss: 0.5397 - acc: 0.7344 - val_loss: 0.5385 - val_acc: 0.7396\n"
     ]
    }
   ],
   "source": [
    "### Build a simple LSTM that has 64 hidden units \n",
    "p = {'epochs': 10, # number of iterations on the full set \n",
    "    'batch_size': 16, \n",
    "    'hidden_neuron': 64, # number of neurons in the input layer \n",
    "    'lr': 0.0001, # learning rate       \n",
    "    'dropout': 0.2, \n",
    "    'optimizer': RMSprop, \n",
    "    'losses': binary_crossentropy, \n",
    "    'last_activation': 'sigmoid'}\n",
    "\n",
    "# Model fitting\n",
    "LSTM_out, LSTM_model = md.train_LSTM(data_train = names_train, \n",
    "                                     data_valid = names_valid, \n",
    "                                     cue_index = cue_to_index, \n",
    "                                     outcome_index = outcome_to_index, \n",
    "                                     max_len = max_len,\n",
    "                                     verbose = 2,\n",
    "                                     metrics = ['accuracy'],\n",
    "                                     params = p)"
   ]
  },
  {
   "cell_type": "code",
   "execution_count": 78,
   "metadata": {},
   "outputs": [
    {
     "name": "stdout",
     "output_type": "stream",
     "text": [
      "_________________________________________________________________\n",
      "Layer (type)                 Output Shape              Param #   \n",
      "=================================================================\n",
      "lstm_1 (LSTM)                (None, 64)                23296     \n",
      "_________________________________________________________________\n",
      "dropout_7 (Dropout)          (None, 64)                0         \n",
      "_________________________________________________________________\n",
      "dense_10 (Dense)             (None, 2)                 130       \n",
      "=================================================================\n",
      "Total params: 23,426\n",
      "Trainable params: 23,426\n",
      "Non-trainable params: 0\n",
      "_________________________________________________________________\n"
     ]
    }
   ],
   "source": [
    "LSTM_model.summary()"
   ]
  },
  {
   "cell_type": "markdown",
   "metadata": {},
   "source": [
    "### Tune the parameters to find a good model"
   ]
  },
  {
   "cell_type": "code",
   "execution_count": 79,
   "metadata": {
    "scrolled": false
   },
   "outputs": [
    {
     "name": "stdout",
     "output_type": "stream",
     "text": [
      "Iteration 1 out of 10: {'epochs': 10, 'batch_size': 64, 'hidden_neuron': 32, 'lr': 0.0001, 'dropout': 0.3, 'optimizer': <class 'keras.optimizers.Adam'>, 'losses': <function binary_crossentropy at 0x7f41a8211598>, 'last_activation': 'sigmoid'}\n",
      "\n",
      "Iteration 2 out of 10: {'epochs': 1, 'batch_size': 16, 'hidden_neuron': 64, 'lr': 0.0005, 'dropout': 0.4, 'optimizer': <class 'keras.optimizers.Nadam'>, 'losses': <function binary_crossentropy at 0x7f41a8211598>, 'last_activation': 'sigmoid'}\n",
      "\n",
      "Iteration 3 out of 10: {'epochs': 20, 'batch_size': 16, 'hidden_neuron': 16, 'lr': 0.0002, 'dropout': 0.3, 'optimizer': <class 'keras.optimizers.SGD'>, 'losses': <function binary_crossentropy at 0x7f41a8211598>, 'last_activation': 'sigmoid'}\n",
      "\n",
      "Iteration 4 out of 10: {'epochs': 10, 'batch_size': 64, 'hidden_neuron': 128, 'lr': 0.0005, 'dropout': 0.1, 'optimizer': <class 'keras.optimizers.RMSprop'>, 'losses': <function binary_crossentropy at 0x7f41a8211598>, 'last_activation': 'sigmoid'}\n",
      "\n",
      "Iteration 5 out of 10: {'epochs': 30, 'batch_size': 64, 'hidden_neuron': 128, 'lr': 0.01, 'dropout': 0.4, 'optimizer': <class 'keras.optimizers.RMSprop'>, 'losses': <function binary_crossentropy at 0x7f41a8211598>, 'last_activation': 'sigmoid'}\n",
      "\n",
      "Iteration 6 out of 10: {'epochs': 20, 'batch_size': 8, 'hidden_neuron': 128, 'lr': 0.001, 'dropout': 0.4, 'optimizer': <class 'keras.optimizers.RMSprop'>, 'losses': <function binary_crossentropy at 0x7f41a8211598>, 'last_activation': 'sigmoid'}\n",
      "\n",
      "Iteration 7 out of 10: {'epochs': 10, 'batch_size': 32, 'hidden_neuron': 64, 'lr': 0.0001, 'dropout': 0.3, 'optimizer': <class 'keras.optimizers.Nadam'>, 'losses': <function binary_crossentropy at 0x7f41a8211598>, 'last_activation': 'sigmoid'}\n",
      "\n",
      "Iteration 8 out of 10: {'epochs': 10, 'batch_size': 32, 'hidden_neuron': 128, 'lr': 0.0002, 'dropout': 0.3, 'optimizer': <class 'keras.optimizers.Adam'>, 'losses': <function binary_crossentropy at 0x7f41a8211598>, 'last_activation': 'sigmoid'}\n",
      "\n",
      "Iteration 9 out of 10: {'epochs': 30, 'batch_size': 256, 'hidden_neuron': 128, 'lr': 0.001, 'dropout': 0.1, 'optimizer': <class 'keras.optimizers.RMSprop'>, 'losses': <function binary_crossentropy at 0x7f41a8211598>, 'last_activation': 'sigmoid'}\n",
      "\n",
      "Iteration 10 out of 10: {'epochs': 30, 'batch_size': 16, 'hidden_neuron': 32, 'lr': 0.0001, 'dropout': 0.4, 'optimizer': <class 'keras.optimizers.Nadam'>, 'losses': <function binary_crossentropy at 0x7f41a8211598>, 'last_activation': 'sigmoid'}\n",
      "\n"
     ]
    }
   ],
   "source": [
    "### Parameter tuning using grid search \n",
    "p = {'epochs': [1, 5, 10, 20, 30], # number of iterations on the full set (x5)\n",
    "     'batch_size': [8, 16, 32, 64, 128, 256], # (x6)\n",
    "     'hidden_neuron':[16, 32, 64, 128], # number of neurons in the input layer (x4)\n",
    "     'lr': [0.0001, 0.0002, 0.0005, 0.001, 0.002, 0.005, 0.01], # learning rate (x7)       \n",
    "     'dropout': [0, 0.1, 0.2, 0.3, 0.4], # (x5)\n",
    "     'optimizer': [Adam, Nadam, RMSprop, SGD], # (x4)\n",
    "     'losses': [binary_crossentropy], # (x1)\n",
    "     'last_activation': ['sigmoid'] # (x1)\n",
    "     }\n",
    "# => Total number of combinations: 5*6*4*7*5*4*1*1 = 16800\n",
    "\n",
    "### Grid search \n",
    "TUNING_PATH = TOP + 'illustrative_examples/names/Results/grid_search_LSTM_names.csv'\n",
    "md.grid_search_LSTM(data_train = names_train, \n",
    "                    data_valid = names_valid, \n",
    "                    cue_index = cue_to_index, \n",
    "                    outcome_index = outcome_to_index,\n",
    "                    max_len = max_len,\n",
    "                    params = p,\n",
    "                    prop_grid = 6e-4, \n",
    "                    tuning_output_file = TUNING_PATH)"
   ]
  },
  {
   "cell_type": "markdown",
   "metadata": {},
   "source": [
    "### Assessing the grid search using talos"
   ]
  },
  {
   "cell_type": "code",
   "execution_count": 80,
   "metadata": {},
   "outputs": [
    {
     "name": "stdout",
     "output_type": "stream",
     "text": [
      "- Highest validation accuracy: 0.8484375\n",
      "- Highest validation f1-score: 0.9859538731120882\n"
     ]
    }
   ],
   "source": [
    "# Import the results file to analyse the results with talos\n",
    "r = ta.Reporting(TUNING_PATH)\n",
    "\n",
    "# get the highest result for any metric\n",
    "print(f\"- Highest validation accuracy: {r.high('val_acc')}\")\n",
    "print(f\"- Highest validation f1-score: {r.high('f1score')}\")"
   ]
  },
  {
   "cell_type": "code",
   "execution_count": 81,
   "metadata": {
    "scrolled": true
   },
   "outputs": [
    {
     "data": {
      "text/plain": [
       "69"
      ]
     },
     "execution_count": 81,
     "metadata": {},
     "output_type": "execute_result"
    }
   ],
   "source": [
    "# get the index of the combination with the best result\n",
    "r.rounds2high(metric = 'val_acc')"
   ]
  },
  {
   "cell_type": "code",
   "execution_count": 82,
   "metadata": {
    "scrolled": true
   },
   "outputs": [
    {
     "data": {
      "text/plain": [
       "epochs                                                           29\n",
       "batch_size                                                       64\n",
       "hidden_neuron                                                   128\n",
       "lr                                                             0.01\n",
       "dropout                                                         0.4\n",
       "optimizer                        <class 'keras.optimizers.RMSprop'>\n",
       "losses             <function binary_crossentropy at 0x7f41a8211598>\n",
       "last_activation                                             sigmoid\n",
       "loss                                                      0.0480704\n",
       "acc                                                        0.985956\n",
       "precision                                                  0.986046\n",
       "recall                                                     0.985863\n",
       "f1score                                                    0.985954\n",
       "val_loss                                                   0.854036\n",
       "val_acc                                                    0.848437\n",
       "val_precision                                              0.848437\n",
       "val_recall                                                 0.848437\n",
       "val_f1score                                                0.848437\n",
       "Name: 69, dtype: object"
      ]
     },
     "execution_count": 82,
     "metadata": {},
     "output_type": "execute_result"
    }
   ],
   "source": [
    "# get the best paramaters\n",
    "r.data.iloc[69,]"
   ]
  },
  {
   "cell_type": "markdown",
   "metadata": {},
   "source": [
    "### Retraining with the best parameters"
   ]
  },
  {
   "cell_type": "code",
   "execution_count": 140,
   "metadata": {
    "scrolled": true
   },
   "outputs": [],
   "source": [
    "### Hyperparameters to use\n",
    "p = {'epochs': 29, # number of iterations on the full set \n",
    "    'batch_size': 64, \n",
    "    'hidden_neuron': 128, # number of neurons in the input layer \n",
    "    'lr': 0.01, # learning rate       \n",
    "    'dropout': 0.4, \n",
    "    'optimizer': RMSprop, \n",
    "    'losses': binary_crossentropy, \n",
    "    'last_activation': 'sigmoid'}\n",
    "\n",
    "# Model fitting\n",
    "LSTM_hist, LSTM_model = md.train_LSTM(data_train = names_train, \n",
    "                                     data_valid = names_valid, \n",
    "                                     cue_index = cue_to_index, \n",
    "                                     outcome_index = outcome_to_index, \n",
    "                                     max_len = max_len,\n",
    "                                     metrics = ['accuracy'],\n",
    "                                     params = p)"
   ]
  },
  {
   "cell_type": "code",
   "execution_count": 141,
   "metadata": {},
   "outputs": [],
   "source": [
    "# Save the model and training history\n",
    "MODEL_PATH = TOP + 'illustrative_examples/names/Results/LSTM_names.h5'\n",
    "HISTORY_PATH = TOP + 'illustrative_examples/names/Results/LSTM_history_dict_names'\n",
    "md.export_model(model = LSTM_model, path = MODEL_PATH)  # creates a HDF5 file \n",
    "md.export_history(history_dict = LSTM_hist, path = HISTORY_PATH)\n",
    "del LSTM_model, LSTM_hist  # deletes the existing model and history dictionary"
   ]
  },
  {
   "cell_type": "code",
   "execution_count": 142,
   "metadata": {},
   "outputs": [],
   "source": [
    "# Load the model and training history\n",
    "LSTM_model = md.import_model(MODEL_PATH)\n",
    "LSTM_history_dict = md.import_history(path = HISTORY_PATH)"
   ]
  },
  {
   "cell_type": "markdown",
   "metadata": {},
   "source": [
    "### Evaluate the final model"
   ]
  },
  {
   "cell_type": "code",
   "execution_count": 143,
   "metadata": {},
   "outputs": [
    {
     "data": {
      "image/png": "[encoded data removed]",
      "text/plain": [
       "<Figure size 432x288 with 1 Axes>"
      ]
     },
     "metadata": {
      "needs_background": "light"
     },
     "output_type": "display_data"
    }
   ],
   "source": [
    "# Generate plots to assess the performance of the simple LSTM\n",
    "ev.plot_learning_curve(history_dict = LSTM_history_dict, metric = 'acc', set = 'train_valid')"
   ]
  },
  {
   "cell_type": "code",
   "execution_count": 144,
   "metadata": {},
   "outputs": [
    {
     "data": {
      "text/plain": [
       "array([9.9998808e-01, 1.1609335e-05], dtype=float32)"
      ]
     },
     "execution_count": 144,
     "metadata": {},
     "output_type": "execute_result"
    }
   ],
   "source": [
    "# Test prediction for a single given cue sequence. Model expect inout as array of shape (1, N_cues) \n",
    "cue1_seq = 'y_o_u_s_s_e_f'\n",
    "outcome1_prob_pred = ev.predict_proba_oneevent_LSTM(model = LSTM_model, \n",
    "                                                   cue_seq = cue1_seq, \n",
    "                                                   num_cues = N_cues,  \n",
    "                                                   cue_index = cue_to_index,\n",
    "                                                   max_len = max_len)\n",
    "outcome1_prob_pred"
   ]
  },
  {
   "cell_type": "code",
   "execution_count": 145,
   "metadata": {},
   "outputs": [],
   "source": [
    "# Evaluate the model on the test set\n",
    "prob_pred = ev.predict_proba_eventfile_LSTM(model = LSTM_model, \n",
    "                                           data_test = names_test, \n",
    "                                           num_cues = N_cues, \n",
    "                                           num_outcomes = N_outcomes, \n",
    "                                           cue_index = cue_to_index, \n",
    "                                           outcome_index = outcome_to_index, \n",
    "                                           max_len = max_len)"
   ]
  },
  {
   "cell_type": "code",
   "execution_count": 146,
   "metadata": {},
   "outputs": [
    {
     "data": {
      "text/plain": [
       "0.8156342182890856"
      ]
     },
     "execution_count": 146,
     "metadata": {},
     "output_type": "execute_result"
    }
   ],
   "source": [
    "# True responses to compare the predictions to\n",
    "y_test = names_test.replace({'outcomes': outcome_to_index})['outcomes']\n",
    "y_pred = np.argmax(prob_pred, axis=1)+1\n",
    "\n",
    "# Overall test accuracy\n",
    "test_accuracy = accuracy_score(y_test, y_pred)\n",
    "test_accuracy"
   ]
  },
  {
   "cell_type": "code",
   "execution_count": 147,
   "metadata": {},
   "outputs": [
    {
     "name": "stdout",
     "output_type": "stream",
     "text": [
      "[0.83284457 0.79821958]\n"
     ]
    }
   ],
   "source": [
    "# Test accuracy per class\n",
    "cmat = confusion_matrix(y_test, y_pred) # Confusion matrix\n",
    "print(cmat.diagonal()/cmat.sum(axis=1)) "
   ]
  },
  {
   "cell_type": "markdown",
   "metadata": {},
   "source": [
    "## V. Naive discriminative learning model <a ID=\"V\"></a> "
   ]
  },
  {
   "cell_type": "markdown",
   "metadata": {},
   "source": [
    "### Build a simple NDL model"
   ]
  },
  {
   "cell_type": "code",
   "execution_count": 95,
   "metadata": {
    "scrolled": false
   },
   "outputs": [
    {
     "name": "stdout",
     "output_type": "stream",
     "text": [
      "Epoch 1/10\n",
      " - 14s - acc: 0.6461 - val_acc: 0.6519\n",
      "Epoch 2/10\n",
      " - 15s - acc: 0.6535 - val_acc: 0.6637\n",
      "Epoch 3/10\n",
      " - 14s - acc: 0.6590 - val_acc: 0.6622\n",
      "Epoch 4/10\n",
      " - 14s - acc: 0.6629 - val_acc: 0.6637\n",
      "Epoch 5/10\n",
      " - 14s - acc: 0.6638 - val_acc: 0.6681\n",
      "Epoch 6/10\n",
      " - 14s - acc: 0.6629 - val_acc: 0.6740\n",
      "Epoch 7/10\n",
      " - 14s - acc: 0.6635 - val_acc: 0.6770\n",
      "Epoch 8/10\n",
      " - 14s - acc: 0.6648 - val_acc: 0.6711\n",
      "Epoch 9/10\n",
      " - 14s - acc: 0.6659 - val_acc: 0.6681\n",
      "Epoch 10/10\n",
      " - 14s - acc: 0.6668 - val_acc: 0.6637\n"
     ]
    }
   ],
   "source": [
    "### Build a simple NDL\n",
    "p = {'epochs': 10, # number of iterations on the full set \n",
    "    'lr': 0.001}\n",
    "\n",
    "# Model fitting\n",
    "NDL_history_dict, NDL_model = md.train_NDL(data_train = names_train, \n",
    "                                           data_valid = names_valid,  \n",
    "                                           cue_index = cue_to_index, \n",
    "                                           outcome_index = outcome_to_index, \n",
    "                                           temp_dir = TEMP_DIR,\n",
    "                                           num_threads = no_threads, \n",
    "                                           params = p)"
   ]
  },
  {
   "cell_type": "code",
   "execution_count": 96,
   "metadata": {},
   "outputs": [
    {
     "data": {
      "image/png": "[encoded data removed]",
      "text/plain": [
       "<Figure size 432x288 with 1 Axes>"
      ]
     },
     "metadata": {
      "needs_background": "light"
     },
     "output_type": "display_data"
    }
   ],
   "source": [
    "# Generate learning curve\n",
    "ev.plot_learning_curve(history_dict = NDL_history_dict, metric = 'acc', set = 'train_valid')"
   ]
  },
  {
   "cell_type": "markdown",
   "metadata": {},
   "source": [
    "### Tune the parameters to find a good model"
   ]
  },
  {
   "cell_type": "code",
   "execution_count": 98,
   "metadata": {},
   "outputs": [
    {
     "name": "stdout",
     "output_type": "stream",
     "text": [
      "Iteration 1 out of 4: {'lr': 5e-05, 'epochs': 2}\n",
      "\n",
      "Iteration 2 out of 4: {'lr': 1e-05, 'epochs': 8}\n",
      "\n",
      "Iteration 3 out of 4: {'lr': 0.001, 'epochs': 8}\n",
      "\n",
      "Iteration 4 out of 4: {'lr': 0.001, 'epochs': 6}\n",
      "\n",
      "This parameter combination has already been processed: {'lr': 0.001, 'epochs': 6}\n",
      "\n"
     ]
    }
   ],
   "source": [
    "### Parameter tuning using grid search \n",
    "p = {'lr': [0.00001, 0.00005, 0.0001, 0.0005, 0.001, 0.005, 0.01, 0.05], # learning rate (x8)\n",
    "     'epochs': [1, 2, 4, 6, 8], # number of iterations on the full set (x6)\n",
    "     }\n",
    "# => Total number of combinations: 8*5 = 40\n",
    "\n",
    "### Grid search \n",
    "TUNING_PATH = TOP + 'illustrative_examples/names/Results/grid_search_NDL_names.csv'\n",
    "md.grid_search_NDL(data_train = names_train, \n",
    "                   data_valid = names_valid, \n",
    "                   cue_index = cue_to_index, \n",
    "                   outcome_index = outcome_to_index, \n",
    "                   temp_dir = TEMP_DIR,\n",
    "                   params = p, \n",
    "                   prop_grid = 0.1, \n",
    "                   tuning_output_file = TUNING_PATH, \n",
    "                   num_threads = no_threads)"
   ]
  },
  {
   "cell_type": "markdown",
   "metadata": {},
   "source": [
    "### Assessing the grid search using talos"
   ]
  },
  {
   "cell_type": "code",
   "execution_count": 99,
   "metadata": {},
   "outputs": [
    {
     "name": "stdout",
     "output_type": "stream",
     "text": [
      "- Highest validation accuracy: 0.6769911504424779\n",
      "- Highest validation f1-score: 0.6645842460087221\n"
     ]
    }
   ],
   "source": [
    "# Import the results file to analyse the results with talos\n",
    "r = ta.Reporting(TUNING_PATH)\n",
    "\n",
    "# get the highest result for any metric\n",
    "print(f\"- Highest validation accuracy: {r.high('val_acc')}\")\n",
    "print(f\"- Highest validation f1-score: {r.high('f1score')}\")"
   ]
  },
  {
   "cell_type": "code",
   "execution_count": 100,
   "metadata": {
    "scrolled": true
   },
   "outputs": [
    {
     "data": {
      "text/plain": [
       "16"
      ]
     },
     "execution_count": 100,
     "metadata": {},
     "output_type": "execute_result"
    }
   ],
   "source": [
    "# get the index of the combination with the best result\n",
    "r.rounds2high(metric = 'val_acc')"
   ]
  },
  {
   "cell_type": "code",
   "execution_count": 101,
   "metadata": {
    "scrolled": true
   },
   "outputs": [
    {
     "data": {
      "text/plain": [
       "lr               0.001000\n",
       "epochs           7.000000\n",
       "acc              0.663472\n",
       "precision        0.663357\n",
       "recall           0.663288\n",
       "f1score          0.663307\n",
       "val_acc          0.676991\n",
       "val_precision    0.677208\n",
       "val_recall       0.676867\n",
       "val_f1score      0.676788\n",
       "Name: 16, dtype: float64"
      ]
     },
     "execution_count": 101,
     "metadata": {},
     "output_type": "execute_result"
    }
   ],
   "source": [
    "# get the best paramaters\n",
    "r.data.iloc[16,]"
   ]
  },
  {
   "cell_type": "markdown",
   "metadata": {},
   "source": [
    "### Retraining with the best parameters"
   ]
  },
  {
   "cell_type": "code",
   "execution_count": 102,
   "metadata": {
    "scrolled": false
   },
   "outputs": [
    {
     "name": "stdout",
     "output_type": "stream",
     "text": [
      "Epoch 1/7\n",
      " - 16s - acc: 0.6461 - val_acc: 0.6519\n",
      "Epoch 2/7\n",
      " - 16s - acc: 0.6535 - val_acc: 0.6637\n",
      "Epoch 3/7\n",
      " - 15s - acc: 0.6590 - val_acc: 0.6622\n",
      "Epoch 4/7\n",
      " - 14s - acc: 0.6629 - val_acc: 0.6637\n",
      "Epoch 5/7\n",
      " - 14s - acc: 0.6638 - val_acc: 0.6681\n",
      "Epoch 6/7\n",
      " - 14s - acc: 0.6629 - val_acc: 0.6740\n",
      "Epoch 7/7\n",
      " - 14s - acc: 0.6635 - val_acc: 0.6770\n"
     ]
    }
   ],
   "source": [
    "### Hyperparameters to use\n",
    "p = {'epochs': 7, # number of iterations on the full set \n",
    "    'lr': 0.001}\n",
    "\n",
    "# Model fitting\n",
    "NDL_history_dict, NDL_model = md.train_NDL(data_train = names_train, \n",
    "                                           data_valid = names_valid,  \n",
    "                                           cue_index = cue_to_index, \n",
    "                                           outcome_index = outcome_to_index, \n",
    "                                           temp_dir = TEMP_DIR,\n",
    "                                           num_threads = no_threads, \n",
    "                                           verbose = 1,\n",
    "                                           params = p)"
   ]
  },
  {
   "cell_type": "code",
   "execution_count": 103,
   "metadata": {},
   "outputs": [],
   "source": [
    "# Save the weights and training history\n",
    "MODEL_PATH = TOP + 'illustrative_examples/names/Results/NDL_names.h5'\n",
    "HISTORY_PATH = TOP + 'illustrative_examples/names/Results/NDL_history_dict_names'\n",
    "md.export_model(model = NDL_model, path = MODEL_PATH)  # create a HDF5 file \n",
    "md.export_history(history_dict = NDL_history_dict, path = HISTORY_PATH)\n",
    "del NDL_model, NDL_history_dict  # delete the existing model and history dictionary"
   ]
  },
  {
   "cell_type": "code",
   "execution_count": 111,
   "metadata": {},
   "outputs": [],
   "source": [
    "# Load the model and training history\n",
    "MODEL_PATH = TOP + 'illustrative_examples/names/Results/NDL_names.h5'\n",
    "HISTORY_PATH = TOP + 'illustrative_examples/names/Results/NDL_history_dict_names'\n",
    "NDL_model = md.import_model(MODEL_PATH)\n",
    "NDL_history_dict = md.import_history(path = HISTORY_PATH)"
   ]
  },
  {
   "cell_type": "markdown",
   "metadata": {},
   "source": [
    "### Evaluate the final model"
   ]
  },
  {
   "cell_type": "code",
   "execution_count": 105,
   "metadata": {},
   "outputs": [
    {
     "data": {
      "text/plain": [
       "array([0.68082355, 0.31917645])"
      ]
     },
     "execution_count": 105,
     "metadata": {},
     "output_type": "execute_result"
    }
   ],
   "source": [
    "# Test prediction for a single given cue sequence. Model expect input as array of shape (1, N_cues) \n",
    "cue1_seq = 'y_o_u_s_s_e_f'\n",
    "outcome1_prob_pred = ev.predict_proba_oneevent_NDL(model = NDL_model, \n",
    "                                                   cue_seq = cue1_seq)\n",
    "outcome1_prob_pred"
   ]
  },
  {
   "cell_type": "code",
   "execution_count": 112,
   "metadata": {},
   "outputs": [],
   "source": [
    "# Evaluate the model on the test set\n",
    "prob_pred = ev.predict_proba_eventfile_NDL(model = NDL_model, \n",
    "                                           data_test = names_test, \n",
    "                                           temp_dir = TEMP_DIR,\n",
    "                                           num_threads = no_threads)"
   ]
  },
  {
   "cell_type": "code",
   "execution_count": 113,
   "metadata": {},
   "outputs": [
    {
     "data": {
      "text/plain": [
       "0.6710914454277286"
      ]
     },
     "execution_count": 113,
     "metadata": {},
     "output_type": "execute_result"
    }
   ],
   "source": [
    "# True responses to compare the predictions to\n",
    "y_test = names_test.replace({'outcomes': outcome_to_index})['outcomes']\n",
    "y_pred = np.argmax(prob_pred, axis=1)+1\n",
    "\n",
    "# Overall test accuracy\n",
    "test_accuracy = accuracy_score(y_test, y_pred)\n",
    "test_accuracy"
   ]
  },
  {
   "cell_type": "code",
   "execution_count": 114,
   "metadata": {},
   "outputs": [
    {
     "name": "stdout",
     "output_type": "stream",
     "text": [
      "[0.64516129 0.69732938]\n"
     ]
    }
   ],
   "source": [
    "# Test accuracy per class\n",
    "cmat = confusion_matrix(y_test, y_pred) # Confusion matrix\n",
    "print(cmat.diagonal()/cmat.sum(axis=1)) "
   ]
  }
 ],
 "metadata": {
  "kernelspec": {
   "display_name": "Python 3",
   "language": "python",
   "name": "python3"
  },
  "language_info": {
   "codemirror_mode": {
    "name": "ipython",
    "version": 3
   },
   "file_extension": ".py",
   "mimetype": "text/x-python",
   "name": "python",
   "nbconvert_exporter": "python",
   "pygments_lexer": "ipython3",
   "version": "3.7.2"
  }
 },
 "nbformat": 4,
 "nbformat_minor": 2
}
