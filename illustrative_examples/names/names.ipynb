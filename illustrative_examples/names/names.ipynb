{
 "cells": [
  {
   "cell_type": "markdown",
   "metadata": {},
   "source": [
    "# Predicting gender from names"
   ]
  },
  {
   "cell_type": "markdown",
   "metadata": {},
   "source": [
    "## Table of Contents"
   ]
  },
  {
   "cell_type": "markdown",
   "metadata": {},
   "source": [
    "##### I. <a href=#I>Preliminary steps</a>\n",
    "##### II. <a href=#II>Prepare the data</a>\n",
    "##### III. <a href=#III>Feed-forward neural network model</a>\n",
    "##### IV. <a href=#IV>Long short-term memory model</a>\n",
    "##### V. <a href=#V>Naive discriminative learning model</a>"
   ]
  },
  {
   "cell_type": "markdown",
   "metadata": {},
   "source": [
    "## I. Preliminary steps <a ID=\"I\"></a> "
   ]
  },
  {
   "cell_type": "markdown",
   "metadata": {},
   "source": [
    "### Import necessary libraries and set up the working directory"
   ]
  },
  {
   "cell_type": "code",
   "execution_count": 43,
   "metadata": {
    "scrolled": true
   },
   "outputs": [],
   "source": [
    "### Import necessary packages\n",
    "import os\n",
    "import pandas as pd\n",
    "import numpy as np\n",
    "from keras.models import Sequential\n",
    "from keras.layers import Dropout, Dense\n",
    "from keras.optimizers import Adam, Nadam, RMSprop, SGD\n",
    "from keras.activations import relu, elu\n",
    "from keras.losses import binary_crossentropy\n",
    "from keras import metrics\n",
    "from keras.models import load_model\n",
    "from sklearn.metrics import accuracy_score\n",
    "from sklearn.metrics import confusion_matrix\n",
    "import talos as ta\n",
    "\n",
    "### Set working directory\n",
    "TOP = '/media/adnane/HDD drive/Adnane/PostDoc_ooominds/Programming/Deep_text_modelling_package_repo/'\n",
    "WD = TOP + 'package'\n",
    "os.chdir(WD)\n",
    "\n",
    "### Import local packages\n",
    "import deep_text_modelling.preprocessing as pr\n",
    "import deep_text_modelling.modelling as md\n",
    "import deep_text_modelling.evaluation as ev\n",
    "\n",
    "# Display option for dataframes\n",
    "pd.set_option('display.max_colwidth', 100) # Max width of columns when dispalying datasets\n",
    "PREVIOUS_MAX_ROWS = pd.options.display.max_rows\n",
    "pd.options.display.max_rows = 20\n",
    "\n",
    "# To allow display in jupyter\n",
    "%matplotlib inline"
   ]
  },
  {
   "cell_type": "code",
   "execution_count": null,
   "metadata": {},
   "outputs": [],
   "source": [
    "import imp\n",
    "imp.reload(pr)\n",
    "imp.reload(md)\n",
    "imp.reload(ev)"
   ]
  },
  {
   "cell_type": "markdown",
   "metadata": {},
   "source": [
    "### Define file paths"
   ]
  },
  {
   "cell_type": "code",
   "execution_count": 8,
   "metadata": {},
   "outputs": [],
   "source": [
    "NAMES_FULL_CSV = TOP + \"illustrative_examples/names/Data/Names_full.csv\"\n",
    "NAMES_TRAIN_CSV = TOP + \"illustrative_examples/names/Data/Names_train.csv\"\n",
    "NAMES_VALID_CSV = TOP + \"illustrative_examples/names/Data/Names_valid.csv\"\n",
    "NAMES_TEST_CSV = TOP + \"illustrative_examples/names/Data/Names_test.csv\"\n",
    "NAMES_TRAIN_GZ = TOP + \"illustrative_examples/names/Data/Names_train.gz\"\n",
    "NAMES_VALID_GZ = TOP + \"illustrative_examples/names/Data/Names_valid.gz\"\n",
    "NAMES_TEST_GZ = TOP + \"illustrative_examples/names/Data/Names_test.gz\"\n",
    "CUE_INDEX = TOP + \"illustrative_examples/names/Data/Cue_index.csv\"\n",
    "OUTCOME_INDEX = TOP + \"illustrative_examples/names/Data/Outcome_index.csv\"\n",
    "TEMP_DIR = TOP + \"illustrative_examples/names/Data/\""
   ]
  },
  {
   "cell_type": "markdown",
   "metadata": {},
   "source": [
    "### Parameters to use"
   ]
  },
  {
   "cell_type": "code",
   "execution_count": 5,
   "metadata": {},
   "outputs": [],
   "source": [
    "N_outcomes = 2  # number of most frequent outcomes to keep \n",
    "N_cues = 26  # number of cues to keep (all alphabet letters)\n",
    "max_len = 11 # consider only the first 'max_len' cues in a sequence when applying LSTM (11 is the longest name in the dataset)\n",
    "no_threads = 4 # Number of CPU cores to use\n",
    "prop_valid = 1/10 # proportion of validation data\n",
    "prop_test = 1/10 # proportion of test data"
   ]
  },
  {
   "cell_type": "markdown",
   "metadata": {},
   "source": [
    "## II. Prepare the data <a name=\"II\"></a> "
   ]
  },
  {
   "cell_type": "markdown",
   "metadata": {},
   "source": [
    "### Load the data"
   ]
  },
  {
   "cell_type": "code",
   "execution_count": 14,
   "metadata": {
    "scrolled": false
   },
   "outputs": [
    {
     "name": "stdout",
     "output_type": "stream",
     "text": [
      "Number of examples: 6782\n"
     ]
    },
    {
     "data": {
      "text/html": [
       "<div>\n",
       "<style scoped>\n",
       "    .dataframe tbody tr th:only-of-type {\n",
       "        vertical-align: middle;\n",
       "    }\n",
       "\n",
       "    .dataframe tbody tr th {\n",
       "        vertical-align: top;\n",
       "    }\n",
       "\n",
       "    .dataframe thead th {\n",
       "        text-align: right;\n",
       "    }\n",
       "</style>\n",
       "<table border=\"1\" class=\"dataframe\">\n",
       "  <thead>\n",
       "    <tr style=\"text-align: right;\">\n",
       "      <th></th>\n",
       "      <th>first_name</th>\n",
       "      <th>gender</th>\n",
       "    </tr>\n",
       "  </thead>\n",
       "  <tbody>\n",
       "    <tr>\n",
       "      <th>0</th>\n",
       "      <td>John</td>\n",
       "      <td>m</td>\n",
       "    </tr>\n",
       "    <tr>\n",
       "      <th>1</th>\n",
       "      <td>William</td>\n",
       "      <td>m</td>\n",
       "    </tr>\n",
       "    <tr>\n",
       "      <th>2</th>\n",
       "      <td>James</td>\n",
       "      <td>m</td>\n",
       "    </tr>\n",
       "    <tr>\n",
       "      <th>3</th>\n",
       "      <td>Charles</td>\n",
       "      <td>m</td>\n",
       "    </tr>\n",
       "    <tr>\n",
       "      <th>4</th>\n",
       "      <td>George</td>\n",
       "      <td>m</td>\n",
       "    </tr>\n",
       "  </tbody>\n",
       "</table>\n",
       "</div>"
      ],
      "text/plain": [
       "  first_name gender\n",
       "0       John      m\n",
       "1    William      m\n",
       "2      James      m\n",
       "3    Charles      m\n",
       "4     George      m"
      ]
     },
     "execution_count": 14,
     "metadata": {},
     "output_type": "execute_result"
    }
   ],
   "source": [
    "names_full = pd.read_csv(NAMES_FULL_CSV)\n",
    "print(f'Number of examples: {len(names_full)}')\n",
    "names_full.head(5)"
   ]
  },
  {
   "cell_type": "markdown",
   "metadata": {},
   "source": [
    "### Prepare the cues and outcomes"
   ]
  },
  {
   "cell_type": "code",
   "execution_count": 15,
   "metadata": {},
   "outputs": [
    {
     "data": {
      "text/html": [
       "<div>\n",
       "<style scoped>\n",
       "    .dataframe tbody tr th:only-of-type {\n",
       "        vertical-align: middle;\n",
       "    }\n",
       "\n",
       "    .dataframe tbody tr th {\n",
       "        vertical-align: top;\n",
       "    }\n",
       "\n",
       "    .dataframe thead th {\n",
       "        text-align: right;\n",
       "    }\n",
       "</style>\n",
       "<table border=\"1\" class=\"dataframe\">\n",
       "  <thead>\n",
       "    <tr style=\"text-align: right;\">\n",
       "      <th></th>\n",
       "      <th>cues</th>\n",
       "      <th>outcomes</th>\n",
       "    </tr>\n",
       "  </thead>\n",
       "  <tbody>\n",
       "    <tr>\n",
       "      <th>0</th>\n",
       "      <td>j_o_h_n</td>\n",
       "      <td>m</td>\n",
       "    </tr>\n",
       "    <tr>\n",
       "      <th>1</th>\n",
       "      <td>w_i_l_l_i_a_m</td>\n",
       "      <td>m</td>\n",
       "    </tr>\n",
       "    <tr>\n",
       "      <th>2</th>\n",
       "      <td>j_a_m_e_s</td>\n",
       "      <td>m</td>\n",
       "    </tr>\n",
       "    <tr>\n",
       "      <th>3</th>\n",
       "      <td>c_h_a_r_l_e_s</td>\n",
       "      <td>m</td>\n",
       "    </tr>\n",
       "    <tr>\n",
       "      <th>4</th>\n",
       "      <td>g_e_o_r_g_e</td>\n",
       "      <td>m</td>\n",
       "    </tr>\n",
       "  </tbody>\n",
       "</table>\n",
       "</div>"
      ],
      "text/plain": [
       "            cues outcomes\n",
       "0        j_o_h_n        m\n",
       "1  w_i_l_l_i_a_m        m\n",
       "2      j_a_m_e_s        m\n",
       "3  c_h_a_r_l_e_s        m\n",
       "4    g_e_o_r_g_e        m"
      ]
     },
     "execution_count": 15,
     "metadata": {},
     "output_type": "execute_result"
    }
   ],
   "source": [
    "# Create the unigraph cues\n",
    "names_full['cues'] = names_full['first_name'].apply(lambda s: pr.orthoCoding(s, gram_size = 1))\n",
    "\n",
    "# Rename the column gender as 'outcomes'\n",
    "names_full.rename(columns={\"gender\": \"outcomes\"}, inplace = True)\n",
    "names_full = names_full[['cues', 'outcomes']]\n",
    "names_full.head(5)"
   ]
  },
  {
   "cell_type": "markdown",
   "metadata": {},
   "source": [
    "### Create index systems for the cues and outcomes"
   ]
  },
  {
   "cell_type": "code",
   "execution_count": 10,
   "metadata": {},
   "outputs": [],
   "source": [
    "# Create the files containing the index systems\n",
    "pr.create_index_systems_from_df(data = names_full, \n",
    "                                cue_index_path = CUE_INDEX, \n",
    "                                outcome_index_path = OUTCOME_INDEX)"
   ]
  },
  {
   "cell_type": "code",
   "execution_count": 16,
   "metadata": {
    "scrolled": true
   },
   "outputs": [
    {
     "name": "stdout",
     "output_type": "stream",
     "text": [
      "{a: 1}\n",
      "{e: 2}\n",
      "{n: 3}\n",
      "{i: 4}\n",
      "{l: 5}\n"
     ]
    }
   ],
   "source": [
    "# Import the cue index system\n",
    "cue_to_index = pr.import_index_system(CUE_INDEX, N_tokens = N_cues)\n",
    "pr.display_dictionary(cue_to_index, start = 0, end = 5)"
   ]
  },
  {
   "cell_type": "code",
   "execution_count": 17,
   "metadata": {
    "scrolled": true
   },
   "outputs": [
    {
     "name": "stdout",
     "output_type": "stream",
     "text": [
      "{a: 1}\n",
      "{b: 2}\n",
      "{c: 3}\n",
      "{d: 4}\n",
      "{e: 5}\n"
     ]
    }
   ],
   "source": [
    "# Order dictionary alphabetically\n",
    "cue_to_index = {k:(i+1) for i,k in enumerate(sorted(cue_to_index.keys()))}\n",
    "pr.display_dictionary(cue_to_index, start = 0, end = 5)"
   ]
  },
  {
   "cell_type": "code",
   "execution_count": 9,
   "metadata": {},
   "outputs": [
    {
     "data": {
      "text/plain": [
       "{'m': 1, 'f': 2}"
      ]
     },
     "execution_count": 9,
     "metadata": {},
     "output_type": "execute_result"
    }
   ],
   "source": [
    "# Import the outcome index system\n",
    "outcome_to_index = pr.import_index_system(OUTCOME_INDEX)\n",
    "outcome_to_index"
   ]
  },
  {
   "cell_type": "code",
   "execution_count": 12,
   "metadata": {},
   "outputs": [
    {
     "data": {
      "text/plain": [
       "{1: 'm', 2: 'f'}"
      ]
     },
     "execution_count": 12,
     "metadata": {},
     "output_type": "execute_result"
    }
   ],
   "source": [
    "# Reverse the cue dictionary\n",
    "index_to_cue = pr.reverse_dictionary(cue_to_index)\n",
    "# Reverse the outcome dictionary\n",
    "index_to_outcome = pr.reverse_dictionary(outcome_to_index)\n",
    "index_to_outcome"
   ]
  },
  {
   "cell_type": "markdown",
   "metadata": {},
   "source": [
    "### Split into training, validation and test sets"
   ]
  },
  {
   "cell_type": "code",
   "execution_count": null,
   "metadata": {
    "scrolled": true
   },
   "outputs": [],
   "source": [
    "# Create train, valid and test set files\n",
    "pr.df_train_valid_test_split(data = names_full, \n",
    "                             train_data_path = NAMES_TRAIN_CSV, \n",
    "                             valid_data_path = NAMES_VALID_CSV, \n",
    "                             test_data_path = NAMES_TEST_CSV, \n",
    "                             p_valid = prop_valid, \n",
    "                             p_test = prop_test)"
   ]
  },
  {
   "cell_type": "code",
   "execution_count": 20,
   "metadata": {},
   "outputs": [],
   "source": [
    "# Load the train, valid and test sets\n",
    "names_train = pd.read_csv(NAMES_TRAIN_CSV, sep=',', na_filter = False)\n",
    "names_valid = pd.read_csv(NAMES_VALID_CSV, sep=',', na_filter = False)\n",
    "names_test = pd.read_csv(NAMES_VALID_CSV, sep=',', na_filter = False)"
   ]
  },
  {
   "cell_type": "markdown",
   "metadata": {},
   "source": [
    "## III. Feed-forward neural network model <a ID=\"III\"></a> "
   ]
  },
  {
   "cell_type": "markdown",
   "metadata": {},
   "source": [
    "### Tokenisation"
   ]
  },
  {
   "cell_type": "code",
   "execution_count": 21,
   "metadata": {},
   "outputs": [
    {
     "data": {
      "text/html": [
       "<div>\n",
       "<style scoped>\n",
       "    .dataframe tbody tr th:only-of-type {\n",
       "        vertical-align: middle;\n",
       "    }\n",
       "\n",
       "    .dataframe tbody tr th {\n",
       "        vertical-align: top;\n",
       "    }\n",
       "\n",
       "    .dataframe thead th {\n",
       "        text-align: right;\n",
       "    }\n",
       "</style>\n",
       "<table border=\"1\" class=\"dataframe\">\n",
       "  <thead>\n",
       "    <tr style=\"text-align: right;\">\n",
       "      <th></th>\n",
       "      <th>cues</th>\n",
       "      <th>outcomes</th>\n",
       "    </tr>\n",
       "  </thead>\n",
       "  <tbody>\n",
       "    <tr>\n",
       "      <th>1</th>\n",
       "      <td>k_y_r_i_e</td>\n",
       "      <td>f</td>\n",
       "    </tr>\n",
       "  </tbody>\n",
       "</table>\n",
       "</div>"
      ],
      "text/plain": [
       "        cues outcomes\n",
       "1  k_y_r_i_e        f"
      ]
     },
     "execution_count": 21,
     "metadata": {},
     "output_type": "execute_result"
    }
   ],
   "source": [
    "# Extract an event\n",
    "event1 = names_train.iloc[[1]]\n",
    "event1"
   ]
  },
  {
   "cell_type": "code",
   "execution_count": 22,
   "metadata": {},
   "outputs": [
    {
     "data": {
      "text/plain": [
       "array([0., 0., 0., 0., 1., 0., 0., 0., 1., 0., 1., 0., 0., 0., 0., 0., 0.,\n",
       "       1., 0., 0., 0., 0., 0., 0., 1., 0.])"
      ]
     },
     "execution_count": 22,
     "metadata": {},
     "output_type": "execute_result"
    }
   ],
   "source": [
    "# cues\n",
    "cues1 = names_train.loc[names_train.index[1], 'cues']\n",
    "cues1_onehot_FNN = md.seq_to_onehot_1darray(cues1, index_system = cue_to_index, N_tokens = N_cues)\n",
    "cues1_onehot_FNN"
   ]
  },
  {
   "cell_type": "code",
   "execution_count": 23,
   "metadata": {
    "scrolled": true
   },
   "outputs": [
    {
     "data": {
      "text/plain": [
       "array([0., 1.])"
      ]
     },
     "execution_count": 23,
     "metadata": {},
     "output_type": "execute_result"
    }
   ],
   "source": [
    "# outcomes\n",
    "outcomes2 = names_train.loc[names_train.index[1], 'outcomes']\n",
    "outcomes2_onehot_FNN = md.seq_to_onehot_1darray(outcomes2, index_system = outcome_to_index, N_tokens = N_outcomes)\n",
    "outcomes2_onehot_FNN"
   ]
  },
  {
   "cell_type": "markdown",
   "metadata": {},
   "source": [
    "### Build a simple FNN model"
   ]
  },
  {
   "cell_type": "markdown",
   "metadata": {},
   "source": [
    "Build a simple FNN with two hidden layers having 64 units "
   ]
  },
  {
   "cell_type": "code",
   "execution_count": 21,
   "metadata": {},
   "outputs": [
    {
     "name": "stdout",
     "output_type": "stream",
     "text": [
      "Epoch 1/10\n",
      " - 2s - loss: 0.6911 - acc: 0.5304 - val_loss: 0.6776 - val_acc: 0.5952\n",
      "Epoch 2/10\n",
      " - 1s - loss: 0.6738 - acc: 0.5807 - val_loss: 0.6604 - val_acc: 0.6362\n",
      "Epoch 3/10\n",
      " - 1s - loss: 0.6626 - acc: 0.6123 - val_loss: 0.6451 - val_acc: 0.6548\n",
      "Epoch 4/10\n",
      " - 1s - loss: 0.6502 - acc: 0.6243 - val_loss: 0.6320 - val_acc: 0.6592\n",
      "Epoch 5/10\n",
      " - 1s - loss: 0.6406 - acc: 0.6387 - val_loss: 0.6226 - val_acc: 0.6622\n",
      "Epoch 6/10\n",
      " - 1s - loss: 0.6311 - acc: 0.6480 - val_loss: 0.6162 - val_acc: 0.6570\n",
      "Epoch 7/10\n",
      " - 1s - loss: 0.6258 - acc: 0.6523 - val_loss: 0.6116 - val_acc: 0.6592\n",
      "Epoch 8/10\n",
      " - 1s - loss: 0.6245 - acc: 0.6561 - val_loss: 0.6089 - val_acc: 0.6615\n",
      "Epoch 9/10\n",
      " - 1s - loss: 0.6184 - acc: 0.6610 - val_loss: 0.6068 - val_acc: 0.6629\n",
      "Epoch 10/10\n",
      " - 1s - loss: 0.6171 - acc: 0.6560 - val_loss: 0.6055 - val_acc: 0.6615\n"
     ]
    }
   ],
   "source": [
    "### Hyperparameters to use\n",
    "p = {'epochs': 10, # number of iterations on the full set \n",
    "    'batch_size': 16, \n",
    "    'hidden_layers': 2, # number of hidden layers \n",
    "    'hidden_neuron':64, # number of neurons in the input layer \n",
    "    'lr': 0.0001, # learning rate       \n",
    "    'dropout': 0.2, \n",
    "    'optimizer': Adam, \n",
    "    'losses': binary_crossentropy, \n",
    "    'activation': relu, \n",
    "    'last_activation': 'sigmoid'}\n",
    "\n",
    "# Model fitting\n",
    "FNN_out, FNN_model = md.train_FNN(data_train = names_train, \n",
    "                                  data_valid = names_valid, \n",
    "                                  cue_index = cue_to_index, \n",
    "                                  outcome_index = outcome_to_index, \n",
    "                                  generator = md.generator_df_FNN,\n",
    "                                  shuffle = False, \n",
    "                                  use_multiprocessing = False, \n",
    "                                  num_threads = 0, \n",
    "                                  verbose = 2,\n",
    "                                  metrics = ['accuracy'],\n",
    "                                  params = p)"
   ]
  },
  {
   "cell_type": "code",
   "execution_count": 22,
   "metadata": {},
   "outputs": [
    {
     "name": "stdout",
     "output_type": "stream",
     "text": [
      "_________________________________________________________________\n",
      "Layer (type)                 Output Shape              Param #   \n",
      "=================================================================\n",
      "dense_22 (Dense)             (None, 64)                1728      \n",
      "_________________________________________________________________\n",
      "dropout_15 (Dropout)         (None, 64)                0         \n",
      "_________________________________________________________________\n",
      "dense_23 (Dense)             (None, 64)                4160      \n",
      "_________________________________________________________________\n",
      "dropout_16 (Dropout)         (None, 64)                0         \n",
      "_________________________________________________________________\n",
      "dense_24 (Dense)             (None, 2)                 130       \n",
      "=================================================================\n",
      "Total params: 6,018\n",
      "Trainable params: 6,018\n",
      "Non-trainable params: 0\n",
      "_________________________________________________________________\n"
     ]
    }
   ],
   "source": [
    "FNN_model.summary()"
   ]
  },
  {
   "cell_type": "markdown",
   "metadata": {},
   "source": [
    "### Tune the parameters to find a good model"
   ]
  },
  {
   "cell_type": "code",
   "execution_count": 26,
   "metadata": {
    "scrolled": true
   },
   "outputs": [
    {
     "name": "stdout",
     "output_type": "stream",
     "text": [
      "Iteration 1 out of 15: {'epochs': 5, 'batch_size': 16, 'hidden_layers': 2, 'hidden_neuron': 16, 'lr': 0.0002, 'dropout': 0.3, 'optimizer': <class 'keras.optimizers.RMSprop'>, 'losses': <function binary_crossentropy at 0x7fb6276b7d90>, 'activation': <function relu at 0x7fb62766dd90>, 'last_activation': 'sigmoid'}\n",
      "\n",
      "Iteration 2 out of 15: {'epochs': 1, 'batch_size': 8, 'hidden_layers': 1, 'hidden_neuron': 64, 'lr': 0.002, 'dropout': 0.3, 'optimizer': <class 'keras.optimizers.Adam'>, 'losses': <function binary_crossentropy at 0x7fb6276b7d90>, 'activation': <function elu at 0x7fb62766db70>, 'last_activation': 'sigmoid'}\n",
      "\n",
      "Iteration 3 out of 15: {'epochs': 1, 'batch_size': 32, 'hidden_layers': 0, 'hidden_neuron': 16, 'lr': 0.0005, 'dropout': 0.3, 'optimizer': <class 'keras.optimizers.RMSprop'>, 'losses': <function binary_crossentropy at 0x7fb6276b7d90>, 'activation': <function relu at 0x7fb62766dd90>, 'last_activation': 'sigmoid'}\n",
      "\n",
      "Iteration 4 out of 15: {'epochs': 5, 'batch_size': 64, 'hidden_layers': 2, 'hidden_neuron': 32, 'lr': 0.0005, 'dropout': 0.4, 'optimizer': <class 'keras.optimizers.Adam'>, 'losses': <function binary_crossentropy at 0x7fb6276b7d90>, 'activation': <function elu at 0x7fb62766db70>, 'last_activation': 'sigmoid'}\n",
      "\n",
      "Iteration 5 out of 15: {'epochs': 5, 'batch_size': 32, 'hidden_layers': 2, 'hidden_neuron': 128, 'lr': 0.0005, 'dropout': 0, 'optimizer': <class 'keras.optimizers.RMSprop'>, 'losses': <function binary_crossentropy at 0x7fb6276b7d90>, 'activation': <function elu at 0x7fb62766db70>, 'last_activation': 'sigmoid'}\n",
      "\n",
      "Iteration 6 out of 15: {'epochs': 30, 'batch_size': 64, 'hidden_layers': 2, 'hidden_neuron': 32, 'lr': 0.01, 'dropout': 0.3, 'optimizer': <class 'keras.optimizers.RMSprop'>, 'losses': <function binary_crossentropy at 0x7fb6276b7d90>, 'activation': <function relu at 0x7fb62766dd90>, 'last_activation': 'sigmoid'}\n",
      "\n",
      "Iteration 7 out of 15: {'epochs': 10, 'batch_size': 32, 'hidden_layers': 2, 'hidden_neuron': 64, 'lr': 0.001, 'dropout': 0, 'optimizer': <class 'keras.optimizers.Adam'>, 'losses': <function binary_crossentropy at 0x7fb6276b7d90>, 'activation': <function relu at 0x7fb62766dd90>, 'last_activation': 'sigmoid'}\n",
      "\n",
      "Iteration 8 out of 15: {'epochs': 30, 'batch_size': 8, 'hidden_layers': 0, 'hidden_neuron': 16, 'lr': 0.001, 'dropout': 0.4, 'optimizer': <class 'keras.optimizers.RMSprop'>, 'losses': <function binary_crossentropy at 0x7fb6276b7d90>, 'activation': <function elu at 0x7fb62766db70>, 'last_activation': 'sigmoid'}\n",
      "\n",
      "Iteration 9 out of 15: {'epochs': 1, 'batch_size': 256, 'hidden_layers': 2, 'hidden_neuron': 16, 'lr': 0.002, 'dropout': 0.4, 'optimizer': <class 'keras.optimizers.RMSprop'>, 'losses': <function binary_crossentropy at 0x7fb6276b7d90>, 'activation': <function relu at 0x7fb62766dd90>, 'last_activation': 'sigmoid'}\n",
      "\n",
      "Iteration 10 out of 15: {'epochs': 5, 'batch_size': 256, 'hidden_layers': 2, 'hidden_neuron': 128, 'lr': 0.0005, 'dropout': 0.1, 'optimizer': <class 'keras.optimizers.RMSprop'>, 'losses': <function binary_crossentropy at 0x7fb6276b7d90>, 'activation': <function elu at 0x7fb62766db70>, 'last_activation': 'sigmoid'}\n",
      "\n",
      "Iteration 11 out of 15: {'epochs': 20, 'batch_size': 16, 'hidden_layers': 1, 'hidden_neuron': 128, 'lr': 0.01, 'dropout': 0.2, 'optimizer': <class 'keras.optimizers.Adam'>, 'losses': <function binary_crossentropy at 0x7fb6276b7d90>, 'activation': <function elu at 0x7fb62766db70>, 'last_activation': 'sigmoid'}\n",
      "\n",
      "Iteration 12 out of 15: {'epochs': 20, 'batch_size': 64, 'hidden_layers': 1, 'hidden_neuron': 128, 'lr': 0.002, 'dropout': 0.4, 'optimizer': <class 'keras.optimizers.Adam'>, 'losses': <function binary_crossentropy at 0x7fb6276b7d90>, 'activation': <function elu at 0x7fb62766db70>, 'last_activation': 'sigmoid'}\n",
      "\n",
      "Iteration 13 out of 15: {'epochs': 1, 'batch_size': 16, 'hidden_layers': 0, 'hidden_neuron': 16, 'lr': 0.0002, 'dropout': 0.4, 'optimizer': <class 'keras.optimizers.Adam'>, 'losses': <function binary_crossentropy at 0x7fb6276b7d90>, 'activation': <function relu at 0x7fb62766dd90>, 'last_activation': 'sigmoid'}\n",
      "\n",
      "Iteration 14 out of 15: {'epochs': 20, 'batch_size': 8, 'hidden_layers': 0, 'hidden_neuron': 64, 'lr': 0.0001, 'dropout': 0.2, 'optimizer': <class 'keras.optimizers.RMSprop'>, 'losses': <function binary_crossentropy at 0x7fb6276b7d90>, 'activation': <function elu at 0x7fb62766db70>, 'last_activation': 'sigmoid'}\n",
      "\n",
      "Iteration 15 out of 15: {'epochs': 1, 'batch_size': 8, 'hidden_layers': 0, 'hidden_neuron': 64, 'lr': 0.001, 'dropout': 0.3, 'optimizer': <class 'keras.optimizers.RMSprop'>, 'losses': <function binary_crossentropy at 0x7fb6276b7d90>, 'activation': <function relu at 0x7fb62766dd90>, 'last_activation': 'sigmoid'}\n",
      "\n"
     ]
    }
   ],
   "source": [
    "### Parameter tuning using grid search \n",
    "p = {'epochs': [1, 5, 10, 20, 30], # number of iterations on the full set (x5)\n",
    "     'batch_size': [8, 16, 32, 64, 128, 256], # (x6)\n",
    "     'hidden_layers':[0, 1, 2], # number of hidden layers (x3)\n",
    "     'hidden_neuron':[16, 32, 64, 128], # number of neurons in the input layer (x4)\n",
    "     'lr': [0.0001, 0.0002, 0.0005, 0.001, 0.002, 0.005, 0.01], # learning rate (x7)       \n",
    "     'dropout': [0, 0.1, 0.2, 0.3, 0.4], # (x5)\n",
    "     'optimizer': [Adam, RMSprop], # (x2)\n",
    "     'losses': [binary_crossentropy], # (x1)\n",
    "     'activation':[relu, elu], # (x2)\n",
    "     'last_activation': ['sigmoid'] # (x1)\n",
    "     }\n",
    "# => Total number of combinations: 5*6*3*4*7*5*2*1*2*1 = 50400\n",
    "\n",
    "### Grid search \n",
    "TUNING_PATH = TOP + 'illustrative_examples/names/Results/grid_search_FNN_names.csv'\n",
    "md.grid_search_FNN(data_train = names_train, \n",
    "                   data_valid = names_valid, \n",
    "                   cue_index = cue_to_index, \n",
    "                   outcome_index = outcome_to_index,\n",
    "                   generator = md.generator_df_FNN,\n",
    "                   params = p,\n",
    "                   prop_grid = 3e-4, \n",
    "                   tuning_output_file = TUNING_PATH, \n",
    "                   shuffle = False, \n",
    "                   use_multiprocessing = False, \n",
    "                   num_threads = 0, \n",
    "                   verbose = 0)"
   ]
  },
  {
   "cell_type": "markdown",
   "metadata": {},
   "source": [
    "Iteration 7 produced the highest validation accuracy, corresponding to the following parameters:"
   ]
  },
  {
   "cell_type": "markdown",
   "metadata": {},
   "source": [
    "### Assessing the grid search using talos"
   ]
  },
  {
   "cell_type": "code",
   "execution_count": 29,
   "metadata": {},
   "outputs": [
    {
     "data": {
      "text/plain": [
       "15"
      ]
     },
     "execution_count": 29,
     "metadata": {},
     "output_type": "execute_result"
    }
   ],
   "source": [
    "# Import the results file to analyse the results with talos\n",
    "r = ta.Reporting(TUNING_PATH)\n",
    "\n",
    "# get the number of rounds in the Scan\n",
    "r.rounds()"
   ]
  },
  {
   "cell_type": "code",
   "execution_count": 42,
   "metadata": {
    "scrolled": true
   },
   "outputs": [
    {
     "data": {
      "text/html": [
       "<div>\n",
       "<style scoped>\n",
       "    .dataframe tbody tr th:only-of-type {\n",
       "        vertical-align: middle;\n",
       "    }\n",
       "\n",
       "    .dataframe tbody tr th {\n",
       "        vertical-align: top;\n",
       "    }\n",
       "\n",
       "    .dataframe thead th {\n",
       "        text-align: right;\n",
       "    }\n",
       "</style>\n",
       "<table border=\"1\" class=\"dataframe\">\n",
       "  <thead>\n",
       "    <tr style=\"text-align: right;\">\n",
       "      <th></th>\n",
       "      <th>epochs</th>\n",
       "      <th>batch_size</th>\n",
       "      <th>hidden_layers</th>\n",
       "      <th>hidden_neuron</th>\n",
       "      <th>lr</th>\n",
       "      <th>dropout</th>\n",
       "      <th>optimizer</th>\n",
       "      <th>losses</th>\n",
       "      <th>activation</th>\n",
       "      <th>last_activation</th>\n",
       "      <th>loss</th>\n",
       "      <th>acc</th>\n",
       "      <th>precision</th>\n",
       "      <th>recall</th>\n",
       "      <th>f1score</th>\n",
       "      <th>val_loss</th>\n",
       "      <th>val_acc</th>\n",
       "      <th>val_precision</th>\n",
       "      <th>val_recall</th>\n",
       "      <th>val_f1score</th>\n",
       "    </tr>\n",
       "  </thead>\n",
       "  <tbody>\n",
       "    <tr>\n",
       "      <th>0</th>\n",
       "      <td>5</td>\n",
       "      <td>16</td>\n",
       "      <td>2</td>\n",
       "      <td>16</td>\n",
       "      <td>0.0002</td>\n",
       "      <td>0.3</td>\n",
       "      <td>&lt;class 'keras.optimizers.RMSprop'&gt;</td>\n",
       "      <td>&lt;function binary_crossentropy at 0x7fb6276b7d90&gt;</td>\n",
       "      <td>&lt;function relu at 0x7fb62766dd90&gt;</td>\n",
       "      <td>sigmoid</td>\n",
       "      <td>0.669620</td>\n",
       "      <td>0.592183</td>\n",
       "      <td>0.596286</td>\n",
       "      <td>0.573193</td>\n",
       "      <td>0.582540</td>\n",
       "      <td>0.658398</td>\n",
       "      <td>0.630208</td>\n",
       "      <td>0.633595</td>\n",
       "      <td>0.620536</td>\n",
       "      <td>0.626227</td>\n",
       "    </tr>\n",
       "    <tr>\n",
       "      <th>1</th>\n",
       "      <td>1</td>\n",
       "      <td>8</td>\n",
       "      <td>1</td>\n",
       "      <td>64</td>\n",
       "      <td>0.0020</td>\n",
       "      <td>0.3</td>\n",
       "      <td>&lt;class 'keras.optimizers.Adam'&gt;</td>\n",
       "      <td>&lt;function binary_crossentropy at 0x7fb6276b7d90&gt;</td>\n",
       "      <td>&lt;function elu at 0x7fb62766db70&gt;</td>\n",
       "      <td>sigmoid</td>\n",
       "      <td>0.636240</td>\n",
       "      <td>0.637168</td>\n",
       "      <td>0.638922</td>\n",
       "      <td>0.638459</td>\n",
       "      <td>0.635707</td>\n",
       "      <td>0.622934</td>\n",
       "      <td>0.656250</td>\n",
       "      <td>0.656982</td>\n",
       "      <td>0.654762</td>\n",
       "      <td>0.655591</td>\n",
       "    </tr>\n",
       "    <tr>\n",
       "      <th>2</th>\n",
       "      <td>1</td>\n",
       "      <td>32</td>\n",
       "      <td>0</td>\n",
       "      <td>16</td>\n",
       "      <td>0.0005</td>\n",
       "      <td>0.3</td>\n",
       "      <td>&lt;class 'keras.optimizers.RMSprop'&gt;</td>\n",
       "      <td>&lt;function binary_crossentropy at 0x7fb6276b7d90&gt;</td>\n",
       "      <td>&lt;function relu at 0x7fb62766dd90&gt;</td>\n",
       "      <td>sigmoid</td>\n",
       "      <td>0.717758</td>\n",
       "      <td>0.501849</td>\n",
       "      <td>0.501217</td>\n",
       "      <td>0.602256</td>\n",
       "      <td>0.545619</td>\n",
       "      <td>0.715298</td>\n",
       "      <td>0.523810</td>\n",
       "      <td>0.523707</td>\n",
       "      <td>0.569940</td>\n",
       "      <td>0.543929</td>\n",
       "    </tr>\n",
       "    <tr>\n",
       "      <th>3</th>\n",
       "      <td>5</td>\n",
       "      <td>64</td>\n",
       "      <td>2</td>\n",
       "      <td>32</td>\n",
       "      <td>0.0005</td>\n",
       "      <td>0.4</td>\n",
       "      <td>&lt;class 'keras.optimizers.Adam'&gt;</td>\n",
       "      <td>&lt;function binary_crossentropy at 0x7fb6276b7d90&gt;</td>\n",
       "      <td>&lt;function elu at 0x7fb62766db70&gt;</td>\n",
       "      <td>sigmoid</td>\n",
       "      <td>0.648238</td>\n",
       "      <td>0.622954</td>\n",
       "      <td>0.624664</td>\n",
       "      <td>0.617746</td>\n",
       "      <td>0.620708</td>\n",
       "      <td>0.615619</td>\n",
       "      <td>0.666406</td>\n",
       "      <td>0.667041</td>\n",
       "      <td>0.664062</td>\n",
       "      <td>0.665465</td>\n",
       "    </tr>\n",
       "    <tr>\n",
       "      <th>4</th>\n",
       "      <td>5</td>\n",
       "      <td>32</td>\n",
       "      <td>2</td>\n",
       "      <td>128</td>\n",
       "      <td>0.0005</td>\n",
       "      <td>0.0</td>\n",
       "      <td>&lt;class 'keras.optimizers.RMSprop'&gt;</td>\n",
       "      <td>&lt;function binary_crossentropy at 0x7fb6276b7d90&gt;</td>\n",
       "      <td>&lt;function elu at 0x7fb62766db70&gt;</td>\n",
       "      <td>sigmoid</td>\n",
       "      <td>0.605770</td>\n",
       "      <td>0.673169</td>\n",
       "      <td>0.673459</td>\n",
       "      <td>0.672152</td>\n",
       "      <td>0.672752</td>\n",
       "      <td>0.609353</td>\n",
       "      <td>0.666667</td>\n",
       "      <td>0.667119</td>\n",
       "      <td>0.666667</td>\n",
       "      <td>0.666815</td>\n",
       "    </tr>\n",
       "    <tr>\n",
       "      <th>5</th>\n",
       "      <td>30</td>\n",
       "      <td>64</td>\n",
       "      <td>2</td>\n",
       "      <td>32</td>\n",
       "      <td>0.0100</td>\n",
       "      <td>0.3</td>\n",
       "      <td>&lt;class 'keras.optimizers.RMSprop'&gt;</td>\n",
       "      <td>&lt;function binary_crossentropy at 0x7fb6276b7d90&gt;</td>\n",
       "      <td>&lt;function relu at 0x7fb62766dd90&gt;</td>\n",
       "      <td>sigmoid</td>\n",
       "      <td>0.555755</td>\n",
       "      <td>0.718192</td>\n",
       "      <td>0.718192</td>\n",
       "      <td>0.718192</td>\n",
       "      <td>0.718192</td>\n",
       "      <td>0.587138</td>\n",
       "      <td>0.690625</td>\n",
       "      <td>0.690625</td>\n",
       "      <td>0.690625</td>\n",
       "      <td>0.690625</td>\n",
       "    </tr>\n",
       "    <tr>\n",
       "      <th>6</th>\n",
       "      <td>10</td>\n",
       "      <td>32</td>\n",
       "      <td>2</td>\n",
       "      <td>64</td>\n",
       "      <td>0.0010</td>\n",
       "      <td>0.0</td>\n",
       "      <td>&lt;class 'keras.optimizers.Adam'&gt;</td>\n",
       "      <td>&lt;function binary_crossentropy at 0x7fb6276b7d90&gt;</td>\n",
       "      <td>&lt;function relu at 0x7fb62766dd90&gt;</td>\n",
       "      <td>sigmoid</td>\n",
       "      <td>0.532312</td>\n",
       "      <td>0.730492</td>\n",
       "      <td>0.730421</td>\n",
       "      <td>0.730584</td>\n",
       "      <td>0.730390</td>\n",
       "      <td>0.590935</td>\n",
       "      <td>0.687500</td>\n",
       "      <td>0.685486</td>\n",
       "      <td>0.693452</td>\n",
       "      <td>0.689315</td>\n",
       "    </tr>\n",
       "    <tr>\n",
       "      <th>7</th>\n",
       "      <td>30</td>\n",
       "      <td>8</td>\n",
       "      <td>0</td>\n",
       "      <td>16</td>\n",
       "      <td>0.0010</td>\n",
       "      <td>0.4</td>\n",
       "      <td>&lt;class 'keras.optimizers.RMSprop'&gt;</td>\n",
       "      <td>&lt;function binary_crossentropy at 0x7fb6276b7d90&gt;</td>\n",
       "      <td>&lt;function elu at 0x7fb62766db70&gt;</td>\n",
       "      <td>sigmoid</td>\n",
       "      <td>0.603938</td>\n",
       "      <td>0.670077</td>\n",
       "      <td>0.670234</td>\n",
       "      <td>0.669801</td>\n",
       "      <td>0.669954</td>\n",
       "      <td>0.606275</td>\n",
       "      <td>0.665179</td>\n",
       "      <td>0.665037</td>\n",
       "      <td>0.665179</td>\n",
       "      <td>0.665050</td>\n",
       "    </tr>\n",
       "    <tr>\n",
       "      <th>8</th>\n",
       "      <td>1</td>\n",
       "      <td>256</td>\n",
       "      <td>2</td>\n",
       "      <td>16</td>\n",
       "      <td>0.0020</td>\n",
       "      <td>0.4</td>\n",
       "      <td>&lt;class 'keras.optimizers.RMSprop'&gt;</td>\n",
       "      <td>&lt;function binary_crossentropy at 0x7fb6276b7d90&gt;</td>\n",
       "      <td>&lt;function relu at 0x7fb62766dd90&gt;</td>\n",
       "      <td>sigmoid</td>\n",
       "      <td>0.704483</td>\n",
       "      <td>0.505022</td>\n",
       "      <td>0.504909</td>\n",
       "      <td>0.499070</td>\n",
       "      <td>0.501794</td>\n",
       "      <td>0.682007</td>\n",
       "      <td>0.574219</td>\n",
       "      <td>0.588312</td>\n",
       "      <td>0.494141</td>\n",
       "      <td>0.537058</td>\n",
       "    </tr>\n",
       "    <tr>\n",
       "      <th>9</th>\n",
       "      <td>5</td>\n",
       "      <td>256</td>\n",
       "      <td>2</td>\n",
       "      <td>128</td>\n",
       "      <td>0.0005</td>\n",
       "      <td>0.1</td>\n",
       "      <td>&lt;class 'keras.optimizers.RMSprop'&gt;</td>\n",
       "      <td>&lt;function binary_crossentropy at 0x7fb6276b7d90&gt;</td>\n",
       "      <td>&lt;function elu at 0x7fb62766db70&gt;</td>\n",
       "      <td>sigmoid</td>\n",
       "      <td>0.610604</td>\n",
       "      <td>0.666388</td>\n",
       "      <td>0.666978</td>\n",
       "      <td>0.664435</td>\n",
       "      <td>0.665683</td>\n",
       "      <td>0.605098</td>\n",
       "      <td>0.659180</td>\n",
       "      <td>0.661373</td>\n",
       "      <td>0.652344</td>\n",
       "      <td>0.656827</td>\n",
       "    </tr>\n",
       "    <tr>\n",
       "      <th>10</th>\n",
       "      <td>20</td>\n",
       "      <td>16</td>\n",
       "      <td>1</td>\n",
       "      <td>128</td>\n",
       "      <td>0.0100</td>\n",
       "      <td>0.2</td>\n",
       "      <td>&lt;class 'keras.optimizers.Adam'&gt;</td>\n",
       "      <td>&lt;function binary_crossentropy at 0x7fb6276b7d90&gt;</td>\n",
       "      <td>&lt;function elu at 0x7fb62766db70&gt;</td>\n",
       "      <td>sigmoid</td>\n",
       "      <td>0.598403</td>\n",
       "      <td>0.684274</td>\n",
       "      <td>0.684329</td>\n",
       "      <td>0.684181</td>\n",
       "      <td>0.684253</td>\n",
       "      <td>0.636146</td>\n",
       "      <td>0.657738</td>\n",
       "      <td>0.657738</td>\n",
       "      <td>0.657738</td>\n",
       "      <td>0.657738</td>\n",
       "    </tr>\n",
       "    <tr>\n",
       "      <th>11</th>\n",
       "      <td>20</td>\n",
       "      <td>64</td>\n",
       "      <td>1</td>\n",
       "      <td>128</td>\n",
       "      <td>0.0020</td>\n",
       "      <td>0.4</td>\n",
       "      <td>&lt;class 'keras.optimizers.Adam'&gt;</td>\n",
       "      <td>&lt;function binary_crossentropy at 0x7fb6276b7d90&gt;</td>\n",
       "      <td>&lt;function elu at 0x7fb62766db70&gt;</td>\n",
       "      <td>sigmoid</td>\n",
       "      <td>0.603490</td>\n",
       "      <td>0.668806</td>\n",
       "      <td>0.668526</td>\n",
       "      <td>0.670015</td>\n",
       "      <td>0.669202</td>\n",
       "      <td>0.602949</td>\n",
       "      <td>0.673438</td>\n",
       "      <td>0.673821</td>\n",
       "      <td>0.671875</td>\n",
       "      <td>0.672831</td>\n",
       "    </tr>\n",
       "    <tr>\n",
       "      <th>12</th>\n",
       "      <td>1</td>\n",
       "      <td>16</td>\n",
       "      <td>0</td>\n",
       "      <td>16</td>\n",
       "      <td>0.0002</td>\n",
       "      <td>0.4</td>\n",
       "      <td>&lt;class 'keras.optimizers.Adam'&gt;</td>\n",
       "      <td>&lt;function binary_crossentropy at 0x7fb6276b7d90&gt;</td>\n",
       "      <td>&lt;function relu at 0x7fb62766dd90&gt;</td>\n",
       "      <td>sigmoid</td>\n",
       "      <td>0.724181</td>\n",
       "      <td>0.492257</td>\n",
       "      <td>0.492370</td>\n",
       "      <td>0.531895</td>\n",
       "      <td>0.507704</td>\n",
       "      <td>0.718802</td>\n",
       "      <td>0.484375</td>\n",
       "      <td>0.486670</td>\n",
       "      <td>0.501488</td>\n",
       "      <td>0.489750</td>\n",
       "    </tr>\n",
       "    <tr>\n",
       "      <th>13</th>\n",
       "      <td>20</td>\n",
       "      <td>8</td>\n",
       "      <td>0</td>\n",
       "      <td>64</td>\n",
       "      <td>0.0001</td>\n",
       "      <td>0.2</td>\n",
       "      <td>&lt;class 'keras.optimizers.RMSprop'&gt;</td>\n",
       "      <td>&lt;function binary_crossentropy at 0x7fb6276b7d90&gt;</td>\n",
       "      <td>&lt;function elu at 0x7fb62766db70&gt;</td>\n",
       "      <td>sigmoid</td>\n",
       "      <td>0.665323</td>\n",
       "      <td>0.595317</td>\n",
       "      <td>0.598375</td>\n",
       "      <td>0.599373</td>\n",
       "      <td>0.592139</td>\n",
       "      <td>0.658651</td>\n",
       "      <td>0.620536</td>\n",
       "      <td>0.631099</td>\n",
       "      <td>0.620536</td>\n",
       "      <td>0.619406</td>\n",
       "    </tr>\n",
       "    <tr>\n",
       "      <th>14</th>\n",
       "      <td>1</td>\n",
       "      <td>8</td>\n",
       "      <td>0</td>\n",
       "      <td>64</td>\n",
       "      <td>0.0010</td>\n",
       "      <td>0.3</td>\n",
       "      <td>&lt;class 'keras.optimizers.RMSprop'&gt;</td>\n",
       "      <td>&lt;function binary_crossentropy at 0x7fb6276b7d90&gt;</td>\n",
       "      <td>&lt;function relu at 0x7fb62766dd90&gt;</td>\n",
       "      <td>sigmoid</td>\n",
       "      <td>0.711763</td>\n",
       "      <td>0.508481</td>\n",
       "      <td>0.511997</td>\n",
       "      <td>0.536689</td>\n",
       "      <td>0.514115</td>\n",
       "      <td>0.686834</td>\n",
       "      <td>0.552083</td>\n",
       "      <td>0.553234</td>\n",
       "      <td>0.561012</td>\n",
       "      <td>0.549270</td>\n",
       "    </tr>\n",
       "  </tbody>\n",
       "</table>\n",
       "</div>"
      ],
      "text/plain": [
       "    epochs  batch_size  hidden_layers  hidden_neuron      lr  dropout  \\\n",
       "0        5          16              2             16  0.0002      0.3   \n",
       "1        1           8              1             64  0.0020      0.3   \n",
       "2        1          32              0             16  0.0005      0.3   \n",
       "3        5          64              2             32  0.0005      0.4   \n",
       "4        5          32              2            128  0.0005      0.0   \n",
       "5       30          64              2             32  0.0100      0.3   \n",
       "6       10          32              2             64  0.0010      0.0   \n",
       "7       30           8              0             16  0.0010      0.4   \n",
       "8        1         256              2             16  0.0020      0.4   \n",
       "9        5         256              2            128  0.0005      0.1   \n",
       "10      20          16              1            128  0.0100      0.2   \n",
       "11      20          64              1            128  0.0020      0.4   \n",
       "12       1          16              0             16  0.0002      0.4   \n",
       "13      20           8              0             64  0.0001      0.2   \n",
       "14       1           8              0             64  0.0010      0.3   \n",
       "\n",
       "                             optimizer  \\\n",
       "0   <class 'keras.optimizers.RMSprop'>   \n",
       "1      <class 'keras.optimizers.Adam'>   \n",
       "2   <class 'keras.optimizers.RMSprop'>   \n",
       "3      <class 'keras.optimizers.Adam'>   \n",
       "4   <class 'keras.optimizers.RMSprop'>   \n",
       "5   <class 'keras.optimizers.RMSprop'>   \n",
       "6      <class 'keras.optimizers.Adam'>   \n",
       "7   <class 'keras.optimizers.RMSprop'>   \n",
       "8   <class 'keras.optimizers.RMSprop'>   \n",
       "9   <class 'keras.optimizers.RMSprop'>   \n",
       "10     <class 'keras.optimizers.Adam'>   \n",
       "11     <class 'keras.optimizers.Adam'>   \n",
       "12     <class 'keras.optimizers.Adam'>   \n",
       "13  <class 'keras.optimizers.RMSprop'>   \n",
       "14  <class 'keras.optimizers.RMSprop'>   \n",
       "\n",
       "                                              losses  \\\n",
       "0   <function binary_crossentropy at 0x7fb6276b7d90>   \n",
       "1   <function binary_crossentropy at 0x7fb6276b7d90>   \n",
       "2   <function binary_crossentropy at 0x7fb6276b7d90>   \n",
       "3   <function binary_crossentropy at 0x7fb6276b7d90>   \n",
       "4   <function binary_crossentropy at 0x7fb6276b7d90>   \n",
       "5   <function binary_crossentropy at 0x7fb6276b7d90>   \n",
       "6   <function binary_crossentropy at 0x7fb6276b7d90>   \n",
       "7   <function binary_crossentropy at 0x7fb6276b7d90>   \n",
       "8   <function binary_crossentropy at 0x7fb6276b7d90>   \n",
       "9   <function binary_crossentropy at 0x7fb6276b7d90>   \n",
       "10  <function binary_crossentropy at 0x7fb6276b7d90>   \n",
       "11  <function binary_crossentropy at 0x7fb6276b7d90>   \n",
       "12  <function binary_crossentropy at 0x7fb6276b7d90>   \n",
       "13  <function binary_crossentropy at 0x7fb6276b7d90>   \n",
       "14  <function binary_crossentropy at 0x7fb6276b7d90>   \n",
       "\n",
       "                           activation last_activation      loss       acc  \\\n",
       "0   <function relu at 0x7fb62766dd90>         sigmoid  0.669620  0.592183   \n",
       "1    <function elu at 0x7fb62766db70>         sigmoid  0.636240  0.637168   \n",
       "2   <function relu at 0x7fb62766dd90>         sigmoid  0.717758  0.501849   \n",
       "3    <function elu at 0x7fb62766db70>         sigmoid  0.648238  0.622954   \n",
       "4    <function elu at 0x7fb62766db70>         sigmoid  0.605770  0.673169   \n",
       "5   <function relu at 0x7fb62766dd90>         sigmoid  0.555755  0.718192   \n",
       "6   <function relu at 0x7fb62766dd90>         sigmoid  0.532312  0.730492   \n",
       "7    <function elu at 0x7fb62766db70>         sigmoid  0.603938  0.670077   \n",
       "8   <function relu at 0x7fb62766dd90>         sigmoid  0.704483  0.505022   \n",
       "9    <function elu at 0x7fb62766db70>         sigmoid  0.610604  0.666388   \n",
       "10   <function elu at 0x7fb62766db70>         sigmoid  0.598403  0.684274   \n",
       "11   <function elu at 0x7fb62766db70>         sigmoid  0.603490  0.668806   \n",
       "12  <function relu at 0x7fb62766dd90>         sigmoid  0.724181  0.492257   \n",
       "13   <function elu at 0x7fb62766db70>         sigmoid  0.665323  0.595317   \n",
       "14  <function relu at 0x7fb62766dd90>         sigmoid  0.711763  0.508481   \n",
       "\n",
       "    precision    recall   f1score  val_loss   val_acc  val_precision  \\\n",
       "0    0.596286  0.573193  0.582540  0.658398  0.630208       0.633595   \n",
       "1    0.638922  0.638459  0.635707  0.622934  0.656250       0.656982   \n",
       "2    0.501217  0.602256  0.545619  0.715298  0.523810       0.523707   \n",
       "3    0.624664  0.617746  0.620708  0.615619  0.666406       0.667041   \n",
       "4    0.673459  0.672152  0.672752  0.609353  0.666667       0.667119   \n",
       "5    0.718192  0.718192  0.718192  0.587138  0.690625       0.690625   \n",
       "6    0.730421  0.730584  0.730390  0.590935  0.687500       0.685486   \n",
       "7    0.670234  0.669801  0.669954  0.606275  0.665179       0.665037   \n",
       "8    0.504909  0.499070  0.501794  0.682007  0.574219       0.588312   \n",
       "9    0.666978  0.664435  0.665683  0.605098  0.659180       0.661373   \n",
       "10   0.684329  0.684181  0.684253  0.636146  0.657738       0.657738   \n",
       "11   0.668526  0.670015  0.669202  0.602949  0.673438       0.673821   \n",
       "12   0.492370  0.531895  0.507704  0.718802  0.484375       0.486670   \n",
       "13   0.598375  0.599373  0.592139  0.658651  0.620536       0.631099   \n",
       "14   0.511997  0.536689  0.514115  0.686834  0.552083       0.553234   \n",
       "\n",
       "    val_recall  val_f1score  \n",
       "0     0.620536     0.626227  \n",
       "1     0.654762     0.655591  \n",
       "2     0.569940     0.543929  \n",
       "3     0.664062     0.665465  \n",
       "4     0.666667     0.666815  \n",
       "5     0.690625     0.690625  \n",
       "6     0.693452     0.689315  \n",
       "7     0.665179     0.665050  \n",
       "8     0.494141     0.537058  \n",
       "9     0.652344     0.656827  \n",
       "10    0.657738     0.657738  \n",
       "11    0.671875     0.672831  \n",
       "12    0.501488     0.489750  \n",
       "13    0.620536     0.619406  \n",
       "14    0.561012     0.549270  "
      ]
     },
     "execution_count": 42,
     "metadata": {},
     "output_type": "execute_result"
    }
   ],
   "source": [
    "# Display the dataframe containing the tuning results\n",
    "r.data"
   ]
  },
  {
   "cell_type": "code",
   "execution_count": 49,
   "metadata": {},
   "outputs": [
    {
     "data": {
      "text/plain": [
       "Index(['epochs', 'batch_size', 'hidden_layers', 'hidden_neuron', 'lr',\n",
       "       'dropout', 'optimizer', 'losses', 'activation', 'last_activation',\n",
       "       'loss', 'acc', 'precision', 'recall', 'f1score', 'val_loss', 'val_acc',\n",
       "       'val_precision', 'val_recall', 'val_f1score'],\n",
       "      dtype='object')"
      ]
     },
     "execution_count": 49,
     "metadata": {},
     "output_type": "execute_result"
    }
   ],
   "source": [
    "r.data.columns"
   ]
  },
  {
   "cell_type": "code",
   "execution_count": 37,
   "metadata": {
    "scrolled": true
   },
   "outputs": [
    {
     "name": "stdout",
     "output_type": "stream",
     "text": [
      "- Highest validation accuracy: 0.690625\n",
      "- Highest validation f1-score: 0.730390268140996\n"
     ]
    }
   ],
   "source": [
    "# get the highest result for any metric\n",
    "print(f\"- Highest validation accuracy: {r.high('val_acc')}\")\n",
    "print(f\"- Highest validation f1-score: {r.high('f1score')}\")"
   ]
  },
  {
   "cell_type": "code",
   "execution_count": 43,
   "metadata": {
    "scrolled": true
   },
   "outputs": [
    {
     "data": {
      "text/plain": [
       "5"
      ]
     },
     "execution_count": 43,
     "metadata": {},
     "output_type": "execute_result"
    }
   ],
   "source": [
    "# get the round with the best result\n",
    "r.rounds2high(metric = 'val_acc')"
   ]
  },
  {
   "cell_type": "code",
   "execution_count": 51,
   "metadata": {
    "scrolled": false
   },
   "outputs": [
    {
     "data": {
      "text/plain": [
       "epochs                                                           30\n",
       "batch_size                                                       64\n",
       "hidden_layers                                                     2\n",
       "hidden_neuron                                                    32\n",
       "lr                                                             0.01\n",
       "dropout                                                         0.3\n",
       "optimizer                        <class 'keras.optimizers.RMSprop'>\n",
       "losses             <function binary_crossentropy at 0x7fb6276b7d90>\n",
       "activation                        <function relu at 0x7fb62766dd90>\n",
       "last_activation                                             sigmoid\n",
       "loss                                                       0.555755\n",
       "acc                                                        0.718192\n",
       "precision                                                  0.718192\n",
       "recall                                                     0.718192\n",
       "f1score                                                    0.718192\n",
       "val_loss                                                   0.587138\n",
       "val_acc                                                    0.690625\n",
       "val_precision                                              0.690625\n",
       "val_recall                                                 0.690625\n",
       "val_f1score                                                0.690625\n",
       "Name: 5, dtype: object"
      ]
     },
     "execution_count": 51,
     "metadata": {},
     "output_type": "execute_result"
    }
   ],
   "source": [
    "# get the best paramaters\n",
    "r.data.iloc[5,]"
   ]
  },
  {
   "cell_type": "markdown",
   "metadata": {},
   "source": [
    "### Retraining with the best parameters"
   ]
  },
  {
   "cell_type": "code",
   "execution_count": 52,
   "metadata": {
    "scrolled": true
   },
   "outputs": [
    {
     "name": "stdout",
     "output_type": "stream",
     "text": [
      "Epoch 1/30\n",
      " - 1s - loss: 0.6505 - acc: 0.6217 - val_loss: 0.6140 - val_acc: 0.6609\n",
      "Epoch 2/30\n",
      " - 0s - loss: 0.6178 - acc: 0.6614 - val_loss: 0.5950 - val_acc: 0.6742\n",
      "Epoch 3/30\n",
      " - 0s - loss: 0.6089 - acc: 0.6695 - val_loss: 0.6023 - val_acc: 0.6711\n",
      "Epoch 4/30\n",
      " - 0s - loss: 0.6072 - acc: 0.6779 - val_loss: 0.5934 - val_acc: 0.6781\n",
      "Epoch 5/30\n",
      " - 0s - loss: 0.5919 - acc: 0.6818 - val_loss: 0.5934 - val_acc: 0.6766\n",
      "Epoch 6/30\n",
      " - 1s - loss: 0.5953 - acc: 0.6843 - val_loss: 0.5928 - val_acc: 0.6867\n",
      "Epoch 7/30\n",
      " - 0s - loss: 0.5890 - acc: 0.6866 - val_loss: 0.5960 - val_acc: 0.6891\n",
      "Epoch 8/30\n",
      " - 0s - loss: 0.5874 - acc: 0.6902 - val_loss: 0.6018 - val_acc: 0.6867\n",
      "Epoch 9/30\n",
      " - 0s - loss: 0.5823 - acc: 0.6950 - val_loss: 0.5982 - val_acc: 0.6852\n",
      "Epoch 10/30\n",
      " - 0s - loss: 0.5800 - acc: 0.7015 - val_loss: 0.6024 - val_acc: 0.6883\n",
      "Epoch 11/30\n",
      " - 0s - loss: 0.5797 - acc: 0.7038 - val_loss: 0.6060 - val_acc: 0.6914\n",
      "Epoch 12/30\n",
      " - 0s - loss: 0.5819 - acc: 0.6955 - val_loss: 0.5918 - val_acc: 0.6914\n",
      "Epoch 13/30\n",
      " - 0s - loss: 0.5768 - acc: 0.7028 - val_loss: 0.5974 - val_acc: 0.6961\n",
      "Epoch 14/30\n",
      " - 0s - loss: 0.5764 - acc: 0.7008 - val_loss: 0.5873 - val_acc: 0.6961\n",
      "Epoch 15/30\n",
      " - 0s - loss: 0.5731 - acc: 0.7089 - val_loss: 0.5942 - val_acc: 0.6977\n",
      "Epoch 16/30\n",
      " - 0s - loss: 0.5715 - acc: 0.6990 - val_loss: 0.5942 - val_acc: 0.6937\n",
      "Epoch 17/30\n",
      " - 1s - loss: 0.5715 - acc: 0.7082 - val_loss: 0.5974 - val_acc: 0.6937\n",
      "Epoch 18/30\n",
      " - 1s - loss: 0.5700 - acc: 0.7055 - val_loss: 0.6000 - val_acc: 0.6859\n",
      "Epoch 19/30\n",
      " - 1s - loss: 0.5712 - acc: 0.7102 - val_loss: 0.5911 - val_acc: 0.6867\n",
      "Epoch 20/30\n",
      " - 0s - loss: 0.5644 - acc: 0.7071 - val_loss: 0.5942 - val_acc: 0.6953\n",
      "Epoch 21/30\n",
      " - 0s - loss: 0.5614 - acc: 0.7095 - val_loss: 0.5986 - val_acc: 0.6719\n",
      "Epoch 22/30\n",
      " - 0s - loss: 0.5635 - acc: 0.7120 - val_loss: 0.5926 - val_acc: 0.6984\n",
      "Epoch 23/30\n",
      " - 0s - loss: 0.5726 - acc: 0.7055 - val_loss: 0.5996 - val_acc: 0.6773\n",
      "Epoch 24/30\n",
      " - 0s - loss: 0.5655 - acc: 0.7134 - val_loss: 0.5955 - val_acc: 0.6953\n",
      "Epoch 25/30\n",
      " - 0s - loss: 0.5649 - acc: 0.7101 - val_loss: 0.6045 - val_acc: 0.6734\n",
      "Epoch 26/30\n",
      " - 1s - loss: 0.5656 - acc: 0.7020 - val_loss: 0.5973 - val_acc: 0.6844\n",
      "Epoch 27/30\n",
      " - 1s - loss: 0.5573 - acc: 0.7179 - val_loss: 0.6045 - val_acc: 0.6922\n",
      "Epoch 28/30\n",
      " - 0s - loss: 0.5567 - acc: 0.7176 - val_loss: 0.6007 - val_acc: 0.6891\n",
      "Epoch 29/30\n",
      " - 0s - loss: 0.5602 - acc: 0.7182 - val_loss: 0.6048 - val_acc: 0.6859\n",
      "Epoch 30/30\n",
      " - 0s - loss: 0.5624 - acc: 0.7150 - val_loss: 0.6075 - val_acc: 0.6844\n"
     ]
    }
   ],
   "source": [
    "### Hyperparameters to use\n",
    "p = {'epochs': 30, # number of iterations on the full set \n",
    "    'batch_size': 64, \n",
    "    'hidden_layers': 2, # number of hidden layers \n",
    "    'hidden_neuron':32, # number of neurons in the input layer \n",
    "    'lr': 0.01, # learning rate       \n",
    "    'dropout': 0.3, \n",
    "    'optimizer': RMSprop, \n",
    "    'losses': binary_crossentropy, \n",
    "    'activation': relu, \n",
    "    'last_activation': 'sigmoid'}\n",
    "\n",
    "# Model fitting\n",
    "FNN_out, FNN_model = md.train_FNN(data_train = names_train, \n",
    "                                  data_valid = names_valid, \n",
    "                                  cue_index = cue_to_index, \n",
    "                                  outcome_index = outcome_to_index, \n",
    "                                  generator = md.generator_df_FNN,\n",
    "                                  shuffle = False, \n",
    "                                  use_multiprocessing = False, \n",
    "                                  num_threads = 0, \n",
    "                                  verbose = 2,\n",
    "                                  metrics = ['accuracy'],\n",
    "                                  params = p)"
   ]
  },
  {
   "cell_type": "code",
   "execution_count": 59,
   "metadata": {},
   "outputs": [],
   "source": [
    "# Save the model and training history\n",
    "MODEL_PATH = TOP + 'illustrative_examples/names/Results/FNN_names.h5'\n",
    "HISTORY_PATH = TOP + 'illustrative_examples/names/Results/FNN_history_dict_names'\n",
    "md.export_model(model = FNN_model, path = MODEL_PATH)  # creates a HDF5 file \n",
    "md.export_history(history_dict = FNN_out.history, path = HISTORY_PATH)\n",
    "del FNN_model, FNN_out  # deletes the existing model and history dictionary\n",
    "\n",
    "# Load the model and training history\n",
    "FNN_model = md.import_model(MODEL_PATH)\n",
    "FNN_history_dict = md.import_history(path = HISTORY_PATH)"
   ]
  },
  {
   "cell_type": "markdown",
   "metadata": {},
   "source": [
    "### Evaluate the final model"
   ]
  },
  {
   "cell_type": "code",
   "execution_count": 61,
   "metadata": {},
   "outputs": [
    {
     "name": "stdout",
     "output_type": "stream",
     "text": [
      "- Training loss in the last epoch: 0.5623636398287046\n",
      "- Training accuracy in the last epoch: 0.7150297619047619\n",
      "- Validation loss in the last epoch: 0.60745609998703\n",
      "- Validation accuracy in the last epoch: 0.684375\n"
     ]
    }
   ],
   "source": [
    "# Performance on the last epoch of the training set\n",
    "print(f\"- Training loss in the last epoch: {FNN_history_dict['loss'][-1]}\")\n",
    "print(f\"- Training accuracy in the last epoch: {FNN_history_dict['acc'][-1]}\")\n",
    "\n",
    "# Performance on the last epoch of the validation set\n",
    "print(f\"- Validation loss in the last epoch: {FNN_history_dict['val_loss'][-1]}\")\n",
    "print(f\"- Validation accuracy in the last epoch: {FNN_history_dict['val_acc'][-1]}\")"
   ]
  },
  {
   "cell_type": "code",
   "execution_count": 62,
   "metadata": {},
   "outputs": [
    {
     "data": {
      "image/png": "[encoded data removed]",
      "text/plain": [
       "<Figure size 432x288 with 1 Axes>"
      ]
     },
     "metadata": {
      "needs_background": "light"
     },
     "output_type": "display_data"
    }
   ],
   "source": [
    "# Generate plots to assess the performance of the NN\n",
    "ev.plot_learning_curve(history_dict = FNN_history_dict, metric = 'acc', set = 'train_valid')"
   ]
  },
  {
   "cell_type": "code",
   "execution_count": 64,
   "metadata": {},
   "outputs": [
    {
     "data": {
      "text/plain": [
       "array([0.9831503 , 0.01684801], dtype=float32)"
      ]
     },
     "execution_count": 64,
     "metadata": {},
     "output_type": "execute_result"
    }
   ],
   "source": [
    "# Test prediction for a single given cue sequence. Model expect inout as array of shape (1, N_cues) \n",
    "cue1_seq = 'y_o_u_s_s_e_f'\n",
    "outcome1_prob_pred = ev.predict_proba_oneevent_FNN(model = FNN_model, \n",
    "                                                   cue_seq = cue1_seq, \n",
    "                                                   num_cues = N_cues,  \n",
    "                                                   cue_index = cue_to_index)\n",
    "outcome1_prob_pred"
   ]
  },
  {
   "cell_type": "code",
   "execution_count": 66,
   "metadata": {},
   "outputs": [],
   "source": [
    "# Evaluate the model on the test set\n",
    "prob_pred = ev.predict_proba_eventfile_FNN(model = FNN_model, \n",
    "                                           data_test = names_test, \n",
    "                                           num_cues = N_cues, \n",
    "                                           num_outcomes = N_outcomes, \n",
    "                                           cue_index = cue_to_index, \n",
    "                                           outcome_index = outcome_to_index, \n",
    "                                           generator = md.generator_df_FNN,\n",
    "                                           use_multiprocessing = False, \n",
    "                                           num_threads = 0, \n",
    "                                           verbose = 0)"
   ]
  },
  {
   "cell_type": "code",
   "execution_count": 67,
   "metadata": {},
   "outputs": [
    {
     "data": {
      "text/plain": [
       "0.6858407079646017"
      ]
     },
     "execution_count": 67,
     "metadata": {},
     "output_type": "execute_result"
    }
   ],
   "source": [
    "# True responses to compare the predictions to\n",
    "y_test = names_test.replace({'outcomes': outcome_to_index})['outcomes']\n",
    "y_pred = np.argmax(prob_pred, axis=1)+1\n",
    "\n",
    "# Overall test accuracy\n",
    "test_accuracy = accuracy_score(y_test, y_pred)\n",
    "test_accuracy"
   ]
  },
  {
   "cell_type": "code",
   "execution_count": 68,
   "metadata": {},
   "outputs": [
    {
     "name": "stdout",
     "output_type": "stream",
     "text": [
      "[0.74780059 0.6231454 ]\n"
     ]
    }
   ],
   "source": [
    "# Test accuracy per class\n",
    "cmat = confusion_matrix(y_test, y_pred) # Confusion matrix\n",
    "print(cmat.diagonal()/cmat.sum(axis=1)) "
   ]
  },
  {
   "cell_type": "markdown",
   "metadata": {},
   "source": [
    "## IV. Long short-term memory model <a ID=\"IV\"></a> "
   ]
  },
  {
   "cell_type": "markdown",
   "metadata": {},
   "source": [
    "### Tokenisation"
   ]
  },
  {
   "cell_type": "code",
   "execution_count": 69,
   "metadata": {},
   "outputs": [
    {
     "data": {
      "text/html": [
       "<div>\n",
       "<style scoped>\n",
       "    .dataframe tbody tr th:only-of-type {\n",
       "        vertical-align: middle;\n",
       "    }\n",
       "\n",
       "    .dataframe tbody tr th {\n",
       "        vertical-align: top;\n",
       "    }\n",
       "\n",
       "    .dataframe thead th {\n",
       "        text-align: right;\n",
       "    }\n",
       "</style>\n",
       "<table border=\"1\" class=\"dataframe\">\n",
       "  <thead>\n",
       "    <tr style=\"text-align: right;\">\n",
       "      <th></th>\n",
       "      <th>cues</th>\n",
       "      <th>outcomes</th>\n",
       "    </tr>\n",
       "  </thead>\n",
       "  <tbody>\n",
       "    <tr>\n",
       "      <th>6170</th>\n",
       "      <td>k_y_r_i_e</td>\n",
       "      <td>f</td>\n",
       "    </tr>\n",
       "  </tbody>\n",
       "</table>\n",
       "</div>"
      ],
      "text/plain": [
       "           cues outcomes\n",
       "6170  k_y_r_i_e        f"
      ]
     },
     "execution_count": 69,
     "metadata": {},
     "output_type": "execute_result"
    }
   ],
   "source": [
    "# Extract an event\n",
    "event1 = names_train.iloc[[1]]\n",
    "event1"
   ]
  },
  {
   "cell_type": "code",
   "execution_count": 70,
   "metadata": {
    "scrolled": true
   },
   "outputs": [
    {
     "data": {
      "text/plain": [
       "array([[0., 0., 0., 0., 0., 0., 0., 0., 0., 0., 1., 0., 0., 0., 0., 0.,\n",
       "        0., 0., 0., 0., 0., 0., 0., 0., 0., 0.],\n",
       "       [0., 0., 0., 0., 0., 0., 0., 0., 0., 0., 0., 0., 0., 0., 0., 0.,\n",
       "        0., 0., 0., 0., 0., 0., 0., 0., 1., 0.],\n",
       "       [0., 0., 0., 0., 0., 0., 0., 0., 0., 0., 0., 0., 0., 0., 0., 0.,\n",
       "        0., 1., 0., 0., 0., 0., 0., 0., 0., 0.],\n",
       "       [0., 0., 0., 0., 0., 0., 0., 0., 1., 0., 0., 0., 0., 0., 0., 0.,\n",
       "        0., 0., 0., 0., 0., 0., 0., 0., 0., 0.],\n",
       "       [0., 0., 0., 0., 1., 0., 0., 0., 0., 0., 0., 0., 0., 0., 0., 0.,\n",
       "        0., 0., 0., 0., 0., 0., 0., 0., 0., 0.],\n",
       "       [0., 0., 0., 0., 0., 0., 0., 0., 0., 0., 0., 0., 0., 0., 0., 0.,\n",
       "        0., 0., 0., 0., 0., 0., 0., 0., 0., 0.],\n",
       "       [0., 0., 0., 0., 0., 0., 0., 0., 0., 0., 0., 0., 0., 0., 0., 0.,\n",
       "        0., 0., 0., 0., 0., 0., 0., 0., 0., 0.],\n",
       "       [0., 0., 0., 0., 0., 0., 0., 0., 0., 0., 0., 0., 0., 0., 0., 0.,\n",
       "        0., 0., 0., 0., 0., 0., 0., 0., 0., 0.],\n",
       "       [0., 0., 0., 0., 0., 0., 0., 0., 0., 0., 0., 0., 0., 0., 0., 0.,\n",
       "        0., 0., 0., 0., 0., 0., 0., 0., 0., 0.],\n",
       "       [0., 0., 0., 0., 0., 0., 0., 0., 0., 0., 0., 0., 0., 0., 0., 0.,\n",
       "        0., 0., 0., 0., 0., 0., 0., 0., 0., 0.],\n",
       "       [0., 0., 0., 0., 0., 0., 0., 0., 0., 0., 0., 0., 0., 0., 0., 0.,\n",
       "        0., 0., 0., 0., 0., 0., 0., 0., 0., 0.]])"
      ]
     },
     "execution_count": 70,
     "metadata": {},
     "output_type": "execute_result"
    }
   ],
   "source": [
    "# cues\n",
    "cues1 = names_train.loc[names_train.index[1], 'cues']\n",
    "cues1_onehot_LSTM = md.seq_to_onehot_2darray(cues1, index_system = cue_to_index, N_tokens = N_cues, max_len = max_len)\n",
    "cues1_onehot_LSTM"
   ]
  },
  {
   "cell_type": "code",
   "execution_count": 71,
   "metadata": {
    "scrolled": true
   },
   "outputs": [
    {
     "data": {
      "text/plain": [
       "array([0., 1.])"
      ]
     },
     "execution_count": 71,
     "metadata": {},
     "output_type": "execute_result"
    }
   ],
   "source": [
    "# outcomes\n",
    "outcomes1 = names_train.loc[names_train.index[1], 'outcomes']\n",
    "outcomes1_onehot_LSTM = md.seq_to_onehot_1darray(outcomes1, index_system = outcome_to_index, N_tokens = N_outcomes)\n",
    "outcomes1_onehot_LSTM"
   ]
  },
  {
   "cell_type": "markdown",
   "metadata": {},
   "source": [
    "### Build a simple LSTM model"
   ]
  },
  {
   "cell_type": "markdown",
   "metadata": {},
   "source": [
    "Build a simple LSTM that has 64 hidden units "
   ]
  },
  {
   "cell_type": "code",
   "execution_count": 75,
   "metadata": {},
   "outputs": [
    {
     "name": "stdout",
     "output_type": "stream",
     "text": [
      "Epoch 1/10\n",
      " - 7s - loss: 0.6889 - acc: 0.6209 - val_loss: 0.6819 - val_acc: 0.7009\n",
      "Epoch 2/10\n",
      " - 5s - loss: 0.6652 - acc: 0.6598 - val_loss: 0.6431 - val_acc: 0.6540\n",
      "Epoch 3/10\n",
      " - 4s - loss: 0.6330 - acc: 0.6512 - val_loss: 0.6228 - val_acc: 0.6555\n",
      "Epoch 4/10\n",
      " - 4s - loss: 0.6177 - acc: 0.6633 - val_loss: 0.6094 - val_acc: 0.6615\n",
      "Epoch 5/10\n",
      " - 5s - loss: 0.6044 - acc: 0.6814 - val_loss: 0.5944 - val_acc: 0.6763\n",
      "Epoch 6/10\n",
      " - 3s - loss: 0.5873 - acc: 0.7023 - val_loss: 0.5771 - val_acc: 0.6979\n",
      "Epoch 7/10\n",
      " - 4s - loss: 0.5703 - acc: 0.7167 - val_loss: 0.5612 - val_acc: 0.7135\n",
      "Epoch 8/10\n",
      " - 5s - loss: 0.5562 - acc: 0.7256 - val_loss: 0.5509 - val_acc: 0.7262\n",
      "Epoch 9/10\n",
      " - 4s - loss: 0.5469 - acc: 0.7286 - val_loss: 0.5446 - val_acc: 0.7240\n",
      "Epoch 10/10\n",
      " - 3s - loss: 0.5404 - acc: 0.7332 - val_loss: 0.5398 - val_acc: 0.7314\n"
     ]
    }
   ],
   "source": [
    "### Build a simple LSTM that has 64 hidden units \n",
    "p = {'epochs': 10, # number of iterations on the full set \n",
    "    'batch_size': 16, \n",
    "    'hidden_neuron': 64, # number of neurons in the input layer \n",
    "    'lr': 0.0001, # learning rate       \n",
    "    'dropout': 0.2, \n",
    "    'optimizer': RMSprop, \n",
    "    'losses': binary_crossentropy, \n",
    "    'last_activation': 'sigmoid'}\n",
    "\n",
    "# Model fitting\n",
    "LSTM_out, LSTM_model = md.train_LSTM(data_train = names_train, \n",
    "                                     data_valid = names_valid, \n",
    "                                     cue_index = cue_to_index, \n",
    "                                     outcome_index = outcome_to_index, \n",
    "                                     max_len = max_len,\n",
    "                                     generator = md.generator_df_LSTM,\n",
    "                                     shuffle = False, \n",
    "                                     use_cuda = False,\n",
    "                                     use_multiprocessing = False, \n",
    "                                     num_threads = 0, \n",
    "                                     verbose = 2,\n",
    "                                     metrics = ['accuracy'],\n",
    "                                     params = p)"
   ]
  },
  {
   "cell_type": "code",
   "execution_count": 76,
   "metadata": {},
   "outputs": [
    {
     "name": "stdout",
     "output_type": "stream",
     "text": [
      "_________________________________________________________________\n",
      "Layer (type)                 Output Shape              Param #   \n",
      "=================================================================\n",
      "lstm_3 (LSTM)                (None, 64)                23296     \n",
      "_________________________________________________________________\n",
      "dropout_5 (Dropout)          (None, 64)                0         \n",
      "_________________________________________________________________\n",
      "dense_6 (Dense)              (None, 2)                 130       \n",
      "=================================================================\n",
      "Total params: 23,426\n",
      "Trainable params: 23,426\n",
      "Non-trainable params: 0\n",
      "_________________________________________________________________\n"
     ]
    }
   ],
   "source": [
    "LSTM_model.summary()"
   ]
  },
  {
   "cell_type": "markdown",
   "metadata": {},
   "source": [
    "### Tune the parameters to find a good model"
   ]
  },
  {
   "cell_type": "code",
   "execution_count": 81,
   "metadata": {
    "scrolled": true
   },
   "outputs": [
    {
     "name": "stdout",
     "output_type": "stream",
     "text": [
      "Iteration 1 out of 10: {'epochs': 10, 'batch_size': 16, 'hidden_neuron': 128, 'lr': 0.001, 'dropout': 0.1, 'optimizer': <class 'keras.optimizers.SGD'>, 'losses': <function binary_crossentropy at 0x7fb6276b7d90>, 'last_activation': 'sigmoid'}\n",
      "\n",
      "Iteration 2 out of 10: {'epochs': 1, 'batch_size': 128, 'hidden_neuron': 128, 'lr': 0.002, 'dropout': 0.2, 'optimizer': <class 'keras.optimizers.SGD'>, 'losses': <function binary_crossentropy at 0x7fb6276b7d90>, 'last_activation': 'sigmoid'}\n",
      "\n",
      "Iteration 3 out of 10: {'epochs': 5, 'batch_size': 8, 'hidden_neuron': 64, 'lr': 0.002, 'dropout': 0, 'optimizer': <class 'keras.optimizers.Adam'>, 'losses': <function binary_crossentropy at 0x7fb6276b7d90>, 'last_activation': 'sigmoid'}\n",
      "\n",
      "Iteration 4 out of 10: {'epochs': 10, 'batch_size': 128, 'hidden_neuron': 16, 'lr': 0.005, 'dropout': 0.3, 'optimizer': <class 'keras.optimizers.Adam'>, 'losses': <function binary_crossentropy at 0x7fb6276b7d90>, 'last_activation': 'sigmoid'}\n",
      "\n",
      "Iteration 5 out of 10: {'epochs': 5, 'batch_size': 128, 'hidden_neuron': 128, 'lr': 0.0001, 'dropout': 0.1, 'optimizer': <class 'keras.optimizers.SGD'>, 'losses': <function binary_crossentropy at 0x7fb6276b7d90>, 'last_activation': 'sigmoid'}\n",
      "\n",
      "Iteration 6 out of 10: {'epochs': 20, 'batch_size': 256, 'hidden_neuron': 32, 'lr': 0.0001, 'dropout': 0.1, 'optimizer': <class 'keras.optimizers.SGD'>, 'losses': <function binary_crossentropy at 0x7fb6276b7d90>, 'last_activation': 'sigmoid'}\n",
      "\n",
      "Iteration 7 out of 10: {'epochs': 5, 'batch_size': 8, 'hidden_neuron': 16, 'lr': 0.0005, 'dropout': 0.1, 'optimizer': <class 'keras.optimizers.SGD'>, 'losses': <function binary_crossentropy at 0x7fb6276b7d90>, 'last_activation': 'sigmoid'}\n",
      "\n",
      "Iteration 8 out of 10: {'epochs': 20, 'batch_size': 32, 'hidden_neuron': 16, 'lr': 0.0001, 'dropout': 0.4, 'optimizer': <class 'keras.optimizers.RMSprop'>, 'losses': <function binary_crossentropy at 0x7fb6276b7d90>, 'last_activation': 'sigmoid'}\n",
      "\n",
      "Iteration 9 out of 10: {'epochs': 1, 'batch_size': 8, 'hidden_neuron': 128, 'lr': 0.0005, 'dropout': 0.3, 'optimizer': <class 'keras.optimizers.Adam'>, 'losses': <function binary_crossentropy at 0x7fb6276b7d90>, 'last_activation': 'sigmoid'}\n",
      "\n",
      "Iteration 10 out of 10: {'epochs': 5, 'batch_size': 128, 'hidden_neuron': 32, 'lr': 0.0002, 'dropout': 0.3, 'optimizer': <class 'keras.optimizers.RMSprop'>, 'losses': <function binary_crossentropy at 0x7fb6276b7d90>, 'last_activation': 'sigmoid'}\n",
      "\n"
     ]
    }
   ],
   "source": [
    "### Parameter tuning using grid search \n",
    "p = {'epochs': [1, 5, 10, 20, 30], # number of iterations on the full set (x5)\n",
    "     'batch_size': [8, 16, 32, 64, 128, 256], # (x6)\n",
    "     'hidden_neuron':[16, 32, 64, 128], # number of neurons in the input layer (x4)\n",
    "     'lr': [0.0001, 0.0002, 0.0005, 0.001, 0.002, 0.005, 0.01], # learning rate (x7)       \n",
    "     'dropout': [0, 0.1, 0.2, 0.3, 0.4], # (x5)\n",
    "     'optimizer': [Adam, Nadam, RMSprop, SGD], # (x4)\n",
    "     'losses': [binary_crossentropy], # (x1)\n",
    "     'last_activation': ['sigmoid'] # (x1)\n",
    "     }\n",
    "# => Total number of combinations: 5*6*4*7*5*4*1*1 = 16800\n",
    "\n",
    "### Grid search \n",
    "TUNING_PATH = TOP + 'illustrative_examples/names/Results/grid_search_LSTM_names.csv'\n",
    "md.grid_search_LSTM(data_train = names_train, \n",
    "                    data_valid = names_valid, \n",
    "                    cue_index = cue_to_index, \n",
    "                    outcome_index = outcome_to_index,\n",
    "                    max_len = max_len,\n",
    "                    generator = md.generator_df_LSTM,\n",
    "                    params = p,\n",
    "                    prop_grid = 6e-4, \n",
    "                    tuning_output_file = TUNING_PATH, \n",
    "                    shuffle = False, \n",
    "                    use_cuda = False,\n",
    "                    use_multiprocessing = False, \n",
    "                    num_threads = 0, \n",
    "                    verbose = 0)"
   ]
  },
  {
   "cell_type": "markdown",
   "metadata": {},
   "source": [
    "### Assessing the grid search using talos"
   ]
  },
  {
   "cell_type": "code",
   "execution_count": 82,
   "metadata": {},
   "outputs": [
    {
     "name": "stdout",
     "output_type": "stream",
     "text": [
      "- Highest validation accuracy: 0.8162202380952381\n",
      "- Highest validation f1-score: 0.8189097879383065\n"
     ]
    }
   ],
   "source": [
    "# Import the results file to analyse the results with talos\n",
    "r = ta.Reporting(TUNING_PATH)\n",
    "\n",
    "# get the highest result for any metric\n",
    "print(f\"- Highest validation accuracy: {r.high('val_acc')}\")\n",
    "print(f\"- Highest validation f1-score: {r.high('f1score')}\")"
   ]
  },
  {
   "cell_type": "code",
   "execution_count": 83,
   "metadata": {
    "scrolled": true
   },
   "outputs": [
    {
     "data": {
      "text/plain": [
       "2"
      ]
     },
     "execution_count": 83,
     "metadata": {},
     "output_type": "execute_result"
    }
   ],
   "source": [
    "# get the round with the best result\n",
    "r.rounds2high(metric = 'val_acc')"
   ]
  },
  {
   "cell_type": "code",
   "execution_count": 84,
   "metadata": {
    "scrolled": true
   },
   "outputs": [
    {
     "data": {
      "text/plain": [
       "epochs                                                            5\n",
       "batch_size                                                        8\n",
       "hidden_neuron                                                    64\n",
       "lr                                                            0.002\n",
       "dropout                                                           0\n",
       "optimizer                           <class 'keras.optimizers.Adam'>\n",
       "losses             <function binary_crossentropy at 0x7fb6276b7d90>\n",
       "last_activation                                             sigmoid\n",
       "loss                                                       0.410932\n",
       "acc                                                        0.818768\n",
       "precision                                                  0.818906\n",
       "recall                                                     0.819137\n",
       "f1score                                                     0.81891\n",
       "val_loss                                                   0.439665\n",
       "val_acc                                                     0.81622\n",
       "val_precision                                              0.816539\n",
       "val_recall                                                 0.815476\n",
       "val_f1score                                                0.815972\n",
       "Name: 2, dtype: object"
      ]
     },
     "execution_count": 84,
     "metadata": {},
     "output_type": "execute_result"
    }
   ],
   "source": [
    "# get the best paramaters\n",
    "r.data.iloc[2,]"
   ]
  },
  {
   "cell_type": "markdown",
   "metadata": {},
   "source": [
    "### Retraining with the best parameters"
   ]
  },
  {
   "cell_type": "code",
   "execution_count": 85,
   "metadata": {
    "scrolled": false
   },
   "outputs": [
    {
     "name": "stdout",
     "output_type": "stream",
     "text": [
      "Epoch 1/5\n",
      " - 9s - loss: 0.5797 - acc: 0.6987 - val_loss: 0.5327 - val_acc: 0.7530\n",
      "Epoch 2/5\n",
      " - 11s - loss: 0.5108 - acc: 0.7508 - val_loss: 0.5005 - val_acc: 0.7723\n",
      "Epoch 3/5\n",
      " - 11s - loss: 0.4776 - acc: 0.7682 - val_loss: 0.4762 - val_acc: 0.7879\n",
      "Epoch 4/5\n",
      " - 10s - loss: 0.4441 - acc: 0.8008 - val_loss: 0.4588 - val_acc: 0.8013\n",
      "Epoch 5/5\n",
      " - 8s - loss: 0.4200 - acc: 0.8115 - val_loss: 0.4470 - val_acc: 0.8058\n"
     ]
    }
   ],
   "source": [
    "### Hyperparameters to use\n",
    "p = {'epochs': 5, # number of iterations on the full set \n",
    "    'batch_size': 8, \n",
    "    'hidden_neuron': 64, # number of neurons in the input layer \n",
    "    'lr': 0.002, # learning rate       \n",
    "    'dropout': 0, \n",
    "    'optimizer': Adam, \n",
    "    'losses': binary_crossentropy, \n",
    "    'last_activation': 'sigmoid'}\n",
    "\n",
    "# Model fitting\n",
    "LSTM_out, LSTM_model = md.train_LSTM(data_train = names_train, \n",
    "                                     data_valid = names_valid, \n",
    "                                     cue_index = cue_to_index, \n",
    "                                     outcome_index = outcome_to_index, \n",
    "                                     max_len = max_len,\n",
    "                                     generator = md.generator_df_LSTM,\n",
    "                                     shuffle = False, \n",
    "                                     use_cuda = False,\n",
    "                                     use_multiprocessing = False, \n",
    "                                     num_threads = 0, \n",
    "                                     verbose = 2,\n",
    "                                     metrics = ['accuracy'],\n",
    "                                     params = p)"
   ]
  },
  {
   "cell_type": "code",
   "execution_count": 77,
   "metadata": {},
   "outputs": [],
   "source": [
    "# Save the model and training history\n",
    "MODEL_PATH = TOP + 'illustrative_examples/names/Results/LSTM_names.h5'\n",
    "HISTORY_PATH = TOP + 'illustrative_examples/names/Results/LSTM_history_dict_names'\n",
    "md.export_model(model = LSTM_model, path = MODEL_PATH)  # creates a HDF5 file \n",
    "md.export_history(history_dict = LSTM_out.history, path = HISTORY_PATH)\n",
    "del LSTM_model, LSTM_out  # deletes the existing model and history dictionary\n",
    "\n",
    "# Load the model and training history\n",
    "LSTM_model = md.import_model(MODEL_PATH)\n",
    "LSTM_history_dict = md.import_history(path = HISTORY_PATH)"
   ]
  },
  {
   "cell_type": "markdown",
   "metadata": {},
   "source": [
    "### Evaluate the final model"
   ]
  },
  {
   "cell_type": "code",
   "execution_count": 87,
   "metadata": {},
   "outputs": [
    {
     "data": {
      "image/png": "[encoded data removed]",
      "text/plain": [
       "<Figure size 432x288 with 1 Axes>"
      ]
     },
     "metadata": {
      "needs_background": "light"
     },
     "output_type": "display_data"
    }
   ],
   "source": [
    "# Generate plots to assess the performance of the simple LSTM\n",
    "ev.plot_learning_curve(history_dict = LSTM_history_dict, metric = 'acc', set = 'train_valid')"
   ]
  },
  {
   "cell_type": "code",
   "execution_count": 90,
   "metadata": {},
   "outputs": [
    {
     "data": {
      "text/plain": [
       "array([0.8933678, 0.1058289], dtype=float32)"
      ]
     },
     "execution_count": 90,
     "metadata": {},
     "output_type": "execute_result"
    }
   ],
   "source": [
    "# Test prediction for a single given cue sequence. Model expect inout as array of shape (1, N_cues) \n",
    "cue1_seq = 'y_o_u_s_s_e_f'\n",
    "outcome1_prob_pred = ev.predict_proba_oneevent_LSTM(model = LSTM_model, \n",
    "                                                   cue_seq = cue1_seq, \n",
    "                                                   num_cues = N_cues,  \n",
    "                                                   cue_index = cue_to_index,\n",
    "                                                   max_len = max_len)\n",
    "outcome1_prob_pred"
   ]
  },
  {
   "cell_type": "code",
   "execution_count": 93,
   "metadata": {},
   "outputs": [],
   "source": [
    "# Evaluate the model on the test set\n",
    "prob_pred = ev.predict_proba_eventfile_LSTM(model = LSTM_model, \n",
    "                                           data_test = names_test, \n",
    "                                           num_cues = N_cues, \n",
    "                                           num_outcomes = N_outcomes, \n",
    "                                           cue_index = cue_to_index, \n",
    "                                           outcome_index = outcome_to_index, \n",
    "                                           max_len = max_len,  \n",
    "                                           generator = md.generator_df_LSTM,\n",
    "                                           use_multiprocessing = False, \n",
    "                                           num_threads = 0, \n",
    "                                           verbose = 0)"
   ]
  },
  {
   "cell_type": "code",
   "execution_count": 94,
   "metadata": {},
   "outputs": [
    {
     "data": {
      "text/plain": [
       "0.8053097345132744"
      ]
     },
     "execution_count": 94,
     "metadata": {},
     "output_type": "execute_result"
    }
   ],
   "source": [
    "# True responses to compare the predictions to\n",
    "y_test = names_test.replace({'outcomes': outcome_to_index})['outcomes']\n",
    "y_pred = np.argmax(prob_pred, axis=1)+1\n",
    "\n",
    "# Overall test accuracy\n",
    "test_accuracy = accuracy_score(y_test, y_pred)\n",
    "test_accuracy"
   ]
  },
  {
   "cell_type": "code",
   "execution_count": 95,
   "metadata": {},
   "outputs": [
    {
     "name": "stdout",
     "output_type": "stream",
     "text": [
      "[0.81818182 0.79228487]\n"
     ]
    }
   ],
   "source": [
    "# Test accuracy per class\n",
    "cmat = confusion_matrix(y_test, y_pred) # Confusion matrix\n",
    "print(cmat.diagonal()/cmat.sum(axis=1)) "
   ]
  },
  {
   "cell_type": "markdown",
   "metadata": {},
   "source": [
    "## V. Naive discriminative learning model <a ID=\"V\"></a> "
   ]
  },
  {
   "cell_type": "markdown",
   "metadata": {},
   "source": [
    "### Build a simple NDL model"
   ]
  },
  {
   "cell_type": "code",
   "execution_count": 15,
   "metadata": {
    "scrolled": false
   },
   "outputs": [
    {
     "name": "stdout",
     "output_type": "stream",
     "text": [
      "Epoch 1/10\n",
      " - 14s - acc: 0.6461 - val_acc: 0.6519\n",
      "Epoch 2/10\n",
      " - 14s - acc: 0.6535 - val_acc: 0.6637\n",
      "Epoch 3/10\n",
      " - 14s - acc: 0.6590 - val_acc: 0.6622\n",
      "Epoch 4/10\n",
      " - 15s - acc: 0.6629 - val_acc: 0.6637\n",
      "Epoch 5/10\n",
      " - 13s - acc: 0.6638 - val_acc: 0.6681\n",
      "Epoch 6/10\n",
      " - 15s - acc: 0.6629 - val_acc: 0.6740\n",
      "Epoch 7/10\n",
      " - 13s - acc: 0.6635 - val_acc: 0.6770\n",
      "Epoch 8/10\n",
      " - 13s - acc: 0.6648 - val_acc: 0.6711\n",
      "Epoch 9/10\n",
      " - 14s - acc: 0.6659 - val_acc: 0.6681\n",
      "Epoch 10/10\n",
      " - 14s - acc: 0.6668 - val_acc: 0.6637\n"
     ]
    }
   ],
   "source": [
    "### Build a simple NDL\n",
    "p = {'epochs': 10, # number of iterations on the full set \n",
    "    'lr': 0.001}\n",
    "\n",
    "# Model fitting\n",
    "NDL_history_dict, NDL_model = md.train_NDL(data_train = names_train, \n",
    "                                           data_valid = names_valid,  \n",
    "                                           cue_index = cue_to_index, \n",
    "                                           outcome_index = outcome_to_index, \n",
    "                                           temp_dir = TEMP_DIR,\n",
    "                                           chunksize = len(names_train),\n",
    "                                           num_threads = 8, \n",
    "                                           verbose = 1,\n",
    "                                           params = p)"
   ]
  },
  {
   "cell_type": "code",
   "execution_count": 44,
   "metadata": {},
   "outputs": [
    {
     "data": {
      "image/png": "[encoded data removed]",
      "text/plain": [
       "<Figure size 432x288 with 1 Axes>"
      ]
     },
     "metadata": {
      "needs_background": "light"
     },
     "output_type": "display_data"
    }
   ],
   "source": [
    "# Assess the performance of the model\n",
    "ev.plot_learning_curve(history_dict = NDL_history_dict, metric = 'acc', set = 'train_valid')"
   ]
  },
  {
   "cell_type": "markdown",
   "metadata": {},
   "source": [
    "### Tune the parameters to find a good model"
   ]
  },
  {
   "cell_type": "code",
   "execution_count": 28,
   "metadata": {},
   "outputs": [
    {
     "name": "stdout",
     "output_type": "stream",
     "text": [
      "Iteration 1 out of 4: {'lr': 0.01, 'epochs': 2}\n",
      "\n",
      "Iteration 2 out of 4: {'lr': 0.01, 'epochs': 4}\n",
      "\n",
      "Iteration 3 out of 4: {'lr': 1e-05, 'epochs': 4}\n",
      "\n",
      "Iteration 4 out of 4: {'lr': 0.05, 'epochs': 6}\n",
      "\n"
     ]
    }
   ],
   "source": [
    "### Parameter tuning using grid search \n",
    "p = {'lr': [0.00001, 0.00005, 0.0001, 0.0005, 0.001, 0.005, 0.01, 0.05], # learning rate (x8)\n",
    "     'epochs': [1, 2, 4, 6, 8], # number of iterations on the full set (x6)\n",
    "     }\n",
    "# => Total number of combinations: 8*5 = 40\n",
    "\n",
    "### Grid search \n",
    "TUNING_PATH = TOP + 'illustrative_examples/names/Results/grid_search_NDL_names.csv'\n",
    "md.grid_search_NDL(data_train = names_train, \n",
    "                   data_valid = names_valid, \n",
    "                   cue_index = cue_to_index, \n",
    "                   outcome_index = outcome_to_index, \n",
    "                   temp_dir = TEMP_DIR,\n",
    "                   chunksize = len(names_train),\n",
    "                   params = p, \n",
    "                   prop_grid = 0.1, \n",
    "                   tuning_output_file = TUNING_PATH, \n",
    "                   num_threads = 16, \n",
    "                   verbose = 0)"
   ]
  },
  {
   "cell_type": "markdown",
   "metadata": {},
   "source": [
    "### Assessing the grid search using talos"
   ]
  },
  {
   "cell_type": "code",
   "execution_count": 29,
   "metadata": {},
   "outputs": [
    {
     "name": "stdout",
     "output_type": "stream",
     "text": [
      "- Highest validation accuracy: 0.668141592920354\n",
      "- Highest validation f1-score: 0.6658438752525795\n"
     ]
    }
   ],
   "source": [
    "# Import the results file to analyse the results with talos\n",
    "r = ta.Reporting(TUNING_PATH)\n",
    "\n",
    "# get the highest result for any metric\n",
    "print(f\"- Highest validation accuracy: {r.high('val_acc')}\")\n",
    "print(f\"- Highest validation f1-score: {r.high('f1score')}\")"
   ]
  },
  {
   "cell_type": "code",
   "execution_count": 30,
   "metadata": {
    "scrolled": true
   },
   "outputs": [
    {
     "data": {
      "text/plain": [
       "0"
      ]
     },
     "execution_count": 30,
     "metadata": {},
     "output_type": "execute_result"
    }
   ],
   "source": [
    "# get the round with the best result\n",
    "r.rounds2high(metric = 'val_acc')"
   ]
  },
  {
   "cell_type": "code",
   "execution_count": 31,
   "metadata": {
    "scrolled": true
   },
   "outputs": [
    {
     "data": {
      "text/plain": [
       "lr               0.010000\n",
       "epochs           2.000000\n",
       "acc              0.666605\n",
       "precision        0.669742\n",
       "recall           0.667633\n",
       "f1score          0.665844\n",
       "val_acc          0.668142\n",
       "val_precision    0.671271\n",
       "val_recall       0.668522\n",
       "val_f1score      0.666924\n",
       "Name: 0, dtype: float64"
      ]
     },
     "execution_count": 31,
     "metadata": {},
     "output_type": "execute_result"
    }
   ],
   "source": [
    "# get the best paramaters\n",
    "r.data.iloc[0,]"
   ]
  },
  {
   "cell_type": "markdown",
   "metadata": {},
   "source": [
    "### Retraining with the best parameters"
   ]
  },
  {
   "cell_type": "code",
   "execution_count": 32,
   "metadata": {
    "scrolled": false
   },
   "outputs": [
    {
     "name": "stdout",
     "output_type": "stream",
     "text": [
      "Epoch 1/2\n",
      " - 19s - acc: 0.6648 - val_acc: 0.6711\n",
      "Epoch 2/2\n",
      " - 20s - acc: 0.6666 - val_acc: 0.6681\n"
     ]
    }
   ],
   "source": [
    "### Hyperparameters to use\n",
    "p = {'epochs': 2, # number of iterations on the full set \n",
    "    'lr': 0.01}\n",
    "\n",
    "# Model fitting\n",
    "NDL_history_dict, NDL_model = md.train_NDL(data_train = names_train, \n",
    "                                           data_valid = names_valid,  \n",
    "                                           cue_index = cue_to_index, \n",
    "                                           outcome_index = outcome_to_index, \n",
    "                                           temp_dir = TEMP_DIR,\n",
    "                                           chunksize = len(names_train),\n",
    "                                           num_threads = 16, \n",
    "                                           verbose = 1,\n",
    "                                           params = p)"
   ]
  },
  {
   "cell_type": "code",
   "execution_count": 33,
   "metadata": {},
   "outputs": [],
   "source": [
    "# Save the weights and training history\n",
    "MODEL_PATH = TOP + 'illustrative_examples/names/Results/NDL_names.h5'\n",
    "HISTORY_PATH = TOP + 'illustrative_examples/names/Results/NDL_history_dict_names'\n",
    "md.export_model(model = NDL_model, path = MODEL_PATH)  # creates a HDF5 file \n",
    "md.export_history(history_dict = NDL_history_dict, path = HISTORY_PATH)\n",
    "del NDL_model, NDL_history_dict  # deletes the existing model and history dictionary\n",
    "\n",
    "# Load the model and training history\n",
    "NDL_model = md.import_model(MODEL_PATH)\n",
    "NDL_history_dict = md.import_history(path = HISTORY_PATH)"
   ]
  },
  {
   "cell_type": "markdown",
   "metadata": {},
   "source": [
    "### Evaluate the final model"
   ]
  },
  {
   "cell_type": "code",
   "execution_count": 64,
   "metadata": {},
   "outputs": [
    {
     "data": {
      "text/plain": [
       "array([0.9831503 , 0.01684801], dtype=float32)"
      ]
     },
     "execution_count": 64,
     "metadata": {},
     "output_type": "execute_result"
    }
   ],
   "source": [
    "# Test prediction for a single given cue sequence. Model expect input as array of shape (1, N_cues) \n",
    "cue1_seq = 'y_o_u_s_s_e_f'\n",
    "outcome1_prob_pred = ev.predict_proba_oneevent_NDL(model = NDL_model, \n",
    "                                                   cue_seq = cue1_seq,  \n",
    "                                                   cue_index = cue_to_index)\n",
    "outcome1_prob_pred"
   ]
  },
  {
   "cell_type": "code",
   "execution_count": 66,
   "metadata": {},
   "outputs": [],
   "source": [
    "# Evaluate the model on the test set\n",
    "prob_pred = ev.predict_proba_eventfile_NDL(model = NDL_model, \n",
    "                                           data_test = names_test, \n",
    "                                           cue_index = cue_to_index, \n",
    "                                           outcome_index = outcome_to_index, \n",
    "                                           num_threads = 16, \n",
    "                                           verbose = 0)"
   ]
  },
  {
   "cell_type": "code",
   "execution_count": 67,
   "metadata": {},
   "outputs": [
    {
     "data": {
      "text/plain": [
       "0.6858407079646017"
      ]
     },
     "execution_count": 67,
     "metadata": {},
     "output_type": "execute_result"
    }
   ],
   "source": [
    "# True responses to compare the predictions to\n",
    "y_test = names_test.replace({'outcomes': outcome_to_index})['outcomes']\n",
    "y_pred = np.argmax(prob_pred, axis=1)+1\n",
    "\n",
    "# Overall test accuracy\n",
    "test_accuracy = accuracy_score(y_test, y_pred)\n",
    "test_accuracy"
   ]
  },
  {
   "cell_type": "code",
   "execution_count": 68,
   "metadata": {},
   "outputs": [
    {
     "name": "stdout",
     "output_type": "stream",
     "text": [
      "[0.74780059 0.6231454 ]\n"
     ]
    }
   ],
   "source": [
    "# Test accuracy per class\n",
    "cmat = confusion_matrix(y_test, y_pred) # Confusion matrix\n",
    "print(cmat.diagonal()/cmat.sum(axis=1)) "
   ]
  }
 ],
 "metadata": {
  "kernelspec": {
   "display_name": "Python 3",
   "language": "python",
   "name": "python3"
  },
  "language_info": {
   "codemirror_mode": {
    "name": "ipython",
    "version": 3
   },
   "file_extension": ".py",
   "mimetype": "text/x-python",
   "name": "python",
   "nbconvert_exporter": "python",
   "pygments_lexer": "ipython3",
   "version": "3.6.8"
  }
 },
 "nbformat": 4,
 "nbformat_minor": 2
}
